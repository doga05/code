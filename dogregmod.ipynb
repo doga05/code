{
 "cells": [
  {
   "cell_type": "markdown",
   "id": "717e17ef-faec-4409-902b-545c47670571",
   "metadata": {},
   "source": [
    "# Doğrusal Regresyon Modelleri\n",
    "### Basit Doğrusal Regresyon\n",
    "### Çoklu Doğrusal Regresyon\n",
    "### Ridge Regreson\n",
    "### Lasso Regresyon\n",
    "### Elastic Net Regresyon"
   ]
  },
  {
   "cell_type": "markdown",
   "id": "ce780c59-ab97-4d68-89f3-0e534dd70b35",
   "metadata": {},
   "source": [
    "## Basit Doğrusal Regresyon (Simple Linear Regression)"
   ]
  },
  {
   "cell_type": "markdown",
   "id": "065d5aef-39a5-44fa-9612-2dd5514aa7fa",
   "metadata": {},
   "source": [
    "#### Basit: 1 tnae bağımsız ve 1 bağımlı değişken demektir.\n",
    "#### Temel amaç, bağımlı ve bağımsız değişken arasındaki ilişkiyi ifade eden doğrusal fonksiyonu bulmaktır.\n",
    "#### Modellemek, çeşitli kavramlar arasındaki ilişkileri belirli matematiksel formlara ifade etmek emektir.                                                                              Yi=b0+b1xi\n",
    "\n",
    "#### Anakitle Modeli:  Y= Beta0+Beta1x+E(psilon)\n",
    "#### Örneklem Moeli: Yi=b0+b1i+ei\n",
    "#### Tahmin Modeli: yi(şapka)=b0+b1xi\n",
    "\n",
    "#### Beta0: doğrunun y eksenini kestiği nokta \n",
    "#### Beta1 doğrunun eğimi\n",
    "#### Epsilon= hata terimi\n",
    "#### Biri artarsa iğeri de artar doğrusal olma sebebi"
   ]
  },
  {
   "cell_type": "code",
   "execution_count": 2,
   "id": "f8a78176-3dbe-4b56-b902-450ac55eda4e",
   "metadata": {},
   "outputs": [
    {
     "data": {
      "text/html": [
       "<div>\n",
       "<style scoped>\n",
       "    .dataframe tbody tr th:only-of-type {\n",
       "        vertical-align: middle;\n",
       "    }\n",
       "\n",
       "    .dataframe tbody tr th {\n",
       "        vertical-align: top;\n",
       "    }\n",
       "\n",
       "    .dataframe thead th {\n",
       "        text-align: right;\n",
       "    }\n",
       "</style>\n",
       "<table border=\"1\" class=\"dataframe\">\n",
       "  <thead>\n",
       "    <tr style=\"text-align: right;\">\n",
       "      <th></th>\n",
       "      <th>TV</th>\n",
       "      <th>radio</th>\n",
       "      <th>newspaper</th>\n",
       "      <th>sales</th>\n",
       "    </tr>\n",
       "  </thead>\n",
       "  <tbody>\n",
       "    <tr>\n",
       "      <th>0</th>\n",
       "      <td>230.1</td>\n",
       "      <td>37.8</td>\n",
       "      <td>69.2</td>\n",
       "      <td>22.1</td>\n",
       "    </tr>\n",
       "    <tr>\n",
       "      <th>1</th>\n",
       "      <td>44.5</td>\n",
       "      <td>39.3</td>\n",
       "      <td>45.1</td>\n",
       "      <td>10.4</td>\n",
       "    </tr>\n",
       "    <tr>\n",
       "      <th>2</th>\n",
       "      <td>17.2</td>\n",
       "      <td>45.9</td>\n",
       "      <td>69.3</td>\n",
       "      <td>9.3</td>\n",
       "    </tr>\n",
       "    <tr>\n",
       "      <th>3</th>\n",
       "      <td>151.5</td>\n",
       "      <td>41.3</td>\n",
       "      <td>58.5</td>\n",
       "      <td>18.5</td>\n",
       "    </tr>\n",
       "    <tr>\n",
       "      <th>4</th>\n",
       "      <td>180.8</td>\n",
       "      <td>10.8</td>\n",
       "      <td>58.4</td>\n",
       "      <td>12.9</td>\n",
       "    </tr>\n",
       "  </tbody>\n",
       "</table>\n",
       "</div>"
      ],
      "text/plain": [
       "      TV  radio  newspaper  sales\n",
       "0  230.1   37.8       69.2   22.1\n",
       "1   44.5   39.3       45.1   10.4\n",
       "2   17.2   45.9       69.3    9.3\n",
       "3  151.5   41.3       58.5   18.5\n",
       "4  180.8   10.8       58.4   12.9"
      ]
     },
     "execution_count": 2,
     "metadata": {},
     "output_type": "execute_result"
    }
   ],
   "source": [
    "#http://faculty.marshall.usc.edu/gareth-james/ISL/data.html\n",
    "import pandas as pd\n",
    "df=pd.read_csv(\"Advertising.csv\")\n",
    "df=df.iloc[:,1:len(df)]\n",
    "df.head()"
   ]
  },
  {
   "cell_type": "code",
   "execution_count": 3,
   "id": "843d3757-18da-401d-8cf4-9c49cb32e903",
   "metadata": {},
   "outputs": [
    {
     "name": "stdout",
     "output_type": "stream",
     "text": [
      "<class 'pandas.core.frame.DataFrame'>\n",
      "RangeIndex: 200 entries, 0 to 199\n",
      "Data columns (total 4 columns):\n",
      " #   Column     Non-Null Count  Dtype  \n",
      "---  ------     --------------  -----  \n",
      " 0   TV         200 non-null    float64\n",
      " 1   radio      200 non-null    float64\n",
      " 2   newspaper  200 non-null    float64\n",
      " 3   sales      200 non-null    float64\n",
      "dtypes: float64(4)\n",
      "memory usage: 6.4 KB\n"
     ]
    }
   ],
   "source": [
    "df.info()"
   ]
  },
  {
   "cell_type": "code",
   "execution_count": 4,
   "id": "4e9a6abe-a4ab-4024-9166-40a2fcac2510",
   "metadata": {},
   "outputs": [
    {
     "data": {
      "image/png": "[encoded data removed]",
      "text/plain": [
       "<Figure size 432x432 with 3 Axes>"
      ]
     },
     "metadata": {
      "needs_background": "light"
     },
     "output_type": "display_data"
    }
   ],
   "source": [
    "import seaborn as sns\n",
    "sns.jointplot(x=\"TV\", y=\"sales\",data=df, kind=\"reg\");"
   ]
  },
  {
   "cell_type": "code",
   "execution_count": 5,
   "id": "3d915b42-e804-4154-8990-a6e75b47af5f",
   "metadata": {},
   "outputs": [],
   "source": [
    "from sklearn.linear_model import LinearRegression"
   ]
  },
  {
   "cell_type": "code",
   "execution_count": 6,
   "id": "32a5c31f-4a98-4c81-bc83-6efa01405c7b",
   "metadata": {},
   "outputs": [
    {
     "data": {
      "text/html": [
       "<div>\n",
       "<style scoped>\n",
       "    .dataframe tbody tr th:only-of-type {\n",
       "        vertical-align: middle;\n",
       "    }\n",
       "\n",
       "    .dataframe tbody tr th {\n",
       "        vertical-align: top;\n",
       "    }\n",
       "\n",
       "    .dataframe thead th {\n",
       "        text-align: right;\n",
       "    }\n",
       "</style>\n",
       "<table border=\"1\" class=\"dataframe\">\n",
       "  <thead>\n",
       "    <tr style=\"text-align: right;\">\n",
       "      <th></th>\n",
       "      <th>TV</th>\n",
       "    </tr>\n",
       "  </thead>\n",
       "  <tbody>\n",
       "    <tr>\n",
       "      <th>0</th>\n",
       "      <td>230.1</td>\n",
       "    </tr>\n",
       "    <tr>\n",
       "      <th>1</th>\n",
       "      <td>44.5</td>\n",
       "    </tr>\n",
       "    <tr>\n",
       "      <th>2</th>\n",
       "      <td>17.2</td>\n",
       "    </tr>\n",
       "    <tr>\n",
       "      <th>3</th>\n",
       "      <td>151.5</td>\n",
       "    </tr>\n",
       "    <tr>\n",
       "      <th>4</th>\n",
       "      <td>180.8</td>\n",
       "    </tr>\n",
       "  </tbody>\n",
       "</table>\n",
       "</div>"
      ],
      "text/plain": [
       "      TV\n",
       "0  230.1\n",
       "1   44.5\n",
       "2   17.2\n",
       "3  151.5\n",
       "4  180.8"
      ]
     },
     "execution_count": 6,
     "metadata": {},
     "output_type": "execute_result"
    }
   ],
   "source": [
    "X=df[[\"TV\"]]\n",
    "X.head() #bağımsız değişken"
   ]
  },
  {
   "cell_type": "code",
   "execution_count": 7,
   "id": "40ea668e-9f09-4129-8e0e-11042dc859f3",
   "metadata": {},
   "outputs": [
    {
     "data": {
      "text/html": [
       "<div>\n",
       "<style scoped>\n",
       "    .dataframe tbody tr th:only-of-type {\n",
       "        vertical-align: middle;\n",
       "    }\n",
       "\n",
       "    .dataframe tbody tr th {\n",
       "        vertical-align: top;\n",
       "    }\n",
       "\n",
       "    .dataframe thead th {\n",
       "        text-align: right;\n",
       "    }\n",
       "</style>\n",
       "<table border=\"1\" class=\"dataframe\">\n",
       "  <thead>\n",
       "    <tr style=\"text-align: right;\">\n",
       "      <th></th>\n",
       "      <th>sales</th>\n",
       "    </tr>\n",
       "  </thead>\n",
       "  <tbody>\n",
       "    <tr>\n",
       "      <th>0</th>\n",
       "      <td>22.1</td>\n",
       "    </tr>\n",
       "    <tr>\n",
       "      <th>1</th>\n",
       "      <td>10.4</td>\n",
       "    </tr>\n",
       "    <tr>\n",
       "      <th>2</th>\n",
       "      <td>9.3</td>\n",
       "    </tr>\n",
       "    <tr>\n",
       "      <th>3</th>\n",
       "      <td>18.5</td>\n",
       "    </tr>\n",
       "    <tr>\n",
       "      <th>4</th>\n",
       "      <td>12.9</td>\n",
       "    </tr>\n",
       "  </tbody>\n",
       "</table>\n",
       "</div>"
      ],
      "text/plain": [
       "   sales\n",
       "0   22.1\n",
       "1   10.4\n",
       "2    9.3\n",
       "3   18.5\n",
       "4   12.9"
      ]
     },
     "execution_count": 7,
     "metadata": {},
     "output_type": "execute_result"
    }
   ],
   "source": [
    "y = df[[\"sales\"]]\n",
    "y.head() #bağımlı değişken"
   ]
  },
  {
   "cell_type": "code",
   "execution_count": 8,
   "id": "713d0a1f-eaea-418d-b95e-025706b03357",
   "metadata": {},
   "outputs": [],
   "source": [
    "reg = LinearRegression()"
   ]
  },
  {
   "cell_type": "code",
   "execution_count": 9,
   "id": "e9077c29-0164-4cd6-ba5a-aeb7bdced916",
   "metadata": {},
   "outputs": [],
   "source": [
    "model=reg.fit(X,y)"
   ]
  },
  {
   "cell_type": "code",
   "execution_count": 10,
   "id": "e6c79616-cd22-4608-aa0e-dfca9f5558c3",
   "metadata": {},
   "outputs": [
    {
     "data": {
      "text/plain": [
       "LinearRegression()"
      ]
     },
     "execution_count": 10,
     "metadata": {},
     "output_type": "execute_result"
    }
   ],
   "source": [
    "model"
   ]
  },
  {
   "cell_type": "code",
   "execution_count": 11,
   "id": "4296da72-6ae9-47eb-aa2c-2576168d3da4",
   "metadata": {},
   "outputs": [
    {
     "data": {
      "text/plain": [
       "'LinearRegression()'"
      ]
     },
     "execution_count": 11,
     "metadata": {},
     "output_type": "execute_result"
    }
   ],
   "source": [
    "str(model)"
   ]
  },
  {
   "cell_type": "code",
   "execution_count": 12,
   "id": "c1177882-7ebb-4a46-a899-b457f6cf6575",
   "metadata": {
    "tags": []
   },
   "outputs": [
    {
     "data": {
      "text/plain": [
       "['__abstractmethods__',\n",
       " '__class__',\n",
       " '__delattr__',\n",
       " '__dict__',\n",
       " '__dir__',\n",
       " '__doc__',\n",
       " '__eq__',\n",
       " '__format__',\n",
       " '__ge__',\n",
       " '__getattribute__',\n",
       " '__getstate__',\n",
       " '__gt__',\n",
       " '__hash__',\n",
       " '__init__',\n",
       " '__init_subclass__',\n",
       " '__le__',\n",
       " '__lt__',\n",
       " '__module__',\n",
       " '__ne__',\n",
       " '__new__',\n",
       " '__reduce__',\n",
       " '__reduce_ex__',\n",
       " '__repr__',\n",
       " '__setattr__',\n",
       " '__setstate__',\n",
       " '__sizeof__',\n",
       " '__str__',\n",
       " '__subclasshook__',\n",
       " '__weakref__',\n",
       " '_abc_impl',\n",
       " '_check_n_features',\n",
       " '_decision_function',\n",
       " '_estimator_type',\n",
       " '_get_param_names',\n",
       " '_get_tags',\n",
       " '_more_tags',\n",
       " '_preprocess_data',\n",
       " '_repr_html_',\n",
       " '_repr_html_inner',\n",
       " '_repr_mimebundle_',\n",
       " '_residues',\n",
       " '_set_intercept',\n",
       " '_validate_data',\n",
       " 'coef_',\n",
       " 'copy_X',\n",
       " 'fit',\n",
       " 'fit_intercept',\n",
       " 'get_params',\n",
       " 'intercept_',\n",
       " 'n_features_in_',\n",
       " 'n_jobs',\n",
       " 'normalize',\n",
       " 'positive',\n",
       " 'predict',\n",
       " 'rank_',\n",
       " 'score',\n",
       " 'set_params',\n",
       " 'singular_']"
      ]
     },
     "execution_count": 12,
     "metadata": {},
     "output_type": "execute_result"
    }
   ],
   "source": [
    "dir(model)"
   ]
  },
  {
   "cell_type": "code",
   "execution_count": 13,
   "id": "e2280282-1636-438b-b95d-0f94772b445d",
   "metadata": {},
   "outputs": [
    {
     "data": {
      "text/plain": [
       "array([7.03259355])"
      ]
     },
     "execution_count": 13,
     "metadata": {},
     "output_type": "execute_result"
    }
   ],
   "source": [
    "model.intercept_#b0"
   ]
  },
  {
   "cell_type": "code",
   "execution_count": 14,
   "id": "d5fedf24-4977-4f50-ab69-c13b6038537e",
   "metadata": {},
   "outputs": [
    {
     "data": {
      "text/plain": [
       "array([[0.04753664]])"
      ]
     },
     "execution_count": 14,
     "metadata": {},
     "output_type": "execute_result"
    }
   ],
   "source": [
    "model.coef_#b1"
   ]
  },
  {
   "cell_type": "code",
   "execution_count": 15,
   "id": "47331990-681d-4e09-b8d5-92ac6e4ec234",
   "metadata": {},
   "outputs": [
    {
     "data": {
      "text/plain": [
       "0.611875050850071"
      ]
     },
     "execution_count": 15,
     "metadata": {},
     "output_type": "execute_result"
    }
   ],
   "source": [
    "#rkare\n",
    "model.score(X,y)\n",
    "#modelin skoru"
   ]
  },
  {
   "cell_type": "markdown",
   "id": "8d6559c8-bd59-4834-8777-c1dc21fcf94c",
   "metadata": {
    "tags": []
   },
   "source": [
    "### BDR: TAHMİN"
   ]
  },
  {
   "cell_type": "code",
   "execution_count": 16,
   "id": "c31cc99c-f746-4c31-9e13-c660c6d1552a",
   "metadata": {},
   "outputs": [
    {
     "name": "stderr",
     "output_type": "stream",
     "text": [
      "C:\\Users\\Monster\\anaconda3\\lib\\site-packages\\seaborn\\_decorators.py:36: FutureWarning: Pass the following variables as keyword args: x, y. From version 0.12, the only valid positional argument will be `data`, and passing other arguments without an explicit keyword will result in an error or misinterpretation.\n",
      "  warnings.warn(\n"
     ]
    },
    {
     "data": {
      "image/png": "[encoded data removed]",
      "text/plain": [
       "<Figure size 432x288 with 1 Axes>"
      ]
     },
     "metadata": {
      "needs_background": "light"
     },
     "output_type": "display_data"
    }
   ],
   "source": [
    "import seaborn as sns\n",
    "import matplotlib.pyplot as plt\n",
    "g=sns.regplot(df[\"TV\"], df[\"sales\"],ci=None, scatter_kws={'color':'r','s':9})\n",
    "g.set_title(\"Model Denklemi: Sales = 7.03+TV*0.05\")\n",
    "g.set_ylabel(\"Satış Sayısı\")\n",
    "g.set_xlabel(\"TV Harcamaları\")\n",
    "plt.xlim(-10,310)\n",
    "plt.ylim(bottom=0);"
   ]
  },
  {
   "cell_type": "markdown",
   "id": "c3713741-a782-4fff-9961-594870ddf0d0",
   "metadata": {},
   "source": [
    "sales= 7.03+0.05*TV"
   ]
  },
  {
   "cell_type": "code",
   "execution_count": 17,
   "id": "6b7daa08-1e2d-4549-837e-d5841f645e45",
   "metadata": {},
   "outputs": [
    {
     "data": {
      "text/plain": [
       "15.280000000000001"
      ]
     },
     "execution_count": 17,
     "metadata": {},
     "output_type": "execute_result"
    }
   ],
   "source": [
    "7.03+0.05*165 #tahmin alternatif: model.intercept_+model.coef_*165"
   ]
  },
  {
   "cell_type": "code",
   "execution_count": 18,
   "id": "331e6f70-1386-4050-8d0f-afe16d7be25d",
   "metadata": {},
   "outputs": [
    {
     "data": {
      "text/plain": [
       "array([[14.87613922]])"
      ]
     },
     "execution_count": 18,
     "metadata": {},
     "output_type": "execute_result"
    }
   ],
   "source": [
    "model.predict([[165]])#tahmin et demek"
   ]
  },
  {
   "cell_type": "code",
   "execution_count": 19,
   "id": "172b98e8-9370-40df-8be8-472dc5eb5a00",
   "metadata": {},
   "outputs": [],
   "source": [
    "yeni_veri=[[5],[15],[30]]"
   ]
  },
  {
   "cell_type": "code",
   "execution_count": 20,
   "id": "9d3eaee0-e85b-4f36-867f-003b9659e0cf",
   "metadata": {},
   "outputs": [
    {
     "data": {
      "text/plain": [
       "array([[7.27027675],\n",
       "       [7.74564316],\n",
       "       [8.45869276]])"
      ]
     },
     "execution_count": 20,
     "metadata": {},
     "output_type": "execute_result"
    }
   ],
   "source": [
    "model.predict(yeni_veri)"
   ]
  },
  {
   "cell_type": "markdown",
   "id": "895b866f-cd77-4a2a-a43f-0dc95eab7d19",
   "metadata": {},
   "source": [
    "## Artıklar ve Makine Öğrenmesindeki Önem\n",
    "### MSE: Hata Kareler Ortalaması\n",
    "### RMSE: Hata Kareler Ortalamasının Karekökü"
   ]
  },
  {
   "cell_type": "code",
   "execution_count": 21,
   "id": "f7a6acb4-9d20-4022-a32b-ccdab1133f52",
   "metadata": {},
   "outputs": [
    {
     "data": {
      "text/html": [
       "<div>\n",
       "<style scoped>\n",
       "    .dataframe tbody tr th:only-of-type {\n",
       "        vertical-align: middle;\n",
       "    }\n",
       "\n",
       "    .dataframe tbody tr th {\n",
       "        vertical-align: top;\n",
       "    }\n",
       "\n",
       "    .dataframe thead th {\n",
       "        text-align: right;\n",
       "    }\n",
       "</style>\n",
       "<table border=\"1\" class=\"dataframe\">\n",
       "  <thead>\n",
       "    <tr style=\"text-align: right;\">\n",
       "      <th></th>\n",
       "      <th>sales</th>\n",
       "    </tr>\n",
       "  </thead>\n",
       "  <tbody>\n",
       "    <tr>\n",
       "      <th>0</th>\n",
       "      <td>22.1</td>\n",
       "    </tr>\n",
       "    <tr>\n",
       "      <th>1</th>\n",
       "      <td>10.4</td>\n",
       "    </tr>\n",
       "    <tr>\n",
       "      <th>2</th>\n",
       "      <td>9.3</td>\n",
       "    </tr>\n",
       "    <tr>\n",
       "      <th>3</th>\n",
       "      <td>18.5</td>\n",
       "    </tr>\n",
       "    <tr>\n",
       "      <th>4</th>\n",
       "      <td>12.9</td>\n",
       "    </tr>\n",
       "  </tbody>\n",
       "</table>\n",
       "</div>"
      ],
      "text/plain": [
       "   sales\n",
       "0   22.1\n",
       "1   10.4\n",
       "2    9.3\n",
       "3   18.5\n",
       "4   12.9"
      ]
     },
     "execution_count": 21,
     "metadata": {},
     "output_type": "execute_result"
    }
   ],
   "source": [
    "y.head()#bağımlı değişken gerçek değerler"
   ]
  },
  {
   "cell_type": "code",
   "execution_count": 22,
   "id": "bd023321-9237-4154-992e-6575eb016ceb",
   "metadata": {},
   "outputs": [
    {
     "data": {
      "text/plain": [
       "array([[17.97077451],\n",
       "       [ 9.14797405],\n",
       "       [ 7.85022376],\n",
       "       [14.23439457],\n",
       "       [15.62721814],\n",
       "       [ 7.44616232]])"
      ]
     },
     "execution_count": 22,
     "metadata": {},
     "output_type": "execute_result"
    }
   ],
   "source": [
    "model.predict(X)[0:6]#tahmin edilen değerler"
   ]
  },
  {
   "cell_type": "code",
   "execution_count": 23,
   "id": "2c5aa1b8-891c-4b58-b8ad-c3ffc6a944b8",
   "metadata": {},
   "outputs": [],
   "source": [
    "gercek_y= y[0:10]"
   ]
  },
  {
   "cell_type": "code",
   "execution_count": 24,
   "id": "38d22681-b199-49db-a823-e9f8466f4d1c",
   "metadata": {},
   "outputs": [],
   "source": [
    "tahmin_edilen_y=pd.DataFrame(model.predict(X)[0:10])"
   ]
  },
  {
   "cell_type": "code",
   "execution_count": 25,
   "id": "41d480b5-4e55-48aa-9d4d-2a726d94662d",
   "metadata": {},
   "outputs": [],
   "source": [
    "hatalar = pd.concat([gercek_y,tahmin_edilen_y], axis=1)"
   ]
  },
  {
   "cell_type": "code",
   "execution_count": 26,
   "id": "a8a4425f-f964-4a38-ac52-c0eeb9d18f6d",
   "metadata": {},
   "outputs": [
    {
     "data": {
      "text/html": [
       "<div>\n",
       "<style scoped>\n",
       "    .dataframe tbody tr th:only-of-type {\n",
       "        vertical-align: middle;\n",
       "    }\n",
       "\n",
       "    .dataframe tbody tr th {\n",
       "        vertical-align: top;\n",
       "    }\n",
       "\n",
       "    .dataframe thead th {\n",
       "        text-align: right;\n",
       "    }\n",
       "</style>\n",
       "<table border=\"1\" class=\"dataframe\">\n",
       "  <thead>\n",
       "    <tr style=\"text-align: right;\">\n",
       "      <th></th>\n",
       "      <th>gercek_y</th>\n",
       "      <th>tahmin_edilen_y</th>\n",
       "    </tr>\n",
       "  </thead>\n",
       "  <tbody>\n",
       "    <tr>\n",
       "      <th>0</th>\n",
       "      <td>22.1</td>\n",
       "      <td>17.970775</td>\n",
       "    </tr>\n",
       "    <tr>\n",
       "      <th>1</th>\n",
       "      <td>10.4</td>\n",
       "      <td>9.147974</td>\n",
       "    </tr>\n",
       "    <tr>\n",
       "      <th>2</th>\n",
       "      <td>9.3</td>\n",
       "      <td>7.850224</td>\n",
       "    </tr>\n",
       "    <tr>\n",
       "      <th>3</th>\n",
       "      <td>18.5</td>\n",
       "      <td>14.234395</td>\n",
       "    </tr>\n",
       "    <tr>\n",
       "      <th>4</th>\n",
       "      <td>12.9</td>\n",
       "      <td>15.627218</td>\n",
       "    </tr>\n",
       "    <tr>\n",
       "      <th>5</th>\n",
       "      <td>7.2</td>\n",
       "      <td>7.446162</td>\n",
       "    </tr>\n",
       "    <tr>\n",
       "      <th>6</th>\n",
       "      <td>11.8</td>\n",
       "      <td>9.765950</td>\n",
       "    </tr>\n",
       "    <tr>\n",
       "      <th>7</th>\n",
       "      <td>13.2</td>\n",
       "      <td>12.746498</td>\n",
       "    </tr>\n",
       "    <tr>\n",
       "      <th>8</th>\n",
       "      <td>4.8</td>\n",
       "      <td>7.441409</td>\n",
       "    </tr>\n",
       "    <tr>\n",
       "      <th>9</th>\n",
       "      <td>10.6</td>\n",
       "      <td>16.530414</td>\n",
       "    </tr>\n",
       "  </tbody>\n",
       "</table>\n",
       "</div>"
      ],
      "text/plain": [
       "   gercek_y  tahmin_edilen_y\n",
       "0      22.1        17.970775\n",
       "1      10.4         9.147974\n",
       "2       9.3         7.850224\n",
       "3      18.5        14.234395\n",
       "4      12.9        15.627218\n",
       "5       7.2         7.446162\n",
       "6      11.8         9.765950\n",
       "7      13.2        12.746498\n",
       "8       4.8         7.441409\n",
       "9      10.6        16.530414"
      ]
     },
     "execution_count": 26,
     "metadata": {},
     "output_type": "execute_result"
    }
   ],
   "source": [
    "hatalar.columns=[\"gercek_y\",\"tahmin_edilen_y\"]\n",
    "hatalar"
   ]
  },
  {
   "cell_type": "code",
   "execution_count": 27,
   "id": "7cdf3f77-0c48-434d-aafc-ada86047bd3f",
   "metadata": {},
   "outputs": [],
   "source": [
    "hatalar[\"hata\"]=hatalar[\"gercek_y\"]-hatalar[\"tahmin_edilen_y\"]"
   ]
  },
  {
   "cell_type": "code",
   "execution_count": 28,
   "id": "ee12d255-7463-4eac-adf2-73cad9353012",
   "metadata": {},
   "outputs": [
    {
     "data": {
      "text/html": [
       "<div>\n",
       "<style scoped>\n",
       "    .dataframe tbody tr th:only-of-type {\n",
       "        vertical-align: middle;\n",
       "    }\n",
       "\n",
       "    .dataframe tbody tr th {\n",
       "        vertical-align: top;\n",
       "    }\n",
       "\n",
       "    .dataframe thead th {\n",
       "        text-align: right;\n",
       "    }\n",
       "</style>\n",
       "<table border=\"1\" class=\"dataframe\">\n",
       "  <thead>\n",
       "    <tr style=\"text-align: right;\">\n",
       "      <th></th>\n",
       "      <th>gercek_y</th>\n",
       "      <th>tahmin_edilen_y</th>\n",
       "      <th>hata</th>\n",
       "    </tr>\n",
       "  </thead>\n",
       "  <tbody>\n",
       "    <tr>\n",
       "      <th>0</th>\n",
       "      <td>22.1</td>\n",
       "      <td>17.970775</td>\n",
       "      <td>4.129225</td>\n",
       "    </tr>\n",
       "    <tr>\n",
       "      <th>1</th>\n",
       "      <td>10.4</td>\n",
       "      <td>9.147974</td>\n",
       "      <td>1.252026</td>\n",
       "    </tr>\n",
       "    <tr>\n",
       "      <th>2</th>\n",
       "      <td>9.3</td>\n",
       "      <td>7.850224</td>\n",
       "      <td>1.449776</td>\n",
       "    </tr>\n",
       "    <tr>\n",
       "      <th>3</th>\n",
       "      <td>18.5</td>\n",
       "      <td>14.234395</td>\n",
       "      <td>4.265605</td>\n",
       "    </tr>\n",
       "    <tr>\n",
       "      <th>4</th>\n",
       "      <td>12.9</td>\n",
       "      <td>15.627218</td>\n",
       "      <td>-2.727218</td>\n",
       "    </tr>\n",
       "    <tr>\n",
       "      <th>5</th>\n",
       "      <td>7.2</td>\n",
       "      <td>7.446162</td>\n",
       "      <td>-0.246162</td>\n",
       "    </tr>\n",
       "    <tr>\n",
       "      <th>6</th>\n",
       "      <td>11.8</td>\n",
       "      <td>9.765950</td>\n",
       "      <td>2.034050</td>\n",
       "    </tr>\n",
       "    <tr>\n",
       "      <th>7</th>\n",
       "      <td>13.2</td>\n",
       "      <td>12.746498</td>\n",
       "      <td>0.453502</td>\n",
       "    </tr>\n",
       "    <tr>\n",
       "      <th>8</th>\n",
       "      <td>4.8</td>\n",
       "      <td>7.441409</td>\n",
       "      <td>-2.641409</td>\n",
       "    </tr>\n",
       "    <tr>\n",
       "      <th>9</th>\n",
       "      <td>10.6</td>\n",
       "      <td>16.530414</td>\n",
       "      <td>-5.930414</td>\n",
       "    </tr>\n",
       "  </tbody>\n",
       "</table>\n",
       "</div>"
      ],
      "text/plain": [
       "   gercek_y  tahmin_edilen_y      hata\n",
       "0      22.1        17.970775  4.129225\n",
       "1      10.4         9.147974  1.252026\n",
       "2       9.3         7.850224  1.449776\n",
       "3      18.5        14.234395  4.265605\n",
       "4      12.9        15.627218 -2.727218\n",
       "5       7.2         7.446162 -0.246162\n",
       "6      11.8         9.765950  2.034050\n",
       "7      13.2        12.746498  0.453502\n",
       "8       4.8         7.441409 -2.641409\n",
       "9      10.6        16.530414 -5.930414"
      ]
     },
     "execution_count": 28,
     "metadata": {},
     "output_type": "execute_result"
    }
   ],
   "source": [
    "hatalar"
   ]
  },
  {
   "cell_type": "code",
   "execution_count": 29,
   "id": "de541784-694a-41e4-af8d-ac826b1fc686",
   "metadata": {},
   "outputs": [],
   "source": [
    "hatalar[\"hata_kare\"]=hatalar[\"hata\"]**2"
   ]
  },
  {
   "cell_type": "code",
   "execution_count": 30,
   "id": "5da7dc41-6689-44a4-a531-679b1c40c2f8",
   "metadata": {},
   "outputs": [
    {
     "data": {
      "text/html": [
       "<div>\n",
       "<style scoped>\n",
       "    .dataframe tbody tr th:only-of-type {\n",
       "        vertical-align: middle;\n",
       "    }\n",
       "\n",
       "    .dataframe tbody tr th {\n",
       "        vertical-align: top;\n",
       "    }\n",
       "\n",
       "    .dataframe thead th {\n",
       "        text-align: right;\n",
       "    }\n",
       "</style>\n",
       "<table border=\"1\" class=\"dataframe\">\n",
       "  <thead>\n",
       "    <tr style=\"text-align: right;\">\n",
       "      <th></th>\n",
       "      <th>gercek_y</th>\n",
       "      <th>tahmin_edilen_y</th>\n",
       "      <th>hata</th>\n",
       "      <th>hata_kare</th>\n",
       "    </tr>\n",
       "  </thead>\n",
       "  <tbody>\n",
       "    <tr>\n",
       "      <th>0</th>\n",
       "      <td>22.1</td>\n",
       "      <td>17.970775</td>\n",
       "      <td>4.129225</td>\n",
       "      <td>17.050503</td>\n",
       "    </tr>\n",
       "    <tr>\n",
       "      <th>1</th>\n",
       "      <td>10.4</td>\n",
       "      <td>9.147974</td>\n",
       "      <td>1.252026</td>\n",
       "      <td>1.567569</td>\n",
       "    </tr>\n",
       "    <tr>\n",
       "      <th>2</th>\n",
       "      <td>9.3</td>\n",
       "      <td>7.850224</td>\n",
       "      <td>1.449776</td>\n",
       "      <td>2.101851</td>\n",
       "    </tr>\n",
       "    <tr>\n",
       "      <th>3</th>\n",
       "      <td>18.5</td>\n",
       "      <td>14.234395</td>\n",
       "      <td>4.265605</td>\n",
       "      <td>18.195390</td>\n",
       "    </tr>\n",
       "    <tr>\n",
       "      <th>4</th>\n",
       "      <td>12.9</td>\n",
       "      <td>15.627218</td>\n",
       "      <td>-2.727218</td>\n",
       "      <td>7.437719</td>\n",
       "    </tr>\n",
       "    <tr>\n",
       "      <th>5</th>\n",
       "      <td>7.2</td>\n",
       "      <td>7.446162</td>\n",
       "      <td>-0.246162</td>\n",
       "      <td>0.060596</td>\n",
       "    </tr>\n",
       "    <tr>\n",
       "      <th>6</th>\n",
       "      <td>11.8</td>\n",
       "      <td>9.765950</td>\n",
       "      <td>2.034050</td>\n",
       "      <td>4.137358</td>\n",
       "    </tr>\n",
       "    <tr>\n",
       "      <th>7</th>\n",
       "      <td>13.2</td>\n",
       "      <td>12.746498</td>\n",
       "      <td>0.453502</td>\n",
       "      <td>0.205664</td>\n",
       "    </tr>\n",
       "    <tr>\n",
       "      <th>8</th>\n",
       "      <td>4.8</td>\n",
       "      <td>7.441409</td>\n",
       "      <td>-2.641409</td>\n",
       "      <td>6.977040</td>\n",
       "    </tr>\n",
       "    <tr>\n",
       "      <th>9</th>\n",
       "      <td>10.6</td>\n",
       "      <td>16.530414</td>\n",
       "      <td>-5.930414</td>\n",
       "      <td>35.169814</td>\n",
       "    </tr>\n",
       "  </tbody>\n",
       "</table>\n",
       "</div>"
      ],
      "text/plain": [
       "   gercek_y  tahmin_edilen_y      hata  hata_kare\n",
       "0      22.1        17.970775  4.129225  17.050503\n",
       "1      10.4         9.147974  1.252026   1.567569\n",
       "2       9.3         7.850224  1.449776   2.101851\n",
       "3      18.5        14.234395  4.265605  18.195390\n",
       "4      12.9        15.627218 -2.727218   7.437719\n",
       "5       7.2         7.446162 -0.246162   0.060596\n",
       "6      11.8         9.765950  2.034050   4.137358\n",
       "7      13.2        12.746498  0.453502   0.205664\n",
       "8       4.8         7.441409 -2.641409   6.977040\n",
       "9      10.6        16.530414 -5.930414  35.169814"
      ]
     },
     "execution_count": 30,
     "metadata": {},
     "output_type": "execute_result"
    }
   ],
   "source": [
    "hatalar"
   ]
  },
  {
   "cell_type": "code",
   "execution_count": 31,
   "id": "8805ad41-f54b-452e-9405-5073ddefbe17",
   "metadata": {},
   "outputs": [
    {
     "data": {
      "text/plain": [
       "9.290350329638105"
      ]
     },
     "execution_count": 31,
     "metadata": {},
     "output_type": "execute_result"
    }
   ],
   "source": [
    "import numpy as np\n",
    "np.mean(hatalar[\"hata_kare\"])"
   ]
  },
  {
   "cell_type": "markdown",
   "id": "423aee95-34e9-4b5b-ab0a-c9a9df68cdcb",
   "metadata": {},
   "source": [
    "## Çoklu Doğrusal Regresyon (Multiple Linear Regression)"
   ]
  },
  {
   "cell_type": "markdown",
   "id": "866f57c3-3840-485b-950e-4458d1505a8b",
   "metadata": {},
   "source": [
    "Temel amaç, bağımlı ve bağımsız değişkenler arasındaki ilişkiyi ifade eden doğrusal fonksiyonu bulmaktır."
   ]
  },
  {
   "cell_type": "markdown",
   "id": "9d0321aa-71d3-4fb9-86c9-1dfade51e311",
   "metadata": {},
   "source": [
    "yi=beta0+beta1xi1+beta2xi2+beta3xi3+......+betajxij+...+betapxip+Ei\n",
    "-Model içindeki bağımsız değişkenlerin etkilerini kontrol etmek için kullanılacak\n",
    "-Hatalar normal dağılır.\n",
    "-Hatalar birbirinden bağımsızdır ve aralarında otokorelasyon yoktur\n",
    "-Her bir gözlem için hata terimleri varyansları sabittir\n",
    "-Değişkenler ile ata terimi arasında ilişki yoktur\n",
    "-Bağımsız değişkenler arasında çoklu doğrusal ilişki problemi yoktur."
   ]
  },
  {
   "cell_type": "markdown",
   "id": "91c6dec8-bf70-4d36-a6fb-3367e5d1b48c",
   "metadata": {},
   "source": [
    "### Regrensyon Modellerinin Avantaj ve Dezavantajları\n",
    "-İyi anlaşılırsa diğer tüm ML ve DL konuları çok rahat kavranır\n",
    "-Doğrusallık nedensellik youmları yapılabilmesini sağlar, bu durum aksiyoner ve stratejik modelleme imkanı verir.\n",
    "-Değişkenlerin etki düzeyleri ve anlamlılıkları değerlendirilebilir\n",
    "-Bağımlı değişkendeki değişkenliğin açıklanma başarısı ölçülebilir\n",
    "-Model anlamlılığı değerlendirilebilir\n",
    "-Varsayımları vardır\n",
    "-Aykırı gözlemlere duyarlıdır."
   ]
  },
  {
   "cell_type": "markdown",
   "id": "71920c04-5c25-4aaa-9e0a-4fba78eedce9",
   "metadata": {},
   "source": [
    "## Çoklu doğrusal regresyon\n",
    "### Model"
   ]
  },
  {
   "cell_type": "code",
   "execution_count": 32,
   "id": "4277f438-5875-48d0-802b-56a4edf44fe2",
   "metadata": {},
   "outputs": [
    {
     "data": {
      "text/html": [
       "<div>\n",
       "<style scoped>\n",
       "    .dataframe tbody tr th:only-of-type {\n",
       "        vertical-align: middle;\n",
       "    }\n",
       "\n",
       "    .dataframe tbody tr th {\n",
       "        vertical-align: top;\n",
       "    }\n",
       "\n",
       "    .dataframe thead th {\n",
       "        text-align: right;\n",
       "    }\n",
       "</style>\n",
       "<table border=\"1\" class=\"dataframe\">\n",
       "  <thead>\n",
       "    <tr style=\"text-align: right;\">\n",
       "      <th></th>\n",
       "      <th>TV</th>\n",
       "      <th>radio</th>\n",
       "      <th>newspaper</th>\n",
       "      <th>sales</th>\n",
       "    </tr>\n",
       "  </thead>\n",
       "  <tbody>\n",
       "    <tr>\n",
       "      <th>0</th>\n",
       "      <td>230.1</td>\n",
       "      <td>37.8</td>\n",
       "      <td>69.2</td>\n",
       "      <td>22.1</td>\n",
       "    </tr>\n",
       "    <tr>\n",
       "      <th>1</th>\n",
       "      <td>44.5</td>\n",
       "      <td>39.3</td>\n",
       "      <td>45.1</td>\n",
       "      <td>10.4</td>\n",
       "    </tr>\n",
       "    <tr>\n",
       "      <th>2</th>\n",
       "      <td>17.2</td>\n",
       "      <td>45.9</td>\n",
       "      <td>69.3</td>\n",
       "      <td>9.3</td>\n",
       "    </tr>\n",
       "    <tr>\n",
       "      <th>3</th>\n",
       "      <td>151.5</td>\n",
       "      <td>41.3</td>\n",
       "      <td>58.5</td>\n",
       "      <td>18.5</td>\n",
       "    </tr>\n",
       "    <tr>\n",
       "      <th>4</th>\n",
       "      <td>180.8</td>\n",
       "      <td>10.8</td>\n",
       "      <td>58.4</td>\n",
       "      <td>12.9</td>\n",
       "    </tr>\n",
       "  </tbody>\n",
       "</table>\n",
       "</div>"
      ],
      "text/plain": [
       "      TV  radio  newspaper  sales\n",
       "0  230.1   37.8       69.2   22.1\n",
       "1   44.5   39.3       45.1   10.4\n",
       "2   17.2   45.9       69.3    9.3\n",
       "3  151.5   41.3       58.5   18.5\n",
       "4  180.8   10.8       58.4   12.9"
      ]
     },
     "execution_count": 32,
     "metadata": {},
     "output_type": "execute_result"
    }
   ],
   "source": [
    "#http://faculty.marshall.usc.edu/gareth-james/ISL/data.html\n",
    "import pandas as pd\n",
    "df=pd.read_csv(\"Advertising.csv\")\n",
    "df=df.iloc[:,1:len(df)]\n",
    "df.head()"
   ]
  },
  {
   "cell_type": "code",
   "execution_count": 33,
   "id": "e5dcccad-ede3-4acd-b6b0-3fe37b83d1ea",
   "metadata": {},
   "outputs": [
    {
     "data": {
      "text/html": [
       "<div>\n",
       "<style scoped>\n",
       "    .dataframe tbody tr th:only-of-type {\n",
       "        vertical-align: middle;\n",
       "    }\n",
       "\n",
       "    .dataframe tbody tr th {\n",
       "        vertical-align: top;\n",
       "    }\n",
       "\n",
       "    .dataframe thead th {\n",
       "        text-align: right;\n",
       "    }\n",
       "</style>\n",
       "<table border=\"1\" class=\"dataframe\">\n",
       "  <thead>\n",
       "    <tr style=\"text-align: right;\">\n",
       "      <th></th>\n",
       "      <th>sales</th>\n",
       "    </tr>\n",
       "  </thead>\n",
       "  <tbody>\n",
       "    <tr>\n",
       "      <th>0</th>\n",
       "      <td>22.1</td>\n",
       "    </tr>\n",
       "    <tr>\n",
       "      <th>1</th>\n",
       "      <td>10.4</td>\n",
       "    </tr>\n",
       "    <tr>\n",
       "      <th>2</th>\n",
       "      <td>9.3</td>\n",
       "    </tr>\n",
       "    <tr>\n",
       "      <th>3</th>\n",
       "      <td>18.5</td>\n",
       "    </tr>\n",
       "    <tr>\n",
       "      <th>4</th>\n",
       "      <td>12.9</td>\n",
       "    </tr>\n",
       "  </tbody>\n",
       "</table>\n",
       "</div>"
      ],
      "text/plain": [
       "   sales\n",
       "0   22.1\n",
       "1   10.4\n",
       "2    9.3\n",
       "3   18.5\n",
       "4   12.9"
      ]
     },
     "execution_count": 33,
     "metadata": {},
     "output_type": "execute_result"
    }
   ],
   "source": [
    "X= df.drop('sales',axis=1)\n",
    "y=df[[\"sales\"]]\n",
    "y.head()"
   ]
  },
  {
   "cell_type": "code",
   "execution_count": 34,
   "id": "3ca7a2e7-431a-4642-a9ee-c4456a4b57ac",
   "metadata": {},
   "outputs": [
    {
     "data": {
      "text/html": [
       "<div>\n",
       "<style scoped>\n",
       "    .dataframe tbody tr th:only-of-type {\n",
       "        vertical-align: middle;\n",
       "    }\n",
       "\n",
       "    .dataframe tbody tr th {\n",
       "        vertical-align: top;\n",
       "    }\n",
       "\n",
       "    .dataframe thead th {\n",
       "        text-align: right;\n",
       "    }\n",
       "</style>\n",
       "<table border=\"1\" class=\"dataframe\">\n",
       "  <thead>\n",
       "    <tr style=\"text-align: right;\">\n",
       "      <th></th>\n",
       "      <th>TV</th>\n",
       "      <th>radio</th>\n",
       "      <th>newspaper</th>\n",
       "    </tr>\n",
       "  </thead>\n",
       "  <tbody>\n",
       "    <tr>\n",
       "      <th>0</th>\n",
       "      <td>230.1</td>\n",
       "      <td>37.8</td>\n",
       "      <td>69.2</td>\n",
       "    </tr>\n",
       "    <tr>\n",
       "      <th>1</th>\n",
       "      <td>44.5</td>\n",
       "      <td>39.3</td>\n",
       "      <td>45.1</td>\n",
       "    </tr>\n",
       "    <tr>\n",
       "      <th>2</th>\n",
       "      <td>17.2</td>\n",
       "      <td>45.9</td>\n",
       "      <td>69.3</td>\n",
       "    </tr>\n",
       "    <tr>\n",
       "      <th>3</th>\n",
       "      <td>151.5</td>\n",
       "      <td>41.3</td>\n",
       "      <td>58.5</td>\n",
       "    </tr>\n",
       "    <tr>\n",
       "      <th>4</th>\n",
       "      <td>180.8</td>\n",
       "      <td>10.8</td>\n",
       "      <td>58.4</td>\n",
       "    </tr>\n",
       "  </tbody>\n",
       "</table>\n",
       "</div>"
      ],
      "text/plain": [
       "      TV  radio  newspaper\n",
       "0  230.1   37.8       69.2\n",
       "1   44.5   39.3       45.1\n",
       "2   17.2   45.9       69.3\n",
       "3  151.5   41.3       58.5\n",
       "4  180.8   10.8       58.4"
      ]
     },
     "execution_count": 34,
     "metadata": {},
     "output_type": "execute_result"
    }
   ],
   "source": [
    "X.head()"
   ]
  },
  {
   "cell_type": "markdown",
   "id": "a7d28859-1605-488e-a7d0-617709df285b",
   "metadata": {},
   "source": [
    "### Statsmodels ile Model Kurmak"
   ]
  },
  {
   "cell_type": "code",
   "execution_count": 35,
   "id": "a01a2f6b-d300-42a5-aa2f-b273fef6a1c3",
   "metadata": {},
   "outputs": [],
   "source": [
    "import statsmodels.api as sm\n",
    "lm = sm.OLS(y,X)"
   ]
  },
  {
   "cell_type": "code",
   "execution_count": 36,
   "id": "5658506f-34f0-4edd-b944-ceab9a853360",
   "metadata": {},
   "outputs": [],
   "source": [
    "model = lm.fit()"
   ]
  },
  {
   "cell_type": "code",
   "execution_count": 37,
   "id": "eec76636-acda-43ea-b129-da1de950a696",
   "metadata": {},
   "outputs": [
    {
     "data": {
      "text/html": [
       "<table class=\"simpletable\">\n",
       "<caption>OLS Regression Results</caption>\n",
       "<tr>\n",
       "  <th>Dep. Variable:</th>          <td>sales</td>      <th>  R-squared (uncentered):</th>      <td>   0.982</td> \n",
       "</tr>\n",
       "<tr>\n",
       "  <th>Model:</th>                   <td>OLS</td>       <th>  Adj. R-squared (uncentered):</th> <td>   0.982</td> \n",
       "</tr>\n",
       "<tr>\n",
       "  <th>Method:</th>             <td>Least Squares</td>  <th>  F-statistic:       </th>          <td>   3566.</td> \n",
       "</tr>\n",
       "<tr>\n",
       "  <th>Date:</th>             <td>Fri, 18 Mar 2022</td> <th>  Prob (F-statistic):</th>          <td>2.43e-171</td>\n",
       "</tr>\n",
       "<tr>\n",
       "  <th>Time:</th>                 <td>23:22:34</td>     <th>  Log-Likelihood:    </th>          <td> -423.54</td> \n",
       "</tr>\n",
       "<tr>\n",
       "  <th>No. Observations:</th>      <td>   200</td>      <th>  AIC:               </th>          <td>   853.1</td> \n",
       "</tr>\n",
       "<tr>\n",
       "  <th>Df Residuals:</th>          <td>   197</td>      <th>  BIC:               </th>          <td>   863.0</td> \n",
       "</tr>\n",
       "<tr>\n",
       "  <th>Df Model:</th>              <td>     3</td>      <th>                     </th>              <td> </td>    \n",
       "</tr>\n",
       "<tr>\n",
       "  <th>Covariance Type:</th>      <td>nonrobust</td>    <th>                     </th>              <td> </td>    \n",
       "</tr>\n",
       "</table>\n",
       "<table class=\"simpletable\">\n",
       "<tr>\n",
       "      <td></td>         <th>coef</th>     <th>std err</th>      <th>t</th>      <th>P>|t|</th>  <th>[0.025</th>    <th>0.975]</th>  \n",
       "</tr>\n",
       "<tr>\n",
       "  <th>TV</th>        <td>    0.0538</td> <td>    0.001</td> <td>   40.507</td> <td> 0.000</td> <td>    0.051</td> <td>    0.056</td>\n",
       "</tr>\n",
       "<tr>\n",
       "  <th>radio</th>     <td>    0.2222</td> <td>    0.009</td> <td>   23.595</td> <td> 0.000</td> <td>    0.204</td> <td>    0.241</td>\n",
       "</tr>\n",
       "<tr>\n",
       "  <th>newspaper</th> <td>    0.0168</td> <td>    0.007</td> <td>    2.517</td> <td> 0.013</td> <td>    0.004</td> <td>    0.030</td>\n",
       "</tr>\n",
       "</table>\n",
       "<table class=\"simpletable\">\n",
       "<tr>\n",
       "  <th>Omnibus:</th>       <td> 5.982</td> <th>  Durbin-Watson:     </th> <td>   2.038</td>\n",
       "</tr>\n",
       "<tr>\n",
       "  <th>Prob(Omnibus):</th> <td> 0.050</td> <th>  Jarque-Bera (JB):  </th> <td>   7.039</td>\n",
       "</tr>\n",
       "<tr>\n",
       "  <th>Skew:</th>          <td>-0.232</td> <th>  Prob(JB):          </th> <td>  0.0296</td>\n",
       "</tr>\n",
       "<tr>\n",
       "  <th>Kurtosis:</th>      <td> 3.794</td> <th>  Cond. No.          </th> <td>    12.6</td>\n",
       "</tr>\n",
       "</table><br/><br/>Notes:<br/>[1] R² is computed without centering (uncentered) since the model does not contain a constant.<br/>[2] Standard Errors assume that the covariance matrix of the errors is correctly specified."
      ],
      "text/plain": [
       "<class 'statsmodels.iolib.summary.Summary'>\n",
       "\"\"\"\n",
       "                                 OLS Regression Results                                \n",
       "=======================================================================================\n",
       "Dep. Variable:                  sales   R-squared (uncentered):                   0.982\n",
       "Model:                            OLS   Adj. R-squared (uncentered):              0.982\n",
       "Method:                 Least Squares   F-statistic:                              3566.\n",
       "Date:                Fri, 18 Mar 2022   Prob (F-statistic):                   2.43e-171\n",
       "Time:                        23:22:34   Log-Likelihood:                         -423.54\n",
       "No. Observations:                 200   AIC:                                      853.1\n",
       "Df Residuals:                     197   BIC:                                      863.0\n",
       "Df Model:                           3                                                  \n",
       "Covariance Type:            nonrobust                                                  \n",
       "==============================================================================\n",
       "                 coef    std err          t      P>|t|      [0.025      0.975]\n",
       "------------------------------------------------------------------------------\n",
       "TV             0.0538      0.001     40.507      0.000       0.051       0.056\n",
       "radio          0.2222      0.009     23.595      0.000       0.204       0.241\n",
       "newspaper      0.0168      0.007      2.517      0.013       0.004       0.030\n",
       "==============================================================================\n",
       "Omnibus:                        5.982   Durbin-Watson:                   2.038\n",
       "Prob(Omnibus):                  0.050   Jarque-Bera (JB):                7.039\n",
       "Skew:                          -0.232   Prob(JB):                       0.0296\n",
       "Kurtosis:                       3.794   Cond. No.                         12.6\n",
       "==============================================================================\n",
       "\n",
       "Notes:\n",
       "[1] R² is computed without centering (uncentered) since the model does not contain a constant.\n",
       "[2] Standard Errors assume that the covariance matrix of the errors is correctly specified.\n",
       "\"\"\""
      ]
     },
     "execution_count": 37,
     "metadata": {},
     "output_type": "execute_result"
    }
   ],
   "source": [
    "model.summary()"
   ]
  },
  {
   "cell_type": "markdown",
   "id": "6a61323e-9eb5-4644-9439-6ff61003fcab",
   "metadata": {},
   "source": [
    "### scikit learn ile model kurmak"
   ]
  },
  {
   "cell_type": "code",
   "execution_count": 38,
   "id": "d03f7fb2-fcd6-4fe2-8ff3-fa0676354baf",
   "metadata": {},
   "outputs": [],
   "source": [
    "from sklearn.linear_model import LinearRegression\n",
    "lm = LinearRegression()"
   ]
  },
  {
   "cell_type": "code",
   "execution_count": 39,
   "id": "855437d5-a6e1-4c6f-9181-9b7e10a9102e",
   "metadata": {},
   "outputs": [],
   "source": [
    "model = lm.fit(X, y)"
   ]
  },
  {
   "cell_type": "code",
   "execution_count": 40,
   "id": "f1e6c20d-7de3-4aa6-a641-3a8c6a8a7d3a",
   "metadata": {},
   "outputs": [
    {
     "data": {
      "text/plain": [
       "array([2.93888937])"
      ]
     },
     "execution_count": 40,
     "metadata": {},
     "output_type": "execute_result"
    }
   ],
   "source": [
    "model.intercept_ #sabite erişme"
   ]
  },
  {
   "cell_type": "code",
   "execution_count": 41,
   "id": "5ace9ebb-46eb-4989-acb5-d18df6ca3998",
   "metadata": {},
   "outputs": [
    {
     "data": {
      "text/plain": [
       "array([[ 0.04576465,  0.18853002, -0.00103749]])"
      ]
     },
     "execution_count": 41,
     "metadata": {},
     "output_type": "execute_result"
    }
   ],
   "source": [
    "model.coef_ #bağımsız değişkenlerin kat sayı değerleri"
   ]
  },
  {
   "cell_type": "markdown",
   "id": "92e8cc24-0206-4b58-834e-2f0c8f94c351",
   "metadata": {},
   "source": [
    "### ÇDR: TAHMİN"
   ]
  },
  {
   "cell_type": "markdown",
   "id": "c53ed2f2-ff4d-4ac4-86f4-e9afa6b8df53",
   "metadata": {},
   "source": [
    "**sales = 2.94+TV+0.04+radio * 0.19-newspaper * 0.001"
   ]
  },
  {
   "cell_type": "markdown",
   "id": "ddd78361-5a19-4d6f-9f5b-f27844333b9c",
   "metadata": {},
   "source": [
    "30 birim tv, 10 birim radio, 40 birim gazete"
   ]
  },
  {
   "cell_type": "code",
   "execution_count": 42,
   "id": "522ab260-f1e9-4c10-9112-5062d28e6c7d",
   "metadata": {},
   "outputs": [
    {
     "data": {
      "text/plain": [
       "5.999999999999999"
      ]
     },
     "execution_count": 42,
     "metadata": {},
     "output_type": "execute_result"
    }
   ],
   "source": [
    "2.94 + 30 * 0.04 + 10 * 0.19 - 40 * 0.001"
   ]
  },
  {
   "cell_type": "code",
   "execution_count": 43,
   "id": "90ea2de0-f2c8-4e49-8de6-b518e8b5fdb9",
   "metadata": {},
   "outputs": [],
   "source": [
    "yeni_veri = [[30],[10],[40]]"
   ]
  },
  {
   "cell_type": "code",
   "execution_count": 44,
   "id": "0e7fff18-4405-4d24-8826-b8a1be4bc1fe",
   "metadata": {},
   "outputs": [],
   "source": [
    "yeni_veri = pd.DataFrame(yeni_veri).T#transpoz"
   ]
  },
  {
   "cell_type": "code",
   "execution_count": 45,
   "id": "efb76806-932d-46a9-9873-dcd94a6a2122",
   "metadata": {},
   "outputs": [
    {
     "data": {
      "text/html": [
       "<div>\n",
       "<style scoped>\n",
       "    .dataframe tbody tr th:only-of-type {\n",
       "        vertical-align: middle;\n",
       "    }\n",
       "\n",
       "    .dataframe tbody tr th {\n",
       "        vertical-align: top;\n",
       "    }\n",
       "\n",
       "    .dataframe thead th {\n",
       "        text-align: right;\n",
       "    }\n",
       "</style>\n",
       "<table border=\"1\" class=\"dataframe\">\n",
       "  <thead>\n",
       "    <tr style=\"text-align: right;\">\n",
       "      <th></th>\n",
       "      <th>0</th>\n",
       "      <th>1</th>\n",
       "      <th>2</th>\n",
       "    </tr>\n",
       "  </thead>\n",
       "  <tbody>\n",
       "    <tr>\n",
       "      <th>0</th>\n",
       "      <td>30</td>\n",
       "      <td>10</td>\n",
       "      <td>40</td>\n",
       "    </tr>\n",
       "  </tbody>\n",
       "</table>\n",
       "</div>"
      ],
      "text/plain": [
       "    0   1   2\n",
       "0  30  10  40"
      ]
     },
     "execution_count": 45,
     "metadata": {},
     "output_type": "execute_result"
    }
   ],
   "source": [
    "yeni_veri"
   ]
  },
  {
   "cell_type": "code",
   "execution_count": 46,
   "id": "2447ca8f-a726-4342-9b69-3a007b1cd345",
   "metadata": {},
   "outputs": [
    {
     "data": {
      "text/plain": [
       "array([[6.15562918]])"
      ]
     },
     "execution_count": 46,
     "metadata": {},
     "output_type": "execute_result"
    }
   ],
   "source": [
    "model.predict(yeni_veri)#tahmin"
   ]
  },
  {
   "cell_type": "code",
   "execution_count": 47,
   "id": "980e5760-6262-426c-90f2-4be1cadb93c7",
   "metadata": {},
   "outputs": [],
   "source": [
    "yeni_veri=[[300],[120],[400]]\n",
    "yeni_veri=pd.DataFrame(yeni_veri).T"
   ]
  },
  {
   "cell_type": "code",
   "execution_count": 48,
   "id": "3193228d-03a8-4c95-8c49-d3d2229c45f6",
   "metadata": {},
   "outputs": [
    {
     "data": {
      "text/html": [
       "<div>\n",
       "<style scoped>\n",
       "    .dataframe tbody tr th:only-of-type {\n",
       "        vertical-align: middle;\n",
       "    }\n",
       "\n",
       "    .dataframe tbody tr th {\n",
       "        vertical-align: top;\n",
       "    }\n",
       "\n",
       "    .dataframe thead th {\n",
       "        text-align: right;\n",
       "    }\n",
       "</style>\n",
       "<table border=\"1\" class=\"dataframe\">\n",
       "  <thead>\n",
       "    <tr style=\"text-align: right;\">\n",
       "      <th></th>\n",
       "      <th>0</th>\n",
       "      <th>1</th>\n",
       "      <th>2</th>\n",
       "    </tr>\n",
       "  </thead>\n",
       "  <tbody>\n",
       "    <tr>\n",
       "      <th>0</th>\n",
       "      <td>300</td>\n",
       "      <td>120</td>\n",
       "      <td>400</td>\n",
       "    </tr>\n",
       "  </tbody>\n",
       "</table>\n",
       "</div>"
      ],
      "text/plain": [
       "     0    1    2\n",
       "0  300  120  400"
      ]
     },
     "execution_count": 48,
     "metadata": {},
     "output_type": "execute_result"
    }
   ],
   "source": [
    "yeni_veri"
   ]
  },
  {
   "cell_type": "code",
   "execution_count": 49,
   "id": "da8d0072-9fc2-42f6-8420-20c687983c46",
   "metadata": {},
   "outputs": [
    {
     "data": {
      "text/plain": [
       "array([[38.87688782]])"
      ]
     },
     "execution_count": 49,
     "metadata": {},
     "output_type": "execute_result"
    }
   ],
   "source": [
    "model.predict(yeni_veri)"
   ]
  },
  {
   "cell_type": "code",
   "execution_count": 50,
   "id": "d54fbc4e-5150-4d16-acd1-b2b682b22b55",
   "metadata": {},
   "outputs": [],
   "source": [
    "from sklearn.metrics import mean_squared_error"
   ]
  },
  {
   "cell_type": "code",
   "execution_count": 51,
   "id": "13ef06a4-e651-44f3-8ed5-328715247b43",
   "metadata": {},
   "outputs": [
    {
     "data": {
      "text/plain": [
       "array([[20.52397441],\n",
       "       [12.33785482],\n",
       "       [12.30767078],\n",
       "       [17.59782951],\n",
       "       [13.18867186],\n",
       "       [12.47834763],\n",
       "       [11.72975995],\n",
       "       [12.12295317],\n",
       "       [ 3.72734086],\n",
       "       [12.55084872]])"
      ]
     },
     "execution_count": 51,
     "metadata": {},
     "output_type": "execute_result"
    }
   ],
   "source": [
    "model.predict(X)[0:10]"
   ]
  },
  {
   "cell_type": "code",
   "execution_count": 52,
   "id": "fa547823-defd-4698-b1ee-583ec5546a15",
   "metadata": {},
   "outputs": [
    {
     "data": {
      "text/plain": [
       "2.784126314510936"
      ]
     },
     "execution_count": 52,
     "metadata": {},
     "output_type": "execute_result"
    }
   ],
   "source": [
    "MSE = mean_squared_error(y, model.predict(X))#hata kareler ortalaması\n",
    "MSE"
   ]
  },
  {
   "cell_type": "code",
   "execution_count": 53,
   "id": "a4d7a2e5-3317-4fd0-b82e-28da2231019f",
   "metadata": {},
   "outputs": [
    {
     "data": {
      "text/plain": [
       "1.6685701407225697"
      ]
     },
     "execution_count": 53,
     "metadata": {},
     "output_type": "execute_result"
    }
   ],
   "source": [
    "import numpy as np\n",
    "RMSE = np.sqrt(MSE)\n",
    "RMSE"
   ]
  },
  {
   "cell_type": "markdown",
   "id": "7c0f39a5-e354-4167-95fa-5c3effea3049",
   "metadata": {},
   "source": [
    "### ÇDR: MODEL TUNING (MODEL DOĞRULAMA)"
   ]
  },
  {
   "cell_type": "code",
   "execution_count": 54,
   "id": "a85d89b4-ab4e-45f6-a19a-2a34ea10f4c5",
   "metadata": {},
   "outputs": [
    {
     "data": {
      "text/html": [
       "<div>\n",
       "<style scoped>\n",
       "    .dataframe tbody tr th:only-of-type {\n",
       "        vertical-align: middle;\n",
       "    }\n",
       "\n",
       "    .dataframe tbody tr th {\n",
       "        vertical-align: top;\n",
       "    }\n",
       "\n",
       "    .dataframe thead th {\n",
       "        text-align: right;\n",
       "    }\n",
       "</style>\n",
       "<table border=\"1\" class=\"dataframe\">\n",
       "  <thead>\n",
       "    <tr style=\"text-align: right;\">\n",
       "      <th></th>\n",
       "      <th>TV</th>\n",
       "      <th>radio</th>\n",
       "      <th>newspaper</th>\n",
       "    </tr>\n",
       "  </thead>\n",
       "  <tbody>\n",
       "    <tr>\n",
       "      <th>0</th>\n",
       "      <td>230.1</td>\n",
       "      <td>37.8</td>\n",
       "      <td>69.2</td>\n",
       "    </tr>\n",
       "    <tr>\n",
       "      <th>1</th>\n",
       "      <td>44.5</td>\n",
       "      <td>39.3</td>\n",
       "      <td>45.1</td>\n",
       "    </tr>\n",
       "    <tr>\n",
       "      <th>2</th>\n",
       "      <td>17.2</td>\n",
       "      <td>45.9</td>\n",
       "      <td>69.3</td>\n",
       "    </tr>\n",
       "    <tr>\n",
       "      <th>3</th>\n",
       "      <td>151.5</td>\n",
       "      <td>41.3</td>\n",
       "      <td>58.5</td>\n",
       "    </tr>\n",
       "    <tr>\n",
       "      <th>4</th>\n",
       "      <td>180.8</td>\n",
       "      <td>10.8</td>\n",
       "      <td>58.4</td>\n",
       "    </tr>\n",
       "  </tbody>\n",
       "</table>\n",
       "</div>"
      ],
      "text/plain": [
       "      TV  radio  newspaper\n",
       "0  230.1   37.8       69.2\n",
       "1   44.5   39.3       45.1\n",
       "2   17.2   45.9       69.3\n",
       "3  151.5   41.3       58.5\n",
       "4  180.8   10.8       58.4"
      ]
     },
     "execution_count": 54,
     "metadata": {},
     "output_type": "execute_result"
    }
   ],
   "source": [
    "X.head()"
   ]
  },
  {
   "cell_type": "code",
   "execution_count": 55,
   "id": "6d482312-f8f1-4352-bf22-91d271a6c830",
   "metadata": {},
   "outputs": [
    {
     "data": {
      "text/html": [
       "<div>\n",
       "<style scoped>\n",
       "    .dataframe tbody tr th:only-of-type {\n",
       "        vertical-align: middle;\n",
       "    }\n",
       "\n",
       "    .dataframe tbody tr th {\n",
       "        vertical-align: top;\n",
       "    }\n",
       "\n",
       "    .dataframe thead th {\n",
       "        text-align: right;\n",
       "    }\n",
       "</style>\n",
       "<table border=\"1\" class=\"dataframe\">\n",
       "  <thead>\n",
       "    <tr style=\"text-align: right;\">\n",
       "      <th></th>\n",
       "      <th>sales</th>\n",
       "    </tr>\n",
       "  </thead>\n",
       "  <tbody>\n",
       "    <tr>\n",
       "      <th>0</th>\n",
       "      <td>22.1</td>\n",
       "    </tr>\n",
       "    <tr>\n",
       "      <th>1</th>\n",
       "      <td>10.4</td>\n",
       "    </tr>\n",
       "    <tr>\n",
       "      <th>2</th>\n",
       "      <td>9.3</td>\n",
       "    </tr>\n",
       "    <tr>\n",
       "      <th>3</th>\n",
       "      <td>18.5</td>\n",
       "    </tr>\n",
       "    <tr>\n",
       "      <th>4</th>\n",
       "      <td>12.9</td>\n",
       "    </tr>\n",
       "  </tbody>\n",
       "</table>\n",
       "</div>"
      ],
      "text/plain": [
       "   sales\n",
       "0   22.1\n",
       "1   10.4\n",
       "2    9.3\n",
       "3   18.5\n",
       "4   12.9"
      ]
     },
     "execution_count": 55,
     "metadata": {},
     "output_type": "execute_result"
    }
   ],
   "source": [
    "y.head()"
   ]
  },
  {
   "cell_type": "code",
   "execution_count": 56,
   "id": "0f6ea534-2d35-495f-9567-6ebb0b1a9a3e",
   "metadata": {},
   "outputs": [],
   "source": [
    "#sınama seti\n",
    "from sklearn.model_selection import train_test_split"
   ]
  },
  {
   "cell_type": "code",
   "execution_count": 57,
   "id": "2956f983-4577-47cd-96f1-baa8cf0eb315",
   "metadata": {},
   "outputs": [],
   "source": [
    "X_train, X_test, y_train, y_test=train_test_split(X,y, test_size = 0.20, random_state = 1)"
   ]
  },
  {
   "cell_type": "code",
   "execution_count": 58,
   "id": "bdcb74df-904e-46a8-af11-41b38ce834ae",
   "metadata": {},
   "outputs": [
    {
     "data": {
      "text/html": [
       "<div>\n",
       "<style scoped>\n",
       "    .dataframe tbody tr th:only-of-type {\n",
       "        vertical-align: middle;\n",
       "    }\n",
       "\n",
       "    .dataframe tbody tr th {\n",
       "        vertical-align: top;\n",
       "    }\n",
       "\n",
       "    .dataframe thead th {\n",
       "        text-align: right;\n",
       "    }\n",
       "</style>\n",
       "<table border=\"1\" class=\"dataframe\">\n",
       "  <thead>\n",
       "    <tr style=\"text-align: right;\">\n",
       "      <th></th>\n",
       "      <th>TV</th>\n",
       "      <th>radio</th>\n",
       "      <th>newspaper</th>\n",
       "    </tr>\n",
       "  </thead>\n",
       "  <tbody>\n",
       "    <tr>\n",
       "      <th>108</th>\n",
       "      <td>13.1</td>\n",
       "      <td>0.4</td>\n",
       "      <td>25.6</td>\n",
       "    </tr>\n",
       "    <tr>\n",
       "      <th>107</th>\n",
       "      <td>90.4</td>\n",
       "      <td>0.3</td>\n",
       "      <td>23.2</td>\n",
       "    </tr>\n",
       "    <tr>\n",
       "      <th>189</th>\n",
       "      <td>18.7</td>\n",
       "      <td>12.1</td>\n",
       "      <td>23.4</td>\n",
       "    </tr>\n",
       "    <tr>\n",
       "      <th>14</th>\n",
       "      <td>204.1</td>\n",
       "      <td>32.9</td>\n",
       "      <td>46.0</td>\n",
       "    </tr>\n",
       "    <tr>\n",
       "      <th>56</th>\n",
       "      <td>7.3</td>\n",
       "      <td>28.1</td>\n",
       "      <td>41.4</td>\n",
       "    </tr>\n",
       "  </tbody>\n",
       "</table>\n",
       "</div>"
      ],
      "text/plain": [
       "        TV  radio  newspaper\n",
       "108   13.1    0.4       25.6\n",
       "107   90.4    0.3       23.2\n",
       "189   18.7   12.1       23.4\n",
       "14   204.1   32.9       46.0\n",
       "56     7.3   28.1       41.4"
      ]
     },
     "execution_count": 58,
     "metadata": {},
     "output_type": "execute_result"
    }
   ],
   "source": [
    "X_train.head()"
   ]
  },
  {
   "cell_type": "code",
   "execution_count": 59,
   "id": "dbd8d0fd-c9a8-48f1-a42e-122b8ae43592",
   "metadata": {},
   "outputs": [
    {
     "data": {
      "text/html": [
       "<div>\n",
       "<style scoped>\n",
       "    .dataframe tbody tr th:only-of-type {\n",
       "        vertical-align: middle;\n",
       "    }\n",
       "\n",
       "    .dataframe tbody tr th {\n",
       "        vertical-align: top;\n",
       "    }\n",
       "\n",
       "    .dataframe thead th {\n",
       "        text-align: right;\n",
       "    }\n",
       "</style>\n",
       "<table border=\"1\" class=\"dataframe\">\n",
       "  <thead>\n",
       "    <tr style=\"text-align: right;\">\n",
       "      <th></th>\n",
       "      <th>TV</th>\n",
       "      <th>radio</th>\n",
       "      <th>newspaper</th>\n",
       "    </tr>\n",
       "  </thead>\n",
       "  <tbody>\n",
       "    <tr>\n",
       "      <th>58</th>\n",
       "      <td>210.8</td>\n",
       "      <td>49.6</td>\n",
       "      <td>37.7</td>\n",
       "    </tr>\n",
       "    <tr>\n",
       "      <th>40</th>\n",
       "      <td>202.5</td>\n",
       "      <td>22.3</td>\n",
       "      <td>31.6</td>\n",
       "    </tr>\n",
       "    <tr>\n",
       "      <th>34</th>\n",
       "      <td>95.7</td>\n",
       "      <td>1.4</td>\n",
       "      <td>7.4</td>\n",
       "    </tr>\n",
       "    <tr>\n",
       "      <th>102</th>\n",
       "      <td>280.2</td>\n",
       "      <td>10.1</td>\n",
       "      <td>21.4</td>\n",
       "    </tr>\n",
       "    <tr>\n",
       "      <th>184</th>\n",
       "      <td>253.8</td>\n",
       "      <td>21.3</td>\n",
       "      <td>30.0</td>\n",
       "    </tr>\n",
       "  </tbody>\n",
       "</table>\n",
       "</div>"
      ],
      "text/plain": [
       "        TV  radio  newspaper\n",
       "58   210.8   49.6       37.7\n",
       "40   202.5   22.3       31.6\n",
       "34    95.7    1.4        7.4\n",
       "102  280.2   10.1       21.4\n",
       "184  253.8   21.3       30.0"
      ]
     },
     "execution_count": 59,
     "metadata": {},
     "output_type": "execute_result"
    }
   ],
   "source": [
    "X_test.head()"
   ]
  },
  {
   "cell_type": "code",
   "execution_count": 60,
   "id": "0a8c9b36-d996-4df2-9a87-db90c5ab4425",
   "metadata": {},
   "outputs": [
    {
     "data": {
      "text/html": [
       "<div>\n",
       "<style scoped>\n",
       "    .dataframe tbody tr th:only-of-type {\n",
       "        vertical-align: middle;\n",
       "    }\n",
       "\n",
       "    .dataframe tbody tr th {\n",
       "        vertical-align: top;\n",
       "    }\n",
       "\n",
       "    .dataframe thead th {\n",
       "        text-align: right;\n",
       "    }\n",
       "</style>\n",
       "<table border=\"1\" class=\"dataframe\">\n",
       "  <thead>\n",
       "    <tr style=\"text-align: right;\">\n",
       "      <th></th>\n",
       "      <th>sales</th>\n",
       "    </tr>\n",
       "  </thead>\n",
       "  <tbody>\n",
       "    <tr>\n",
       "      <th>108</th>\n",
       "      <td>5.3</td>\n",
       "    </tr>\n",
       "    <tr>\n",
       "      <th>107</th>\n",
       "      <td>8.7</td>\n",
       "    </tr>\n",
       "    <tr>\n",
       "      <th>189</th>\n",
       "      <td>6.7</td>\n",
       "    </tr>\n",
       "    <tr>\n",
       "      <th>14</th>\n",
       "      <td>19.0</td>\n",
       "    </tr>\n",
       "    <tr>\n",
       "      <th>56</th>\n",
       "      <td>5.5</td>\n",
       "    </tr>\n",
       "  </tbody>\n",
       "</table>\n",
       "</div>"
      ],
      "text/plain": [
       "     sales\n",
       "108    5.3\n",
       "107    8.7\n",
       "189    6.7\n",
       "14    19.0\n",
       "56     5.5"
      ]
     },
     "execution_count": 60,
     "metadata": {},
     "output_type": "execute_result"
    }
   ],
   "source": [
    "y_train.head()"
   ]
  },
  {
   "cell_type": "code",
   "execution_count": 61,
   "id": "35782080-a309-4101-adad-62d6f0bc1049",
   "metadata": {},
   "outputs": [
    {
     "data": {
      "text/html": [
       "<div>\n",
       "<style scoped>\n",
       "    .dataframe tbody tr th:only-of-type {\n",
       "        vertical-align: middle;\n",
       "    }\n",
       "\n",
       "    .dataframe tbody tr th {\n",
       "        vertical-align: top;\n",
       "    }\n",
       "\n",
       "    .dataframe thead th {\n",
       "        text-align: right;\n",
       "    }\n",
       "</style>\n",
       "<table border=\"1\" class=\"dataframe\">\n",
       "  <thead>\n",
       "    <tr style=\"text-align: right;\">\n",
       "      <th></th>\n",
       "      <th>sales</th>\n",
       "    </tr>\n",
       "  </thead>\n",
       "  <tbody>\n",
       "    <tr>\n",
       "      <th>58</th>\n",
       "      <td>23.8</td>\n",
       "    </tr>\n",
       "    <tr>\n",
       "      <th>40</th>\n",
       "      <td>16.6</td>\n",
       "    </tr>\n",
       "    <tr>\n",
       "      <th>34</th>\n",
       "      <td>9.5</td>\n",
       "    </tr>\n",
       "    <tr>\n",
       "      <th>102</th>\n",
       "      <td>14.8</td>\n",
       "    </tr>\n",
       "    <tr>\n",
       "      <th>184</th>\n",
       "      <td>17.6</td>\n",
       "    </tr>\n",
       "  </tbody>\n",
       "</table>\n",
       "</div>"
      ],
      "text/plain": [
       "     sales\n",
       "58    23.8\n",
       "40    16.6\n",
       "34     9.5\n",
       "102   14.8\n",
       "184   17.6"
      ]
     },
     "execution_count": 61,
     "metadata": {},
     "output_type": "execute_result"
    }
   ],
   "source": [
    "y_test.head()"
   ]
  },
  {
   "cell_type": "code",
   "execution_count": 62,
   "id": "e9097202-5d4f-4fad-9ece-22b88100bee5",
   "metadata": {},
   "outputs": [],
   "source": [
    "lm = LinearRegression()\n",
    "model = lm.fit(X_train, y_train)"
   ]
  },
  {
   "cell_type": "code",
   "execution_count": 63,
   "id": "27389601-c185-475f-bf22-26ef8d027ef8",
   "metadata": {},
   "outputs": [
    {
     "data": {
      "text/plain": [
       "1.736902590147092"
      ]
     },
     "execution_count": 63,
     "metadata": {},
     "output_type": "execute_result"
    }
   ],
   "source": [
    "#eğitim hatası\n",
    "np.sqrt(mean_squared_error(y_train, model.predict(X_train)))"
   ]
  },
  {
   "cell_type": "code",
   "execution_count": 64,
   "id": "d5049193-54e5-4220-aac2-64510c2d7c6b",
   "metadata": {},
   "outputs": [
    {
     "data": {
      "text/plain": [
       "1.4113417558581582"
      ]
     },
     "execution_count": 64,
     "metadata": {},
     "output_type": "execute_result"
    }
   ],
   "source": [
    "#test hatası\n",
    "np.sqrt(mean_squared_error(y_test, model.predict(X_test)))"
   ]
  },
  {
   "cell_type": "markdown",
   "id": "ce5abe47-2b76-4d52-b77e-4ff3f2006fb3",
   "metadata": {},
   "source": [
    "#### K-katlı cv"
   ]
  },
  {
   "cell_type": "code",
   "execution_count": 65,
   "id": "0ec4a8a3-c66d-41ad-b569-d09e509181bd",
   "metadata": {},
   "outputs": [],
   "source": [
    "from sklearn.model_selection import cross_val_score"
   ]
  },
  {
   "cell_type": "code",
   "execution_count": 66,
   "id": "821fab46-a2f7-44d1-b06a-7959d1404234",
   "metadata": {},
   "outputs": [
    {
     "data": {
      "text/plain": [
       "array([-1.62375953, -3.81875608, -3.43828142, -2.27748673, -7.25325414,\n",
       "       -1.88303708, -2.80517715, -3.68594486, -1.12810834, -3.96330989])"
      ]
     },
     "execution_count": 66,
     "metadata": {},
     "output_type": "execute_result"
    }
   ],
   "source": [
    "cross_val_score(model, X_train, y_train, cv=10, scoring = \"neg_mean_squared_error\")"
   ]
  },
  {
   "cell_type": "code",
   "execution_count": 67,
   "id": "c8aaae08-1ea8-465c-8f9d-7ff1361c63bf",
   "metadata": {},
   "outputs": [
    {
     "data": {
      "text/plain": [
       "1.7854163438661466"
      ]
     },
     "execution_count": 67,
     "metadata": {},
     "output_type": "execute_result"
    }
   ],
   "source": [
    "#cv rmse\n",
    "np.sqrt(np.mean(-cross_val_score(model, X_train, y_train, cv=10, scoring = \"neg_mean_squared_error\")))"
   ]
  },
  {
   "cell_type": "markdown",
   "id": "53922898-c12f-42a6-861a-5bea68d61f79",
   "metadata": {},
   "source": [
    "## Ridge Regresyon"
   ]
  },
  {
   "cell_type": "markdown",
   "id": "d4323730-d326-490a-8f91-43b2de9eff47",
   "metadata": {},
   "source": [
    "Amaç hata kareler toplamını minimize eden katsayıları, bu katsayılara bir ceza uygulayarak bulmaktır."
   ]
  },
  {
   "cell_type": "markdown",
   "id": "c064867b-132e-4339-95c8-6b39ac618027",
   "metadata": {},
   "source": [
    "* Aşırı öğrenmeye karşı dirençli\n",
    "* Yanlıdır fakat varyansı düşüktür. (Bazen yanlı modelleri daha çok tercih ederiz)\n",
    "* Çok fazla paremetre olduğunda EKK'ya göre daha iyidir.\n",
    "* Çok boyutluluk lanetine karşı çözüm sunar\n",
    "* Çoklu doğrusal bağlantı problemi olduğunda etkilidir.(bağımsız değişkenler arasında çoklu kolesyon)(bir değişkenin tasşıdığı bilginin neredeyse aynısını başka değişken de taşır)\n",
    "* Tüm değişkenler ile model kurar. İlgisiz değişkenleri modelden çıkarmaz, katsayılarını sıfıra yaklaştırır.\n",
    "* lambda kritik roldedir. İki terimin(formüldeki) göreceli etkilerini kontrol etmeyi sağlar\n",
    "* lambda için iyi bir değer bulunması önemlidir. Bunun için CV yöntemi kullanılır"
   ]
  },
  {
   "cell_type": "markdown",
   "id": "c43eb9d9-5bf2-4840-84bb-c84ed5e902c0",
   "metadata": {},
   "source": [
    "### lambda = ayar parametresi (kullanıcı tarafından verilir)\n",
    "### beta'lar = bulunacak olan parametreler(veri setinde bulunur)\n",
    "* lambdanın sıfır olduğu yer EKK'dır. HKT'yi minimum yapan lambda'yı arıyoruz\n",
    "* lambda için belirli değerleri içeren bir küme seçilir ve her birisi için cross validatin test hatası hesaplanır\n",
    "* en küçük cv'i veren lamnbda ayar parametresi olarak seçilir\n",
    "* son olarak seçilen bu lambda ile model yeniden tüm gözlemlere fit edilir."
   ]
  },
  {
   "cell_type": "code",
   "execution_count": 68,
   "id": "0a1aee72-c46b-4866-bbc0-60cbbfc617bb",
   "metadata": {},
   "outputs": [],
   "source": [
    "import numpy as np\n",
    "import pandas as pd\n",
    "from sklearn.linear_model import Ridge\n",
    "from sklearn.metrics import mean_squared_error, r2_score\n",
    "from sklearn.model_selection import train_test_split\n",
    "from sklearn import model_selection\n",
    "import matplotlib.pyplot as plt\n",
    "from sklearn.linear_model import RidgeCV"
   ]
  },
  {
   "cell_type": "markdown",
   "id": "3265cd44-15d2-4b4f-ae5a-038954ce2bbf",
   "metadata": {},
   "source": [
    "veri seti"
   ]
  },
  {
   "cell_type": "code",
   "execution_count": 69,
   "id": "4239c11d-877d-47a1-aa41-2ec96beda332",
   "metadata": {},
   "outputs": [],
   "source": [
    "df = pd.read_csv(\"Hitters.csv\")\n",
    "\n",
    "df = df.dropna()\n",
    "\n",
    "dms = pd.get_dummies(df[['League', 'Division', 'NewLeague']]) #one-hot\n",
    "\n",
    "y = df[\"Salary\"]#bağımlı değişken\n",
    "#X_ = df.dropna(['Salary', 'League', 'Division', 'NewLeague'], axis = 1).astype('float64')\n",
    "\n",
    "remove = ['Salary', 'League', 'Division', 'NewLeague'] #kategorik değişkenler, bağımsız değişkenler\n",
    "X_= df[df.columns.difference(remove)]\n",
    "\n",
    "X = pd.concat([X_, dms[['League_N', 'Division_W', 'NewLeague_N']]], axis = 1)\n",
    "              \n",
    "X_train, X_test, y_train, y_test = train_test_split(X,\n",
    "                                                   y,\n",
    "                                                   test_size=0.25,\n",
    "                                                   random_state=42)"
   ]
  },
  {
   "cell_type": "code",
   "execution_count": 70,
   "id": "609c6ed2-7b65-429e-b55a-d28e76eadfab",
   "metadata": {},
   "outputs": [
    {
     "data": {
      "text/html": [
       "<div>\n",
       "<style scoped>\n",
       "    .dataframe tbody tr th:only-of-type {\n",
       "        vertical-align: middle;\n",
       "    }\n",
       "\n",
       "    .dataframe tbody tr th {\n",
       "        vertical-align: top;\n",
       "    }\n",
       "\n",
       "    .dataframe thead th {\n",
       "        text-align: right;\n",
       "    }\n",
       "</style>\n",
       "<table border=\"1\" class=\"dataframe\">\n",
       "  <thead>\n",
       "    <tr style=\"text-align: right;\">\n",
       "      <th></th>\n",
       "      <th>AtBat</th>\n",
       "      <th>Hits</th>\n",
       "      <th>HmRun</th>\n",
       "      <th>Runs</th>\n",
       "      <th>RBI</th>\n",
       "      <th>Walks</th>\n",
       "      <th>Years</th>\n",
       "      <th>CAtBat</th>\n",
       "      <th>CHits</th>\n",
       "      <th>CHmRun</th>\n",
       "      <th>CRuns</th>\n",
       "      <th>CRBI</th>\n",
       "      <th>CWalks</th>\n",
       "      <th>League</th>\n",
       "      <th>Division</th>\n",
       "      <th>PutOuts</th>\n",
       "      <th>Assists</th>\n",
       "      <th>Errors</th>\n",
       "      <th>Salary</th>\n",
       "      <th>NewLeague</th>\n",
       "    </tr>\n",
       "  </thead>\n",
       "  <tbody>\n",
       "    <tr>\n",
       "      <th>1</th>\n",
       "      <td>315</td>\n",
       "      <td>81</td>\n",
       "      <td>7</td>\n",
       "      <td>24</td>\n",
       "      <td>38</td>\n",
       "      <td>39</td>\n",
       "      <td>14</td>\n",
       "      <td>3449</td>\n",
       "      <td>835</td>\n",
       "      <td>69</td>\n",
       "      <td>321</td>\n",
       "      <td>414</td>\n",
       "      <td>375</td>\n",
       "      <td>N</td>\n",
       "      <td>W</td>\n",
       "      <td>632</td>\n",
       "      <td>43</td>\n",
       "      <td>10</td>\n",
       "      <td>475.0</td>\n",
       "      <td>N</td>\n",
       "    </tr>\n",
       "    <tr>\n",
       "      <th>2</th>\n",
       "      <td>479</td>\n",
       "      <td>130</td>\n",
       "      <td>18</td>\n",
       "      <td>66</td>\n",
       "      <td>72</td>\n",
       "      <td>76</td>\n",
       "      <td>3</td>\n",
       "      <td>1624</td>\n",
       "      <td>457</td>\n",
       "      <td>63</td>\n",
       "      <td>224</td>\n",
       "      <td>266</td>\n",
       "      <td>263</td>\n",
       "      <td>A</td>\n",
       "      <td>W</td>\n",
       "      <td>880</td>\n",
       "      <td>82</td>\n",
       "      <td>14</td>\n",
       "      <td>480.0</td>\n",
       "      <td>A</td>\n",
       "    </tr>\n",
       "    <tr>\n",
       "      <th>3</th>\n",
       "      <td>496</td>\n",
       "      <td>141</td>\n",
       "      <td>20</td>\n",
       "      <td>65</td>\n",
       "      <td>78</td>\n",
       "      <td>37</td>\n",
       "      <td>11</td>\n",
       "      <td>5628</td>\n",
       "      <td>1575</td>\n",
       "      <td>225</td>\n",
       "      <td>828</td>\n",
       "      <td>838</td>\n",
       "      <td>354</td>\n",
       "      <td>N</td>\n",
       "      <td>E</td>\n",
       "      <td>200</td>\n",
       "      <td>11</td>\n",
       "      <td>3</td>\n",
       "      <td>500.0</td>\n",
       "      <td>N</td>\n",
       "    </tr>\n",
       "    <tr>\n",
       "      <th>4</th>\n",
       "      <td>321</td>\n",
       "      <td>87</td>\n",
       "      <td>10</td>\n",
       "      <td>39</td>\n",
       "      <td>42</td>\n",
       "      <td>30</td>\n",
       "      <td>2</td>\n",
       "      <td>396</td>\n",
       "      <td>101</td>\n",
       "      <td>12</td>\n",
       "      <td>48</td>\n",
       "      <td>46</td>\n",
       "      <td>33</td>\n",
       "      <td>N</td>\n",
       "      <td>E</td>\n",
       "      <td>805</td>\n",
       "      <td>40</td>\n",
       "      <td>4</td>\n",
       "      <td>91.5</td>\n",
       "      <td>N</td>\n",
       "    </tr>\n",
       "    <tr>\n",
       "      <th>5</th>\n",
       "      <td>594</td>\n",
       "      <td>169</td>\n",
       "      <td>4</td>\n",
       "      <td>74</td>\n",
       "      <td>51</td>\n",
       "      <td>35</td>\n",
       "      <td>11</td>\n",
       "      <td>4408</td>\n",
       "      <td>1133</td>\n",
       "      <td>19</td>\n",
       "      <td>501</td>\n",
       "      <td>336</td>\n",
       "      <td>194</td>\n",
       "      <td>A</td>\n",
       "      <td>W</td>\n",
       "      <td>282</td>\n",
       "      <td>421</td>\n",
       "      <td>25</td>\n",
       "      <td>750.0</td>\n",
       "      <td>A</td>\n",
       "    </tr>\n",
       "  </tbody>\n",
       "</table>\n",
       "</div>"
      ],
      "text/plain": [
       "   AtBat  Hits  HmRun  Runs  RBI  Walks  Years  CAtBat  CHits  CHmRun  CRuns  \\\n",
       "1    315    81      7    24   38     39     14    3449    835      69    321   \n",
       "2    479   130     18    66   72     76      3    1624    457      63    224   \n",
       "3    496   141     20    65   78     37     11    5628   1575     225    828   \n",
       "4    321    87     10    39   42     30      2     396    101      12     48   \n",
       "5    594   169      4    74   51     35     11    4408   1133      19    501   \n",
       "\n",
       "   CRBI  CWalks League Division  PutOuts  Assists  Errors  Salary NewLeague  \n",
       "1   414     375      N        W      632       43      10   475.0         N  \n",
       "2   266     263      A        W      880       82      14   480.0         A  \n",
       "3   838     354      N        E      200       11       3   500.0         N  \n",
       "4    46      33      N        E      805       40       4    91.5         N  \n",
       "5   336     194      A        W      282      421      25   750.0         A  "
      ]
     },
     "execution_count": 70,
     "metadata": {},
     "output_type": "execute_result"
    }
   ],
   "source": [
    "df.head()"
   ]
  },
  {
   "cell_type": "code",
   "execution_count": 71,
   "id": "3810872c-6518-4239-8759-5be94b2cd482",
   "metadata": {},
   "outputs": [
    {
     "data": {
      "text/plain": [
       "(263, 20)"
      ]
     },
     "execution_count": 71,
     "metadata": {},
     "output_type": "execute_result"
    }
   ],
   "source": [
    "df.shape"
   ]
  },
  {
   "cell_type": "code",
   "execution_count": 72,
   "id": "b9499c55-8647-4c71-bc56-5b643a15206b",
   "metadata": {},
   "outputs": [],
   "source": [
    "ridge_model = Ridge(alpha =5).fit(X_train, y_train)#alpha kaysayıların başında duran parametre"
   ]
  },
  {
   "cell_type": "code",
   "execution_count": 73,
   "id": "05d5a3e1-d4a8-4d64-bc96-e8659faaa58f",
   "metadata": {},
   "outputs": [
    {
     "data": {
      "text/plain": [
       "Ridge(alpha=5)"
      ]
     },
     "execution_count": 73,
     "metadata": {},
     "output_type": "execute_result"
    }
   ],
   "source": [
    "ridge_model"
   ]
  },
  {
   "cell_type": "markdown",
   "id": "08789d9e-79f8-4e67-8caa-47d6fec91f29",
   "metadata": {},
   "source": []
  },
  {
   "cell_type": "code",
   "execution_count": null,
   "id": "f8423c65-a54c-4dd8-acca-08e94b9039a2",
   "metadata": {},
   "outputs": [],
   "source": []
  },
  {
   "cell_type": "code",
   "execution_count": 74,
   "id": "fbfa8162-22ef-4259-ab15-de653c66a261",
   "metadata": {},
   "outputs": [
    {
     "data": {
      "text/plain": [
       "array([  0.2646614 ,  -1.81040449,  -0.13033385,  -0.25425913,\n",
       "        -0.71109275,   0.77083457,   1.81452   ,  -0.6768975 ,\n",
       "        -0.36947934,   8.87872786,   7.12487047,   0.26211894,\n",
       "        -2.01162162,  -3.31713488,   5.40691525,   7.25828404,\n",
       "        76.19519054, -90.15523668, -16.00453535])"
      ]
     },
     "execution_count": 74,
     "metadata": {},
     "output_type": "execute_result"
    }
   ],
   "source": [
    "ridge_model.coef_"
   ]
  },
  {
   "cell_type": "code",
   "execution_count": 75,
   "id": "babb64b2-345e-4cb6-9153-0a7e614c6856",
   "metadata": {},
   "outputs": [
    {
     "data": {
      "text/plain": [
       "-3.4251968687165117"
      ]
     },
     "execution_count": 75,
     "metadata": {},
     "output_type": "execute_result"
    }
   ],
   "source": [
    "ridge_model.intercept_ #sabit kat sayı"
   ]
  },
  {
   "cell_type": "code",
   "execution_count": 78,
   "id": "3a8433b7-d9c7-4827-8d89-fc42af8043e4",
   "metadata": {
    "collapsed": true,
    "jupyter": {
     "outputs_hidden": true
    },
    "tags": []
   },
   "outputs": [
    {
     "data": {
      "text/plain": [
       "array([10.        ,  9.87878788,  9.75757576,  9.63636364,  9.51515152,\n",
       "        9.39393939,  9.27272727,  9.15151515,  9.03030303,  8.90909091,\n",
       "        8.78787879,  8.66666667,  8.54545455,  8.42424242,  8.3030303 ,\n",
       "        8.18181818,  8.06060606,  7.93939394,  7.81818182,  7.6969697 ,\n",
       "        7.57575758,  7.45454545,  7.33333333,  7.21212121,  7.09090909,\n",
       "        6.96969697,  6.84848485,  6.72727273,  6.60606061,  6.48484848,\n",
       "        6.36363636,  6.24242424,  6.12121212,  6.        ,  5.87878788,\n",
       "        5.75757576,  5.63636364,  5.51515152,  5.39393939,  5.27272727,\n",
       "        5.15151515,  5.03030303,  4.90909091,  4.78787879,  4.66666667,\n",
       "        4.54545455,  4.42424242,  4.3030303 ,  4.18181818,  4.06060606,\n",
       "        3.93939394,  3.81818182,  3.6969697 ,  3.57575758,  3.45454545,\n",
       "        3.33333333,  3.21212121,  3.09090909,  2.96969697,  2.84848485,\n",
       "        2.72727273,  2.60606061,  2.48484848,  2.36363636,  2.24242424,\n",
       "        2.12121212,  2.        ,  1.87878788,  1.75757576,  1.63636364,\n",
       "        1.51515152,  1.39393939,  1.27272727,  1.15151515,  1.03030303,\n",
       "        0.90909091,  0.78787879,  0.66666667,  0.54545455,  0.42424242,\n",
       "        0.3030303 ,  0.18181818,  0.06060606, -0.06060606, -0.18181818,\n",
       "       -0.3030303 , -0.42424242, -0.54545455, -0.66666667, -0.78787879,\n",
       "       -0.90909091, -1.03030303, -1.15151515, -1.27272727, -1.39393939,\n",
       "       -1.51515152, -1.63636364, -1.75757576, -1.87878788, -2.        ])"
      ]
     },
     "execution_count": 78,
     "metadata": {},
     "output_type": "execute_result"
    }
   ],
   "source": [
    "np.linspace(10,-2,100)"
   ]
  },
  {
   "cell_type": "code",
   "execution_count": 79,
   "id": "407c68eb-949c-4f9e-bb10-110831145c4c",
   "metadata": {},
   "outputs": [],
   "source": [
    "lambdalar = 10**np.linspace(10,-2,100)*0.5"
   ]
  },
  {
   "cell_type": "code",
   "execution_count": 80,
   "id": "333d371c-125a-4289-8e50-082b11f43429",
   "metadata": {
    "collapsed": true,
    "jupyter": {
     "outputs_hidden": true
    },
    "tags": []
   },
   "outputs": [
    {
     "data": {
      "text/plain": [
       "array([5.00000000e+09, 3.78231664e+09, 2.86118383e+09, 2.16438064e+09,\n",
       "       1.63727458e+09, 1.23853818e+09, 9.36908711e+08, 7.08737081e+08,\n",
       "       5.36133611e+08, 4.05565415e+08, 3.06795364e+08, 2.32079442e+08,\n",
       "       1.75559587e+08, 1.32804389e+08, 1.00461650e+08, 7.59955541e+07,\n",
       "       5.74878498e+07, 4.34874501e+07, 3.28966612e+07, 2.48851178e+07,\n",
       "       1.88246790e+07, 1.42401793e+07, 1.07721735e+07, 8.14875417e+06,\n",
       "       6.16423370e+06, 4.66301673e+06, 3.52740116e+06, 2.66834962e+06,\n",
       "       2.01850863e+06, 1.52692775e+06, 1.15506485e+06, 8.73764200e+05,\n",
       "       6.60970574e+05, 5.00000000e+05, 3.78231664e+05, 2.86118383e+05,\n",
       "       2.16438064e+05, 1.63727458e+05, 1.23853818e+05, 9.36908711e+04,\n",
       "       7.08737081e+04, 5.36133611e+04, 4.05565415e+04, 3.06795364e+04,\n",
       "       2.32079442e+04, 1.75559587e+04, 1.32804389e+04, 1.00461650e+04,\n",
       "       7.59955541e+03, 5.74878498e+03, 4.34874501e+03, 3.28966612e+03,\n",
       "       2.48851178e+03, 1.88246790e+03, 1.42401793e+03, 1.07721735e+03,\n",
       "       8.14875417e+02, 6.16423370e+02, 4.66301673e+02, 3.52740116e+02,\n",
       "       2.66834962e+02, 2.01850863e+02, 1.52692775e+02, 1.15506485e+02,\n",
       "       8.73764200e+01, 6.60970574e+01, 5.00000000e+01, 3.78231664e+01,\n",
       "       2.86118383e+01, 2.16438064e+01, 1.63727458e+01, 1.23853818e+01,\n",
       "       9.36908711e+00, 7.08737081e+00, 5.36133611e+00, 4.05565415e+00,\n",
       "       3.06795364e+00, 2.32079442e+00, 1.75559587e+00, 1.32804389e+00,\n",
       "       1.00461650e+00, 7.59955541e-01, 5.74878498e-01, 4.34874501e-01,\n",
       "       3.28966612e-01, 2.48851178e-01, 1.88246790e-01, 1.42401793e-01,\n",
       "       1.07721735e-01, 8.14875417e-02, 6.16423370e-02, 4.66301673e-02,\n",
       "       3.52740116e-02, 2.66834962e-02, 2.01850863e-02, 1.52692775e-02,\n",
       "       1.15506485e-02, 8.73764200e-03, 6.60970574e-03, 5.00000000e-03])"
      ]
     },
     "execution_count": 80,
     "metadata": {},
     "output_type": "execute_result"
    }
   ],
   "source": [
    "lambdalar"
   ]
  },
  {
   "cell_type": "code",
   "execution_count": 81,
   "id": "c9eeef24-349c-40dd-a7fe-ba31269be9af",
   "metadata": {},
   "outputs": [],
   "source": [
    "#amaç:bir yöntemle oluşturmuş olduğumuz lambda değerlerine karşı kay sayıların nasıl değişeceğine bakmak"
   ]
  },
  {
   "cell_type": "code",
   "execution_count": 82,
   "id": "0da3eb77-49a7-4bfc-bf5f-669e340bf34f",
   "metadata": {},
   "outputs": [],
   "source": [
    "ridge_model = Ridge()\n",
    "katsayilar=[]\n",
    "\n",
    "for i in lambdalar:\n",
    "    ridge_model.set_params(alpha=i)#i lambda içinde gezer ve hepsini rigde model nesnesinin alpha parametresi olarak atar\n",
    "    ridge_model.fit(X_train, y_train)\n",
    "    katsayilar.append(ridge_model.coef_) "
   ]
  },
  {
   "cell_type": "code",
   "execution_count": 83,
   "id": "1446271c-de69-460f-bfc7-65f87f35e7d1",
   "metadata": {
    "collapsed": true,
    "jupyter": {
     "outputs_hidden": true
    },
    "tags": []
   },
   "outputs": [
    {
     "data": {
      "text/plain": [
       "[array([ 1.54040667e-04,  1.08705828e-03,  1.78978518e-02,  5.28448603e-03,\n",
       "         6.33684784e-04,  2.70578331e-03,  2.78574434e-03,  1.95710128e-03,\n",
       "         2.97933111e-06,  3.59972026e-04,  5.52181027e-05,  1.87423190e-03,\n",
       "         1.96696069e-04,  1.92813177e-04,  1.59478501e-04,  2.78199599e-05,\n",
       "         2.39984989e-07, -1.51804510e-06,  3.31089982e-07]),\n",
       " array([ 2.00411447e-04,  1.41677983e-03,  2.22675231e-02,  6.58971645e-03,\n",
       "         7.96723486e-04,  3.38849662e-03,  3.48283639e-03,  2.44474193e-03,\n",
       "         4.05879985e-06,  4.69820454e-04,  7.18242293e-05,  2.46055074e-03,\n",
       "         2.55763476e-04,  2.52218183e-04,  2.07728851e-04,  3.41731833e-05,\n",
       "         3.06791363e-07, -2.00697735e-06,  4.22750663e-07]),\n",
       " array([ 2.59998767e-04,  1.84180994e-03,  2.73092348e-02,  8.10613246e-03,\n",
       "         9.90615632e-04,  4.19154557e-03,  4.29892819e-03,  3.01420413e-03,\n",
       "         5.54696646e-06,  6.11797854e-04,  9.31516430e-05,  3.22598807e-03,\n",
       "         3.31574150e-04,  3.29313865e-04,  2.69862282e-04,  4.11993224e-05,\n",
       "         3.89590845e-07, -2.65335139e-06,  5.35999686e-07]),\n",
       " array([ 3.36365620e-04,  2.38835573e-03,  3.29487297e-02,  9.81901671e-03,\n",
       "         1.21671761e-03,  5.11427511e-03,  5.23061273e-03,  3.66208312e-03,\n",
       "         7.59686227e-06,  7.94911180e-04,  1.20464748e-04,  4.22364586e-03,\n",
       "         4.28587877e-04,  4.29197870e-04,  3.49672945e-04,  4.85735865e-05,\n",
       "         4.91353840e-07, -3.50777634e-06,  6.74604224e-07]),\n",
       " array([ 4.34090225e-04,  3.09009626e-03,  3.90401495e-02,  1.16953022e-02,\n",
       "         1.47539158e-03,  6.14928402e-03,  6.26651564e-03,  4.37897884e-03,\n",
       "         1.04109479e-05,  1.03077807e-03,  1.55382775e-04,  5.52205602e-03,\n",
       "         5.52508877e-04,  5.58473604e-04,  4.52038103e-04,  5.57795062e-05,\n",
       "         6.15653427e-07, -4.63702970e-06,  8.42961127e-07]),\n",
       " array([ 5.59142468e-04,  3.99078636e-03,  4.53725039e-02,  1.36860237e-02,\n",
       "         1.76653067e-03,  7.28417751e-03,  7.38894131e-03,  5.15056825e-03,\n",
       "         1.42511133e-05,  1.33452564e-03,  2.00008537e-04,  7.20959605e-03,\n",
       "         7.10738029e-04,  7.25754223e-04,  5.83304802e-04,  6.21041602e-05,\n",
       "         7.67085867e-07, -6.12914603e-06,  1.04655631e-06]),\n",
       " array([ 7.19400260e-04,  5.14774210e-03,  5.16922252e-02,  1.57335162e-02,\n",
       "         2.09064895e-03,  8.50573034e-03,  8.57804087e-03,  5.96044306e-03,\n",
       "         1.94483594e-05,  1.72599105e-03,  2.57103265e-04,  9.39987293e-03,\n",
       "         9.12986699e-04,  9.42329790e-04,  7.51813035e-04,  6.66592521e-05,\n",
       "         9.51936629e-07, -8.10006447e-06,  1.29268236e-06]),\n",
       " array([ 9.25318808e-04,  6.63625037e-03,  5.77371815e-02,  1.77820817e-02,\n",
       "         2.45041949e-03,  9.80588055e-03,  9.81789688e-03,  6.79427058e-03,\n",
       "         2.64114755e-05,  2.23124851e-03,  3.30309746e-04,  1.22378921e-02,\n",
       "         1.17205779e-03,  1.22301529e-03,  9.68565766e-04,  6.84187693e-05,\n",
       "         1.17910270e-06, -1.07022908e-05,  1.59137023e-06]),\n",
       " array([ 1.19075375e-03,  8.55483745e-03,  6.32720806e-02,  1.97893052e-02,\n",
       "         2.85238338e-03,  1.11882336e-02,  1.11031502e-02,  7.64428385e-03,\n",
       "         3.56332379e-05,  2.88445935e-03,  4.24420527e-04,  1.59064960e-02,\n",
       "         1.50477879e-03,  1.58718502e-03,  1.24804330e-03,  6.62540589e-05,\n",
       "         1.46126190e-06, -1.41361477e-05,  1.95642271e-06]),\n",
       " array([ 1.53393253e-03,  1.10312454e-02,  6.81144258e-02,  2.17349754e-02,\n",
       "         3.30852528e-03,  1.26736367e-02,  1.24446956e-02,  8.51303131e-03,\n",
       "         4.76905218e-05,  3.73002061e-03,  5.45684591e-04,  2.06320735e-02,\n",
       "         1.93305764e-03,  2.05998878e-03,  1.60915216e-03,  5.89463545e-05,\n",
       "         1.81630840e-06, -1.86643235e-05,  2.40641302e-06]),\n",
       " array([ 1.97856321e-03,  1.42288809e-02,  7.21446369e-02,  2.36258289e-02,\n",
       "         3.83753128e-03,  1.43039512e-02,  1.38736179e-02,  9.41577138e-03,\n",
       "         6.32307599e-05,  4.82496917e-03,  7.02143825e-04,  2.66878486e-02,\n",
       "         2.48502252e-03,  2.67373455e-03,  2.07629541e-03,  4.51663040e-05,\n",
       "         2.26916665e-06, -2.46305879e-05,  2.96553891e-06]),\n",
       " array([ 2.55505046e-03,  1.83533492e-02,  7.53005841e-02,  2.54962052e-02,\n",
       "         4.46571897e-03,  1.61439894e-02,  1.54434962e-02,  1.03815693e-02,\n",
       "         8.29312258e-05,  6.24156186e-03,  9.03986475e-04,  3.43920784e-02,\n",
       "         3.19618820e-03,  3.46940075e-03,  2.68054308e-03,  2.34244013e-05,\n",
       "         2.85425312e-06, -3.24837353e-05,  3.66428247e-06]),\n",
       " array([ 3.30173084e-03,  2.36583931e-02,  7.75617205e-02,  2.74060905e-02,\n",
       "         5.22774181e-03,  1.82821668e-02,  1.72319022e-02,  1.14536429e-02,\n",
       "         1.07409746e-04,  8.06987606e-03,  1.16389452e-03,  4.40972790e-02,\n",
       "         4.11055071e-03,  4.49819833e-03,  3.46085782e-03, -7.99178240e-06,\n",
       "         3.61908966e-06, -4.28080520e-05,  4.53991031e-06]),\n",
       " array([ 4.26591900e-03,  3.04501016e-02,  7.89293976e-02,  2.94384183e-02,\n",
       "         6.16716441e-03,  2.08305107e-02,  1.93421004e-02,  1.26896156e-02,\n",
       "         1.37056133e-04,  1.04201578e-02,  1.49734514e-03,  5.61654836e-02,\n",
       "         5.28144612e-03,  5.82303756e-03,  4.46529082e-03, -5.10715931e-05,\n",
       "         4.62994572e-06, -5.63619514e-05,  5.63701574e-06]),\n",
       " array([ 5.50434864e-03,  3.90877335e-02,  7.94085363e-02,  3.16971295e-02,\n",
       "         7.33690583e-03,  2.39243876e-02,  2.19057141e-02,  1.41621442e-02,\n",
       "         1.71744357e-04,  1.34245129e-02,  1.92280724e-03,  7.09243460e-02,\n",
       "         6.77193714e-03,  7.51967840e-03,  5.75201908e-03, -1.08103747e-04,\n",
       "         5.98103051e-06, -7.41269482e-05,  7.00870479e-06]),\n",
       " array([ 7.08228283e-03,  4.99790908e-02,  7.89933590e-02,  3.43069156e-02,\n",
       "         8.79941161e-03,  2.77219584e-02,  2.50867048e-02,  1.59600508e-02,\n",
       "         2.10379504e-04,  1.72374527e-02,  2.46176162e-03,  8.86010366e-02,\n",
       "         8.65444650e-03,  9.67728453e-03,  7.39007141e-03, -1.81647005e-04,\n",
       "         7.80986903e-06, -9.73700195e-05,  8.71990580e-06]),\n",
       " array([ 9.07018129e-03,  6.35683184e-02,  7.76577086e-02,  3.74152151e-02,\n",
       "         1.06262815e-02,  3.24031662e-02,  2.90865964e-02,  1.81897361e-02,\n",
       "         2.50236073e-04,  2.20348389e-02,  3.13847615e-03,  1.09236939e-01,\n",
       "         1.10093810e-02,  1.23980931e-02,  9.45961578e-03, -2.74433813e-04,\n",
       "         1.03233178e-05, -1.27723784e-04,  1.08559283e-05]),\n",
       " array([ 1.15364715e-02,  8.03144193e-02,  7.53491228e-02,  4.11970425e-02,\n",
       "         1.28969399e-02,  3.81680540e-02,  3.41504870e-02,  2.09762607e-02,\n",
       "         2.86060551e-04,  2.80109646e-02,  3.97948810e-03,  1.32596777e-01,\n",
       "         1.39225986e-02,  1.57959666e-02,  1.20517651e-02, -3.89198631e-04,\n",
       "         1.38414001e-05, -1.67290929e-04,  1.35420021e-05]),\n",
       " array([ 1.45349889e-02,  1.00659415e-01,  7.19852765e-02,  4.58634610e-02,\n",
       "         1.56957180e-02,  4.52341750e-02,  4.05729409e-02,  2.44629669e-02,\n",
       "         3.08943729e-04,  3.53737763e-02,  5.01276201e-03,  1.58098532e-01,\n",
       "         1.74817046e-02,  1.99936664e-02,  1.52679591e-02, -5.28428627e-04,\n",
       "         1.88697449e-05, -2.18781763e-04,  1.69829249e-05]),\n",
       " array([ 1.80865855e-02,  1.24985300e-01,  6.74515998e-02,  5.16745666e-02,\n",
       "         1.91063111e-02,  5.38323815e-02,  4.87021870e-02,  2.88077603e-02,\n",
       "         3.05013003e-04,  4.43383743e-02,  6.26646135e-03,  1.84798490e-01,\n",
       "         2.17711724e-02,  2.51186578e-02,  1.92189991e-02, -6.94031851e-04,\n",
       "         2.62154267e-05, -2.85696212e-04,  2.15353352e-05]),\n",
       " array([ 2.21569148e-02,  1.53558197e-01,  6.15998145e-02,  5.89572171e-02,\n",
       "         2.32019817e-02,  6.41990135e-02,  5.89401216e-02,  3.41732141e-02,\n",
       "         2.54044649e-04,  5.51187291e-02,  7.76715884e-03,  2.11459552e-01,\n",
       "         2.68660409e-02,  3.12970555e-02,  2.40236617e-02, -8.86898780e-04,\n",
       "         3.71643214e-05, -3.72563522e-04,  2.78270230e-05]),\n",
       " array([ 2.66367239e-02,  1.86457341e-01,  5.42486226e-02,  6.81259518e-02,\n",
       "         2.80294254e-02,  7.65608732e-02,  7.17346292e-02,  4.07069956e-02,\n",
       "         1.28145040e-04,  6.79172663e-02,  9.53716658e-03,  2.36706263e-01,\n",
       "         3.28235831e-02,  3.86451070e-02,  2.98066321e-02, -1.10629915e-03,\n",
       "         5.37390333e-05, -4.85254784e-04,  3.69363946e-05]),\n",
       " array([ 3.13359801e-02,  2.23488679e-01,  4.51891944e-02,  7.97025208e-02,\n",
       "         3.35848087e-02,  9.11090818e-02,  8.75603655e-02,  4.85098565e-02,\n",
       "        -1.09311057e-04,  8.29124771e-02,  1.15906901e-02,  2.59234910e-01,\n",
       "         3.96724511e-02,  4.72579656e-02,  3.66957155e-02, -1.34902777e-03,\n",
       "         7.90531634e-05, -6.31387074e-04,  5.06394947e-05]),\n",
       " array([ 3.60055069e-02,  2.64091406e-01,  3.41983905e-02,  9.43255889e-02,\n",
       "         3.97832322e-02,  1.07961438e-01,  1.06885319e-01,  5.75920571e-02,\n",
       "        -5.04310897e-04,  1.00247072e-01,  1.39289695e-02,  2.78020879e-01,\n",
       "         4.74001434e-02,  5.71971039e-02,  4.48194982e-02, -1.60821935e-03,\n",
       "         1.17769153e-04, -8.20846578e-04,  7.17218276e-05]),\n",
       " array([ 4.03947313e-02,  3.07259930e-01,  2.10611519e-02,  1.12738462e-01,\n",
       "         4.64280598e-02,  1.27121136e-01,  1.30123747e-01,  6.78260905e-02,\n",
       "        -1.11239332e-03,  1.20023291e-01,  1.65355470e-02,  2.92464684e-01,\n",
       "         5.59422985e-02,  6.84805408e-02,  5.43089014e-02, -1.87179996e-03,\n",
       "         1.76654795e-04, -1.06647321e-03,  1.04339598e-04]),\n",
       " array([ 4.43389399e-02,  3.51515911e-01,  5.60078488e-03,  1.35740789e-01,\n",
       "         5.31920946e-02,  1.48449082e-01,  1.57580614e-01,  7.89114962e-02,\n",
       "        -1.99879194e-03,  1.42315715e-01,  1.93739007e-02,  3.02442388e-01,\n",
       "         6.51800228e-02,  8.10827983e-02,  6.53084038e-02, -2.12059533e-03,\n",
       "         2.65224510e-04, -1.38496929e-03,  1.54405607e-04]),\n",
       " array([ 4.78484595e-02,  3.94963670e-01, -1.22861853e-02,  1.64092518e-01,\n",
       "         5.96238619e-02,  1.71669244e-01,  1.89396119e-01,  9.03706006e-02,\n",
       "        -3.23949414e-03,  1.67212044e-01,  2.23900744e-02,  3.08260068e-01,\n",
       "         7.49518524e-02,  9.49519148e-02,  7.80032771e-02, -2.32611607e-03,\n",
       "         3.96457704e-04, -1.79811559e-03,  2.29979158e-04]),\n",
       " array([ 5.11581599e-02,  4.35440787e-01, -3.25937122e-02,  1.98367303e-01,\n",
       "         6.51849964e-02,  1.96414281e-01,  2.25498900e-01,  1.01586618e-01,\n",
       "        -4.92458797e-03,  1.94886967e-01,  2.55218451e-02,  3.10538783e-01,\n",
       "         8.50833041e-02,  1.10047299e-01,  9.26665587e-02, -2.44796656e-03,\n",
       "         5.87619775e-04, -2.33439666e-03,  3.41667593e-04]),\n",
       " array([ 0.05470242,  0.4707398 , -0.05516994,  0.23876852,  0.06931006,\n",
       "         0.2222951 ,  0.26557372,  0.11187863, -0.00716513,  0.22570501,\n",
       "         0.02871347,  0.31006874,  0.09542999,  0.12639534,  0.10972413,\n",
       "        -0.00243074,  0.00086127, -0.00303116,  0.0005031 ]),\n",
       " array([ 0.05901068,  0.49884358, -0.07968271,  0.28494095,  0.07146667,\n",
       "         0.24895963,  0.30904807,  0.12059091, -0.01010398,  0.26033979,\n",
       "         0.03193236,  0.30767017,  0.10592353,  0.14415252,  0.12983066,\n",
       "        -0.00220023,  0.00124662, -0.00393745,  0.0007316 ]),\n",
       " array([ 0.06455753,  0.51810441, -0.10559393,  0.33582833,  0.07119222,\n",
       "         0.27611091,  0.35510609,  0.12716769, -0.01392994,  0.29989425,\n",
       "         0.03518278,  0.30408785,  0.11660696,  0.16366201,  0.15394607,\n",
       "        -0.00165906,  0.00178144, -0.00511776,  0.00104922]),\n",
       " array([ 0.07162596,  0.52731238, -0.13215709,  0.38963232,  0.06809583,\n",
       "         0.30348383,  0.40274434,  0.13119077, -0.01889366,  0.34600997,\n",
       "         0.0385126 ,  0.29993061,  0.1276497 ,  0.18549005,  0.18340272,\n",
       "        -0.00068181,  0.00251475, -0.0066569 ,  0.00148436]),\n",
       " array([ 0.08023781,  0.52563557, -0.15845442,  0.44391197,  0.06183284,\n",
       "         0.33080995,  0.45088281,  0.13237205, -0.02532345,  0.40096129,\n",
       "         0.04201125,  0.2956528 ,  0.13933819,  0.21043195,  0.21995563,\n",
       "         0.00088985,  0.00351064, -0.00866639,  0.00207418]),\n",
       " array([ 0.09017435,  0.51245689, -0.18347884,  0.49582229,  0.05207147,\n",
       "         0.35780758,  0.49852755,  0.13050722, -0.03363913,  0.46773416,\n",
       "         0.04579935,  0.29156508,  0.15204364,  0.23947869,  0.26581035,\n",
       "         0.00325215,  0.00485343, -0.01129272,  0.00286803]),\n",
       " array([ 0.10106927,  0.48716485, -0.20624638,  0.54243844,  0.03847238,\n",
       "         0.38421156,  0.54495307,  0.1254093 , -0.04436196,  0.55008855,\n",
       "         0.05001106,  0.28786002,  0.16616941,  0.27373331,  0.32362115,\n",
       "         0.00664439,  0.00665481, -0.01472784,  0.00393228]),\n",
       " array([ 0.11252912,  0.4489693 , -0.22590778,  0.58107838,  0.02069636,\n",
       "         0.40982593,  0.58985146,  0.11684682, -0.05811777,  0.65259294,\n",
       "         0.0547705 ,  0.28464147,  0.18207896,  0.31425899,  0.39644748,\n",
       "         0.01135508,  0.00906349, -0.01922258,  0.00535701]),\n",
       " array([ 0.12423297,  0.3968063 , -0.24182798,  0.60954426, -0.00155238,\n",
       "         0.4345655 ,  0.63339787,  0.10451029, -0.07562832,  0.78060342,\n",
       "         0.06016408,  0.28195087,  0.20000384,  0.36183375,  0.48764781,\n",
       "         0.01772912,  0.01227822, -0.02510361,  0.00726512]),\n",
       " array([ 0.13598169,  0.32937467, -0.25361874,  0.62624781, -0.02844544,\n",
       "         0.45845871,  0.67621095,  0.0880216 , -0.09768359,  0.9401416 ,\n",
       "         0.06621354,  0.27978824,  0.21993467,  0.41658487,  0.60068406,\n",
       "         0.02617569,  0.01656543, -0.03279487,  0.00982478]),\n",
       " array([ 0.1476926 ,  0.24531948, -0.2611302 ,  0.63023671, -0.05991964,\n",
       "         0.48160498,  0.71922379,  0.06698821, -0.12508529,  1.13761151,\n",
       "         0.07286178,  0.27812741,  0.2415094 ,  0.4774922 ,  0.73881463,\n",
       "         0.03717582,  0.02228264, -0.04284536,  0.01326611]),\n",
       " array([ 0.15935413,  0.1435482 , -0.26442052,  0.62116703, -0.0955613 ,\n",
       "         0.50410208,  0.76350787,  0.04109169, -0.15855204,  1.37929734,\n",
       "         0.07999484,  0.27692596,  0.26393219,  0.54179368,  0.90467818,\n",
       "         0.05128863,  0.02990935, -0.05596537,  0.0179032 ]),\n",
       " array([ 0.17096354,  0.02363255, -0.26372195,  0.59926001, -0.13453482,\n",
       "         0.52597367,  0.81009977,  0.01019011, -0.19858115,  1.67061387,\n",
       "         0.08753565,  0.27613096,  0.28597299,  0.60440494,  1.09981641,\n",
       "         0.06915608,  0.04008731, -0.07307487,  0.0241626 ]),\n",
       " array([ 0.18246959, -0.11378671, -0.2594123 ,  0.56525502, -0.17562381,\n",
       "         0.54713291,  0.85987142, -0.02559235, -0.2452718 ,  2.01514908,\n",
       "         0.09564972,  0.27568181,  0.30609314,  0.65756367,  1.32423652,\n",
       "         0.0915081 ,  0.05367214, -0.09536904,  0.0326191 ]),\n",
       " array([ 0.19373753, -0.26670385, -0.25199043,  0.52034556, -0.21743938,\n",
       "         0.56741057,  0.91346331, -0.06581575, -0.29813006,  2.41363844,\n",
       "         0.10508862,  0.27551143,  0.32269376,  0.69098126,  1.57613996,\n",
       "         0.11917122,  0.07179912, -0.12440747,  0.04403999]),\n",
       " array([ 0.20454612, -0.43167285, -0.24204868,  0.46608227, -0.25878513,\n",
       "         0.58665136,  0.97127119, -0.10973206, -0.35589354,  2.86310628,\n",
       "         0.11765572,  0.2755476 ,  0.33439715,  0.6927572 ,  1.85191019,\n",
       "         0.15308516,  0.09596621, -0.16223522,  0.05943915]),\n",
       " array([ 0.21461709, -0.6040179 , -0.23023687,  0.40424807, -0.29906764,\n",
       "         0.60484538,  1.03344795, -0.15634765, -0.41642724,  3.35644666,\n",
       "         0.13671717,  0.27571572,  0.34019682,  0.65112408,  2.14635766,\n",
       "         0.19433224,  0.12813948, -0.21154533,  0.0801436 ]),\n",
       " array([ 0.2236679 , -0.77830722, -0.21721953,  0.33673633, -0.3385693 ,\n",
       "         0.62223123,  1.09987502, -0.20451768, -0.47674786,  3.88264504,\n",
       "         0.16761906,  0.27594368,  0.33933019,  0.55675758,  2.45312403,\n",
       "         0.24418475,  0.17088798, -0.27589485,  0.10787726]),\n",
       " array([ 0.23147139, -0.94897769, -0.20363305,  0.26546633, -0.37843093,\n",
       "         0.63931124,  1.17008688, -0.25304248, -0.53322691,  4.42767568,\n",
       "         0.21783329,  0.27616801,  0.33087526,  0.40503507,  2.76512455,\n",
       "         0.30417652,  0.22755856, -0.35998977,  0.14486916]),\n",
       " array([ 0.23790421, -1.11095288, -0.19005043,  0.19234109, -0.42032842,\n",
       "         0.65676164,  1.24318757, -0.30074808, -0.58199675,  4.97592285,\n",
       "         0.29665745,  0.27633977,  0.31327399,  0.19746729,  3.07497739,\n",
       "         0.37620355,  0.3025042 , -0.47005898,  0.19399524]),\n",
       " array([ 0.24297057, -1.26011918, -0.17695715,  0.11921725, -0.46597955,\n",
       "         0.67527456,  1.31783559, -0.34655253, -0.61952664,  5.51184871,\n",
       "         0.4143498 ,  0.27642815,  0.28409378, -0.05827957,  3.37545591,\n",
       "         0.46264872,  0.40138114, -0.61434165,  0.25896264]),\n",
       " array([ 0.24679657, -1.39359306, -0.16473766,  0.04784951, -0.51667315,\n",
       "         0.69539447,  1.39235321, -0.389528  , -0.64325304,  6.02159062,\n",
       "         0.58069505,  0.27642056,  0.24025666, -0.34983106,  3.66000488,\n",
       "         0.56650459,  0.5315299 , -0.80371445,  0.34454253]),\n",
       " array([ 0.24959917, -1.5097815 , -0.15367066, -0.02019658, -0.57295067,\n",
       "         0.71739679,  1.46494569, -0.42895941, -0.6520776 ,  6.49419307,\n",
       "         0.80316402,  0.27631954,  0.17873841, -0.66248462,  3.9232733 ,\n",
       "         0.69144007,  0.70245206, -1.05248262,  0.45685054]),\n",
       " array([ 0.2516403 , -1.60827968, -0.14393249, -0.08363246, -0.63446354,\n",
       "         0.74122336,  1.5339501 , -0.46438666, -0.64655042,  6.92225972,\n",
       "         1.0850129 ,  0.2761376 ,  0.09750881, -0.98166033,  4.16152392,\n",
       "         0.84173537,  0.92638753, -1.37935217,  0.60366354]),\n",
       " array([ 2.53178738e-01, -1.68966187e+00, -1.35608227e-01, -1.41494723e-01,\n",
       "        -6.99968600e-01,  7.66468354e-01,  1.59802280e+00, -4.95614137e-01,\n",
       "        -6.28664546e-01,  7.30195969e+00,  1.42381149e+00,  2.75891667e-01,\n",
       "        -3.62900944e-03, -1.29468666e+00,  4.37278186e+00,  1.02201054e+00,\n",
       "         1.21898388e+00, -1.80858680e+00,  7.94743507e-01]),\n",
       " array([ 0.25443116, -1.75521934, -0.12870825, -0.19313812, -0.76742926,\n",
       "         0.79240809,  1.65621877, -0.52268312, -0.60134741,  7.63250922,\n",
       "         1.810921  ,  0.27559826, -0.12260881, -1.59163889,  4.55668845,\n",
       "         1.23670227,  1.60002415, -2.37132894,  1.04210968]),\n",
       " array([ 0.25554995, -1.80669081, -0.12318631, -0.23819186, -0.83422019,\n",
       "         0.81807576,  1.70797608, -0.54581766, -0.56784719,  7.91538656,\n",
       "         2.23228563,  0.27526998, -0.25524844, -1.86540884,  4.71414786,\n",
       "         1.4893048 ,  2.09413745, -3.10702231,  1.36015201]),\n",
       " array([ 0.25661944, -1.8460197 , -0.11895504, -0.2765114 , -0.89743421,\n",
       "         0.84237965,  1.75305172, -0.56536284, -0.53121227,  8.15355087,\n",
       "         2.67052913,  0.27491346, -0.39594744, -2.11139641,  4.84691116,\n",
       "         1.7814807 ,  2.73135033, -4.06480085,  1.76540696]),\n",
       " array([ 0.2576669 , -1.87515919, -0.115897  , -0.30814612, -0.95425156,\n",
       "         0.8642477 ,  1.79145062, -0.58173065, -0.49397252,  8.35083325,\n",
       "         3.107865  ,  0.27452851, -0.53872158, -2.32714395,  4.95721543,\n",
       "         2.11225087,  3.5472491 , -5.30458807,  2.27572284]),\n",
       " array([ 0.25868123, -1.89593262, -0.11387258, -0.33332037, -1.00228798,\n",
       "         0.88276469,  1.82336571, -0.59535973, -0.45802465,  8.51152795,\n",
       "         3.52898445,  0.27410836, -0.67825363, -2.51203537,  5.04752698,\n",
       "         2.47754217,  4.5824306 , -6.89746573,  2.9084461 ]),\n",
       " array([ 0.25963217, -1.90994639, -0.11272745, -0.3524116 , -1.03983364,\n",
       "         0.89726768,  1.84912635, -0.60668768, -0.42465708,  8.64011983,\n",
       "         3.92310473,  0.2736409 , -0.81066339, -2.66702658,  5.12038018,\n",
       "         2.87033297,  5.88086742, -8.92461954,  3.67721061]),\n",
       " array([  0.26048537,  -1.9185465 ,  -0.11230164,  -0.36591278,\n",
       "         -1.06594   ,   0.90738272,   1.86914816,  -0.61613119,\n",
       "         -0.39463809,   8.74107098,   4.28473642,   0.27311095,\n",
       "         -0.9338395 ,  -2.79433964,   5.17828063,   3.28144629,\n",
       "          7.48688573, -11.47390082,   4.58699972]),\n",
       " array([  0.26121161,  -1.92280945,  -0.11244021,  -0.3743809 ,\n",
       "         -1.08037534,   0.91301087,   1.88388412,  -0.62407042,\n",
       "         -0.36831577,   8.81862902,   4.61322124,   0.27250335,\n",
       "         -1.0473443 ,  -2.89710054,   5.22364529,   3.70075885,\n",
       "          9.44075517, -14.63288659,   5.62749321]),\n",
       " array([  0.26179136,  -1.92356056,  -0.11300313,  -0.37838604,\n",
       "         -1.08351161,   0.9142872 ,   1.89378531,  -0.63083652,\n",
       "         -0.34571301,   8.87666466,   4.91143543,   0.27180653,\n",
       "         -1.15201594,  -2.97895449,   5.25876301,   4.1183964 ,\n",
       "         11.77349146, -18.47751473,   6.76539754]),\n",
       " array([  0.26221639,  -1.92141509,  -0.11387199,  -0.37847759,\n",
       "         -1.07620488,   0.9115363 ,   1.89928279,  -0.63670275,\n",
       "         -0.32662596,   8.91856616,   5.18414497,   0.2710162 ,\n",
       "         -1.24942102,  -3.04370749,   5.28576369,   4.52552842,\n",
       "         14.50228148, -23.05623072,   7.93741531]),\n",
       " array([  0.26249027,  -1.9168372 ,  -0.11495231,  -0.37517654,\n",
       "         -1.05970019,   0.90523597,   1.90079754,  -0.64188083,\n",
       "         -0.31073979,   8.94720973,   5.43641484,   0.2701382 ,\n",
       "         -1.34128685,  -3.09502361,   5.3065845 ,   4.91465054,\n",
       "         17.62856776, -28.37133375,   9.04636776]),\n",
       " array([  0.2626287 ,  -1.91020764,  -0.11617225,  -0.3689901 ,\n",
       "         -1.03555364,   0.89598626,   1.8987753 ,  -0.64652367,\n",
       "         -0.29776325,   8.96500212,   5.67234167,   0.26918984,\n",
       "         -1.42900845,  -3.13618385,   5.322925  ,   5.27955004,\n",
       "         21.14061583, -34.36165434,   9.96309192]),\n",
       " array([  0.2626597 ,  -1.9018865 ,  -0.11747948,  -0.36043415,\n",
       "         -1.00554354,   0.88447345,   1.89373069,  -0.65073445,\n",
       "         -0.28756179,   8.97396885,   5.89427279,   0.26819911,\n",
       "         -1.51330506,  -3.1699073 ,   5.33619318,   5.61526783,\n",
       "         25.02082282, -40.89283183,  10.53556402]),\n",
       " array([  0.26262266,  -1.8922552 ,  -0.11883796,  -0.35004602,\n",
       "         -0.97154793,   0.87142105,   1.8862764 ,  -0.65458032,\n",
       "         -0.28024984,   8.97585015,   6.10259019,   0.26720152,\n",
       "         -1.59408394,  -3.19824669,   5.34745951,   5.91823878,\n",
       "         29.25541136, -47.76155677,  10.6044871 ]),\n",
       " array([  0.26256519,  -1.88172685,  -0.12022504,  -0.33837543,\n",
       "         -0.93539098,   0.85752944,   1.87711554,  -0.65810715,\n",
       "         -0.27620138,   8.9721717 ,   6.29603819,   0.26623519,\n",
       "         -1.67053515,  -3.22257863,   5.35744342,   6.18654873,\n",
       "         33.84186587, -54.71675408,  10.02251324]),\n",
       " array([  0.26253754,  -1.87072564,  -0.12162856,  -0.3259544 ,\n",
       "         -0.89868802,   0.84341625,   1.86699113,  -0.66135151,\n",
       "         -0.27596038,   8.96427673,   6.47244819,   0.2653354 ,\n",
       "         -1.74141952,  -3.24369538,   5.36654802,   6.42009476,\n",
       "         38.78918874, -61.4943233 ,   8.673658  ]),\n",
       " array([  0.26258525,  -1.85964908,  -0.12304314,  -0.3132593 ,\n",
       "         -0.86273123,   0.82957352,   1.85660844,  -0.6643471 ,\n",
       "         -0.28006946,   8.95332991,   6.62960686,   0.26452985,\n",
       "         -1.80544929,  -3.26197325,   5.37493759,   6.62047039,\n",
       "         44.10843684, -67.8558909 ,   6.49041872]),\n",
       " array([  0.26274191,  -1.8488328 ,  -0.12446563,  -0.30068277,\n",
       "         -0.82844672,   0.81635288,   1.84655905,  -0.66712531,\n",
       "         -0.28886809,   8.94031682,   6.76599454,   0.26383594,\n",
       "         -1.86163425,  -3.27756575,   5.38263336,   6.79055551,\n",
       "         49.79512404, -73.62002534,   3.46727923]),\n",
       " array([  0.26302387,  -1.83853302,  -0.12589019,  -0.28852654,\n",
       "         -0.79642622,   0.80397943,   1.83727272,  -0.66971175,\n",
       "         -0.3023224 ,   8.92605782,   6.88120801,   0.26326004,\n",
       "         -1.90949634,  -3.29056742,   5.38959863,   6.93393754,\n",
       "         55.80914591, -78.67794982,  -0.33080214]),\n",
       " array([  0.26342829,  -1.82892927,  -0.12730447,  -0.27701409,\n",
       "         -0.76700798,   0.7925838 ,   1.82900728,  -0.67212183,\n",
       "         -0.31993817,   8.91123827,   6.97602686,   0.26279885,\n",
       "         -1.94912136,  -3.30111624,   5.3957956 ,   7.05434244,\n",
       "         62.06019241, -82.99251808,  -4.76760501]),\n",
       " array([  0.26393489,  -1.82013957,  -0.12868815,  -0.26631147,\n",
       "         -0.74036794,   0.78223736,   1.82187009,  -0.6743585 ,\n",
       "         -0.34078382,   8.89644106,   7.05220527,   0.26244179,\n",
       "         -1.98107762,  -3.30943185,   5.40121196,   7.15521511,\n",
       "         68.40592996, -86.58497542,  -9.64589406]),\n",
       " array([  0.26451098,  -1.81223659,  -0.13001458,  -0.25654371,\n",
       "         -0.71658759,   0.77297757,   1.81585603,  -0.67641368,\n",
       "         -0.36361883,   8.88216502,   7.11212329,   0.26217392,\n",
       "         -2.00626147,  -3.31580617,   5.40586611,   7.23950667,\n",
       "         74.66612748, -89.51629481, -14.73005735]),\n",
       " array([  0.26511835,  -1.80525773,  -0.13125507,  -0.24780017,\n",
       "         -0.6956852 ,   0.76481873,   1.81088769,  -0.67827327,\n",
       "         -0.38709127,   8.86882244,   7.15842076,   0.26197859,\n",
       "         -2.02572792,  -3.32056982,   5.40980189,   7.30964794,\n",
       "         80.64955348, -91.86889443, -19.77787797]),\n",
       " array([  0.2657202 ,  -1.79920825,  -0.13238414,  -0.240131  ,\n",
       "         -0.6776179 ,   0.75775145,   1.80684908,  -0.67992366,\n",
       "         -0.40994665,   8.85672296,   7.19369451,   0.26183963,\n",
       "         -2.04054656,  -3.32405395,   5.41308056,   7.36763964,\n",
       "         86.18494577, -93.73207465, -24.57357986]),\n",
       " array([  0.26628654,  -1.79406187,  -0.13338387,  -0.23354184,\n",
       "         -0.66227339,   0.75173836,   1.80360973,  -0.68135748,\n",
       "         -0.43119   ,   8.84605857,   7.22029406,   0.26174274,\n",
       "         -2.05170136,  -3.32655991,   5.41577356,   7.41517936,\n",
       "         91.14591671, -95.19217684, -28.95307797]),\n",
       " array([  0.26679692,  -1.78976306,  -0.13424612,  -0.22799326,\n",
       "         -0.64946793,   0.74671281,   1.80104019,  -0.6825766 ,\n",
       "         -0.45016675,   8.83690199,   7.24021679,   0.26167617,\n",
       "         -2.06003641,  -3.32834172,   5.41795666,   7.45376709,\n",
       "         95.463099  , -96.32699505, -32.81562242]),\n",
       " array([  0.26724066,  -1.78623299,  -0.1349722 ,  -0.22340746,\n",
       "         -0.63895756,   0.74258307,   1.79902077,  -0.68359234,\n",
       "         -0.46656117,   8.82922177,   7.25508225,   0.26163086,\n",
       "         -2.06623906,  -3.32960072,   5.41970537,   7.48476496,\n",
       "         99.12270867, -97.2033658 , -36.12157378]),\n",
       " array([  0.26761525,  -1.7833782 ,  -0.13557094,  -0.21968008,\n",
       "         -0.63045984,   0.739241  ,   1.79744589,  -0.68442333,\n",
       "         -0.48033703,   8.82290913,   7.26615816,   0.26160015,\n",
       "         -2.07084791,  -3.33048896,   5.42109133,   7.509416  ,\n",
       "        102.15545096, -97.87681855, -38.88050737]),\n",
       " array([  0.26792401,  -1.78109993,  -0.13605601,  -0.21669368,\n",
       "         -0.6236789 ,   0.73657218,   1.7962255 ,  -0.68509255,\n",
       "         -0.49165312,   8.81780859,   7.27441217,   0.26157929,\n",
       "         -2.07427357,  -3.33111713,   5.42217975,   7.5288397 ,\n",
       "        104.62138682, -98.39238568, -41.13535508]),\n",
       " array([  0.26817367,  -1.77930191,  -0.13644325,  -0.21432963,\n",
       "         -0.61832752,   0.7344648 ,   1.79528467,  -0.68562444,\n",
       "         -0.5007805 ,   8.81374517,   7.28057067,   0.26156506,\n",
       "         -2.07682349,  -3.33156368,   5.42302793,   7.54402153,\n",
       "        106.59540858, -98.78594571, -42.94724371]),\n",
       " array([  0.26837251,  -1.77789585,  -0.13674874,  -0.21247661,\n",
       "         -0.61414271,   0.7328161 ,   1.79456241,  -0.68604264,\n",
       "         -0.5080364 ,   8.81054479,   7.28517355,   0.26155527,\n",
       "         -2.07872539,  -3.33188334,   5.42368469,   7.55580725,\n",
       "        108.15589045, -99.08571269, -44.38358387]),\n",
       " array([  0.268529  ,  -1.7768044 ,  -0.13698747,  -0.21103564,\n",
       "         -0.61089419,   0.73153586,   1.79400976,  -0.68636864,\n",
       "         -0.51373905,   8.80804703,   7.28862022,   0.26154846,\n",
       "         -2.08014706,  -3.33211392,   5.42419062,   7.56490537,\n",
       "        109.37719305, -99.31365911, -45.51008002]),\n",
       " array([  0.26865103,  -1.77596212,  -0.13717263,  -0.20992213,\n",
       "         -0.60838725,   0.73054761,   1.79358801,  -0.68662101,\n",
       "         -0.51818117,   8.80611157,   7.29120578,   0.26154367,\n",
       "         -2.08121201,  -3.33228154,   5.42457876,   7.57189709,\n",
       "        110.32555799, -99.48677333, -46.38619364]),\n",
       " array([  0.2687455 ,  -1.77531513,  -0.13731541,  -0.2090659 ,\n",
       "         -0.60646148,   0.72978833,   1.7932668 ,  -0.68681534,\n",
       "         -0.52161761,   8.80462022,   7.29314852,   0.26154026,\n",
       "         -2.08201127,  -3.33240426,   5.42487557,   7.57725081,\n",
       "        111.05748828, -99.61811926, -47.06315392]),\n",
       " array([  0.26881824,  -1.77481992,  -0.13742502,  -0.20841002,\n",
       "         -0.60498748,   0.72920707,   1.79302257,  -0.68696435,\n",
       "         -0.52426193,   8.80347606,   7.29461029,   0.2615378 ,\n",
       "         -2.0826121 ,  -3.33249467,   5.42510197,   7.58133874,\n",
       "        111.61971017, -99.71770228, -47.5836089 ]),\n",
       " array([  0.26887401,  -1.77444193,  -0.13750886,  -0.20790911,\n",
       "         -0.60386238,   0.72876336,   1.79283708,  -0.68707825,\n",
       "         -0.52628845,   8.80260119,   7.29571143,   0.26153602,\n",
       "         -2.08306438,  -3.33256165,   5.42527432,   7.58445333,\n",
       "        112.05000242, -99.79316204, -47.98219881]),\n",
       " array([  0.26891663,  -1.77415404,  -0.13757282,  -0.20752741,\n",
       "         -0.60300544,   0.72842537,   1.79269635,  -0.6871651 ,\n",
       "         -0.52783666,   8.80193394,   7.29654169,   0.26153472,\n",
       "         -2.0834052 ,  -3.33261149,   5.42540533,   7.5868223 ,\n",
       "        112.3784051 , -99.85031844, -48.28655768]),\n",
       " array([  0.26894912,  -1.77393513,  -0.13762153,  -0.20723707,\n",
       "         -0.60235381,   0.72816834,   1.79258964,  -0.68723119,\n",
       "         -0.52901664,   8.80142605,   7.29716817,   0.26153376,\n",
       "         -2.08366225,  -3.33264871,   5.4255048 ,   7.58862182,\n",
       "        112.62851072, -99.89359748, -48.5184391 ]),\n",
       " array([  0.26897385,  -1.77376887,  -0.13765855,  -0.20701651,\n",
       "         -0.60185892,   0.72797313,   1.79250878,  -0.68728141,\n",
       "         -0.52991435,   8.80104004,   7.29764116,   0.26153305,\n",
       "         -2.08385626,  -3.33267659,   5.42558026,   7.5899874 ,\n",
       "        112.81867726, -99.92636072, -48.69479898]),\n",
       " array([  0.26899264,  -1.77364273,  -0.13768666,  -0.20684914,\n",
       "         -0.60148343,   0.72782501,   1.79244754,  -0.68731954,\n",
       "         -0.53059637,   8.80074698,   7.29799843,   0.26153252,\n",
       "         -2.08400277,  -3.33269751,   5.42563746,   7.59102289,\n",
       "        112.96309068, -99.9511588 , -48.82875626]),\n",
       " array([  0.26900689,  -1.77354709,  -0.13770798,  -0.20672221,\n",
       "         -0.60119874,   0.7277127 ,   1.79240116,  -0.68734845,\n",
       "         -0.53111398,   8.80052469,   7.29826839,   0.26153212,\n",
       "         -2.08411345,  -3.33271325,   5.4256808 ,   7.59180764,\n",
       "        113.07265596, -99.96992559, -48.93040498]),\n",
       " array([  0.26901771,  -1.77347462,  -0.13772415,  -0.20662603,\n",
       "         -0.60098301,   0.7276276 ,   1.79236605,  -0.68737037,\n",
       "         -0.5315065 ,   8.8003562 ,   7.29847242,   0.26153183,\n",
       "         -2.08419709,  -3.3327251 ,   5.42571363,   7.59240209,\n",
       "        113.15572296, -99.98412652, -49.00747947]),\n",
       " array([  0.26902591,  -1.77341973,  -0.1377364 ,  -0.20655316,\n",
       "         -0.6008196 ,   0.72756313,   1.79233948,  -0.68738697,\n",
       "         -0.53180399,   8.80022854,   7.29862666,   0.2615316 ,\n",
       "         -2.08426031,  -3.33273404,   5.42573848,   7.59285224,\n",
       "        113.21866622, -99.99487162, -49.06588735]),\n",
       " array([   0.26903212,   -1.77337816,   -0.13774567,   -0.20649799,\n",
       "          -0.60069587,    0.72751432,    1.79231937,   -0.68739955,\n",
       "          -0.53202934,    8.80013185,    7.29874329,    0.26153143,\n",
       "          -2.08430811,   -3.33274078,    5.4257573 ,    7.59319304,\n",
       "         113.26634136, -100.00300137,  -49.11013034]),\n",
       " array([   0.26903682,   -1.77334669,   -0.1377527 ,   -0.20645621,\n",
       "          -0.6006022 ,    0.72747737,    1.79230415,   -0.68740907,\n",
       "          -0.5322    ,    8.80005865,    7.29883147,    0.26153131,\n",
       "          -2.08434425,   -3.33274587,    5.42577154,    7.59345099,\n",
       "         113.30244074, -100.00915209,  -49.1436327 ]),\n",
       " array([   0.26904038,   -1.77332287,   -0.13775801,   -0.2064246 ,\n",
       "          -0.6005313 ,    0.7274494 ,    1.79229263,   -0.68741627,\n",
       "          -0.5323292 ,    8.80000323,    7.29889816,    0.26153121,\n",
       "          -2.08437158,   -3.33274971,    5.42578232,    7.59364621,\n",
       "         113.32976859, -100.01380537,  -49.16899556]),\n",
       " array([   0.26904307,   -1.77330485,   -0.13776204,   -0.20640067,\n",
       "          -0.60047764,    0.72742823,    1.79228392,   -0.68742173,\n",
       "          -0.532427  ,    8.79996129,    7.2989486 ,    0.26153114,\n",
       "          -2.08439225,   -3.33275262,    5.42579047,    7.59379394,\n",
       "         113.35045256, -100.01732569,  -49.18819285])]"
      ]
     },
     "execution_count": 83,
     "metadata": {},
     "output_type": "execute_result"
    }
   ],
   "source": [
    "katsayilar"
   ]
  },
  {
   "cell_type": "code",
   "execution_count": 84,
   "id": "dba6cdcc-e748-419f-ae2a-606a75d9f512",
   "metadata": {},
   "outputs": [
    {
     "data": {
      "image/png": "[encoded data removed]",
      "text/plain": [
       "<Figure size 432x288 with 1 Axes>"
      ]
     },
     "metadata": {
      "needs_background": "light"
     },
     "output_type": "display_data"
    }
   ],
   "source": [
    "ax = plt.gca()\n",
    "ax.plot(lambdalar,katsayilar)\n",
    "ax.set_xscale(\"log\") #farklı renkler farklı katsayıların değerleridir"
   ]
  },
  {
   "cell_type": "markdown",
   "id": "c57fcd6f-0228-4227-baa0-866474714b76",
   "metadata": {},
   "source": [
    "## Tahmin"
   ]
  },
  {
   "cell_type": "code",
   "execution_count": 96,
   "id": "19fa9975-f852-41fd-8a2c-4f226030de9d",
   "metadata": {},
   "outputs": [],
   "source": [
    "ridge_model = Ridge().fit(X_train, y_train) #model kurmak. Train seti üzerine "
   ]
  },
  {
   "cell_type": "code",
   "execution_count": 97,
   "id": "31284971-7aaa-470f-a775-1e82fe9d9512",
   "metadata": {},
   "outputs": [],
   "source": [
    "y_pred = ridge_model.predict(X_train) #train seti için bir tahmin etme işlemi train setinin bağımsız değişkenleri kullanılarak"
   ]
  },
  {
   "cell_type": "code",
   "execution_count": 87,
   "id": "c3ab579e-81de-4aab-8181-89b298aef49e",
   "metadata": {},
   "outputs": [
    {
     "data": {
      "text/plain": [
       "array([ 376.25245449,  803.38498121,  496.17669652,  112.69554648,\n",
       "        427.60020221, 1003.6309402 ,  153.45713944,  361.33880956,\n",
       "        483.29143665,  916.91439669])"
      ]
     },
     "execution_count": 87,
     "metadata": {},
     "output_type": "execute_result"
    }
   ],
   "source": [
    "y_pred[0:10]"
   ]
  },
  {
   "cell_type": "code",
   "execution_count": 88,
   "id": "79cea0b0-65e9-4b3c-9a00-32c010d243cc",
   "metadata": {},
   "outputs": [
    {
     "data": {
      "text/plain": [
       "183     125.0\n",
       "229    1940.0\n",
       "286     940.0\n",
       "102     375.0\n",
       "153     100.0\n",
       "320     960.0\n",
       "135      90.0\n",
       "213     100.0\n",
       "308     750.0\n",
       "161     657.0\n",
       "Name: Salary, dtype: float64"
      ]
     },
     "execution_count": 88,
     "metadata": {},
     "output_type": "execute_result"
    }
   ],
   "source": [
    "y_train[0:10]"
   ]
  },
  {
   "cell_type": "code",
   "execution_count": 98,
   "id": "dec5ce9e-e985-4e35-9a0b-6b3144b4ceaf",
   "metadata": {},
   "outputs": [
    {
     "data": {
      "text/plain": [
       "289.34470696006565"
      ]
     },
     "execution_count": 98,
     "metadata": {},
     "output_type": "execute_result"
    }
   ],
   "source": [
    "RMSE = np.sqrt(mean_squared_error(y_train, y_pred))\n",
    "RMSE #train hatası valdie edilmemiş hata kareler ortalaması. ilkel hata hesaplama\n",
    "#tahmin edilen bağımlı ve gerçek bağımlı değişkenleri karşılaştırdık ve traine yönelik olarak hata bulduk"
   ]
  },
  {
   "cell_type": "code",
   "execution_count": 93,
   "id": "c59fd552-8b6a-4cd8-95d5-341f889ab9dd",
   "metadata": {},
   "outputs": [
    {
     "data": {
      "text/plain": [
       "351.39315856063223"
      ]
     },
     "execution_count": 93,
     "metadata": {},
     "output_type": "execute_result"
    }
   ],
   "source": [
    "np.sqrt(np.mean(-cross_val_score(ridge_model, X_train, y_train, cv =10, scoring = \"neg_mean_squared_error\")))\n",
    "#hata kareler ortalamasının karekökü. bu hata oranı daha doğru"
   ]
  },
  {
   "cell_type": "code",
   "execution_count": 99,
   "id": "9eed2fb1-00bf-4d25-9306-24af1c9fb70c",
   "metadata": {},
   "outputs": [],
   "source": [
    "#test hatası \n",
    "y_pred = ridge_model.predict(X_test)#test setinin içindeki bağımsızları kullanarak bağımlı değişkeni tahmin etme\n",
    "#tahmin iştemi test setine göre yapıldı. Test setinde başarı deneme.\n",
    "#Test setinde x bağımsız değişkenlerini kullanarak test setinin bağımlı değişkenlerini tahmin ettik"
   ]
  },
  {
   "cell_type": "code",
   "execution_count": 102,
   "id": "dbbbf233-7002-4627-92ce-67923d7ed825",
   "metadata": {},
   "outputs": [
    {
     "data": {
      "text/plain": [
       "356.8082905730243"
      ]
     },
     "execution_count": 102,
     "metadata": {},
     "output_type": "execute_result"
    }
   ],
   "source": [
    "RMSE = np.sqrt(mean_squared_error(y_test, y_pred))\n",
    "RMSE\n",
    "#test setinin tahmin değerleri ve test setinin y bağımlı değişken gerçek değerleri var karşılaştırdık\n",
    "#train ile ilgilenmeyeceğiz. test hatasına ilişkin bütün modeller için rmse değerlerini hesaplayıp modellerin birbirine göre performansını \n",
    "#test hatasına göre hesaplayacağız"
   ]
  },
  {
   "cell_type": "code",
   "execution_count": 103,
   "id": "4ad2c30e-6ba4-454a-a84a-f1147306d35c",
   "metadata": {},
   "outputs": [],
   "source": [
    "#bir model kurduk, kurduğumuz modeli parametre optimizasyonu yapmadan ön tanımlı değeri üzerinden kurduk."
   ]
  },
  {
   "cell_type": "markdown",
   "id": "c3f8d283-fce8-446b-adc9-69fff11fe601",
   "metadata": {},
   "source": [
    "### Model Tuning"
   ]
  },
  {
   "cell_type": "markdown",
   "id": "f8a1baf2-29ae-475c-bd85-9e2ee7185d9b",
   "metadata": {},
   "source": [
    "Neden Model Tuning?"
   ]
  },
  {
   "cell_type": "code",
   "execution_count": 105,
   "id": "006686ab-f200-46b1-8d52-c6015fc18a92",
   "metadata": {},
   "outputs": [
    {
     "data": {
      "text/plain": [
       "356.8082905730243"
      ]
     },
     "execution_count": 105,
     "metadata": {},
     "output_type": "execute_result"
    }
   ],
   "source": [
    "ridge_model = Ridge(1).fit(X_train, y_train)\n",
    "y_pred = ridge_model.predict(X_test)\n",
    "np.sqrt(mean_squared_error(y_test, y_pred))"
   ]
  },
  {
   "cell_type": "code",
   "execution_count": 108,
   "id": "7895e940-0b9e-4c11-82c8-ee480c301e74",
   "metadata": {},
   "outputs": [
    {
     "data": {
      "text/plain": [
       "array([572, 841, 824, 735, 495, 706,  47, 331, 337, 596,  55, 996,  14,\n",
       "        78, 912, 340, 836,  51, 579, 687, 310,   9, 931, 112, 263, 457,\n",
       "       111, 702, 218, 209, 624, 112, 578, 636, 474, 527, 301, 871, 132,\n",
       "       860, 922, 819, 130, 316, 606,  53, 817, 761, 763, 949, 741, 721,\n",
       "       174, 315, 768, 836, 305, 923, 968, 374, 502, 430, 319, 208, 932,\n",
       "       292, 688, 245, 598, 812, 697, 764, 669, 863, 231, 945, 197,  44,\n",
       "        53, 490, 648, 644, 696, 775, 253, 568, 500, 358, 987, 490, 613,\n",
       "       472, 791, 953, 697, 661, 472, 765,  55, 585])"
      ]
     },
     "execution_count": 108,
     "metadata": {},
     "output_type": "execute_result"
    }
   ],
   "source": [
    "np.random.randint(0,1000,100)#0 ve 1000 arasında 100 sayı"
   ]
  },
  {
   "cell_type": "code",
   "execution_count": 111,
   "id": "8035c1ed-d0df-4c48-90eb-a3848fa79134",
   "metadata": {},
   "outputs": [],
   "source": [
    "lambdalar1 = np.random.randint(0,1000,100)"
   ]
  },
  {
   "cell_type": "code",
   "execution_count": 112,
   "id": "62353735-bd01-4e9c-a648-75febc18fae5",
   "metadata": {},
   "outputs": [],
   "source": [
    "lambdalar2= 10**np.linspace(10,-2,100)*0.5"
   ]
  },
  {
   "cell_type": "code",
   "execution_count": 114,
   "id": "4e9a9f10-c0c6-4a8d-a935-3fe4de14b3b6",
   "metadata": {},
   "outputs": [
    {
     "data": {
      "text/plain": [
       "RidgeCV(alphas=array([5.00000000e+09, 3.78231664e+09, 2.86118383e+09, 2.16438064e+09,\n",
       "       1.63727458e+09, 1.23853818e+09, 9.36908711e+08, 7.08737081e+08,\n",
       "       5.36133611e+08, 4.05565415e+08, 3.06795364e+08, 2.32079442e+08,\n",
       "       1.75559587e+08, 1.32804389e+08, 1.00461650e+08, 7.59955541e+07,\n",
       "       5.74878498e+07, 4.34874501e+07, 3.28966612e+07, 2.48851178e+07,\n",
       "       1.88246790e+07, 1.42401793e+0...\n",
       "       1.00461650e+00, 7.59955541e-01, 5.74878498e-01, 4.34874501e-01,\n",
       "       3.28966612e-01, 2.48851178e-01, 1.88246790e-01, 1.42401793e-01,\n",
       "       1.07721735e-01, 8.14875417e-02, 6.16423370e-02, 4.66301673e-02,\n",
       "       3.52740116e-02, 2.66834962e-02, 2.01850863e-02, 1.52692775e-02,\n",
       "       1.15506485e-02, 8.73764200e-03, 6.60970574e-03, 5.00000000e-03]),\n",
       "        cv=10, normalize=True, scoring='neg_mean_squared_error')"
      ]
     },
     "execution_count": 114,
     "metadata": {},
     "output_type": "execute_result"
    }
   ],
   "source": [
    "ridgecv = RidgeCV(alphas = lambdalar2, scoring = \"neg_mean_squared_error\", cv =10, normalize = True)\n",
    "ridgecv.fit(X_train, y_train)"
   ]
  },
  {
   "cell_type": "code",
   "execution_count": 115,
   "id": "8b664a46-c644-431d-ae7f-0e1920b34202",
   "metadata": {},
   "outputs": [
    {
     "data": {
      "text/plain": [
       "0.7599555414764666"
      ]
     },
     "execution_count": 115,
     "metadata": {},
     "output_type": "execute_result"
    }
   ],
   "source": [
    "ridgecv.alpha_ #optimum parametre"
   ]
  },
  {
   "cell_type": "code",
   "execution_count": 116,
   "id": "a4f1512d-de9b-4a98-9a0a-ffe32250d5e7",
   "metadata": {},
   "outputs": [],
   "source": [
    "#final modeli"
   ]
  },
  {
   "cell_type": "code",
   "execution_count": 117,
   "id": "6c3602fb-83f5-463b-a837-33a6b2299e2d",
   "metadata": {},
   "outputs": [],
   "source": [
    "ridge_tuned = Ridge(alpha= ridgecv.alpha_).fit(X_train, y_train)"
   ]
  },
  {
   "cell_type": "code",
   "execution_count": 130,
   "id": "1e11dd0e-d940-42f6-93a0-112f442de06f",
   "metadata": {},
   "outputs": [
    {
     "data": {
      "text/plain": [
       "356.52937362973654"
      ]
     },
     "execution_count": 130,
     "metadata": {},
     "output_type": "execute_result"
    }
   ],
   "source": [
    "y_pred = ridge_tuned.predict(X_test)#test setinin bağımsız değişkenlerini kullan, test setinin bağmılı değişkenini tahmin et\n",
    "np.sqrt(mean_squared_error(y_test, y_pred))#lambdalar2"
   ]
  },
  {
   "cell_type": "code",
   "execution_count": 124,
   "id": "f1598fdc-82c3-4983-a297-ffad0a887490",
   "metadata": {},
   "outputs": [
    {
     "data": {
      "text/plain": [
       "RidgeCV(alphas=array([723, 959, 625, 157, 394, 719, 194, 556, 110,  71, 165,  96, 121,\n",
       "       935, 718, 650, 885, 836, 227, 275, 188, 892, 797, 231, 115, 103,\n",
       "       989, 503, 875, 994, 541, 182, 790, 870, 512, 492, 789, 519, 116,\n",
       "       434, 890, 678, 220, 668, 815, 802, 535, 117, 442, 212, 640, 784,\n",
       "       101, 329,  87, 945, 128, 394, 844, 266, 999, 755, 496, 296, 823,\n",
       "       281, 513,  93, 106, 910, 441, 573, 499, 661, 514, 114, 728, 300,\n",
       "       735, 870, 758, 374, 312, 374, 415, 103, 159, 291,   3, 725, 266,\n",
       "       553, 375, 666, 553, 415, 440, 697, 821, 995]),\n",
       "        cv=10, normalize=True, scoring='neg_mean_squared_error')"
      ]
     },
     "execution_count": 124,
     "metadata": {},
     "output_type": "execute_result"
    }
   ],
   "source": [
    "ridgecv = RidgeCV(alphas = lambdalar1, scoring = \"neg_mean_squared_error\", cv =10, normalize = True)\n",
    "ridgecv.fit(X_train, y_train)"
   ]
  },
  {
   "cell_type": "code",
   "execution_count": 127,
   "id": "5d1228d8-bc5c-440e-911c-66e9e76223fd",
   "metadata": {},
   "outputs": [],
   "source": [
    "ridge_tuned = Ridge(alpha = ridgecv.alpha_).fit(X_train, y_train)"
   ]
  },
  {
   "cell_type": "code",
   "execution_count": 129,
   "id": "41e01519-d897-4aad-a68b-a789af31c79a",
   "metadata": {},
   "outputs": [
    {
     "data": {
      "text/plain": [
       "356.52937362973654"
      ]
     },
     "execution_count": 129,
     "metadata": {},
     "output_type": "execute_result"
    }
   ],
   "source": [
    "y_pred = ridge_tuned.predict(X_test)#test setinin bağımsız değişkenlerini kullan, test setinin bağmılı değişkenini tahmin et\n",
    "np.sqrt(mean_squared_error(y_test, y_pred))#lambdalar1"
   ]
  },
  {
   "cell_type": "markdown",
   "id": "6feebbfb-e2fb-4e6a-9815-016211fc9051",
   "metadata": {},
   "source": [
    "# Lasso Regresyon "
   ]
  },
  {
   "cell_type": "markdown",
   "id": "94136cbe-dacb-4dea-bdf0-b90e3cf91fc6",
   "metadata": {},
   "source": [
    "Amaç: Hata kareler toplamını minimize eden katsayıları bu katsayılara bir ceza uygulayarak bulmaktır.\n",
    "Lasso regresyon için L1 yöntemi denir.\n",
    "Ridge regresyon için l2 yöntemi denir."
   ]
  },
  {
   "cell_type": "markdown",
   "id": "a0b121d8-fe06-4308-9656-a8a517c1e2f2",
   "metadata": {},
   "source": [
    "* Ridge regresyonla ilgili-ilgisiz tüm değişkenleri modelde bırakma dezavantajını gidermek için önerilmiştir.\n",
    "* Lasso'da katsayıları sıfıra yaklaştırır.\n",
    "* Fakat L1 normu lambda yeteri kadar büyük olduğunda bazı kaysayıları sıfır yapar. Böylece değişkenseçimi yapmış olur.\n",
    "* Lambda'nın doğr seçilmesi çok önemlidir, burada da CV kullanılır.\n",
    "* Ridge ve Lasso yöntemleri birbirinden üstün değildir.\n",
    "* Lambda'nın sıfır olduğu yer EKK'dir. HKT'yi minimum yapan lambda'yı arıyoruz.\n",
    "* LAmbda için belirli değerleri içeren bir küme seçilir ve her birisi için cros validation test hatası hesaplanır.\n",
    "* En küçük cross validation'ı veren lambda ayar parametresi olarak seçilir.\n",
    "* Son olarak seçilen bu lambda ile model yeniden tük gözlemlere fit edilir."
   ]
  },
  {
   "cell_type": "markdown",
   "id": "d2214a22-be35-4ef6-9e3a-a5d03a214ba0",
   "metadata": {},
   "source": [
    "### Model"
   ]
  },
  {
   "cell_type": "code",
   "execution_count": 133,
   "id": "6230f665-afc6-4cd5-b333-f4ba3c780364",
   "metadata": {},
   "outputs": [],
   "source": [
    "import numpy as np\n",
    "import pandas as pd\n",
    "from sklearn.linear_model import Ridge, Lasso\n",
    "from sklearn.metrics import mean_squared_error, r2_score\n",
    "from sklearn.model_selection import train_test_split, cross_val_score\n",
    "from sklearn import model_selection\n",
    "import matplotlib.pyplot as plt\n",
    "from sklearn.linear_model import RidgeCV, LassoCV"
   ]
  },
  {
   "cell_type": "markdown",
   "id": "2945c2c4-567d-4dba-a8e3-7cf1d727a776",
   "metadata": {},
   "source": [
    "Veri Seti"
   ]
  },
  {
   "cell_type": "code",
   "execution_count": 135,
   "id": "64405494-6de0-490f-ab9f-9825797d7acf",
   "metadata": {},
   "outputs": [],
   "source": [
    "df = pd.read_csv(\"Hitters.csv\")\n",
    "\n",
    "df = df.dropna()\n",
    "\n",
    "dms = pd.get_dummies(df[['League', 'Division', 'NewLeague']]) #one-hot\n",
    "\n",
    "y = df[\"Salary\"]#bağımlı değişken\n",
    "\n",
    "#X_ = df.dropna(['Salary', 'League', 'Division', 'NewLeague'], axis = 1).astype('float64')\n",
    "remove = ['Salary', 'League', 'Division', 'NewLeague'] #kategorik değişkenler, bağımsız değişkenler\n",
    "X_= df[df.columns.difference(remove)]\n",
    "\n",
    "X = pd.concat([X_, dms[['League_N', 'Division_W', 'NewLeague_N']]], axis = 1)\n",
    "              \n",
    "X_train, X_test, y_train, y_test = train_test_split(X,\n",
    "                                                   y,\n",
    "                                                   test_size=0.25,\n",
    "                                                   random_state=42)"
   ]
  },
  {
   "cell_type": "code",
   "execution_count": 136,
   "id": "78a94227-a4a4-42c8-99fb-e47b54366be4",
   "metadata": {},
   "outputs": [
    {
     "data": {
      "text/html": [
       "<div>\n",
       "<style scoped>\n",
       "    .dataframe tbody tr th:only-of-type {\n",
       "        vertical-align: middle;\n",
       "    }\n",
       "\n",
       "    .dataframe tbody tr th {\n",
       "        vertical-align: top;\n",
       "    }\n",
       "\n",
       "    .dataframe thead th {\n",
       "        text-align: right;\n",
       "    }\n",
       "</style>\n",
       "<table border=\"1\" class=\"dataframe\">\n",
       "  <thead>\n",
       "    <tr style=\"text-align: right;\">\n",
       "      <th></th>\n",
       "      <th>AtBat</th>\n",
       "      <th>Hits</th>\n",
       "      <th>HmRun</th>\n",
       "      <th>Runs</th>\n",
       "      <th>RBI</th>\n",
       "      <th>Walks</th>\n",
       "      <th>Years</th>\n",
       "      <th>CAtBat</th>\n",
       "      <th>CHits</th>\n",
       "      <th>CHmRun</th>\n",
       "      <th>CRuns</th>\n",
       "      <th>CRBI</th>\n",
       "      <th>CWalks</th>\n",
       "      <th>League</th>\n",
       "      <th>Division</th>\n",
       "      <th>PutOuts</th>\n",
       "      <th>Assists</th>\n",
       "      <th>Errors</th>\n",
       "      <th>Salary</th>\n",
       "      <th>NewLeague</th>\n",
       "    </tr>\n",
       "  </thead>\n",
       "  <tbody>\n",
       "    <tr>\n",
       "      <th>1</th>\n",
       "      <td>315</td>\n",
       "      <td>81</td>\n",
       "      <td>7</td>\n",
       "      <td>24</td>\n",
       "      <td>38</td>\n",
       "      <td>39</td>\n",
       "      <td>14</td>\n",
       "      <td>3449</td>\n",
       "      <td>835</td>\n",
       "      <td>69</td>\n",
       "      <td>321</td>\n",
       "      <td>414</td>\n",
       "      <td>375</td>\n",
       "      <td>N</td>\n",
       "      <td>W</td>\n",
       "      <td>632</td>\n",
       "      <td>43</td>\n",
       "      <td>10</td>\n",
       "      <td>475.0</td>\n",
       "      <td>N</td>\n",
       "    </tr>\n",
       "    <tr>\n",
       "      <th>2</th>\n",
       "      <td>479</td>\n",
       "      <td>130</td>\n",
       "      <td>18</td>\n",
       "      <td>66</td>\n",
       "      <td>72</td>\n",
       "      <td>76</td>\n",
       "      <td>3</td>\n",
       "      <td>1624</td>\n",
       "      <td>457</td>\n",
       "      <td>63</td>\n",
       "      <td>224</td>\n",
       "      <td>266</td>\n",
       "      <td>263</td>\n",
       "      <td>A</td>\n",
       "      <td>W</td>\n",
       "      <td>880</td>\n",
       "      <td>82</td>\n",
       "      <td>14</td>\n",
       "      <td>480.0</td>\n",
       "      <td>A</td>\n",
       "    </tr>\n",
       "    <tr>\n",
       "      <th>3</th>\n",
       "      <td>496</td>\n",
       "      <td>141</td>\n",
       "      <td>20</td>\n",
       "      <td>65</td>\n",
       "      <td>78</td>\n",
       "      <td>37</td>\n",
       "      <td>11</td>\n",
       "      <td>5628</td>\n",
       "      <td>1575</td>\n",
       "      <td>225</td>\n",
       "      <td>828</td>\n",
       "      <td>838</td>\n",
       "      <td>354</td>\n",
       "      <td>N</td>\n",
       "      <td>E</td>\n",
       "      <td>200</td>\n",
       "      <td>11</td>\n",
       "      <td>3</td>\n",
       "      <td>500.0</td>\n",
       "      <td>N</td>\n",
       "    </tr>\n",
       "    <tr>\n",
       "      <th>4</th>\n",
       "      <td>321</td>\n",
       "      <td>87</td>\n",
       "      <td>10</td>\n",
       "      <td>39</td>\n",
       "      <td>42</td>\n",
       "      <td>30</td>\n",
       "      <td>2</td>\n",
       "      <td>396</td>\n",
       "      <td>101</td>\n",
       "      <td>12</td>\n",
       "      <td>48</td>\n",
       "      <td>46</td>\n",
       "      <td>33</td>\n",
       "      <td>N</td>\n",
       "      <td>E</td>\n",
       "      <td>805</td>\n",
       "      <td>40</td>\n",
       "      <td>4</td>\n",
       "      <td>91.5</td>\n",
       "      <td>N</td>\n",
       "    </tr>\n",
       "    <tr>\n",
       "      <th>5</th>\n",
       "      <td>594</td>\n",
       "      <td>169</td>\n",
       "      <td>4</td>\n",
       "      <td>74</td>\n",
       "      <td>51</td>\n",
       "      <td>35</td>\n",
       "      <td>11</td>\n",
       "      <td>4408</td>\n",
       "      <td>1133</td>\n",
       "      <td>19</td>\n",
       "      <td>501</td>\n",
       "      <td>336</td>\n",
       "      <td>194</td>\n",
       "      <td>A</td>\n",
       "      <td>W</td>\n",
       "      <td>282</td>\n",
       "      <td>421</td>\n",
       "      <td>25</td>\n",
       "      <td>750.0</td>\n",
       "      <td>A</td>\n",
       "    </tr>\n",
       "  </tbody>\n",
       "</table>\n",
       "</div>"
      ],
      "text/plain": [
       "   AtBat  Hits  HmRun  Runs  RBI  Walks  Years  CAtBat  CHits  CHmRun  CRuns  \\\n",
       "1    315    81      7    24   38     39     14    3449    835      69    321   \n",
       "2    479   130     18    66   72     76      3    1624    457      63    224   \n",
       "3    496   141     20    65   78     37     11    5628   1575     225    828   \n",
       "4    321    87     10    39   42     30      2     396    101      12     48   \n",
       "5    594   169      4    74   51     35     11    4408   1133      19    501   \n",
       "\n",
       "   CRBI  CWalks League Division  PutOuts  Assists  Errors  Salary NewLeague  \n",
       "1   414     375      N        W      632       43      10   475.0         N  \n",
       "2   266     263      A        W      880       82      14   480.0         A  \n",
       "3   838     354      N        E      200       11       3   500.0         N  \n",
       "4    46      33      N        E      805       40       4    91.5         N  \n",
       "5   336     194      A        W      282      421      25   750.0         A  "
      ]
     },
     "execution_count": 136,
     "metadata": {},
     "output_type": "execute_result"
    }
   ],
   "source": [
    "df.head()"
   ]
  },
  {
   "cell_type": "code",
   "execution_count": 138,
   "id": "c464b57d-1e95-4070-addc-3ecf10c7787c",
   "metadata": {},
   "outputs": [
    {
     "data": {
      "text/plain": [
       "(263, 20)"
      ]
     },
     "execution_count": 138,
     "metadata": {},
     "output_type": "execute_result"
    }
   ],
   "source": [
    "df.shape"
   ]
  },
  {
   "cell_type": "code",
   "execution_count": 139,
   "id": "320c4f55-738b-4a1c-aeb7-54bf1b8a0da5",
   "metadata": {},
   "outputs": [
    {
     "name": "stderr",
     "output_type": "stream",
     "text": [
      "C:\\Users\\Monster\\anaconda3\\lib\\site-packages\\sklearn\\linear_model\\_coordinate_descent.py:530: ConvergenceWarning: Objective did not converge. You might want to increase the number of iterations. Duality gap: 8243553.231327176, tolerance: 3898.686956380658\n",
      "  model = cd_fast.enet_coordinate_descent(\n"
     ]
    }
   ],
   "source": [
    "lasso_model = Lasso().fit(X_train, y_train)"
   ]
  },
  {
   "cell_type": "code",
   "execution_count": 140,
   "id": "1d99d04b-6eff-451d-b9d7-00e1ada928d7",
   "metadata": {},
   "outputs": [
    {
     "data": {
      "text/plain": [
       "Lasso()"
      ]
     },
     "execution_count": 140,
     "metadata": {},
     "output_type": "execute_result"
    }
   ],
   "source": [
    "lasso_model"
   ]
  },
  {
   "cell_type": "code",
   "execution_count": 141,
   "id": "74e2d7d1-c12c-4e3c-b202-268f41ffaa0f",
   "metadata": {},
   "outputs": [
    {
     "data": {
      "text/plain": [
       "-4.613111914080946"
      ]
     },
     "execution_count": 141,
     "metadata": {},
     "output_type": "execute_result"
    }
   ],
   "source": [
    "lasso_model.intercept_#sabit"
   ]
  },
  {
   "cell_type": "code",
   "execution_count": 142,
   "id": "7e2d0ef4-a527-43b3-8693-e34f770f3ac5",
   "metadata": {},
   "outputs": [
    {
     "data": {
      "text/plain": [
       "array([  0.27072833,  -1.75246934,  -0.15710705,  -0.10755392,\n",
       "        -0.45853486,   0.68246825,   1.71198639,  -0.64852668,\n",
       "        -0.44225465,   8.61981045,   6.80381016,   0.25971319,\n",
       "        -1.96486848,  -3.08103337,   5.32272056,   8.04504233,\n",
       "        84.67492024, -96.04940618, -20.9038947 ])"
      ]
     },
     "execution_count": 142,
     "metadata": {},
     "output_type": "execute_result"
    }
   ],
   "source": [
    "lasso_model.coef_#katsayılar"
   ]
  },
  {
   "cell_type": "code",
   "execution_count": 143,
   "id": "cd19cc2a-fc22-40d7-ac76-58a8489d14b4",
   "metadata": {},
   "outputs": [],
   "source": [
    "#farklı lambda değerlerine karşılık katsayılar"
   ]
  },
  {
   "cell_type": "code",
   "execution_count": 156,
   "id": "3c5091e4-1a85-441f-9150-9f562942d440",
   "metadata": {
    "tags": []
   },
   "outputs": [],
   "source": [
    "lasso = Lasso()\n",
    "coefs= []\n",
    "alphas = np.random.randint(0,100000,10)\n",
    "for a in alphas:\n",
    "    lasso.set_params(alpha = a)\n",
    "    lasso.fit(X_train, y_train)\n",
    "    coefs.append(lasso.coef_)"
   ]
  },
  {
   "cell_type": "code",
   "execution_count": 157,
   "id": "4b9e131f-2402-43f2-825d-caa0a7d560cc",
   "metadata": {
    "tags": []
   },
   "outputs": [
    {
     "data": {
      "image/png": "[encoded data removed]",
      "text/plain": [
       "<Figure size 432x288 with 1 Axes>"
      ]
     },
     "metadata": {
      "needs_background": "light"
     },
     "output_type": "display_data"
    }
   ],
   "source": [
    "ax = plt.gca()\n",
    "ax.plot(alphas, coefs)\n",
    "ax.set_xscale(\"log\")"
   ]
  },
  {
   "cell_type": "code",
   "execution_count": 160,
   "id": "9b025821-a61a-4736-811d-5f54599f8d18",
   "metadata": {
    "collapsed": true,
    "jupyter": {
     "outputs_hidden": true
    },
    "tags": []
   },
   "outputs": [
    {
     "name": "stderr",
     "output_type": "stream",
     "text": [
      "C:\\Users\\Monster\\anaconda3\\lib\\site-packages\\sklearn\\linear_model\\_coordinate_descent.py:530: ConvergenceWarning: Objective did not converge. You might want to increase the number of iterations. Duality gap: 41953.60888843797, tolerance: 3898.686956380658\n",
      "  model = cd_fast.enet_coordinate_descent(\n",
      "C:\\Users\\Monster\\anaconda3\\lib\\site-packages\\sklearn\\linear_model\\_coordinate_descent.py:530: ConvergenceWarning: Objective did not converge. You might want to increase the number of iterations. Duality gap: 4137.105885792524, tolerance: 3898.686956380658\n",
      "  model = cd_fast.enet_coordinate_descent(\n",
      "C:\\Users\\Monster\\anaconda3\\lib\\site-packages\\sklearn\\linear_model\\_coordinate_descent.py:530: ConvergenceWarning: Objective did not converge. You might want to increase the number of iterations. Duality gap: 4256571.461102678, tolerance: 3898.686956380658\n",
      "  model = cd_fast.enet_coordinate_descent(\n",
      "C:\\Users\\Monster\\anaconda3\\lib\\site-packages\\sklearn\\linear_model\\_coordinate_descent.py:530: ConvergenceWarning: Objective did not converge. You might want to increase the number of iterations. Duality gap: 6329594.47310327, tolerance: 3898.686956380658\n",
      "  model = cd_fast.enet_coordinate_descent(\n",
      "C:\\Users\\Monster\\anaconda3\\lib\\site-packages\\sklearn\\linear_model\\_coordinate_descent.py:530: ConvergenceWarning: Objective did not converge. You might want to increase the number of iterations. Duality gap: 7201022.109567737, tolerance: 3898.686956380658\n",
      "  model = cd_fast.enet_coordinate_descent(\n",
      "C:\\Users\\Monster\\anaconda3\\lib\\site-packages\\sklearn\\linear_model\\_coordinate_descent.py:530: ConvergenceWarning: Objective did not converge. You might want to increase the number of iterations. Duality gap: 7779401.275124392, tolerance: 3898.686956380658\n",
      "  model = cd_fast.enet_coordinate_descent(\n",
      "C:\\Users\\Monster\\anaconda3\\lib\\site-packages\\sklearn\\linear_model\\_coordinate_descent.py:530: ConvergenceWarning: Objective did not converge. You might want to increase the number of iterations. Duality gap: 7951398.577658377, tolerance: 3898.686956380658\n",
      "  model = cd_fast.enet_coordinate_descent(\n",
      "C:\\Users\\Monster\\anaconda3\\lib\\site-packages\\sklearn\\linear_model\\_coordinate_descent.py:530: ConvergenceWarning: Objective did not converge. You might want to increase the number of iterations. Duality gap: 8060817.9508049935, tolerance: 3898.686956380658\n",
      "  model = cd_fast.enet_coordinate_descent(\n",
      "C:\\Users\\Monster\\anaconda3\\lib\\site-packages\\sklearn\\linear_model\\_coordinate_descent.py:530: ConvergenceWarning: Objective did not converge. You might want to increase the number of iterations. Duality gap: 8129287.649657182, tolerance: 3898.686956380658\n",
      "  model = cd_fast.enet_coordinate_descent(\n",
      "C:\\Users\\Monster\\anaconda3\\lib\\site-packages\\sklearn\\linear_model\\_coordinate_descent.py:530: ConvergenceWarning: Objective did not converge. You might want to increase the number of iterations. Duality gap: 8172725.894588965, tolerance: 3898.686956380658\n",
      "  model = cd_fast.enet_coordinate_descent(\n",
      "C:\\Users\\Monster\\anaconda3\\lib\\site-packages\\sklearn\\linear_model\\_coordinate_descent.py:530: ConvergenceWarning: Objective did not converge. You might want to increase the number of iterations. Duality gap: 8200789.409553818, tolerance: 3898.686956380658\n",
      "  model = cd_fast.enet_coordinate_descent(\n",
      "C:\\Users\\Monster\\anaconda3\\lib\\site-packages\\sklearn\\linear_model\\_coordinate_descent.py:530: ConvergenceWarning: Objective did not converge. You might want to increase the number of iterations. Duality gap: 8219295.944520884, tolerance: 3898.686956380658\n",
      "  model = cd_fast.enet_coordinate_descent(\n",
      "C:\\Users\\Monster\\anaconda3\\lib\\site-packages\\sklearn\\linear_model\\_coordinate_descent.py:530: ConvergenceWarning: Objective did not converge. You might want to increase the number of iterations. Duality gap: 8232051.861278964, tolerance: 3898.686956380658\n",
      "  model = cd_fast.enet_coordinate_descent(\n",
      "C:\\Users\\Monster\\anaconda3\\lib\\site-packages\\sklearn\\linear_model\\_coordinate_descent.py:530: ConvergenceWarning: Objective did not converge. You might want to increase the number of iterations. Duality gap: 8239700.141123399, tolerance: 3898.686956380658\n",
      "  model = cd_fast.enet_coordinate_descent(\n",
      "C:\\Users\\Monster\\anaconda3\\lib\\site-packages\\sklearn\\linear_model\\_coordinate_descent.py:530: ConvergenceWarning: Objective did not converge. You might want to increase the number of iterations. Duality gap: 8243508.302033762, tolerance: 3898.686956380658\n",
      "  model = cd_fast.enet_coordinate_descent(\n",
      "C:\\Users\\Monster\\anaconda3\\lib\\site-packages\\sklearn\\linear_model\\_coordinate_descent.py:530: ConvergenceWarning: Objective did not converge. You might want to increase the number of iterations. Duality gap: 8245514.0812688535, tolerance: 3898.686956380658\n",
      "  model = cd_fast.enet_coordinate_descent(\n",
      "C:\\Users\\Monster\\anaconda3\\lib\\site-packages\\sklearn\\linear_model\\_coordinate_descent.py:530: ConvergenceWarning: Objective did not converge. You might want to increase the number of iterations. Duality gap: 8246529.905890165, tolerance: 3898.686956380658\n",
      "  model = cd_fast.enet_coordinate_descent(\n",
      "C:\\Users\\Monster\\anaconda3\\lib\\site-packages\\sklearn\\linear_model\\_coordinate_descent.py:530: ConvergenceWarning: Objective did not converge. You might want to increase the number of iterations. Duality gap: 8247010.965084636, tolerance: 3898.686956380658\n",
      "  model = cd_fast.enet_coordinate_descent(\n",
      "C:\\Users\\Monster\\anaconda3\\lib\\site-packages\\sklearn\\linear_model\\_coordinate_descent.py:530: ConvergenceWarning: Objective did not converge. You might want to increase the number of iterations. Duality gap: 8247210.053182771, tolerance: 3898.686956380658\n",
      "  model = cd_fast.enet_coordinate_descent(\n",
      "C:\\Users\\Monster\\anaconda3\\lib\\site-packages\\sklearn\\linear_model\\_coordinate_descent.py:530: ConvergenceWarning: Objective did not converge. You might want to increase the number of iterations. Duality gap: 8247266.563754726, tolerance: 3898.686956380658\n",
      "  model = cd_fast.enet_coordinate_descent(\n",
      "C:\\Users\\Monster\\anaconda3\\lib\\site-packages\\sklearn\\linear_model\\_coordinate_descent.py:530: ConvergenceWarning: Objective did not converge. You might want to increase the number of iterations. Duality gap: 8247255.293682423, tolerance: 3898.686956380658\n",
      "  model = cd_fast.enet_coordinate_descent(\n",
      "C:\\Users\\Monster\\anaconda3\\lib\\site-packages\\sklearn\\linear_model\\_coordinate_descent.py:530: ConvergenceWarning: Objective did not converge. You might want to increase the number of iterations. Duality gap: 8247215.9471398955, tolerance: 3898.686956380658\n",
      "  model = cd_fast.enet_coordinate_descent(\n",
      "C:\\Users\\Monster\\anaconda3\\lib\\site-packages\\sklearn\\linear_model\\_coordinate_descent.py:530: ConvergenceWarning: Objective did not converge. You might want to increase the number of iterations. Duality gap: 8247168.531727413, tolerance: 3898.686956380658\n",
      "  model = cd_fast.enet_coordinate_descent(\n",
      "C:\\Users\\Monster\\anaconda3\\lib\\site-packages\\sklearn\\linear_model\\_coordinate_descent.py:530: ConvergenceWarning: Objective did not converge. You might want to increase the number of iterations. Duality gap: 8247122.57879325, tolerance: 3898.686956380658\n",
      "  model = cd_fast.enet_coordinate_descent(\n",
      "C:\\Users\\Monster\\anaconda3\\lib\\site-packages\\sklearn\\linear_model\\_coordinate_descent.py:530: ConvergenceWarning: Objective did not converge. You might want to increase the number of iterations. Duality gap: 8247082.040228554, tolerance: 3898.686956380658\n",
      "  model = cd_fast.enet_coordinate_descent(\n",
      "C:\\Users\\Monster\\anaconda3\\lib\\site-packages\\sklearn\\linear_model\\_coordinate_descent.py:530: ConvergenceWarning: Objective did not converge. You might want to increase the number of iterations. Duality gap: 8247048.081937734, tolerance: 3898.686956380658\n",
      "  model = cd_fast.enet_coordinate_descent(\n",
      "C:\\Users\\Monster\\anaconda3\\lib\\site-packages\\sklearn\\linear_model\\_coordinate_descent.py:530: ConvergenceWarning: Objective did not converge. You might want to increase the number of iterations. Duality gap: 8247020.4962402275, tolerance: 3898.686956380658\n",
      "  model = cd_fast.enet_coordinate_descent(\n",
      "C:\\Users\\Monster\\anaconda3\\lib\\site-packages\\sklearn\\linear_model\\_coordinate_descent.py:530: ConvergenceWarning: Objective did not converge. You might want to increase the number of iterations. Duality gap: 8246998.54775402, tolerance: 3898.686956380658\n",
      "  model = cd_fast.enet_coordinate_descent(\n",
      "C:\\Users\\Monster\\anaconda3\\lib\\site-packages\\sklearn\\linear_model\\_coordinate_descent.py:530: ConvergenceWarning: Objective did not converge. You might want to increase the number of iterations. Duality gap: 8246981.326694779, tolerance: 3898.686956380658\n",
      "  model = cd_fast.enet_coordinate_descent(\n",
      "C:\\Users\\Monster\\anaconda3\\lib\\site-packages\\sklearn\\linear_model\\_coordinate_descent.py:530: ConvergenceWarning: Objective did not converge. You might want to increase the number of iterations. Duality gap: 8246967.944467566, tolerance: 3898.686956380658\n",
      "  model = cd_fast.enet_coordinate_descent(\n",
      "C:\\Users\\Monster\\anaconda3\\lib\\site-packages\\sklearn\\linear_model\\_coordinate_descent.py:530: ConvergenceWarning: Objective did not converge. You might want to increase the number of iterations. Duality gap: 8246957.619423068, tolerance: 3898.686956380658\n",
      "  model = cd_fast.enet_coordinate_descent(\n",
      "C:\\Users\\Monster\\anaconda3\\lib\\site-packages\\sklearn\\linear_model\\_coordinate_descent.py:530: ConvergenceWarning: Objective did not converge. You might want to increase the number of iterations. Duality gap: 8246949.692909635, tolerance: 3898.686956380658\n",
      "  model = cd_fast.enet_coordinate_descent(\n",
      "C:\\Users\\Monster\\anaconda3\\lib\\site-packages\\sklearn\\linear_model\\_coordinate_descent.py:530: ConvergenceWarning: Objective did not converge. You might want to increase the number of iterations. Duality gap: 8246943.630415868, tolerance: 3898.686956380658\n",
      "  model = cd_fast.enet_coordinate_descent(\n",
      "C:\\Users\\Monster\\anaconda3\\lib\\site-packages\\sklearn\\linear_model\\_coordinate_descent.py:530: ConvergenceWarning: Objective did not converge. You might want to increase the number of iterations. Duality gap: 8246939.006378304, tolerance: 3898.686956380658\n",
      "  model = cd_fast.enet_coordinate_descent(\n"
     ]
    }
   ],
   "source": [
    "lasso = Lasso()\n",
    "coefs= []\n",
    "alphas = 10**np.linspace(10,-2,100)*0.5\n",
    "for a in alphas:\n",
    "    lasso.set_params(alpha = a)\n",
    "    lasso.fit(X_train, y_train)\n",
    "    coefs.append(lasso.coef_)"
   ]
  },
  {
   "cell_type": "code",
   "execution_count": 159,
   "id": "802e9492-f445-4fc5-84a4-4822a001fe77",
   "metadata": {},
   "outputs": [
    {
     "data": {
      "image/png": "[encoded data removed]",
      "text/plain": [
       "<Figure size 432x288 with 1 Axes>"
      ]
     },
     "metadata": {
      "needs_background": "light"
     },
     "output_type": "display_data"
    }
   ],
   "source": [
    "ax = plt.gca()\n",
    "ax.plot(alphas, coefs)\n",
    "ax.set_xscale(\"log\")"
   ]
  },
  {
   "cell_type": "markdown",
   "id": "108a5f54-7415-4db8-b68e-67ecf75bb165",
   "metadata": {},
   "source": [
    "### Tahmin"
   ]
  },
  {
   "cell_type": "code",
   "execution_count": null,
   "id": "ffd35b29-6173-4543-b1dd-8f11e0dfdf13",
   "metadata": {},
   "outputs": [],
   "source": []
  }
 ],
 "metadata": {
  "kernelspec": {
   "display_name": "Python 3 (ipykernel)",
   "language": "python",
   "name": "python3"
  },
  "language_info": {
   "codemirror_mode": {
    "name": "ipython",
    "version": 3
   },
   "file_extension": ".py",
   "mimetype": "text/x-python",
   "name": "python",
   "nbconvert_exporter": "python",
   "pygments_lexer": "ipython3",
   "version": "3.9.7"
  }
 },
 "nbformat": 4,
 "nbformat_minor": 5
}
