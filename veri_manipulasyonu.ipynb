{
 "cells": [
  {
   "cell_type": "code",
   "execution_count": null,
   "id": "cc8be219-772c-4a76-9ce1-70f2b872f103",
   "metadata": {},
   "outputs": [],
   "source": [
    "a=[1,2,3,4]\n",
    "b=[2,3,4,5]"
   ]
  },
  {
   "cell_type": "code",
   "execution_count": null,
   "id": "47c73c3f-28e9-474f-9b5e-d90095832cc5",
   "metadata": {},
   "outputs": [],
   "source": [
    "ab = []\n",
    "for i in range(0, len(a)):\n",
    "    ab.append(a[i]*b[i])\n",
    "    \n",
    "ab"
   ]
  },
  {
   "cell_type": "code",
   "execution_count": null,
   "id": "dd07a2e8-93c5-4da2-a20a-7ebb99a5c948",
   "metadata": {},
   "outputs": [],
   "source": [
    "import numpy as np"
   ]
  },
  {
   "cell_type": "code",
   "execution_count": null,
   "id": "32f55c6e-d4e0-4bb1-bdd5-f80cc9125ea3",
   "metadata": {},
   "outputs": [],
   "source": [
    "a = np.array([1,2,3,4])\n",
    "b = np.array([2,3,4,5])"
   ]
  },
  {
   "cell_type": "code",
   "execution_count": null,
   "id": "18761370-a42a-4a0d-8f52-d7ab4e69d592",
   "metadata": {},
   "outputs": [],
   "source": [
    "a*b"
   ]
  },
  {
   "cell_type": "code",
   "execution_count": null,
   "id": "e34dc0d3-129d-4d90-ac73-4c1579fe2351",
   "metadata": {},
   "outputs": [],
   "source": [
    "import numpy as np\n",
    "a = np.array([1,2,3,4])\n",
    "type(a)"
   ]
  },
  {
   "cell_type": "code",
   "execution_count": null,
   "id": "3a9f0911-b7f0-4969-897c-46d2ae04d8ed",
   "metadata": {},
   "outputs": [],
   "source": [
    "#sıfırdan array oluşturma"
   ]
  },
  {
   "cell_type": "code",
   "execution_count": null,
   "id": "5954e926-e47c-4e25-b40f-958d31d36eec",
   "metadata": {},
   "outputs": [],
   "source": [
    "np.zeros(10, dtype=\"int\") # 10 tane 0dan oluşan array\n",
    "np.ones(10)#10 tane 1den oluşan array\n",
    "np.full((3,5),3)#içi 3 dolu 3 satır 5 sutünluk matris\n",
    "np.arange(0,31,3)#0dan 31e kadar 3er 3er atran array\n",
    "np.linspace(0,1,10)#0 ve 1 arasında  10 tane sayı üretir\n",
    "np.random.normal(10,4,(3,5))#3e 4lük matris oluşturur ortalaması 10 standart sapması 4\n",
    "np.random.randint(0,10,(3,3))#0 ve 10 arasındaki sayılarla 3e 3lük bir matris oluşturur"
   ]
  },
  {
   "cell_type": "markdown",
   "id": "d29f7ee6-6e1d-4e66-849f-3e3dd35cd266",
   "metadata": {},
   "source": [
    "# numpy özellikleri\n",
    "* ndim: boyut sayısı (1,2)\n",
    "* shape: boyut bilgisi\n",
    "* size: toplam eleman sayısı\n",
    "* dtype: array veri tipi"
   ]
  },
  {
   "cell_type": "code",
   "execution_count": null,
   "id": "123953b6-d62b-4e87-bf08-e630f78dda36",
   "metadata": {},
   "outputs": [],
   "source": [
    "import numpy as np"
   ]
  },
  {
   "cell_type": "code",
   "execution_count": null,
   "id": "a06dd49a-9b58-4187-8020-de3657de6c18",
   "metadata": {},
   "outputs": [],
   "source": [
    "a = np.random.randint(10, size=10)#0dan 10a kadar random 10 tane sayı"
   ]
  },
  {
   "cell_type": "code",
   "execution_count": null,
   "id": "24c1894b-53fa-43fa-bb7a-339297f82524",
   "metadata": {},
   "outputs": [],
   "source": [
    "a.ndim #1\n",
    "a.shape #10,\n",
    "a.size #10\n",
    "a.dtype#int31"
   ]
  },
  {
   "cell_type": "code",
   "execution_count": null,
   "id": "43b687f5-4fd9-4264-9ae6-450b568d0cf9",
   "metadata": {},
   "outputs": [],
   "source": [
    "b = np.random.randint(10, size=(3,5))"
   ]
  },
  {
   "cell_type": "code",
   "execution_count": null,
   "id": "8e579f5a-806d-45cb-a293-a66ac436c033",
   "metadata": {},
   "outputs": [],
   "source": [
    "b.ndim #2\n",
    "b.shape # 3,5\n",
    "b.size #15\n",
    "b.dtype #int32"
   ]
  },
  {
   "cell_type": "markdown",
   "id": "41599ba6-f1b8-489f-a8b8-286b653db823",
   "metadata": {},
   "source": [
    "# yeniden şekillendirme reshaping"
   ]
  },
  {
   "cell_type": "code",
   "execution_count": null,
   "id": "9d70ef2e-021e-4e78-b4be-799da7631fd4",
   "metadata": {},
   "outputs": [],
   "source": [
    "import numpy as np"
   ]
  },
  {
   "cell_type": "code",
   "execution_count": null,
   "id": "84d1d6f8-83b8-474c-bb82-ec741b7202a3",
   "metadata": {},
   "outputs": [],
   "source": [
    "np.arange(1,10) #array([1, 2, 3, 4, 5, 6, 7, 8, 9])"
   ]
  },
  {
   "cell_type": "code",
   "execution_count": null,
   "id": "889f1ebe-a69e-44c5-a6b8-52fe01ab2ced",
   "metadata": {},
   "outputs": [],
   "source": [
    "np.arange(1,10).reshape((3,3))#matris olur"
   ]
  },
  {
   "cell_type": "code",
   "execution_count": null,
   "id": "fab1d6ee-9b6a-49a4-a17b-573a25aeeb5d",
   "metadata": {},
   "outputs": [],
   "source": [
    "a = np.arange(1,10)\n",
    "a.ndim #1"
   ]
  },
  {
   "cell_type": "code",
   "execution_count": null,
   "id": "9450c23a-af5f-47b2-acbf-4db335a80aaa",
   "metadata": {},
   "outputs": [],
   "source": [
    "b = a.reshape((1,9))\n",
    "b.ndim #2 çünkü tek satır 9 sutunluk matris yaptık"
   ]
  },
  {
   "cell_type": "markdown",
   "id": "23176408-0891-44df-9792-99b7b97db744",
   "metadata": {},
   "source": [
    "# array birleştirme concatanetion"
   ]
  },
  {
   "cell_type": "code",
   "execution_count": null,
   "id": "6b76d0fe-f664-4707-b6ef-871066c02f17",
   "metadata": {},
   "outputs": [],
   "source": [
    "x = np.array([1,2,3,])\n",
    "y = np.array([4,5,6])"
   ]
  },
  {
   "cell_type": "code",
   "execution_count": null,
   "id": "20972084-efaa-4a2a-836a-982a95b912a4",
   "metadata": {},
   "outputs": [],
   "source": [
    "np.concatenate([x,y])#array([1, 2, 3, 4, 5, 6])"
   ]
  },
  {
   "cell_type": "code",
   "execution_count": null,
   "id": "ef4dbf80-9c03-4894-83c5-adff8b92cc8e",
   "metadata": {},
   "outputs": [],
   "source": [
    "# iki boyutlu birleştirme"
   ]
  },
  {
   "cell_type": "code",
   "execution_count": null,
   "id": "34473cfe-1595-49bd-9001-a833d1c0f829",
   "metadata": {},
   "outputs": [],
   "source": [
    "a = np.array([[1,2,3],\n",
    "              [4,5,6]])"
   ]
  },
  {
   "cell_type": "code",
   "execution_count": null,
   "id": "3682e7d9-2a42-4a3e-a933-4a1e1de86e8a",
   "metadata": {},
   "outputs": [],
   "source": [
    "np.concatenate([a,a])"
   ]
  },
  {
   "cell_type": "code",
   "execution_count": null,
   "id": "e13eee4a-77c8-467c-9506-1785bc72836f",
   "metadata": {},
   "outputs": [],
   "source": [
    "#satır değil de sutun bazında birleştirmek istersek axis kullanıır"
   ]
  },
  {
   "cell_type": "code",
   "execution_count": null,
   "id": "f8dce79c-ed89-42fb-a5d2-f66f0e5990fb",
   "metadata": {},
   "outputs": [],
   "source": [
    "np.concatenate([a,a],axis = 1) #ön tanımlı olarak 0 vardır satır bazında birleştirir. 1 sutun bazında birleştirir."
   ]
  },
  {
   "cell_type": "markdown",
   "id": "f8c768b2-70e1-4910-97de-2682bcdde6b4",
   "metadata": {},
   "source": [
    "# array ayırma splitting"
   ]
  },
  {
   "cell_type": "code",
   "execution_count": null,
   "id": "68cf7df8-ea68-4036-835b-ba79b34d180e",
   "metadata": {},
   "outputs": [],
   "source": [
    "d= ([1,2,3,99,99,3,2,1])"
   ]
  },
  {
   "cell_type": "code",
   "execution_count": null,
   "id": "0abaf26c-af0d-4ed2-b09f-30b5c83cf804",
   "metadata": {},
   "outputs": [],
   "source": [
    "np.split(d,[3,5])#n indekse n+1 ayırma yapar."
   ]
  },
  {
   "cell_type": "code",
   "execution_count": null,
   "id": "06eea2d9-d8f3-40da-b3c1-37b79131b2bc",
   "metadata": {},
   "outputs": [],
   "source": [
    "#bölünen her arrayi kullanma"
   ]
  },
  {
   "cell_type": "code",
   "execution_count": null,
   "id": "bab5b21b-84a0-45d7-b7d0-9c19a63e40fa",
   "metadata": {},
   "outputs": [],
   "source": [
    "a,b,c = np.split(d,[3,5])"
   ]
  },
  {
   "cell_type": "code",
   "execution_count": null,
   "id": "b894ef82-29ed-40b9-9b55-356b130c3b68",
   "metadata": {},
   "outputs": [],
   "source": [
    "a"
   ]
  },
  {
   "cell_type": "code",
   "execution_count": null,
   "id": "446d4f44-fe5c-4313-a395-b40c0d74a92a",
   "metadata": {},
   "outputs": [],
   "source": [
    "b"
   ]
  },
  {
   "cell_type": "code",
   "execution_count": null,
   "id": "dbe4a72d-995a-4277-910a-d5a5dd26f3a3",
   "metadata": {},
   "outputs": [],
   "source": [
    "c"
   ]
  },
  {
   "cell_type": "code",
   "execution_count": null,
   "id": "8570f4d9-dd15-4392-9de6-e028d25736e7",
   "metadata": {},
   "outputs": [],
   "source": [
    "#iki boyutlu ayırma"
   ]
  },
  {
   "cell_type": "code",
   "execution_count": null,
   "id": "681f97ef-a7eb-4438-84b0-4dc93efe4b83",
   "metadata": {},
   "outputs": [],
   "source": [
    "m = np.arange(16).reshape(4,4)\n",
    "m"
   ]
  },
  {
   "cell_type": "code",
   "execution_count": null,
   "id": "fb75007d-38d4-4afd-b54d-74c3a14464e3",
   "metadata": {},
   "outputs": [],
   "source": [
    "np.vsplit(m, [2])"
   ]
  },
  {
   "cell_type": "code",
   "execution_count": null,
   "id": "a37d50a7-ba23-4eab-88c2-627b5746861c",
   "metadata": {},
   "outputs": [],
   "source": [
    "ust, alt = np.vsplit(m, [2])#satırdan ayırır.2.satırdan ayırır"
   ]
  },
  {
   "cell_type": "code",
   "execution_count": null,
   "id": "524b18e0-812c-4062-b42c-dc9f32ee9349",
   "metadata": {},
   "outputs": [],
   "source": [
    "ust"
   ]
  },
  {
   "cell_type": "code",
   "execution_count": null,
   "id": "a5622ba4-df19-47ac-a848-475b75fe7b0c",
   "metadata": {},
   "outputs": [],
   "source": [
    "alt"
   ]
  },
  {
   "cell_type": "code",
   "execution_count": null,
   "id": "705ed79c-8218-47da-88f0-11906c67be02",
   "metadata": {},
   "outputs": [],
   "source": [
    "m"
   ]
  },
  {
   "cell_type": "code",
   "execution_count": null,
   "id": "fcb449bb-49ae-4d09-a771-1de0b3a9a644",
   "metadata": {},
   "outputs": [],
   "source": [
    "np.hsplit(m,[2])#sutundan ayırır.2.sutundan ayırır"
   ]
  },
  {
   "cell_type": "code",
   "execution_count": null,
   "id": "34659639-0c32-4858-807e-03949fa44337",
   "metadata": {},
   "outputs": [],
   "source": [
    "sag,sol = np.hsplit(m,[2])"
   ]
  },
  {
   "cell_type": "code",
   "execution_count": null,
   "id": "9afdfac6-869a-4f42-9cda-9b0435c8a0a7",
   "metadata": {},
   "outputs": [],
   "source": [
    "sag"
   ]
  },
  {
   "cell_type": "code",
   "execution_count": null,
   "id": "f50d5862-bd6d-4eec-bba2-494330759265",
   "metadata": {},
   "outputs": [],
   "source": [
    "sol"
   ]
  },
  {
   "cell_type": "markdown",
   "id": "b97dcd98-edd0-4791-a29a-520aa46630fe",
   "metadata": {},
   "source": [
    "# array sıralama sorting"
   ]
  },
  {
   "cell_type": "code",
   "execution_count": null,
   "id": "6e4430ef-f3c1-4538-ab94-9992323a429f",
   "metadata": {},
   "outputs": [],
   "source": [
    "import numpy as np"
   ]
  },
  {
   "cell_type": "code",
   "execution_count": null,
   "id": "455c6d6e-9f52-445d-ab6d-c2d9846e4fd6",
   "metadata": {},
   "outputs": [],
   "source": [
    "v = np.array([2,1,4,3,5])\n",
    "v"
   ]
  },
  {
   "cell_type": "code",
   "execution_count": null,
   "id": "0cdfe8f6-132e-4e1c-82b1-2f18a9846133",
   "metadata": {},
   "outputs": [],
   "source": [
    "np.sort(v)"
   ]
  },
  {
   "cell_type": "code",
   "execution_count": null,
   "id": "c34efe34-7f63-4ef8-8e3c-7fc307439898",
   "metadata": {},
   "outputs": [],
   "source": [
    "v"
   ]
  },
  {
   "cell_type": "code",
   "execution_count": null,
   "id": "a30296dd-f947-4e43-aa80-d91911a377b0",
   "metadata": {},
   "outputs": [],
   "source": [
    "v.sort()"
   ]
  },
  {
   "cell_type": "code",
   "execution_count": null,
   "id": "2cd226a1-fc44-4df1-acc0-964e1164c096",
   "metadata": {},
   "outputs": [],
   "source": [
    "v"
   ]
  },
  {
   "cell_type": "code",
   "execution_count": null,
   "id": "d2ee96c6-1114-4f28-8815-35444e8754ce",
   "metadata": {},
   "outputs": [],
   "source": [
    "#iki boyutlu array üzerinde sıralama"
   ]
  },
  {
   "cell_type": "code",
   "execution_count": null,
   "id": "9ecb9784-fc65-45f2-8558-63d3309ae02f",
   "metadata": {},
   "outputs": [],
   "source": [
    "m = np.random.normal(20,5,(3,3))\n",
    "m"
   ]
  },
  {
   "cell_type": "code",
   "execution_count": null,
   "id": "d62ba9da-b780-4f06-902b-b2a9d761c24b",
   "metadata": {},
   "outputs": [],
   "source": [
    "np.sort(m, axis = 1)#her satırı küçükten büyüğe sıralar. 0 yazarsak büyükten küçüğe"
   ]
  },
  {
   "cell_type": "markdown",
   "id": "a88d264e-ebb3-4ded-a1c8-816ff4cb457c",
   "metadata": {},
   "source": [
    "# indeks ile elemana erişmek"
   ]
  },
  {
   "cell_type": "code",
   "execution_count": null,
   "id": "e2139f37-7138-4ec4-9df4-0ad5dd390eba",
   "metadata": {},
   "outputs": [],
   "source": [
    "import numpy as np"
   ]
  },
  {
   "cell_type": "code",
   "execution_count": null,
   "id": "98a493a3-bfba-4e28-8f85-ca6438a29dd3",
   "metadata": {},
   "outputs": [],
   "source": [
    "a= np.random.randint(10, size = 10)\n",
    "a"
   ]
  },
  {
   "cell_type": "code",
   "execution_count": null,
   "id": "388fc9e5-e3b8-42f5-983d-118cc2a165b1",
   "metadata": {},
   "outputs": [],
   "source": [
    "a[0]#baştaki"
   ]
  },
  {
   "cell_type": "code",
   "execution_count": null,
   "id": "f050b76d-e459-4426-a3ac-5c06458728a7",
   "metadata": {},
   "outputs": [],
   "source": [
    "a[-1]#sondaki"
   ]
  },
  {
   "cell_type": "code",
   "execution_count": null,
   "id": "2f0f0fba-4125-4fc8-b016-a5a39f4ff535",
   "metadata": {},
   "outputs": [],
   "source": [
    "a[0] = 100"
   ]
  },
  {
   "cell_type": "code",
   "execution_count": null,
   "id": "2296b336-c0af-45a0-acc0-cce5b9082abb",
   "metadata": {},
   "outputs": [],
   "source": [
    "a"
   ]
  },
  {
   "cell_type": "code",
   "execution_count": null,
   "id": "537e950b-4152-4c40-b11b-0733e91413a7",
   "metadata": {},
   "outputs": [],
   "source": [
    "#iki boyutlu arraylerde indeksle erişme"
   ]
  },
  {
   "cell_type": "code",
   "execution_count": null,
   "id": "c8dc6542-7b42-43e5-a24d-3976016a6b66",
   "metadata": {},
   "outputs": [],
   "source": [
    "m= np.random.randint(10, size = (3,5))\n",
    "m"
   ]
  },
  {
   "cell_type": "code",
   "execution_count": null,
   "id": "017f2033-0c66-442b-a9ce-f2768efb4df6",
   "metadata": {},
   "outputs": [],
   "source": [
    "m [2,3] #6"
   ]
  },
  {
   "cell_type": "code",
   "execution_count": null,
   "id": "50eee661-1920-46bf-9113-e121abaa3b0e",
   "metadata": {},
   "outputs": [],
   "source": [
    "m[1,2] #4"
   ]
  },
  {
   "cell_type": "code",
   "execution_count": null,
   "id": "60557b4e-f81d-49aa-a36b-ceb6229dd7cc",
   "metadata": {},
   "outputs": [],
   "source": [
    "m [1,4] = 99"
   ]
  },
  {
   "cell_type": "code",
   "execution_count": null,
   "id": "35fe52c1-0265-4d7b-8ba1-c8ac05fb114a",
   "metadata": {},
   "outputs": [],
   "source": [
    "m"
   ]
  },
  {
   "cell_type": "code",
   "execution_count": null,
   "id": "9d8e167d-be0c-46c4-957c-08537559d06b",
   "metadata": {},
   "outputs": [],
   "source": [
    "m [1,4]= 2.2 #sadece 2 olur çünkü içi hep int"
   ]
  },
  {
   "cell_type": "code",
   "execution_count": null,
   "id": "8c672d98-afd3-4c4c-9064-ec89000379fb",
   "metadata": {},
   "outputs": [],
   "source": [
    "m"
   ]
  },
  {
   "cell_type": "markdown",
   "id": "131e2edf-f199-40b3-85bb-9868c5cd4271",
   "metadata": {},
   "source": [
    "# array alt kümesine erişmek (slicing)"
   ]
  },
  {
   "cell_type": "code",
   "execution_count": null,
   "id": "ec1c8146-3223-4593-b037-380740829def",
   "metadata": {},
   "outputs": [],
   "source": [
    "import numpy as np"
   ]
  },
  {
   "cell_type": "code",
   "execution_count": null,
   "id": "32878169-37f9-464d-abe3-fcc17aeaefc5",
   "metadata": {},
   "outputs": [],
   "source": [
    "a = np.arange(20,30)\n",
    "a"
   ]
  },
  {
   "cell_type": "code",
   "execution_count": null,
   "id": "11d506dc-d907-4266-8e5b-f4766dd7198a",
   "metadata": {},
   "outputs": [],
   "source": [
    "a[0:3]#0 dahil 3e kadar elemanları alır a[:3] de aynısıdır"
   ]
  },
  {
   "cell_type": "code",
   "execution_count": null,
   "id": "614b3973-b5fb-4840-bb18-6e4e08f2e6f3",
   "metadata": {},
   "outputs": [],
   "source": [
    "a[3:]"
   ]
  },
  {
   "cell_type": "code",
   "execution_count": null,
   "id": "b38563e9-5a95-4938-9fb7-98b04fb7275f",
   "metadata": {},
   "outputs": [],
   "source": [
    "a[1::2]#1.elemandan 2şer arttırarak sonuna kadar yazar"
   ]
  },
  {
   "cell_type": "code",
   "execution_count": null,
   "id": "e4af3c39-048f-42f8-bd7f-ff5e24f21138",
   "metadata": {},
   "outputs": [],
   "source": [
    "#iki boyutlularda slice işlemi"
   ]
  },
  {
   "cell_type": "code",
   "execution_count": null,
   "id": "f55141a4-7860-4fee-bd4e-2d7299460402",
   "metadata": {},
   "outputs": [],
   "source": [
    "m = np.random.randint(10, size = (5,5))\n",
    "m"
   ]
  },
  {
   "cell_type": "code",
   "execution_count": null,
   "id": "4d10f01a-e32f-4e01-b3b5-0f7f040ba0dd",
   "metadata": {},
   "outputs": [],
   "source": [
    "m[:,0]#bütün satırları al 0.sutunu al yani komple 0.sutunu verir"
   ]
  },
  {
   "cell_type": "code",
   "execution_count": null,
   "id": "0821964f-3c3f-4761-addb-79929aca90cc",
   "metadata": {},
   "outputs": [],
   "source": [
    "m[:,1]"
   ]
  },
  {
   "cell_type": "code",
   "execution_count": null,
   "id": "c7aec5c5-68f1-46dd-a717-ac971744fed4",
   "metadata": {},
   "outputs": [],
   "source": [
    "m[0,:]#ilk satır bütün sutunlar. yani 1.sutun m[0] yazarsak da aynısı olur"
   ]
  },
  {
   "cell_type": "code",
   "execution_count": null,
   "id": "74b788dc-4c3f-49dd-95a1-d577b883ee36",
   "metadata": {},
   "outputs": [],
   "source": [
    "m[1,:]"
   ]
  },
  {
   "cell_type": "code",
   "execution_count": null,
   "id": "96ae9dce-5d22-4174-af7b-eb5e2a0a1ebd",
   "metadata": {},
   "outputs": [],
   "source": [
    "m[0:2,0:3]#odan 2ye kadar satır, 0dan 3e kadar sutun"
   ]
  },
  {
   "cell_type": "code",
   "execution_count": null,
   "id": "a8b0ad12-b796-44ae-b4a6-2aad2a11e1ad",
   "metadata": {},
   "outputs": [],
   "source": [
    "m[::,:2]#bütün satırlar ve 0dan 2ye kadar sutun"
   ]
  },
  {
   "cell_type": "code",
   "execution_count": null,
   "id": "79498ae5-d16a-45f6-932f-6579cbf1ba71",
   "metadata": {},
   "outputs": [],
   "source": [
    "m"
   ]
  },
  {
   "cell_type": "code",
   "execution_count": null,
   "id": "82b3bc4b-63d8-42a3-babe-f055809ed2bd",
   "metadata": {},
   "outputs": [],
   "source": [
    "m[1:3, 0:2]"
   ]
  },
  {
   "cell_type": "markdown",
   "id": "1b6bb586-f46c-4d04-baf5-c8bfcb6c0591",
   "metadata": {
    "tags": []
   },
   "source": [
    "# alt küme üzerinde işlem yapma"
   ]
  },
  {
   "cell_type": "code",
   "execution_count": null,
   "id": "26a4a99c-89d5-4556-8ae5-011f2599daa9",
   "metadata": {},
   "outputs": [],
   "source": [
    "#bir arrayin alt kümesine eriştikten sonra \n",
    "#bunu isimlendirip kaydettikten sonra kaydetmiş\n",
    "#olduğumuz isimlendirme üzerinde değişiklik\n",
    "#yaptığımızda arrayin ilk halinde de değişiklik olmakta\n",
    "#seçilen arrayin alt kümesi üzerinde o alt kümeye özel\n",
    "#işlemler yapılabilir. bu durumda alt kümeleri\n",
    "#bağımsızlaştırma işlemi yapabiliriz.."
   ]
  },
  {
   "cell_type": "code",
   "execution_count": null,
   "id": "57040105-e99c-4edf-85cb-2da6530fbc62",
   "metadata": {},
   "outputs": [],
   "source": [
    "import numpy as np"
   ]
  },
  {
   "cell_type": "code",
   "execution_count": null,
   "id": "c8141e70-cb6a-4a6c-a9c5-e366b1f137eb",
   "metadata": {},
   "outputs": [],
   "source": [
    "a = np.random.randint(10, size= (5,5))\n",
    "a"
   ]
  },
  {
   "cell_type": "code",
   "execution_count": null,
   "id": "ec5be17f-2e58-40bd-968b-07146637d24a",
   "metadata": {},
   "outputs": [],
   "source": [
    "alt_a = a[0:3,0:2]\n",
    "alt_a"
   ]
  },
  {
   "cell_type": "code",
   "execution_count": null,
   "id": "23db3365-69a3-41d1-96b8-8bba067c0d80",
   "metadata": {},
   "outputs": [],
   "source": [
    "alt_a[0,0] = 99999\n",
    "alt_a[1,1] = 888\n",
    "alt_a"
   ]
  },
  {
   "cell_type": "code",
   "execution_count": null,
   "id": "544dcf57-038a-4810-951d-15fcc7abb98b",
   "metadata": {},
   "outputs": [],
   "source": [
    "a"
   ]
  },
  {
   "cell_type": "code",
   "execution_count": null,
   "id": "a74acacc-6704-480b-91be-6325e8b2e7e9",
   "metadata": {},
   "outputs": [],
   "source": [
    "#alt kümede yaptığımız değişiklik ana matriste de değişiklik yapar\n",
    "#bunu engellemek için;"
   ]
  },
  {
   "cell_type": "code",
   "execution_count": null,
   "id": "53a64e99-7aa3-4d5d-9d31-c3c7e41025de",
   "metadata": {},
   "outputs": [],
   "source": [
    "m = np.random.randint(10,size=(5,5))\n",
    "m"
   ]
  },
  {
   "cell_type": "code",
   "execution_count": null,
   "id": "ce67d5e6-b743-4a99-bc86-1a72591ce5b6",
   "metadata": {},
   "outputs": [],
   "source": [
    "alt_b = m[0:3,0:2].copy()#bu şekilde copy metodu kullanıldığında seçmiş olduğumuz alt arrayi ana matristen bağımsızlaştırır\n",
    "alt_b"
   ]
  },
  {
   "cell_type": "code",
   "execution_count": null,
   "id": "be734132-e0bc-4ea5-a47c-1382b80ffbbd",
   "metadata": {},
   "outputs": [],
   "source": [
    "alt_b[0,0] = 9999"
   ]
  },
  {
   "cell_type": "code",
   "execution_count": null,
   "id": "b2b708a8-658e-4b49-ba53-942b014cb646",
   "metadata": {},
   "outputs": [],
   "source": [
    "alt_b"
   ]
  },
  {
   "cell_type": "code",
   "execution_count": null,
   "id": "5e02c91e-78ad-484c-b196-e8ac9d1d23f0",
   "metadata": {},
   "outputs": [],
   "source": [
    "m#orijinal matriste değişiklik olmaz ama alt matrisi değiştirmiş olduk"
   ]
  },
  {
   "cell_type": "markdown",
   "id": "1e7fe18a-b566-46ea-9db8-2b3115141cbf",
   "metadata": {},
   "source": [
    "# fancy index ile elemanlara erişmek"
   ]
  },
  {
   "cell_type": "code",
   "execution_count": null,
   "id": "a183b78a-5819-4c94-a6c8-c56a7380f887",
   "metadata": {},
   "outputs": [],
   "source": [
    "import numpy as np\n",
    "v = np.arange(0,30,3)\n",
    "v#0dan 30a kadar 3er artarak liste verir"
   ]
  },
  {
   "cell_type": "code",
   "execution_count": null,
   "id": "adb420f4-a508-4958-89cf-fb4747161686",
   "metadata": {},
   "outputs": [],
   "source": [
    "v[1]"
   ]
  },
  {
   "cell_type": "code",
   "execution_count": null,
   "id": "569afb02-1144-42da-9e75-a0d99aed6029",
   "metadata": {},
   "outputs": [],
   "source": [
    "v[5]"
   ]
  },
  {
   "cell_type": "code",
   "execution_count": null,
   "id": "5019d0a7-a48b-4f17-8d7f-139aa9036e2e",
   "metadata": {},
   "outputs": [],
   "source": [
    "[v[1], v[3], v[5]]#hepsini görmek istersek"
   ]
  },
  {
   "cell_type": "code",
   "execution_count": null,
   "id": "c79f4bd9-4a9c-4132-8e46-ebce5480f949",
   "metadata": {},
   "outputs": [],
   "source": [
    "al_getir =[1,3,5]"
   ]
  },
  {
   "cell_type": "code",
   "execution_count": null,
   "id": "0765fa09-610e-4aa4-abcb-387b3404cf1d",
   "metadata": {},
   "outputs": [],
   "source": [
    "v"
   ]
  },
  {
   "cell_type": "code",
   "execution_count": null,
   "id": "77fa1749-af6e-4240-8e87-480571d1e068",
   "metadata": {},
   "outputs": [],
   "source": [
    "v[al_getir]#al getirde yazdığımız liste vde indekse eşit olur ve o indekslerdeki sayıları getirir\n",
    "#liste şeklinde array içine koyarsak bunun hepsini algılar ve seçme işlemi yapar\n",
    "#fancy adında özel bir işlem yapılmadı ama bu işlemin adı fancy index"
   ]
  },
  {
   "cell_type": "code",
   "execution_count": null,
   "id": "178f505b-3e50-4df0-9638-c345ec07beb7",
   "metadata": {},
   "outputs": [],
   "source": [
    "#iki boyutta fancy"
   ]
  },
  {
   "cell_type": "code",
   "execution_count": null,
   "id": "412473fa-7b0a-499a-a6a6-3f3b7a411e78",
   "metadata": {},
   "outputs": [],
   "source": [
    "m = np.arange(9).reshape((3,3))\n",
    "m"
   ]
  },
  {
   "cell_type": "code",
   "execution_count": null,
   "id": "ce0088e8-41d9-4244-9b43-9d27c93309e7",
   "metadata": {},
   "outputs": [],
   "source": [
    "satir = np.array([0,1])\n",
    "sutun = np.array([1,2])"
   ]
  },
  {
   "cell_type": "code",
   "execution_count": null,
   "id": "8f89c6e2-e273-48ac-98f3-d0e652bc5ed2",
   "metadata": {},
   "outputs": [],
   "source": [
    "m[satir,sutun]#fancy işlemi"
   ]
  },
  {
   "cell_type": "code",
   "execution_count": null,
   "id": "cd915bcf-8b51-4a85-8005-0d24c667badf",
   "metadata": {},
   "outputs": [],
   "source": [
    "#basit index ile fancy index"
   ]
  },
  {
   "cell_type": "code",
   "execution_count": null,
   "id": "e3e7a52b-5396-46ec-bc54-363ce9b8e3d2",
   "metadata": {},
   "outputs": [],
   "source": [
    "m"
   ]
  },
  {
   "cell_type": "code",
   "execution_count": null,
   "id": "97b76030-5617-4f2a-9a2a-1cc30a8fbeb8",
   "metadata": {},
   "outputs": [],
   "source": [
    "m[0,[1,2]]#klasik index"
   ]
  },
  {
   "cell_type": "code",
   "execution_count": null,
   "id": "e55e96bd-1d91-4e0a-ba7f-48b110f66925",
   "metadata": {},
   "outputs": [],
   "source": [
    "#slice ile fancy"
   ]
  },
  {
   "cell_type": "code",
   "execution_count": null,
   "id": "1c195caf-68e9-4d8a-9fbd-8a81503c6780",
   "metadata": {},
   "outputs": [],
   "source": [
    "m[0:, [1,2]]#slice 0dan sona git 1.ve 2."
   ]
  },
  {
   "cell_type": "markdown",
   "id": "39284a48-a065-44c3-8ce4-487226d4005c",
   "metadata": {},
   "source": [
    "# koşullu eleman işlemleri"
   ]
  },
  {
   "cell_type": "code",
   "execution_count": null,
   "id": "3c0fe9f5-ba9a-425c-bb75-1187133a6edc",
   "metadata": {},
   "outputs": [],
   "source": [
    "import numpy as np"
   ]
  },
  {
   "cell_type": "code",
   "execution_count": null,
   "id": "53e14f07-984d-46ed-9fae-f48d23c61a65",
   "metadata": {},
   "outputs": [],
   "source": [
    "v = np.array([1,2,3,4,5])"
   ]
  },
  {
   "cell_type": "code",
   "execution_count": null,
   "id": "0d7192e4-ff9f-49a7-a2d6-b16a67660f73",
   "metadata": {},
   "outputs": [],
   "source": [
    "v>5#v arrayinin içindeki değerlerin 5ten büyük olup olmama durumunu kontrol eder"
   ]
  },
  {
   "cell_type": "code",
   "execution_count": null,
   "id": "ffc2fc9b-5a94-46f2-b7d1-6c14593cde22",
   "metadata": {},
   "outputs": [],
   "source": [
    "v<3"
   ]
  },
  {
   "cell_type": "code",
   "execution_count": null,
   "id": "d774c72d-98a7-4a58-aaf1-dad60f86ffa1",
   "metadata": {},
   "outputs": [],
   "source": [
    "v[v<3]#v arrayi içinde 3ten küçük olanları verir. fancy işlemi kullanılır"
   ]
  },
  {
   "cell_type": "code",
   "execution_count": null,
   "id": "405eb3e8-eb3c-4ef5-99ee-e19e1fc7bcf2",
   "metadata": {},
   "outputs": [],
   "source": [
    "v[v >3]"
   ]
  },
  {
   "cell_type": "code",
   "execution_count": null,
   "id": "af70f52e-836d-4657-9f51-c1a0129f1f03",
   "metadata": {},
   "outputs": [],
   "source": [
    "v[v>=3]"
   ]
  },
  {
   "cell_type": "code",
   "execution_count": null,
   "id": "8d54121b-c3fc-4caf-b080-951a57ef7334",
   "metadata": {},
   "outputs": [],
   "source": [
    "v[v<=3]"
   ]
  },
  {
   "cell_type": "code",
   "execution_count": null,
   "id": "a619ae18-ea57-4c24-a100-bcf096e34184",
   "metadata": {},
   "outputs": [],
   "source": [
    "v[v==3]"
   ]
  },
  {
   "cell_type": "code",
   "execution_count": null,
   "id": "bfdb6214-7a7b-48ce-ada8-19483c2b3564",
   "metadata": {},
   "outputs": [],
   "source": [
    "v[v !=3]"
   ]
  },
  {
   "cell_type": "code",
   "execution_count": null,
   "id": "5ae4bed0-bd2f-4230-9582-ffbbafda9ec4",
   "metadata": {},
   "outputs": [],
   "source": [
    "v*2"
   ]
  },
  {
   "cell_type": "code",
   "execution_count": null,
   "id": "d2e09184-c3a8-48cb-9c67-00a67de02cdf",
   "metadata": {},
   "outputs": [],
   "source": [
    "v /5"
   ]
  },
  {
   "cell_type": "code",
   "execution_count": null,
   "id": "35414e99-c78f-4e8f-b241-b0b264fe9c4f",
   "metadata": {},
   "outputs": [],
   "source": [
    "v**2"
   ]
  },
  {
   "cell_type": "markdown",
   "id": "ab367934-ec8b-4686-9e96-3d970797d944",
   "metadata": {},
   "source": [
    "# matematiksel işlemler"
   ]
  },
  {
   "cell_type": "code",
   "execution_count": null,
   "id": "ee085c00-4f86-44c1-a094-7d6f41f0a498",
   "metadata": {},
   "outputs": [],
   "source": [
    "import numpy as np\n",
    "v = np.array ([1,2,3,4,5])"
   ]
  },
  {
   "cell_type": "code",
   "execution_count": null,
   "id": "7baf9232-400b-4397-9be7-c8155ceef81e",
   "metadata": {},
   "outputs": [],
   "source": [
    "v-1"
   ]
  },
  {
   "cell_type": "code",
   "execution_count": null,
   "id": "a89bb369-214a-4284-add8-e6dc542152a2",
   "metadata": {},
   "outputs": [],
   "source": [
    "v*5"
   ]
  },
  {
   "cell_type": "code",
   "execution_count": null,
   "id": "053b10ed-dbc3-4a00-bb12-e6ab59d4361d",
   "metadata": {},
   "outputs": [],
   "source": [
    "v*5/10-1"
   ]
  },
  {
   "cell_type": "code",
   "execution_count": null,
   "id": "59ad5077-1752-4931-956b-838d121acc4e",
   "metadata": {},
   "outputs": [],
   "source": [
    "#ufunc:her ne kadar çarpma işlemi gibi gözüksede\n",
    "#arka tarafta bu işlemler bir dönüştürmeye tabi tutulup \n",
    "#numpy içerisinde bazı spesifik fonksiyonlar çalıştırılıyor."
   ]
  },
  {
   "cell_type": "code",
   "execution_count": null,
   "id": "eab95662-a904-4398-8647-3faf6eb00d90",
   "metadata": {},
   "outputs": [],
   "source": [
    "#v-1 işlemi ile aynıdır;\n",
    "np.subtract(v,1)"
   ]
  },
  {
   "cell_type": "code",
   "execution_count": null,
   "id": "b2824a28-4932-489e-b00b-e6387041d0e3",
   "metadata": {},
   "outputs": [],
   "source": [
    "#v+1 ile aynıdır\n",
    "np.add(v,1)"
   ]
  },
  {
   "cell_type": "code",
   "execution_count": null,
   "id": "af49a76a-e85f-4146-8370-833f53d86f95",
   "metadata": {},
   "outputs": [],
   "source": [
    "#v*4 ile aynıdır\n",
    "np.multiply(v,4)"
   ]
  },
  {
   "cell_type": "code",
   "execution_count": null,
   "id": "822fd08b-fd74-4aa3-9e67-c62c5fe3e810",
   "metadata": {},
   "outputs": [],
   "source": [
    "#kare alma işlemi ile aynıdır;\n",
    "np.power(v,3)"
   ]
  },
  {
   "cell_type": "code",
   "execution_count": null,
   "id": "0c18376c-af73-4c0b-b062-097a876443c0",
   "metadata": {},
   "outputs": [],
   "source": [
    "# v%2 ile aynıdır;\n",
    "np.mod(v,2)"
   ]
  },
  {
   "cell_type": "code",
   "execution_count": null,
   "id": "3beef3a0-c443-4a7d-b44c-eb0c6f1c0e02",
   "metadata": {},
   "outputs": [],
   "source": [
    "#mutlak değer;\n",
    "np.absolute([np.array([-3])])"
   ]
  },
  {
   "cell_type": "code",
   "execution_count": null,
   "id": "05f149a1-b31f-4550-b27d-04b6047e3f52",
   "metadata": {},
   "outputs": [],
   "source": [
    "#trigonometrik hesaplamalar\n",
    "np.sin(360)"
   ]
  },
  {
   "cell_type": "code",
   "execution_count": null,
   "id": "cab4b135-fd98-41e9-853d-7ac32d358fc8",
   "metadata": {},
   "outputs": [],
   "source": [
    "np.cos(180)"
   ]
  },
  {
   "cell_type": "code",
   "execution_count": null,
   "id": "b4ef1a95-19d8-4a6a-940a-580ba22bdd77",
   "metadata": {},
   "outputs": [],
   "source": [
    "v = np.array([1,2,3])"
   ]
  },
  {
   "cell_type": "code",
   "execution_count": null,
   "id": "037de915-58ca-42bf-815a-c975475635ab",
   "metadata": {},
   "outputs": [],
   "source": [
    "#logaritma işlemleri\n",
    "np.log(v)"
   ]
  },
  {
   "cell_type": "code",
   "execution_count": null,
   "id": "5c4445ef-18f0-45c8-9719-ce19deb03606",
   "metadata": {},
   "outputs": [],
   "source": [
    "np.log2(v)"
   ]
  },
  {
   "cell_type": "code",
   "execution_count": null,
   "id": "e71745ed-0939-473e-ae7f-b726c7ecea8c",
   "metadata": {},
   "outputs": [],
   "source": [
    "np.log10(v)"
   ]
  },
  {
   "cell_type": "code",
   "execution_count": null,
   "id": "554423ef-4db9-4258-be85-780d8b064183",
   "metadata": {},
   "outputs": [],
   "source": [
    "#numpydaki modulleri fonksiyonları bulmak için;\n",
    "?np"
   ]
  },
  {
   "cell_type": "code",
   "execution_count": null,
   "id": "efcfd277-bf18-4eb1-b32f-a9a37021d189",
   "metadata": {},
   "outputs": [],
   "source": [
    "#cheatsheet: googleda arama yaparken bilgileri\n",
    "#daha derli toplu istersek sonuna cheat sheet yazabiliriz."
   ]
  },
  {
   "cell_type": "markdown",
   "id": "bc88a4a2-b011-44d7-849d-6bcbb2274603",
   "metadata": {},
   "source": [
    "# İstatiksel hesaplamalar"
   ]
  },
  {
   "cell_type": "code",
   "execution_count": null,
   "id": "46a7fcb7-244a-46fe-a40a-1124f42bdc9f",
   "metadata": {},
   "outputs": [],
   "source": [
    "v"
   ]
  },
  {
   "cell_type": "code",
   "execution_count": null,
   "id": "93850a6d-3628-46d3-9bcd-cb335f8f2418",
   "metadata": {},
   "outputs": [],
   "source": [
    "np.mean(v)#ortalama"
   ]
  },
  {
   "cell_type": "code",
   "execution_count": null,
   "id": "b1d2e662-a7f6-4c39-b562-155b0773f3d6",
   "metadata": {},
   "outputs": [],
   "source": [
    "v.sum() #toplam"
   ]
  },
  {
   "cell_type": "code",
   "execution_count": null,
   "id": "68ff391f-8a6d-435a-aa1c-1b702ca0e535",
   "metadata": {},
   "outputs": [],
   "source": [
    "v.min()#minimum değer"
   ]
  },
  {
   "cell_type": "markdown",
   "id": "630b33f6-ce66-4ad3-ac52-ae495d6b000c",
   "metadata": {},
   "source": [
    "v.max()"
   ]
  },
  {
   "cell_type": "code",
   "execution_count": null,
   "id": "16518743-d423-4776-981c-e6569e997a0d",
   "metadata": {},
   "outputs": [],
   "source": [
    "np.var(v)#dizinin varyansı"
   ]
  },
  {
   "cell_type": "code",
   "execution_count": null,
   "id": "062168d4-d307-4848-a6de-512e3f088ca8",
   "metadata": {},
   "outputs": [],
   "source": [
    "np.std(v)#standart sapma"
   ]
  },
  {
   "cell_type": "markdown",
   "id": "84b9c76a-af55-40e6-b8c7-76145b34c786",
   "metadata": {},
   "source": [
    "# iki bilinmeenli denklem çözümü"
   ]
  },
  {
   "cell_type": "code",
   "execution_count": null,
   "id": "be8c0dec-272e-4aa8-adc2-35dd81a2776d",
   "metadata": {},
   "outputs": [],
   "source": [
    "import numpy as np"
   ]
  },
  {
   "cell_type": "markdown",
   "id": "6492172f-4993-449a-bb51-b0efe5301fc6",
   "metadata": {
    "tags": []
   },
   "source": [
    "### 5*x0+x1=12\n",
    "### x0+3*x1=10"
   ]
  },
  {
   "cell_type": "code",
   "execution_count": null,
   "id": "80c1e489-73a1-4244-9180-4ae1feaaf351",
   "metadata": {},
   "outputs": [],
   "source": [
    "a = np.array([[5,1],[1,3]])#sırayla bilinmeyenlerin kat sayısı\n",
    "b = np.array([12,10])"
   ]
  },
  {
   "cell_type": "code",
   "execution_count": null,
   "id": "49b40d63-6df6-4fda-9a27-909dd2ac86d3",
   "metadata": {},
   "outputs": [],
   "source": [
    "a"
   ]
  },
  {
   "cell_type": "code",
   "execution_count": null,
   "id": "85f05bc6-a4fb-4497-bcd9-93900b7168f1",
   "metadata": {},
   "outputs": [],
   "source": [
    "b"
   ]
  },
  {
   "cell_type": "code",
   "execution_count": null,
   "id": "5c2c9c44-1d36-4059-ac87-cc1dd6b4316b",
   "metadata": {},
   "outputs": [],
   "source": [
    "x = np.linalg.solve(a,b)\n",
    "x"
   ]
  },
  {
   "cell_type": "markdown",
   "id": "41a56495-365f-4ae1-9e88-17b4ce6e9928",
   "metadata": {},
   "source": [
    "# Pandas Serisi Oluşturmak"
   ]
  },
  {
   "cell_type": "code",
   "execution_count": null,
   "id": "4b14b626-2946-45ce-88a6-85703f5c25f0",
   "metadata": {},
   "outputs": [],
   "source": [
    "import pandas as pd"
   ]
  },
  {
   "cell_type": "code",
   "execution_count": null,
   "id": "ffc0d94d-c199-4669-9c1e-d2467164c4d5",
   "metadata": {},
   "outputs": [],
   "source": [
    "pd.Series([1,2,3,4,5])#iki sutundan oluşur ilki indeksi belirtir ikincisi de listedeki sayılar"
   ]
  },
  {
   "cell_type": "code",
   "execution_count": null,
   "id": "a2a57ccf-f28d-4549-a5a2-a6ddd04dd90e",
   "metadata": {},
   "outputs": [],
   "source": [
    "seri=pd.Series([1,2,3,4,5])\n",
    "type(seri) #pandas.core.series.Series"
   ]
  },
  {
   "cell_type": "code",
   "execution_count": null,
   "id": "c935ee7d-9d51-466f-ac5c-d377514eb281",
   "metadata": {},
   "outputs": [],
   "source": [
    "seri.axes #serinin index bilgileri"
   ]
  },
  {
   "cell_type": "code",
   "execution_count": null,
   "id": "72f84ef7-19a6-4d97-90c9-1b773e8c6704",
   "metadata": {},
   "outputs": [],
   "source": [
    "seri.dtype #tipi int64"
   ]
  },
  {
   "cell_type": "code",
   "execution_count": null,
   "id": "57c36bc4-3646-4044-bd5b-5637ef0ee59b",
   "metadata": {},
   "outputs": [],
   "source": [
    "seri.size #eleman sayısı 5"
   ]
  },
  {
   "cell_type": "code",
   "execution_count": null,
   "id": "7ac64248-481c-4514-a853-da66a9898b9c",
   "metadata": {},
   "outputs": [],
   "source": [
    "seri.ndim #boyutu 1"
   ]
  },
  {
   "cell_type": "code",
   "execution_count": null,
   "id": "c6823319-ac09-471c-8397-3dc9d83ad5d7",
   "metadata": {},
   "outputs": [],
   "source": [
    "seri.values #vektör şeklinde serideki değerleri verir indexleri olmadan"
   ]
  },
  {
   "cell_type": "code",
   "execution_count": null,
   "id": "c515c3a0-7024-4732-a7df-b9950a9fcc24",
   "metadata": {},
   "outputs": [],
   "source": [
    "seri.head(3) #içine yazdığın kadar kısmını başından gösterir"
   ]
  },
  {
   "cell_type": "code",
   "execution_count": null,
   "id": "0ed222d7-149c-4533-9c95-6e4748007e2a",
   "metadata": {},
   "outputs": [],
   "source": [
    "seri.tail(3) #içine yazdığın kısmının sondan başlayarak gösteriri"
   ]
  },
  {
   "cell_type": "code",
   "execution_count": null,
   "id": "847243cb-7589-44b2-bbfd-e60190edfc66",
   "metadata": {},
   "outputs": [],
   "source": [
    "# index isimlendirmesi"
   ]
  },
  {
   "cell_type": "code",
   "execution_count": null,
   "id": "a8680816-131d-4d51-a2df-aa9810768c3f",
   "metadata": {},
   "outputs": [],
   "source": [
    "pd.Series([99,22,33,44,5])"
   ]
  },
  {
   "cell_type": "code",
   "execution_count": null,
   "id": "7c9a37e4-c43f-434f-b2f5-244d07cda5e1",
   "metadata": {},
   "outputs": [],
   "source": [
    "pd.Series([99,22,33,44,5], index = [1,3,5,7,9])"
   ]
  },
  {
   "cell_type": "code",
   "execution_count": null,
   "id": "19a44ffe-a1a4-4707-8cef-2f95e3159ad2",
   "metadata": {},
   "outputs": [],
   "source": [
    "seri = pd.Series([99,22,33,44,5], index = [\"a\",\"b\",\"c\",\"d\",\"e\"])\n",
    "seri"
   ]
  },
  {
   "cell_type": "code",
   "execution_count": null,
   "id": "f36f804d-fb33-4f49-a7ec-ae88e6dcb342",
   "metadata": {},
   "outputs": [],
   "source": [
    "seri[\"a\"]"
   ]
  },
  {
   "cell_type": "code",
   "execution_count": null,
   "id": "f3444242-f4e7-4872-a210-4ae5cf611860",
   "metadata": {},
   "outputs": [],
   "source": [
    "seri[\"a\":\"c\"]"
   ]
  },
  {
   "cell_type": "code",
   "execution_count": null,
   "id": "4c20ccea-6076-479e-be26-8038648ca2e3",
   "metadata": {},
   "outputs": [],
   "source": [
    "#sozluk uzerinden liste oluşturmak"
   ]
  },
  {
   "cell_type": "code",
   "execution_count": null,
   "id": "bcc41f50-d722-4242-99e2-f5f9a190b765",
   "metadata": {},
   "outputs": [],
   "source": [
    "sozluk =pd.Series({\"reg\":10, \"log\":11, \"cart\":12})\n",
    "sozluk"
   ]
  },
  {
   "cell_type": "code",
   "execution_count": null,
   "id": "07555a5b-a149-4e7f-b893-dbaa4520a301",
   "metadata": {},
   "outputs": [],
   "source": [
    "#2.yol"
   ]
  },
  {
   "cell_type": "code",
   "execution_count": null,
   "id": "1a87e039-8336-4bc3-b246-2fa46957b453",
   "metadata": {},
   "outputs": [],
   "source": [
    "sozluk2={\"reg\":10, \"log\":11, \"cart\":12}"
   ]
  },
  {
   "cell_type": "code",
   "execution_count": null,
   "id": "2b94a30b-7a7e-4fc1-870a-ce91728974d6",
   "metadata": {},
   "outputs": [],
   "source": [
    "seri=pd.Series(sozluk2)\n",
    "seri"
   ]
  },
  {
   "cell_type": "code",
   "execution_count": null,
   "id": "dcf77c86-1563-41da-b174-1aac146bc69c",
   "metadata": {},
   "outputs": [],
   "source": [
    "#2 seriyi birleştirerek seri oluşturma"
   ]
  },
  {
   "cell_type": "code",
   "execution_count": null,
   "id": "d22eddbb-ddc2-4fa6-8daf-53ad790dc614",
   "metadata": {},
   "outputs": [],
   "source": [
    "pd.concat([seri,seri])"
   ]
  },
  {
   "cell_type": "markdown",
   "id": "fb566183-56f9-45c6-82bb-5b617b23ac15",
   "metadata": {},
   "source": [
    "# Eleman İşlemleri"
   ]
  },
  {
   "cell_type": "code",
   "execution_count": null,
   "id": "1a5914ad-ac4e-48c0-8802-bddc033337b2",
   "metadata": {},
   "outputs": [],
   "source": [
    "import numpy as np\n",
    "a=np.array([1,2,33,44,55])\n",
    "seri = pd.Series(a)\n",
    "seri"
   ]
  },
  {
   "cell_type": "code",
   "execution_count": null,
   "id": "95daa323-4653-4e09-b100-52b9fc331815",
   "metadata": {},
   "outputs": [],
   "source": [
    "seri[0]"
   ]
  },
  {
   "cell_type": "code",
   "execution_count": null,
   "id": "d75b1a83-3154-4908-a4b6-fc0365dc3d57",
   "metadata": {},
   "outputs": [],
   "source": [
    "seri[0:3]"
   ]
  },
  {
   "cell_type": "code",
   "execution_count": null,
   "id": "b4e3030d-9485-47f3-9980-3b107b9be771",
   "metadata": {},
   "outputs": [],
   "source": [
    "seri=pd.Series([121,200,150,99], index=[\"reg\",\"loj\",\"cart\",\"rf\"])\n",
    "seri"
   ]
  },
  {
   "cell_type": "code",
   "execution_count": null,
   "id": "fbf48d41-3769-40a6-ac66-0c50eb26f1a8",
   "metadata": {},
   "outputs": [],
   "source": [
    "seri.keys"
   ]
  },
  {
   "cell_type": "code",
   "execution_count": null,
   "id": "85a23b9c-801c-48d1-b485-1cb1d239b2cc",
   "metadata": {},
   "outputs": [],
   "source": [
    "seri.index"
   ]
  },
  {
   "cell_type": "code",
   "execution_count": null,
   "id": "501941e2-222b-4f3e-8f1a-e246b844eff0",
   "metadata": {},
   "outputs": [],
   "source": [
    "list(seri.items())"
   ]
  },
  {
   "cell_type": "code",
   "execution_count": null,
   "id": "ef0fc354-b9c3-4544-b678-453cf845a119",
   "metadata": {},
   "outputs": [],
   "source": [
    "#eleman sorgulama"
   ]
  },
  {
   "cell_type": "code",
   "execution_count": null,
   "id": "5a08633d-49ad-4d42-841c-6611db36d6ec",
   "metadata": {},
   "outputs": [],
   "source": [
    "\"reg\" in seri"
   ]
  },
  {
   "cell_type": "code",
   "execution_count": null,
   "id": "d0fac501-6198-4f5c-81c6-80b01053e185",
   "metadata": {},
   "outputs": [],
   "source": [
    "\"a\" in seri"
   ]
  },
  {
   "cell_type": "code",
   "execution_count": null,
   "id": "bdc8c90f-bf1c-4f8a-8e8f-3e8395b6bd0c",
   "metadata": {},
   "outputs": [],
   "source": [
    "seri[\"reg\"]"
   ]
  },
  {
   "cell_type": "code",
   "execution_count": null,
   "id": "6100c2d5-4592-4977-b19c-4ac3271d9327",
   "metadata": {},
   "outputs": [],
   "source": [
    "#fancy ile eleman"
   ]
  },
  {
   "cell_type": "code",
   "execution_count": null,
   "id": "0c9f1c16-1df0-4616-ba97-3f776a71b213",
   "metadata": {},
   "outputs": [],
   "source": [
    "seri[[\"rf\",\"reg\"]]"
   ]
  },
  {
   "cell_type": "code",
   "execution_count": null,
   "id": "8b3b138d-8d22-4f2c-bc48-8a5cf55e53e2",
   "metadata": {},
   "outputs": [],
   "source": [
    "seri[\"reg\"]=131"
   ]
  },
  {
   "cell_type": "code",
   "execution_count": null,
   "id": "38580adb-1fb5-4b3a-8a13-18c06c5dddba",
   "metadata": {},
   "outputs": [],
   "source": [
    "seri[\"reg\"]"
   ]
  },
  {
   "cell_type": "code",
   "execution_count": null,
   "id": "d41b3547-0b4c-4287-bc2e-ef6ac2f49435",
   "metadata": {},
   "outputs": [],
   "source": [
    "seri[\"reg\":\"loj\"]"
   ]
  },
  {
   "cell_type": "markdown",
   "id": "5562971f-4822-434a-85e2-6264fca2333b",
   "metadata": {},
   "source": [
    "# Pandas DataFrame Oluşturma"
   ]
  },
  {
   "cell_type": "code",
   "execution_count": null,
   "id": "08483d50-e88c-40b3-b6e7-7fb03591fd50",
   "metadata": {},
   "outputs": [],
   "source": [
    "#yapısal bir veri tipidir.\n",
    "#excele benzer\n",
    "#numpy yerine bunu kullanmamızın sebebi veri tipi zorlaması yapması"
   ]
  },
  {
   "cell_type": "code",
   "execution_count": null,
   "id": "8befd27d-728f-44e2-b753-ed7b04942a21",
   "metadata": {},
   "outputs": [],
   "source": [
    "import pandas as pd"
   ]
  },
  {
   "cell_type": "code",
   "execution_count": null,
   "id": "9756bb0f-1cb6-4aec-a23d-d6f13282896c",
   "metadata": {},
   "outputs": [],
   "source": [
    "l=[1,2,39,67,90]\n",
    "l"
   ]
  },
  {
   "cell_type": "code",
   "execution_count": null,
   "id": "0d008c40-909e-4dea-b700-c9b36e9b5d8a",
   "metadata": {},
   "outputs": [],
   "source": [
    "pd.DataFrame(l,columns=[\"degisken_ismi\"])"
   ]
  },
  {
   "cell_type": "code",
   "execution_count": null,
   "id": "63f7c3d1-e38d-4dcc-ab5d-abfea110eeb2",
   "metadata": {},
   "outputs": [],
   "source": [
    "m=np.arange(1,10).reshape((3,3))\n",
    "m"
   ]
  },
  {
   "cell_type": "code",
   "execution_count": null,
   "id": "132a07fd-b803-489c-a97b-4bef1a22a015",
   "metadata": {},
   "outputs": [],
   "source": [
    "pd.DataFrame(m,columns=[\"var1\",\"var2\",\"var3\"])"
   ]
  },
  {
   "cell_type": "code",
   "execution_count": null,
   "id": "c85eec2b-c4be-4e7e-9e96-2309406f3d0d",
   "metadata": {},
   "outputs": [],
   "source": [
    "#df isimlendirme"
   ]
  },
  {
   "cell_type": "code",
   "execution_count": null,
   "id": "b35250cf-d989-4dce-8235-01defbd0f004",
   "metadata": {},
   "outputs": [],
   "source": [
    "df=pd.DataFrame(m,columns=[\"var1\",\"var2\",\"var3\"])\n",
    "df.head()"
   ]
  },
  {
   "cell_type": "code",
   "execution_count": null,
   "id": "d28a2951-a2f2-4d53-b761-c127b939cbe0",
   "metadata": {},
   "outputs": [],
   "source": [
    "df.columns"
   ]
  },
  {
   "cell_type": "code",
   "execution_count": null,
   "id": "40f3bc56-cb00-437f-87d5-4adb9de29ba7",
   "metadata": {},
   "outputs": [],
   "source": [
    "df.columns=(\"deg1\",\"deg2\",\"deg3\")\n",
    "df"
   ]
  },
  {
   "cell_type": "code",
   "execution_count": null,
   "id": "73606fa8-92ca-470d-a0da-093775c8fa8d",
   "metadata": {},
   "outputs": [],
   "source": [
    "type(df) #pandas.core.frame.DataFrame"
   ]
  },
  {
   "cell_type": "code",
   "execution_count": null,
   "id": "0241c1ac-0e50-4b3e-a40b-e83420b22f0b",
   "metadata": {},
   "outputs": [],
   "source": [
    "df.axes #satır ve sutun bilgilerini verir"
   ]
  },
  {
   "cell_type": "code",
   "execution_count": null,
   "id": "732cd513-be6b-44a9-ad8d-a559b629e5d3",
   "metadata": {},
   "outputs": [],
   "source": [
    "df.shape"
   ]
  },
  {
   "cell_type": "code",
   "execution_count": null,
   "id": "7d2c1154-c8e7-49ce-962e-d51cf42276d1",
   "metadata": {},
   "outputs": [],
   "source": [
    "df.ndim"
   ]
  },
  {
   "cell_type": "code",
   "execution_count": null,
   "id": "80f4c81a-aa6f-4099-b5eb-c0ad98e78321",
   "metadata": {},
   "outputs": [],
   "source": [
    "df.size"
   ]
  },
  {
   "cell_type": "code",
   "execution_count": null,
   "id": "71a44303-626c-4533-b922-d23cb2943d4e",
   "metadata": {},
   "outputs": [],
   "source": [
    "df.values"
   ]
  },
  {
   "cell_type": "code",
   "execution_count": null,
   "id": "c660c901-6879-464a-ad5f-dae7c33b8154",
   "metadata": {},
   "outputs": [],
   "source": [
    "type(df.values) #numpy.ndarray"
   ]
  },
  {
   "cell_type": "code",
   "execution_count": null,
   "id": "6f4680ef-ebfb-46af-aa1e-a74c0d387470",
   "metadata": {},
   "outputs": [],
   "source": [
    "df.head()"
   ]
  },
  {
   "cell_type": "code",
   "execution_count": null,
   "id": "11ad1a88-9a91-4441-8daa-411393825bea",
   "metadata": {},
   "outputs": [],
   "source": [
    "df.tail(1)"
   ]
  },
  {
   "cell_type": "code",
   "execution_count": null,
   "id": "7b222785-58c7-4c87-8768-20bc75379a99",
   "metadata": {},
   "outputs": [],
   "source": [
    "a = np.array([1,2,3,4,5])"
   ]
  },
  {
   "cell_type": "code",
   "execution_count": null,
   "id": "002d4535-bb02-4f76-98ff-743ff9e0689b",
   "metadata": {},
   "outputs": [],
   "source": [
    "pd.DataFrame(a, columns=[\"deg1\"])"
   ]
  },
  {
   "cell_type": "markdown",
   "id": "8cff47db-cbda-44a6-ae0c-f6a894383882",
   "metadata": {
    "tags": []
   },
   "source": [
    "# Eleman İşlemleri"
   ]
  },
  {
   "cell_type": "code",
   "execution_count": null,
   "id": "4c201ca0-9807-48c1-9bbb-69bc7318485f",
   "metadata": {},
   "outputs": [],
   "source": [
    "import numpy as np\n",
    "s1=np.random.randint(10, size=5)\n",
    "s2=np.random.randint(10, size=5)\n",
    "s3=np.random.randint(10, size=5)"
   ]
  },
  {
   "cell_type": "code",
   "execution_count": null,
   "id": "ab891a57-8ffc-463b-96e4-0fc451054cdf",
   "metadata": {},
   "outputs": [],
   "source": [
    "sozluk={\"var1\":s1, \"var2\":s2, \"var3\":s3}\n",
    "sozluk"
   ]
  },
  {
   "cell_type": "code",
   "execution_count": null,
   "id": "3b5b1cb8-1baa-4099-99b6-d599734d86d7",
   "metadata": {},
   "outputs": [],
   "source": [
    "df=pd.DataFrame(sozluk)\n",
    "df"
   ]
  },
  {
   "cell_type": "code",
   "execution_count": null,
   "id": "9392e0c4-b19d-490d-b7bf-88817452230a",
   "metadata": {},
   "outputs": [],
   "source": [
    "df[0:1]"
   ]
  },
  {
   "cell_type": "code",
   "execution_count": null,
   "id": "6faf239e-dca5-4ec8-9b59-76fd56b8ec58",
   "metadata": {},
   "outputs": [],
   "source": [
    "df.index"
   ]
  },
  {
   "cell_type": "code",
   "execution_count": null,
   "id": "65b9399d-68de-4dda-87c0-fe8484c854e0",
   "metadata": {},
   "outputs": [],
   "source": [
    "df.index=[\"a\",\"b\",\"c\",\"d\",\"e\"]"
   ]
  },
  {
   "cell_type": "code",
   "execution_count": null,
   "id": "af1d66bb-2cb6-4d4d-a202-7b2c641bd160",
   "metadata": {},
   "outputs": [],
   "source": [
    "df"
   ]
  },
  {
   "cell_type": "code",
   "execution_count": null,
   "id": "ecf16abe-82fa-480f-8349-09f299084e11",
   "metadata": {},
   "outputs": [],
   "source": [
    "df[\"c\":\"e\"]"
   ]
  },
  {
   "cell_type": "code",
   "execution_count": null,
   "id": "df63b1bb-8320-4012-856d-af9a9e2a6d94",
   "metadata": {},
   "outputs": [],
   "source": [
    "#silme işlemi"
   ]
  },
  {
   "cell_type": "code",
   "execution_count": null,
   "id": "551bdf34-d8ae-486d-81d7-912db731935a",
   "metadata": {},
   "outputs": [],
   "source": [
    "df.drop(\"a\",axis=0)#kalıcı olmaz."
   ]
  },
  {
   "cell_type": "code",
   "execution_count": null,
   "id": "a045231a-bbf5-4306-8c36-803a4e311453",
   "metadata": {},
   "outputs": [],
   "source": [
    "df"
   ]
  },
  {
   "cell_type": "code",
   "execution_count": null,
   "id": "9d81a6c0-401e-4f39-a390-9c88b8eac163",
   "metadata": {},
   "outputs": [],
   "source": [
    "df.drop(\"a\",axis=0,inplace=True)\n",
    "#a'yı kalıcı olarak silmek için kullanılır. Böylece yeniden başkabir yere atamamız gerekmez\n",
    "df"
   ]
  },
  {
   "cell_type": "code",
   "execution_count": null,
   "id": "0415eb42-e9e3-4528-b187-261165c9d7e3",
   "metadata": {},
   "outputs": [],
   "source": [
    "df"
   ]
  },
  {
   "cell_type": "code",
   "execution_count": null,
   "id": "14f6fcc8-0407-4dae-a80b-36bd5cc06c5a",
   "metadata": {},
   "outputs": [],
   "source": [
    "#fancy ile silme"
   ]
  },
  {
   "cell_type": "code",
   "execution_count": null,
   "id": "a52b3c2a-8937-4ed7-aacc-94115908661e",
   "metadata": {},
   "outputs": [],
   "source": [
    "l=[\"c\",\"e\"]"
   ]
  },
  {
   "cell_type": "code",
   "execution_count": null,
   "id": "c8c43934-0f44-4474-8b03-a5d90db051a2",
   "metadata": {},
   "outputs": [],
   "source": [
    "df.drop(l, axis=0)"
   ]
  },
  {
   "cell_type": "code",
   "execution_count": null,
   "id": "85528c59-8257-4f5e-8726-d80599275df5",
   "metadata": {},
   "outputs": [],
   "source": [
    "#değişkenler için "
   ]
  },
  {
   "cell_type": "code",
   "execution_count": null,
   "id": "6c0ddebc-375b-4a67-a5e5-b6a059efb01d",
   "metadata": {},
   "outputs": [],
   "source": [
    "\"var1\" in df"
   ]
  },
  {
   "cell_type": "code",
   "execution_count": null,
   "id": "596ebec6-96b4-4bf5-87ac-f40be47ad489",
   "metadata": {},
   "outputs": [],
   "source": [
    "l=[\"var1\",\"var4\",\"var2\"]"
   ]
  },
  {
   "cell_type": "code",
   "execution_count": null,
   "id": "60b9ed87-20b8-42f2-9878-bfebf76eece3",
   "metadata": {},
   "outputs": [],
   "source": [
    "for i in l:#l'nin içinde gezer ve o gezdiklerini\n",
    "    print(i in df) #df içinde var mı yok mu diye kontrol eder"
   ]
  },
  {
   "cell_type": "code",
   "execution_count": null,
   "id": "fd12d38c-ab2b-432e-9416-d3852c949e77",
   "metadata": {},
   "outputs": [],
   "source": [
    "df"
   ]
  },
  {
   "cell_type": "code",
   "execution_count": null,
   "id": "609e8cb5-b7c4-4f3c-b811-8a4a99ee4936",
   "metadata": {},
   "outputs": [],
   "source": [
    "df[\"var4\"] = df[\"var1\"] / df[\"var2\"]\n",
    "df"
   ]
  },
  {
   "cell_type": "code",
   "execution_count": null,
   "id": "4a1b5716-b9af-4286-9541-ca46859037d5",
   "metadata": {},
   "outputs": [],
   "source": [
    "#değişken silmek"
   ]
  },
  {
   "cell_type": "code",
   "execution_count": null,
   "id": "3fdba7b1-d047-43a9-9dbd-2824f72548c6",
   "metadata": {},
   "outputs": [],
   "source": [
    "df.drop(\"var4\",axis=1)#kalıcı olarak silmez."
   ]
  },
  {
   "cell_type": "code",
   "execution_count": null,
   "id": "08b6c982-5b4c-424c-8194-e4b8bad53e67",
   "metadata": {},
   "outputs": [],
   "source": [
    "df"
   ]
  },
  {
   "cell_type": "code",
   "execution_count": null,
   "id": "ae52b9d3-4f44-443b-9b51-698f0af8042c",
   "metadata": {},
   "outputs": [],
   "source": [
    "df.drop(\"var4\",axis=1,inplace=True)#kalıcı olarak siler\n",
    "df"
   ]
  },
  {
   "cell_type": "code",
   "execution_count": null,
   "id": "c0276ae6-c6b2-4e9c-b365-89a2c0dc094c",
   "metadata": {},
   "outputs": [],
   "source": [
    "l=[\"var1\",\"var2\"]"
   ]
  },
  {
   "cell_type": "code",
   "execution_count": null,
   "id": "83955407-b051-4922-9f91-d5a840780e9c",
   "metadata": {},
   "outputs": [],
   "source": [
    "df.drop(l, axis=1)"
   ]
  },
  {
   "cell_type": "markdown",
   "id": "f7e241b4-eefe-4717-93c9-fd81db9d6ef8",
   "metadata": {},
   "source": [
    "# Gözlem ve Değişken Seçimi: loc&iloc"
   ]
  },
  {
   "cell_type": "code",
   "execution_count": null,
   "id": "2e428f9a-f03d-4403-a1cb-4c591f3dcd73",
   "metadata": {},
   "outputs": [],
   "source": [
    "m=np.random.randint(1,30, size=(10,3))\n",
    "df=pd.DataFrame(m, columns=[\"var1\",\"var2\",\"var3\"])\n",
    "df"
   ]
  },
  {
   "cell_type": "code",
   "execution_count": null,
   "id": "6bd107a3-bae5-4d78-92da-34aaf1c630d1",
   "metadata": {},
   "outputs": [],
   "source": [
    "#loc:tanımlandığı şekliyle seçim yapmak için kullanılır\n",
    "#3ü dahil eder"
   ]
  },
  {
   "cell_type": "code",
   "execution_count": null,
   "id": "e090fe34-13ff-41aa-8048-760d1719e7ba",
   "metadata": {},
   "outputs": [],
   "source": [
    "df.loc[0:3]"
   ]
  },
  {
   "cell_type": "code",
   "execution_count": null,
   "id": "4a910c2f-862c-4547-a4d7-e93a4e650638",
   "metadata": {},
   "outputs": [],
   "source": [
    "#iloc:alışık olduğumuz indexleme mantığıyla seçim yapar\n",
    "#3'ü dahil etmez"
   ]
  },
  {
   "cell_type": "code",
   "execution_count": null,
   "id": "ce2f7e89-0d1c-4cbf-975c-6f5c6aad3a6c",
   "metadata": {},
   "outputs": [],
   "source": [
    "df.iloc[0:3]"
   ]
  },
  {
   "cell_type": "code",
   "execution_count": null,
   "id": "12833e3f-6938-4a4f-bcd7-81f0e274565e",
   "metadata": {},
   "outputs": [],
   "source": [
    "df.iloc[0,0]"
   ]
  },
  {
   "cell_type": "code",
   "execution_count": null,
   "id": "ff4cc584-9fd9-4b8e-a48e-9bc72f50be32",
   "metadata": {},
   "outputs": [],
   "source": [
    "df.iloc[:3,:2]"
   ]
  },
  {
   "cell_type": "code",
   "execution_count": null,
   "id": "66c934f4-ad47-48bf-bc89-943864f20a79",
   "metadata": {},
   "outputs": [],
   "source": [
    "df.loc[0:3,\"var3\"]"
   ]
  },
  {
   "cell_type": "code",
   "execution_count": null,
   "id": "08d588e6-0d4f-4009-9bc0-bda59585f29a",
   "metadata": {},
   "outputs": [],
   "source": [
    "df.iloc[0:3,\"var3\"] #hata verir. bu şekilde kullanılmak istenirse loc kullanılır"
   ]
  },
  {
   "cell_type": "code",
   "execution_count": null,
   "id": "5639c6a4-6bf2-4666-a3fd-ae8e4c12a785",
   "metadata": {},
   "outputs": [],
   "source": [
    "df.iloc[0:3][\"var3\"] #şeklinde kullanılırsa hata alınmaz."
   ]
  },
  {
   "cell_type": "code",
   "execution_count": null,
   "id": "e1368f05-c552-401b-bf7f-98fd579be329",
   "metadata": {},
   "outputs": [],
   "source": [
    "#verilen kurallara bağlı şekilde seçim yapmayaihtiyaç varsa gözlem ya da değişken seçimleri arasından loc\n",
    "#klasik index mantığıyla seçim yapılmak istenirse iloc"
   ]
  },
  {
   "cell_type": "markdown",
   "id": "393cfd01-7f32-4151-a581-abbe8be80fc0",
   "metadata": {},
   "source": [
    "# Koşullu Eleman İşlemleri"
   ]
  },
  {
   "cell_type": "code",
   "execution_count": null,
   "id": "f4aae3db-02d1-4921-8263-fbd99118273c",
   "metadata": {},
   "outputs": [],
   "source": [
    "m=np.random.randint(1,30, size=(10,3))\n",
    "df=pd.DataFrame(m, columns=[\"var1\",\"var2\",\"var3\"])\n",
    "df"
   ]
  },
  {
   "cell_type": "code",
   "execution_count": null,
   "id": "bedb1824-bf2d-45a7-83a0-160fa8e46ff3",
   "metadata": {},
   "outputs": [],
   "source": [
    "df[\"var1\"]"
   ]
  },
  {
   "cell_type": "code",
   "execution_count": null,
   "id": "1dd57b2a-01f1-4f67-ba68-a60fb4d0dcb8",
   "metadata": {},
   "outputs": [],
   "source": [
    "df[\"var1\"][0:2]"
   ]
  },
  {
   "cell_type": "code",
   "execution_count": null,
   "id": "d92a2180-f948-42f7-84ec-c9c4a8846034",
   "metadata": {},
   "outputs": [],
   "source": [
    "df[df.var1>15]#var1 içinde 15'ten büyük olanlar."
   ]
  },
  {
   "cell_type": "code",
   "execution_count": null,
   "id": "8d4b81d3-f2bc-41bb-9058-336fdd4d9c24",
   "metadata": {},
   "outputs": [],
   "source": [
    "#birden fazla koşul"
   ]
  },
  {
   "cell_type": "code",
   "execution_count": null,
   "id": "bc80a8e0-8f11-407f-ad4c-65fed8d20069",
   "metadata": {},
   "outputs": [],
   "source": [
    "df"
   ]
  },
  {
   "cell_type": "code",
   "execution_count": null,
   "id": "0dcf2d57-dd88-4c10-8374-7644fa8f0c7a",
   "metadata": {},
   "outputs": [],
   "source": [
    "df[(df.var1>15) & (df.var3 <5)]#15ten büyük ve 5'ten küçük olanlrı alır. Boş çünkü yok"
   ]
  },
  {
   "cell_type": "code",
   "execution_count": null,
   "id": "4bbb4056-45c3-4456-b6f0-1a70cb3fc53a",
   "metadata": {},
   "outputs": [],
   "source": [
    "df[(df.var1>15)] [[\"var1\",\"var2\"]]#var1'in 15ten büyük olanlarını alır ama hesini bastırır"
   ]
  },
  {
   "cell_type": "code",
   "execution_count": null,
   "id": "43b9fd37-9c17-46a2-a6ac-213a151654c7",
   "metadata": {},
   "outputs": [],
   "source": [
    "#sadece var1'i almak için"
   ]
  },
  {
   "cell_type": "code",
   "execution_count": null,
   "id": "b47b0560-91be-4f89-9068-c924191e6cd6",
   "metadata": {},
   "outputs": [],
   "source": [
    "df[(df.var1>15)][\"var1\"]"
   ]
  },
  {
   "cell_type": "markdown",
   "id": "a792497d-c522-4fef-b273-375e9de220ad",
   "metadata": {},
   "source": [
    "# Birleştirme (Join)"
   ]
  },
  {
   "cell_type": "code",
   "execution_count": null,
   "id": "0847eee8-ec7b-451c-b50b-760bf9f80d49",
   "metadata": {},
   "outputs": [],
   "source": [
    "import numpy as np\n",
    "import pandas as pd\n",
    "m=np.random.randint(1,30, size=(5,3))\n",
    "df1=pd.DataFrame(m, columns=[\"var1\",\"var2\",\"var3\"])\n",
    "df1"
   ]
  },
  {
   "cell_type": "code",
   "execution_count": null,
   "id": "fdedec8b-1439-4f41-a760-2fab277e56f6",
   "metadata": {},
   "outputs": [],
   "source": [
    "df2=df1+99\n",
    "df2"
   ]
  },
  {
   "cell_type": "code",
   "execution_count": null,
   "id": "942becc7-4266-4c5e-8f35-b15262d90677",
   "metadata": {},
   "outputs": [],
   "source": [
    "pd.concat([df1,df2]) #index sorunu var"
   ]
  },
  {
   "cell_type": "code",
   "execution_count": null,
   "id": "97140d49-d7a0-49d2-9502-5aa1c99dfed3",
   "metadata": {},
   "outputs": [],
   "source": [
    "pd.concat([df1,df2],ignore_index=True)#ön tanımlı olarak False vardır o zaman index sorunu olur True'ya çevirmeliyiz"
   ]
  },
  {
   "cell_type": "code",
   "execution_count": null,
   "id": "8b3cb047-e5b2-4f62-8579-20c92afed2dd",
   "metadata": {},
   "outputs": [],
   "source": [
    "#birleştirmek istediğimiz df'lerin değişken isimleri aynı değilse hata verir\n",
    "df1.columns"
   ]
  },
  {
   "cell_type": "code",
   "execution_count": null,
   "id": "2ea29df1-0e01-4017-bdfe-56c21660a01d",
   "metadata": {},
   "outputs": [],
   "source": [
    "df2.columns"
   ]
  },
  {
   "cell_type": "code",
   "execution_count": null,
   "id": "da3d7101-e989-4af6-b919-354742adeba2",
   "metadata": {},
   "outputs": [],
   "source": [
    "df2.columns=[\"var1\",\"var2\",\"deg3\"]"
   ]
  },
  {
   "cell_type": "code",
   "execution_count": null,
   "id": "d3f2dc43-8ef2-424f-abbe-60dc891c9b0e",
   "metadata": {},
   "outputs": [],
   "source": [
    "df2"
   ]
  },
  {
   "cell_type": "code",
   "execution_count": null,
   "id": "0329ec56-db9f-483c-9560-7094b361e80f",
   "metadata": {},
   "outputs": [],
   "source": [
    "pd.concat([df1,df2])#iki dfde de olmayan değerleri nan olarak işler."
   ]
  },
  {
   "cell_type": "code",
   "execution_count": null,
   "id": "4492eeb8-1921-480f-b525-7af99a0b2933",
   "metadata": {},
   "outputs": [],
   "source": [
    "#bu hatayı gidermek için;"
   ]
  },
  {
   "cell_type": "code",
   "execution_count": null,
   "id": "78c7f699-9a2b-4192-9af4-f22e0e067445",
   "metadata": {},
   "outputs": [],
   "source": [
    "pd.concat([df1,df2], join=\"inner\")#kesişimlerine göre birleştirdi"
   ]
  },
  {
   "cell_type": "code",
   "execution_count": null,
   "id": "c475dd6e-86e1-4253-85ac-1b440f7aa55a",
   "metadata": {},
   "outputs": [],
   "source": [
    "#pd.concat([df1,df2], join_axes=[df1.columns]) hata olmamalıyıd ama oldu"
   ]
  },
  {
   "cell_type": "markdown",
   "id": "049894b5-ee3c-4b67-b8d0-ead30fafd552",
   "metadata": {},
   "source": [
    "# İleri Birleştime İşlemleri\n",
    "## Birebir Birleştirme"
   ]
  },
  {
   "cell_type": "code",
   "execution_count": null,
   "id": "da7541a3-aef9-44af-b986-db0b1c69ccaa",
   "metadata": {},
   "outputs": [],
   "source": [
    "import pandas as pd"
   ]
  },
  {
   "cell_type": "code",
   "execution_count": null,
   "id": "79823175-9d4e-44f8-84e6-7fa1b3bfdd93",
   "metadata": {},
   "outputs": [],
   "source": [
    "df1=pd.DataFrame({'calisanlar':['Ali','Veli','Ayse','Fatma'],\n",
    "                   'grup':['Muhasebe','Muhendislik','Muhendislik','İK']})\n",
    "df1"
   ]
  },
  {
   "cell_type": "code",
   "execution_count": null,
   "id": "c20e5168-e34f-4989-87ca-049e8d9d2dc8",
   "metadata": {},
   "outputs": [],
   "source": [
    "df2=pd.DataFrame({'calisanlar': ['Ayse','Ali','Veli','Fatma'],\n",
    "                 'ilk_giris':[2010,2009,2014,2019]})\n",
    "df2"
   ]
  },
  {
   "cell_type": "code",
   "execution_count": null,
   "id": "022d2b3e-2806-4f06-b39d-4aeec194bb97",
   "metadata": {},
   "outputs": [],
   "source": [
    "#birebir birleştirme:tüm elemanların iki veri setinde de aynen yer almasıdır."
   ]
  },
  {
   "cell_type": "code",
   "execution_count": null,
   "id": "e22a8299-8e33-4dbf-9b40-f1f30eb5cc40",
   "metadata": {},
   "outputs": [],
   "source": [
    "pd.merge(df1,df2)#merge birleştirmelerin hangi değişkene göre yapılacağını kendi anlıyor.\n",
    "#bunu özellikle belirtmek istersek bir argüman aracılığı ile belirleyebiliriz"
   ]
  },
  {
   "cell_type": "code",
   "execution_count": null,
   "id": "5db0c813-0b3f-470a-8438-92b017dcf1ce",
   "metadata": {},
   "outputs": [],
   "source": [
    "pd.merge(df1,df2, on=\"calisanlar\")"
   ]
  },
  {
   "cell_type": "code",
   "execution_count": null,
   "id": "2c739676-c8cb-47e7-8626-b48f96fce727",
   "metadata": {},
   "outputs": [],
   "source": [
    "#çoktan teke birleştirme"
   ]
  },
  {
   "cell_type": "code",
   "execution_count": null,
   "id": "1458b444-eb8a-4305-91ac-65c09daa9537",
   "metadata": {},
   "outputs": [],
   "source": [
    "df3=pd.merge(df1,df2)\n",
    "df3"
   ]
  },
  {
   "cell_type": "code",
   "execution_count": null,
   "id": "edab7c46-731f-41dd-931c-9f485a4513e3",
   "metadata": {},
   "outputs": [],
   "source": [
    "df4=pd.DataFrame({'grup': ['Muhasebe','Muhendislik','İK'],\n",
    "                 'mudur': ['Caner','Mustafa','Berkcan']})\n",
    "df4"
   ]
  },
  {
   "cell_type": "code",
   "execution_count": null,
   "id": "7d7274f9-6d79-4d83-bad3-3b0147802333",
   "metadata": {},
   "outputs": [],
   "source": [
    "pd.merge(df3,df4)#df3te bir tnae muhendislik vardı ama çoktan teke birleştirme özelliği olarak hepsini birleştirdi"
   ]
  },
  {
   "cell_type": "code",
   "execution_count": null,
   "id": "9bc4c3c1-dc80-4723-b396-c42330f3a36d",
   "metadata": {},
   "outputs": [],
   "source": [
    "#çoktan çoka many to many"
   ]
  },
  {
   "cell_type": "code",
   "execution_count": null,
   "id": "aeb7db90-f948-4f77-b327-edbddccdc315",
   "metadata": {},
   "outputs": [],
   "source": [
    "df5=pd.DataFrame({'grup':['Muhasebe','Muhasebe','Muhendislik','Muhendislik',\n",
    "                          'İK','İK'],\n",
    "                 'yetenekler': ['matematik','excel','kodlama',\n",
    "                                'linux','excel','yonetim']})\n",
    "df5"
   ]
  },
  {
   "cell_type": "code",
   "execution_count": null,
   "id": "9468de77-9f3e-4f95-8654-a2a72a5516fa",
   "metadata": {},
   "outputs": [],
   "source": [
    "df1"
   ]
  },
  {
   "cell_type": "code",
   "execution_count": null,
   "id": "8f131f33-6e68-42ff-a327-e126cb83681c",
   "metadata": {},
   "outputs": [],
   "source": [
    "pd.merge(df1,df5)"
   ]
  },
  {
   "cell_type": "markdown",
   "id": "4140987d-e58a-4279-9df1-bc520a2fee3f",
   "metadata": {},
   "source": [
    "# Aggregation & Grouping (Toplulaştırma ve Gruplama)"
   ]
  },
  {
   "cell_type": "markdown",
   "id": "2128fcef-98ef-453e-84f5-25a10805be1b",
   "metadata": {},
   "source": [
    "Basit toplulaştırma fonksiyonları\n",
    "* count()\n",
    "* first()\n",
    "* last()\n",
    "* mean()\n",
    "* median()\n",
    "* min()\n",
    "* max()\n",
    "* std()\n",
    "* var()\n",
    "* sum()"
   ]
  },
  {
   "cell_type": "code",
   "execution_count": null,
   "id": "b53e313c-f489-4077-839e-8e81438d5d2f",
   "metadata": {},
   "outputs": [],
   "source": [
    "import seaborn as sns"
   ]
  },
  {
   "cell_type": "code",
   "execution_count": null,
   "id": "6a5e76a6-a1d3-4456-ba6d-e5b8404baebc",
   "metadata": {},
   "outputs": [],
   "source": [
    "df=sns.load_dataset(\"planets\")\n",
    "df.head()"
   ]
  },
  {
   "cell_type": "code",
   "execution_count": null,
   "id": "31014726-24ab-4a7c-90a1-57508078d64f",
   "metadata": {},
   "outputs": [],
   "source": [
    "df.shape"
   ]
  },
  {
   "cell_type": "code",
   "execution_count": null,
   "id": "20ac4cc2-2f23-4a4a-913d-2d68212aa32c",
   "metadata": {},
   "outputs": [],
   "source": [
    "df.mean()#bütün değişkenlerin ortalama değeri"
   ]
  },
  {
   "cell_type": "code",
   "execution_count": null,
   "id": "6d8f8749-f9fd-4853-be3e-755cc8a68a32",
   "metadata": {},
   "outputs": [],
   "source": [
    "df[\"mass\"].mean()"
   ]
  },
  {
   "cell_type": "code",
   "execution_count": null,
   "id": "12909378-c854-4256-bb68-77ec6c7b7332",
   "metadata": {},
   "outputs": [],
   "source": [
    "df.count()"
   ]
  },
  {
   "cell_type": "code",
   "execution_count": null,
   "id": "430309a0-1839-493d-9793-4859017e505d",
   "metadata": {},
   "outputs": [],
   "source": [
    "df.min()"
   ]
  },
  {
   "cell_type": "code",
   "execution_count": null,
   "id": "24e16b49-2291-483e-a5ef-f6acc591bdd8",
   "metadata": {},
   "outputs": [],
   "source": [
    "df.max()"
   ]
  },
  {
   "cell_type": "code",
   "execution_count": null,
   "id": "975df09e-be46-4ab3-8f26-232c02ae97f6",
   "metadata": {},
   "outputs": [],
   "source": [
    "df.sum()"
   ]
  },
  {
   "cell_type": "code",
   "execution_count": null,
   "id": "27a79c6b-518a-484a-a1b2-bf1814958aa8",
   "metadata": {},
   "outputs": [],
   "source": [
    "df.std() #standart sapma"
   ]
  },
  {
   "cell_type": "code",
   "execution_count": null,
   "id": "27421019-d92b-4c8c-9c1d-0bde229c9cda",
   "metadata": {},
   "outputs": [],
   "source": [
    "df.var() #varyans"
   ]
  },
  {
   "cell_type": "code",
   "execution_count": null,
   "id": "c02a6925-125d-4bcc-bdc0-dfead3a528c3",
   "metadata": {},
   "outputs": [],
   "source": [
    "df.describe()"
   ]
  },
  {
   "cell_type": "code",
   "execution_count": null,
   "id": "76ae794a-1986-47d4-aed0-1a11438237f9",
   "metadata": {},
   "outputs": [],
   "source": [
    "df.describe().T #transpoz"
   ]
  },
  {
   "cell_type": "code",
   "execution_count": null,
   "id": "30a72bec-dff8-4e03-b1d6-f1700ae41031",
   "metadata": {},
   "outputs": [],
   "source": [
    "df.dropna().describe().T#eksik değerleri görmek için"
   ]
  },
  {
   "cell_type": "markdown",
   "id": "75c5490b-d63b-484b-bf4f-08fe2a222397",
   "metadata": {},
   "source": [
    "## Gruplama işlemleri"
   ]
  },
  {
   "cell_type": "code",
   "execution_count": null,
   "id": "a683f649-e27f-4e32-aebc-2fb86a74c007",
   "metadata": {},
   "outputs": [],
   "source": [
    "df = pd.DataFrame({'gruplar':['A','B','C','A','B','C'],\n",
    "                  'veri': [10,11,52,23,43,55]}, columns=['gruplar','veri'])\n",
    "df"
   ]
  },
  {
   "cell_type": "code",
   "execution_count": null,
   "id": "490ea222-12b6-4d23-93c7-a8e509ff8965",
   "metadata": {},
   "outputs": [],
   "source": [
    "#gruplama: veri seti içinde yer alan kategorik değişkenlerin gruplarının yakalanması ve\n",
    "#ve grupların özelinde bazı işlemler yapılması. Yukardaki df'i 3 sınıf ve o sınıftaki notlar olarak düşünürsek\n",
    "#ortalamaları öğrenmek istersek gruplama ile yapabiliriz."
   ]
  },
  {
   "cell_type": "code",
   "execution_count": null,
   "id": "8b6dee0b-c922-4066-b9dc-eea1041f72f8",
   "metadata": {},
   "outputs": [],
   "source": [
    "df.groupby(\"gruplar\")#df'e git group by fonks ile gruplar değişkenini yakala ve kategorik değişkenleri tut"
   ]
  },
  {
   "cell_type": "code",
   "execution_count": null,
   "id": "a2fab499-74ae-4fdb-8cfd-6899a1961226",
   "metadata": {},
   "outputs": [],
   "source": [
    "df.groupby(\"gruplar\").mean()"
   ]
  },
  {
   "cell_type": "code",
   "execution_count": null,
   "id": "0c2f8ef9-397c-4cfd-b98d-8a719a89c84c",
   "metadata": {},
   "outputs": [],
   "source": [
    "df.groupby(\"gruplar\").sum()"
   ]
  },
  {
   "cell_type": "code",
   "execution_count": null,
   "id": "d579712c-ee86-4935-8f37-e403c81a61a5",
   "metadata": {},
   "outputs": [],
   "source": [
    "df=sns.load_dataset(\"planets\")\n",
    "df.head()"
   ]
  },
  {
   "cell_type": "code",
   "execution_count": null,
   "id": "966cc7f2-9e26-44c5-95b8-22fb815f4172",
   "metadata": {},
   "outputs": [],
   "source": [
    "df.groupby(\"method\")"
   ]
  },
  {
   "cell_type": "code",
   "execution_count": null,
   "id": "b6422464-7f1a-4123-a688-f613407d1082",
   "metadata": {},
   "outputs": [],
   "source": [
    "df.groupby(\"method\")[\"orbital_period\"].mean()"
   ]
  },
  {
   "cell_type": "markdown",
   "id": "861d4cd7-19b3-4c89-8d0e-1c7b3a57be2d",
   "metadata": {},
   "source": [
    "## İleri Toplulaştırma İşlemleri (Aggregate, filter, transform, apply)"
   ]
  },
  {
   "cell_type": "code",
   "execution_count": null,
   "id": "097604ee-9449-4ac7-a8ea-36721dc94751",
   "metadata": {},
   "outputs": [],
   "source": [
    "import pandas as pd\n",
    "df = pd.DataFrame({'gruplar': ['A','B','C','A','B','C'],\n",
    "                  'degisken1': [10,23,33,22,11,99],\n",
    "                  'degisken2': [100,253,333,262,111,969]},\n",
    "                 columns=['gruplar','degisken1','degisken2'])\n",
    "df"
   ]
  },
  {
   "cell_type": "code",
   "execution_count": null,
   "id": "b669d105-01f3-4c14-b7d6-1ea8f5fdad61",
   "metadata": {},
   "outputs": [],
   "source": [
    "#aggregate"
   ]
  },
  {
   "cell_type": "code",
   "execution_count": null,
   "id": "e8d65723-4ff5-4741-85af-d4ca01de868b",
   "metadata": {},
   "outputs": [],
   "source": [
    "df.groupby(\"gruplar\").mean()"
   ]
  },
  {
   "cell_type": "code",
   "execution_count": null,
   "id": "0e7f5aad-9e7f-48dc-99ba-2014c4a1d4f5",
   "metadata": {},
   "outputs": [],
   "source": [
    "df.groupby(\"gruplar\").aggregate([\"min\",np.median,max])\n",
    "#veri setini gruplara göre böl kendimiz bir istatiktik belirtmek istersek aggregate kullanılır\n",
    "#max ve min'i tırnak içinde ya da tırnaksız kullanabiliriz ama np.median tırnak ile kullanılmaz"
   ]
  },
  {
   "cell_type": "code",
   "execution_count": null,
   "id": "be2145d8-1510-4649-aedb-bc45dfcb3429",
   "metadata": {},
   "outputs": [],
   "source": [
    "df.groupby(\"gruplar\").aggregate({\"degisken1\": \"min\", \"degisken2\":\"max\"})"
   ]
  },
  {
   "cell_type": "markdown",
   "id": "431cd469-626d-4e11-9726-acf7c4120f08",
   "metadata": {},
   "source": [
    "## Filter"
   ]
  },
  {
   "cell_type": "code",
   "execution_count": null,
   "id": "4bb2bb32-0a38-43d0-b7b2-e32d8f43fd59",
   "metadata": {},
   "outputs": [],
   "source": [
    "import pandas as pd\n",
    "df = pd.DataFrame({'gruplar': ['A','B','C','A','B','C'],\n",
    "                  'degisken1': [10,23,33,22,11,99],\n",
    "                  'degisken2': [100,253,333,262,111,969]},\n",
    "                 columns=['gruplar','degisken1','degisken2'])\n",
    "df"
   ]
  },
  {
   "cell_type": "code",
   "execution_count": null,
   "id": "f488f731-5613-4496-a155-5669f68a19a7",
   "metadata": {},
   "outputs": [],
   "source": [
    "df.groupby(\"gruplar\").std()"
   ]
  },
  {
   "cell_type": "code",
   "execution_count": null,
   "id": "36409f67-d1e9-4a55-be54-36fa016257d4",
   "metadata": {},
   "outputs": [],
   "source": [
    "def filter_func(x):\n",
    "    return x[\"degisken1\"].std() > 9 #koşul belirlenir"
   ]
  },
  {
   "cell_type": "code",
   "execution_count": null,
   "id": "42e4ac54-5782-464c-92d4-5745306562e1",
   "metadata": {},
   "outputs": [],
   "source": [
    "df.groupby(\"gruplar\").filter(filter_func) #burda koşul yaptığımız fonksiyona göre filtreleriz\n",
    "#gruplara göre gruplar daha sonra standart sapmalarını hesaplar ve 9dan büyük olanlar filtreler"
   ]
  },
  {
   "cell_type": "markdown",
   "id": "6c260a59-d171-4336-bf41-8dea8477ef84",
   "metadata": {},
   "source": [
    "## Transform"
   ]
  },
  {
   "cell_type": "code",
   "execution_count": null,
   "id": "035b76b7-936e-4d58-8095-90a014a8fc49",
   "metadata": {},
   "outputs": [],
   "source": [
    "import pandas as pd\n",
    "df = pd.DataFrame({'gruplar': ['A','B','C','A','B','C'],\n",
    "                  'degisken1': [10,23,33,22,11,99],\n",
    "                  'degisken2': [100,253,333,262,111,969]},\n",
    "                 columns=['gruplar','degisken1','degisken2'])\n",
    "df"
   ]
  },
  {
   "cell_type": "code",
   "execution_count": null,
   "id": "101fb513-46e2-4fd2-b6c4-97a5fb51250e",
   "metadata": {},
   "outputs": [],
   "source": [
    "df[\"degisken1\"]*9"
   ]
  },
  {
   "cell_type": "code",
   "execution_count": null,
   "id": "823c03ac-53d3-4c55-bf67-1d1651c731c2",
   "metadata": {},
   "outputs": [],
   "source": [
    "#değişkenleri kendimiz değiştirmek istersek kendi tanımladığımız fonksiyonu filter gibi transform kullanarak yapabiliriz "
   ]
  },
  {
   "cell_type": "code",
   "execution_count": null,
   "id": "f1b25b50-53a9-49fb-ab15-c2e500c9136b",
   "metadata": {},
   "outputs": [],
   "source": [
    "df_a = df.iloc[:,1:3]\n",
    "df_a"
   ]
  },
  {
   "cell_type": "code",
   "execution_count": null,
   "id": "b6f1c647-b80f-469a-b3af-075fe8009345",
   "metadata": {},
   "outputs": [],
   "source": [
    "df_a.transform(lambda x: x-x.mean())#gruplar numerik olmadığı için hata verir o yüzden yukardaki işlemi yaptık"
   ]
  },
  {
   "cell_type": "code",
   "execution_count": null,
   "id": "9ca03c3c-d8c0-48a4-a20e-a8a145f522a4",
   "metadata": {},
   "outputs": [],
   "source": [
    "df_a.transform(lambda x: (x-x.mean()) / x.std())"
   ]
  },
  {
   "cell_type": "markdown",
   "id": "084276de-72a2-4488-b24e-f9446db16429",
   "metadata": {},
   "source": [
    "## Apply"
   ]
  },
  {
   "cell_type": "code",
   "execution_count": null,
   "id": "aeffcf92-0f65-4b8a-a68e-5139bd5fa1cc",
   "metadata": {},
   "outputs": [],
   "source": [
    "import pandas as pd\n",
    "df = pd.DataFrame({\n",
    "                  'degisken1': [10,23,33,22,11,99],\n",
    "                  'degisken2': [100,253,333,262,111,969]},\n",
    "                 columns=['degisken1','degisken2'])\n",
    "df"
   ]
  },
  {
   "cell_type": "code",
   "execution_count": null,
   "id": "ffec0d7c-45d7-465b-8d5c-d8f90a797207",
   "metadata": {},
   "outputs": [],
   "source": [
    "#df'im değişkenleri üzerinde gezinme yeteneği olan ve toplulaştırma amacı ile kullanılabilecek bir fonksiyon"
   ]
  },
  {
   "cell_type": "code",
   "execution_count": null,
   "id": "40981709-d58c-47fa-8394-4b7f3fc0e58f",
   "metadata": {},
   "outputs": [],
   "source": [
    "df.apply(np.sum)"
   ]
  },
  {
   "cell_type": "code",
   "execution_count": null,
   "id": "3ede454f-7f95-47ad-9811-955d818c6f18",
   "metadata": {},
   "outputs": [],
   "source": [
    "#gruplar kısmını silmeseydik de çalışırdı \n",
    "#df.groupby(\"gruplar\").apply(np.mean) şeklinde yazılır\n",
    "#çıktısı AA 32 362\n",
    "#        BB\n",
    "#        CC şeklimde olur"
   ]
  },
  {
   "cell_type": "markdown",
   "id": "e81e48c3-c5f8-45d4-ac1e-373358a0dfab",
   "metadata": {},
   "source": [
    "# Pivot Tabloları"
   ]
  },
  {
   "cell_type": "code",
   "execution_count": null,
   "id": "debe5d50-7b72-4da2-a188-b62bedc9ce95",
   "metadata": {},
   "outputs": [],
   "source": [
    "#groupby'ın çok boyutlu versiyonu"
   ]
  },
  {
   "cell_type": "code",
   "execution_count": null,
   "id": "a462b431-36c7-4a78-ab69-e10cc78485a1",
   "metadata": {},
   "outputs": [],
   "source": [
    "import pandas as pd\n",
    "import seaborn as sns\n",
    "titanic = sns.load_dataset('titanic')\n",
    "titanic.head()"
   ]
  },
  {
   "cell_type": "code",
   "execution_count": null,
   "id": "4c3ac37e-4099-47fb-b5d0-8d5e4920a474",
   "metadata": {},
   "outputs": [],
   "source": [
    "titanic.groupby(\"sex\")[\"survived\"].mean() #ilkel pivotlamak"
   ]
  },
  {
   "cell_type": "code",
   "execution_count": null,
   "id": "5aec3164-8b55-4cd8-8158-72dce13001f4",
   "metadata": {},
   "outputs": [],
   "source": [
    "titanic.groupby([\"sex\",\"class\"])[[\"survived\"]].aggregate(\"mean\").unstack()#unstack işlemi okunmayı kolaylaştırır"
   ]
  },
  {
   "cell_type": "code",
   "execution_count": null,
   "id": "8f283279-e4af-4525-8d3b-efb619c55ec5",
   "metadata": {},
   "outputs": [],
   "source": [
    "#pivot ile table"
   ]
  },
  {
   "cell_type": "code",
   "execution_count": null,
   "id": "5bcbef26-1a21-49c6-9063-5a3da523f0c9",
   "metadata": {},
   "outputs": [],
   "source": [
    "titanic.pivot_table(\"survived\", index= \"sex\", columns=\"class\")\n",
    "# odaklandığın değişken, index, başka hangi değişkene odaklanmmak istersin"
   ]
  },
  {
   "cell_type": "code",
   "execution_count": null,
   "id": "e8aad1ab-b422-4ae9-b178-f903bcf073e1",
   "metadata": {},
   "outputs": [],
   "source": [
    "#sürekli değişkeni kategorik değişkene çevirip sonra bunun sınıflarını da pivot tabloya boyut olarak ekleme"
   ]
  },
  {
   "cell_type": "code",
   "execution_count": null,
   "id": "fe3367cd-336f-44f4-b922-fb8ddabfbb26",
   "metadata": {},
   "outputs": [],
   "source": [
    "titanic.age.head()"
   ]
  },
  {
   "cell_type": "code",
   "execution_count": null,
   "id": "ffe718cb-2285-4bf3-a60b-5a2b338a810b",
   "metadata": {},
   "outputs": [],
   "source": [
    "age= pd.cut(titanic[\"age\"],[0,18,90])\n",
    "#titanikteki age değişkenini böl. 10 18 ve 90 değerlerine göre böl\n",
    "age.head(10)"
   ]
  },
  {
   "cell_type": "code",
   "execution_count": null,
   "id": "ccaa7aad-621a-4251-a49c-bfb5394f37e2",
   "metadata": {},
   "outputs": [],
   "source": [
    "titanic.pivot_table(\"survived\", [\"sex\",age], \"class\")#burdaki age dışardan gelen bizim yaptığımız o yüzden tırnakla kullanılmaz."
   ]
  },
  {
   "cell_type": "markdown",
   "id": "90c5ad7a-ad72-40f6-8a74-db69044c0d2e",
   "metadata": {},
   "source": [
    "# Dış Kaynaklı Veri Okuma"
   ]
  },
  {
   "cell_type": "code",
   "execution_count": null,
   "id": "b794ce7f-a504-4277-b1ee-36f31ef17249",
   "metadata": {},
   "outputs": [],
   "source": [
    "import pandas as pd"
   ]
  },
  {
   "cell_type": "code",
   "execution_count": null,
   "id": "37e942dd-4c46-48ec-aa78-df9e39aea1c2",
   "metadata": {},
   "outputs": [],
   "source": [
    "#csv okuma\n",
    "pd.read_csv(\"reading_data/reading_data/ornekcsv.csv\",sep=\";\")"
   ]
  },
  {
   "cell_type": "code",
   "execution_count": null,
   "id": "e048f530-9d76-46eb-a945-dfe940a1dec1",
   "metadata": {},
   "outputs": [],
   "source": [
    "#txt okuma\n",
    "pd.read_csv(\"reading_data/reading_data/duz_metin.txt\")"
   ]
  },
  {
   "cell_type": "code",
   "execution_count": null,
   "id": "73c55fec-8e72-4d32-b843-42133495c3c3",
   "metadata": {},
   "outputs": [],
   "source": [
    "pd.read_excel(\"reading_data/reading_data/ornekx.xlsx\")"
   ]
  },
  {
   "cell_type": "code",
   "execution_count": null,
   "id": "3930e873-7319-45eb-9953-7ab2bb8b4418",
   "metadata": {},
   "outputs": [],
   "source": [
    "df = pd.read_excel(\"reading_data/reading_data/ornekx.xlsx\")"
   ]
  },
  {
   "cell_type": "code",
   "execution_count": null,
   "id": "9b39ec7c-2faa-4f8f-a44f-874be84f83e7",
   "metadata": {},
   "outputs": [],
   "source": [
    "df.head()"
   ]
  },
  {
   "cell_type": "markdown",
   "id": "b8d7139c-bed5-407a-aeda-600506e8cfee",
   "metadata": {},
   "source": [
    "# Aykırı Gözlem Analizi\n",
    "## Aykırı Değerleri Yakalamak"
   ]
  },
  {
   "cell_type": "code",
   "execution_count": 5,
   "id": "515fa81a-8dd6-47ad-9b81-83341692a89c",
   "metadata": {},
   "outputs": [
    {
     "ename": "NameError",
     "evalue": "name 'df' is not defined",
     "output_type": "error",
     "traceback": [
      "\u001b[1;31m---------------------------------------------------------------------------\u001b[0m",
      "\u001b[1;31mNameError\u001b[0m                                 Traceback (most recent call last)",
      "\u001b[1;32m~\\AppData\\Local\\Temp/ipykernel_16772/2017698228.py\u001b[0m in \u001b[0;36m<module>\u001b[1;34m\u001b[0m\n\u001b[1;32m----> 1\u001b[1;33m \u001b[0mdf\u001b[0m\u001b[1;33m.\u001b[0m\u001b[0mcolumns\u001b[0m\u001b[1;33m=\u001b[0m\u001b[1;33m(\u001b[0m\u001b[1;34m\"A\"\u001b[0m\u001b[1;33m,\u001b[0m\u001b[1;34m\"B\"\u001b[0m\u001b[1;33m,\u001b[0m\u001b[1;34m\"C\"\u001b[0m\u001b[1;33m)\u001b[0m\u001b[1;33m\u001b[0m\u001b[1;33m\u001b[0m\u001b[0m\n\u001b[0m\u001b[0;32m      2\u001b[0m \u001b[0mdf\u001b[0m\u001b[1;33m\u001b[0m\u001b[1;33m\u001b[0m\u001b[0m\n",
      "\u001b[1;31mNameError\u001b[0m: name 'df' is not defined"
     ]
    }
   ],
   "source": [
    "df.columns=(\"A\",\"B\",\"C\")\n",
    "df"
   ]
  },
  {
   "cell_type": "code",
   "execution_count": 6,
   "id": "5e96071a-7b3e-4a71-8e4c-5485b60779eb",
   "metadata": {},
   "outputs": [
    {
     "data": {
      "text/html": [
       "<div>\n",
       "<style scoped>\n",
       "    .dataframe tbody tr th:only-of-type {\n",
       "        vertical-align: middle;\n",
       "    }\n",
       "\n",
       "    .dataframe tbody tr th {\n",
       "        vertical-align: top;\n",
       "    }\n",
       "\n",
       "    .dataframe thead th {\n",
       "        text-align: right;\n",
       "    }\n",
       "</style>\n",
       "<table border=\"1\" class=\"dataframe\">\n",
       "  <thead>\n",
       "    <tr style=\"text-align: right;\">\n",
       "      <th></th>\n",
       "      <th>carat</th>\n",
       "      <th>depth</th>\n",
       "      <th>table</th>\n",
       "      <th>price</th>\n",
       "      <th>x</th>\n",
       "      <th>y</th>\n",
       "      <th>z</th>\n",
       "    </tr>\n",
       "  </thead>\n",
       "  <tbody>\n",
       "    <tr>\n",
       "      <th>0</th>\n",
       "      <td>0.23</td>\n",
       "      <td>61.5</td>\n",
       "      <td>55.0</td>\n",
       "      <td>326</td>\n",
       "      <td>3.95</td>\n",
       "      <td>3.98</td>\n",
       "      <td>2.43</td>\n",
       "    </tr>\n",
       "    <tr>\n",
       "      <th>1</th>\n",
       "      <td>0.21</td>\n",
       "      <td>59.8</td>\n",
       "      <td>61.0</td>\n",
       "      <td>326</td>\n",
       "      <td>3.89</td>\n",
       "      <td>3.84</td>\n",
       "      <td>2.31</td>\n",
       "    </tr>\n",
       "    <tr>\n",
       "      <th>2</th>\n",
       "      <td>0.23</td>\n",
       "      <td>56.9</td>\n",
       "      <td>65.0</td>\n",
       "      <td>327</td>\n",
       "      <td>4.05</td>\n",
       "      <td>4.07</td>\n",
       "      <td>2.31</td>\n",
       "    </tr>\n",
       "    <tr>\n",
       "      <th>3</th>\n",
       "      <td>0.29</td>\n",
       "      <td>62.4</td>\n",
       "      <td>58.0</td>\n",
       "      <td>334</td>\n",
       "      <td>4.20</td>\n",
       "      <td>4.23</td>\n",
       "      <td>2.63</td>\n",
       "    </tr>\n",
       "    <tr>\n",
       "      <th>4</th>\n",
       "      <td>0.31</td>\n",
       "      <td>63.3</td>\n",
       "      <td>58.0</td>\n",
       "      <td>335</td>\n",
       "      <td>4.34</td>\n",
       "      <td>4.35</td>\n",
       "      <td>2.75</td>\n",
       "    </tr>\n",
       "  </tbody>\n",
       "</table>\n",
       "</div>"
      ],
      "text/plain": [
       "   carat  depth  table  price     x     y     z\n",
       "0   0.23   61.5   55.0    326  3.95  3.98  2.43\n",
       "1   0.21   59.8   61.0    326  3.89  3.84  2.31\n",
       "2   0.23   56.9   65.0    327  4.05  4.07  2.31\n",
       "3   0.29   62.4   58.0    334  4.20  4.23  2.63\n",
       "4   0.31   63.3   58.0    335  4.34  4.35  2.75"
      ]
     },
     "execution_count": 6,
     "metadata": {},
     "output_type": "execute_result"
    }
   ],
   "source": [
    "import seaborn as sns\n",
    "df=sns.load_dataset('diamonds')\n",
    "df=df.select_dtypes(include=['float64','int64'])\n",
    "df=df.dropna()\n",
    "df.head()"
   ]
  },
  {
   "cell_type": "code",
   "execution_count": 7,
   "id": "a1bba4ec-6b67-4864-8fa2-fb24ba30ae41",
   "metadata": {},
   "outputs": [],
   "source": [
    "df_table=df[\"table\"]"
   ]
  },
  {
   "cell_type": "code",
   "execution_count": 8,
   "id": "424704cb-9a1a-4716-9135-913f811ee6d1",
   "metadata": {},
   "outputs": [
    {
     "data": {
      "text/plain": [
       "0    55.0\n",
       "1    61.0\n",
       "2    65.0\n",
       "3    58.0\n",
       "4    58.0\n",
       "Name: table, dtype: float64"
      ]
     },
     "execution_count": 8,
     "metadata": {},
     "output_type": "execute_result"
    }
   ],
   "source": [
    "df_table.head()"
   ]
  },
  {
   "cell_type": "code",
   "execution_count": 9,
   "id": "6dd7412b-9027-48ca-8231-d6e2e9973116",
   "metadata": {},
   "outputs": [
    {
     "data": {
      "image/png": "[encoded data removed]",
      "text/plain": [
       "<Figure size 432x288 with 1 Axes>"
      ]
     },
     "metadata": {
      "needs_background": "light"
     },
     "output_type": "display_data"
    }
   ],
   "source": [
    "sns.boxplot(x=df_table);#kutu grafikte sağ ve sol tarafındakiler olucak şekilde table değişkeni için aykırı değerlere odaklanmış olucak"
   ]
  },
  {
   "cell_type": "code",
   "execution_count": null,
   "id": "b708e640-244d-4531-9eac-1e24759c4128",
   "metadata": {},
   "outputs": [],
   "source": [
    "#yapıcak olduğumuz işlem;\n",
    "#bir eşik değer belirlememiz gerekiyor "
   ]
  },
  {
   "cell_type": "code",
   "execution_count": 10,
   "id": "e1652c2d-621d-4155-89a1-c16f4f451c70",
   "metadata": {},
   "outputs": [],
   "source": [
    "Q1=df_table.quantile(0.25)#veri setinin küçükte büyüğe sıralandığında yüzde 25inci indexine denk gelen değeri alır\n",
    "Q3=df_table.quantile(0.75)\n",
    "IQR = Q3 - Q1#veri setinin yüzde 25lik kısmına dennk gelen değer ve yüzde 75lik indexine denk gelen değer ile bir değer hesaplayacağız. "
   ]
  },
  {
   "cell_type": "code",
   "execution_count": 11,
   "id": "de15ad86-9f22-45df-a465-dfe0752aa366",
   "metadata": {},
   "outputs": [
    {
     "data": {
      "text/plain": [
       "56.0"
      ]
     },
     "execution_count": 11,
     "metadata": {},
     "output_type": "execute_result"
    }
   ],
   "source": [
    "Q1"
   ]
  },
  {
   "cell_type": "code",
   "execution_count": 12,
   "id": "a7662c58-9218-495b-b58a-d6029470cd09",
   "metadata": {},
   "outputs": [
    {
     "data": {
      "text/plain": [
       "59.0"
      ]
     },
     "execution_count": 12,
     "metadata": {},
     "output_type": "execute_result"
    }
   ],
   "source": [
    "Q3"
   ]
  },
  {
   "cell_type": "code",
   "execution_count": 13,
   "id": "d5145a5f-0e1e-4403-a6f9-a62d477dd5d0",
   "metadata": {},
   "outputs": [
    {
     "data": {
      "text/plain": [
       "3.0"
      ]
     },
     "execution_count": 13,
     "metadata": {},
     "output_type": "execute_result"
    }
   ],
   "source": [
    "IQR"
   ]
  },
  {
   "cell_type": "code",
   "execution_count": 14,
   "id": "4377dfdd-5c19-4203-9a51-6a9f58506af3",
   "metadata": {},
   "outputs": [],
   "source": [
    "alt_sinir= Q1-1.5*IQR\n",
    "ust_sinir= Q3+ 1.5*IQR"
   ]
  },
  {
   "cell_type": "code",
   "execution_count": 15,
   "id": "9961b6fc-d0f1-4b13-9bde-8fb754eee64a",
   "metadata": {},
   "outputs": [
    {
     "data": {
      "text/plain": [
       "51.5"
      ]
     },
     "execution_count": 15,
     "metadata": {},
     "output_type": "execute_result"
    }
   ],
   "source": [
    "alt_sinir"
   ]
  },
  {
   "cell_type": "code",
   "execution_count": 16,
   "id": "27d2bea2-eadc-4f4b-a3e4-4d987dba769f",
   "metadata": {},
   "outputs": [
    {
     "data": {
      "text/plain": [
       "63.5"
      ]
     },
     "execution_count": 16,
     "metadata": {},
     "output_type": "execute_result"
    }
   ],
   "source": [
    "ust_sinir"
   ]
  },
  {
   "cell_type": "code",
   "execution_count": 17,
   "id": "1294e93c-06b2-4269-bcbf-f4122dde3663",
   "metadata": {},
   "outputs": [],
   "source": [
    "#yani verinin dağılımının üzerine en üstteki değeri yani üçüncü çeyreklik değeri ve birinci çeyreklik değerindeki farktan daha uzakta ya da aşağıda değer varsa bu değerlere aykırı değer muamelesi yap anlamına gelir\n",
    "#tablodaki sağ taraftaki çizgi ust_sinirdir ve onun arkasındakiler aykırı değerlerdir\n",
    "#soldaki çizgi ise alt_sinirdir ve arkasındakiler yine aykırı değerlerdir"
   ]
  },
  {
   "cell_type": "code",
   "execution_count": 18,
   "id": "a1ff0368-36ea-49db-9331-26a127ca3f17",
   "metadata": {},
   "outputs": [
    {
     "data": {
      "text/plain": [
       "0        False\n",
       "1        False\n",
       "2         True\n",
       "3        False\n",
       "4        False\n",
       "         ...  \n",
       "53935    False\n",
       "53936    False\n",
       "53937    False\n",
       "53938    False\n",
       "53939    False\n",
       "Name: table, Length: 53940, dtype: bool"
      ]
     },
     "execution_count": 18,
     "metadata": {},
     "output_type": "execute_result"
    }
   ],
   "source": [
    "#aykırı değer sorgulaması\n",
    "(df_table < alt_sinir) | (df_table > ust_sinir) #ya alt sınırdan küçük ya da üst sınırdan büyük olanları true döndürdü. yani biri sağlıyorsa true olur"
   ]
  },
  {
   "cell_type": "code",
   "execution_count": 19,
   "id": "fdb79def-ea33-4904-b848-72edf76ded25",
   "metadata": {},
   "outputs": [],
   "source": [
    "aykiri_tf=(df_table < alt_sinir)"
   ]
  },
  {
   "cell_type": "code",
   "execution_count": 20,
   "id": "d140d004-e60b-4a2a-8c2c-faed6e5da0f8",
   "metadata": {},
   "outputs": [
    {
     "data": {
      "text/plain": [
       "0    False\n",
       "1    False\n",
       "2    False\n",
       "3    False\n",
       "4    False\n",
       "Name: table, dtype: bool"
      ]
     },
     "execution_count": 20,
     "metadata": {},
     "output_type": "execute_result"
    }
   ],
   "source": [
    "aykiri_tf.head()"
   ]
  },
  {
   "cell_type": "code",
   "execution_count": 21,
   "id": "fa953e57-0e55-4401-8fb0-150d715f6a52",
   "metadata": {},
   "outputs": [
    {
     "data": {
      "text/plain": [
       "1515     51.0\n",
       "3238     50.1\n",
       "3979     51.0\n",
       "4150     51.0\n",
       "5979     49.0\n",
       "7418     50.0\n",
       "8853     51.0\n",
       "11368    43.0\n",
       "22701    49.0\n",
       "25179    50.0\n",
       "26387    51.0\n",
       "33586    51.0\n",
       "35633    44.0\n",
       "45798    51.0\n",
       "46040    51.0\n",
       "47630    51.0\n",
       "Name: table, dtype: float64"
      ]
     },
     "execution_count": 21,
     "metadata": {},
     "output_type": "execute_result"
    }
   ],
   "source": [
    "df_table[aykiri_tf]#değerlere ve indexlerine ulaşma"
   ]
  },
  {
   "cell_type": "code",
   "execution_count": 22,
   "id": "6b7f1001-e22d-4991-8fa1-16a136f351fb",
   "metadata": {},
   "outputs": [
    {
     "data": {
      "text/plain": [
       "Int64Index([ 1515,  3238,  3979,  4150,  5979,  7418,  8853, 11368, 22701,\n",
       "            25179, 26387, 33586, 35633, 45798, 46040, 47630],\n",
       "           dtype='int64')"
      ]
     },
     "execution_count": 22,
     "metadata": {},
     "output_type": "execute_result"
    }
   ],
   "source": [
    "df_table[aykiri_tf].index"
   ]
  },
  {
   "cell_type": "markdown",
   "id": "479ed738-eed8-4d60-90e1-a3d86c344e44",
   "metadata": {},
   "source": [
    "## Aykırı Değer Problemini Çözmek"
   ]
  },
  {
   "cell_type": "code",
   "execution_count": 23,
   "id": "8c25719a-ef98-48fd-ba45-4cd16445b7d7",
   "metadata": {},
   "outputs": [
    {
     "data": {
      "text/plain": [
       "1515     51.0\n",
       "3238     50.1\n",
       "3979     51.0\n",
       "4150     51.0\n",
       "5979     49.0\n",
       "7418     50.0\n",
       "8853     51.0\n",
       "11368    43.0\n",
       "22701    49.0\n",
       "25179    50.0\n",
       "26387    51.0\n",
       "33586    51.0\n",
       "35633    44.0\n",
       "45798    51.0\n",
       "46040    51.0\n",
       "47630    51.0\n",
       "Name: table, dtype: float64"
      ]
     },
     "execution_count": 23,
     "metadata": {},
     "output_type": "execute_result"
    }
   ],
   "source": [
    "df_table[aykiri_tf]"
   ]
  },
  {
   "cell_type": "markdown",
   "id": "d6a69ba7-8329-4a1a-b7c7-346e1879fab6",
   "metadata": {},
   "source": [
    "### Silme Yöntemi"
   ]
  },
  {
   "cell_type": "code",
   "execution_count": 20,
   "id": "bb4193d9-277f-4beb-97ed-da4b901ff2c3",
   "metadata": {},
   "outputs": [],
   "source": [
    "import pandas as pd"
   ]
  },
  {
   "cell_type": "code",
   "execution_count": 25,
   "id": "33b7bbce-b9b9-464b-9925-a180bed8b2b7",
   "metadata": {},
   "outputs": [],
   "source": [
    "df_table =pd.DataFrame(df_table)"
   ]
  },
  {
   "cell_type": "code",
   "execution_count": 26,
   "id": "191eb542-895e-4ea3-83b5-37f5891a3ea0",
   "metadata": {},
   "outputs": [
    {
     "data": {
      "text/plain": [
       "(53940, 1)"
      ]
     },
     "execution_count": 26,
     "metadata": {},
     "output_type": "execute_result"
    }
   ],
   "source": [
    "df_table.shape"
   ]
  },
  {
   "cell_type": "code",
   "execution_count": 27,
   "id": "0660ca22-08fd-4ba1-9d3f-d613ec24aeb8",
   "metadata": {},
   "outputs": [],
   "source": [
    "#~aykırı olmayanları seç demek için"
   ]
  },
  {
   "cell_type": "code",
   "execution_count": 28,
   "id": "1a6d5395-c619-40b5-b791-3d4c8aa4bee8",
   "metadata": {},
   "outputs": [],
   "source": [
    "t_df = df_table[~((df_table < (alt_sinir)) | (df_table > (ust_sinir))).any(axis = 1)]"
   ]
  },
  {
   "cell_type": "code",
   "execution_count": 30,
   "id": "4072651e-4fd4-492e-b0c9-1620af1fddfc",
   "metadata": {},
   "outputs": [
    {
     "name": "stdout",
     "output_type": "stream",
     "text": [
      "(53335, 1)\n"
     ]
    }
   ],
   "source": [
    "print(t_df.shape)"
   ]
  },
  {
   "cell_type": "markdown",
   "id": "e6decfa4-0d64-4890-96df-4b6d48ff68f5",
   "metadata": {},
   "source": [
    "### Ortalama ile Doldurma"
   ]
  },
  {
   "cell_type": "code",
   "execution_count": 31,
   "id": "ffa37c7d-56de-43d1-9a12-ae16f4f0cf2d",
   "metadata": {},
   "outputs": [
    {
     "data": {
      "text/html": [
       "<div>\n",
       "<style scoped>\n",
       "    .dataframe tbody tr th:only-of-type {\n",
       "        vertical-align: middle;\n",
       "    }\n",
       "\n",
       "    .dataframe tbody tr th {\n",
       "        vertical-align: top;\n",
       "    }\n",
       "\n",
       "    .dataframe thead th {\n",
       "        text-align: right;\n",
       "    }\n",
       "</style>\n",
       "<table border=\"1\" class=\"dataframe\">\n",
       "  <thead>\n",
       "    <tr style=\"text-align: right;\">\n",
       "      <th></th>\n",
       "      <th>carat</th>\n",
       "      <th>depth</th>\n",
       "      <th>table</th>\n",
       "      <th>price</th>\n",
       "      <th>x</th>\n",
       "      <th>y</th>\n",
       "      <th>z</th>\n",
       "    </tr>\n",
       "  </thead>\n",
       "  <tbody>\n",
       "    <tr>\n",
       "      <th>0</th>\n",
       "      <td>0.23</td>\n",
       "      <td>61.5</td>\n",
       "      <td>55.0</td>\n",
       "      <td>326</td>\n",
       "      <td>3.95</td>\n",
       "      <td>3.98</td>\n",
       "      <td>2.43</td>\n",
       "    </tr>\n",
       "    <tr>\n",
       "      <th>1</th>\n",
       "      <td>0.21</td>\n",
       "      <td>59.8</td>\n",
       "      <td>61.0</td>\n",
       "      <td>326</td>\n",
       "      <td>3.89</td>\n",
       "      <td>3.84</td>\n",
       "      <td>2.31</td>\n",
       "    </tr>\n",
       "    <tr>\n",
       "      <th>2</th>\n",
       "      <td>0.23</td>\n",
       "      <td>56.9</td>\n",
       "      <td>65.0</td>\n",
       "      <td>327</td>\n",
       "      <td>4.05</td>\n",
       "      <td>4.07</td>\n",
       "      <td>2.31</td>\n",
       "    </tr>\n",
       "    <tr>\n",
       "      <th>3</th>\n",
       "      <td>0.29</td>\n",
       "      <td>62.4</td>\n",
       "      <td>58.0</td>\n",
       "      <td>334</td>\n",
       "      <td>4.20</td>\n",
       "      <td>4.23</td>\n",
       "      <td>2.63</td>\n",
       "    </tr>\n",
       "    <tr>\n",
       "      <th>4</th>\n",
       "      <td>0.31</td>\n",
       "      <td>63.3</td>\n",
       "      <td>58.0</td>\n",
       "      <td>335</td>\n",
       "      <td>4.34</td>\n",
       "      <td>4.35</td>\n",
       "      <td>2.75</td>\n",
       "    </tr>\n",
       "  </tbody>\n",
       "</table>\n",
       "</div>"
      ],
      "text/plain": [
       "   carat  depth  table  price     x     y     z\n",
       "0   0.23   61.5   55.0    326  3.95  3.98  2.43\n",
       "1   0.21   59.8   61.0    326  3.89  3.84  2.31\n",
       "2   0.23   56.9   65.0    327  4.05  4.07  2.31\n",
       "3   0.29   62.4   58.0    334  4.20  4.23  2.63\n",
       "4   0.31   63.3   58.0    335  4.34  4.35  2.75"
      ]
     },
     "execution_count": 31,
     "metadata": {},
     "output_type": "execute_result"
    }
   ],
   "source": [
    "import seaborn as sns\n",
    "df=sns.load_dataset('diamonds')\n",
    "df=df.select_dtypes(include=['float64','int64'])\n",
    "df=df.dropna()\n",
    "df.head()"
   ]
  },
  {
   "cell_type": "code",
   "execution_count": 32,
   "id": "878023a3-409d-45f2-a561-cd247f20a598",
   "metadata": {},
   "outputs": [],
   "source": [
    "df_table=df[\"table\"]"
   ]
  },
  {
   "cell_type": "code",
   "execution_count": 33,
   "id": "7bf4fac3-2dbb-4c65-be1d-fc22d3be8afd",
   "metadata": {},
   "outputs": [
    {
     "data": {
      "text/plain": [
       "(0    False\n",
       " 1    False\n",
       " 2    False\n",
       " 3    False\n",
       " 4    False\n",
       " Name: table, dtype: bool,)"
      ]
     },
     "execution_count": 33,
     "metadata": {},
     "output_type": "execute_result"
    }
   ],
   "source": [
    "aykiri_tf.head(),"
   ]
  },
  {
   "cell_type": "code",
   "execution_count": 34,
   "id": "5dc8823f-d7db-4a6c-954c-ac2699c518eb",
   "metadata": {},
   "outputs": [
    {
     "data": {
      "text/plain": [
       "1515     51.0\n",
       "3238     50.1\n",
       "3979     51.0\n",
       "4150     51.0\n",
       "5979     49.0\n",
       "7418     50.0\n",
       "8853     51.0\n",
       "11368    43.0\n",
       "22701    49.0\n",
       "25179    50.0\n",
       "26387    51.0\n",
       "33586    51.0\n",
       "35633    44.0\n",
       "45798    51.0\n",
       "46040    51.0\n",
       "47630    51.0\n",
       "Name: table, dtype: float64"
      ]
     },
     "execution_count": 34,
     "metadata": {},
     "output_type": "execute_result"
    }
   ],
   "source": [
    "df_table[aykiri_tf]#alt sınırdaki aykırı değerler"
   ]
  },
  {
   "cell_type": "code",
   "execution_count": 35,
   "id": "46be156f-4db6-4c17-b186-953738b9a9b8",
   "metadata": {},
   "outputs": [
    {
     "data": {
      "text/plain": [
       "57.45718390804603"
      ]
     },
     "execution_count": 35,
     "metadata": {},
     "output_type": "execute_result"
    }
   ],
   "source": [
    "df_table.mean()"
   ]
  },
  {
   "cell_type": "code",
   "execution_count": 36,
   "id": "0f2a22ba-e3aa-4a39-84e3-bacfe48f9e4f",
   "metadata": {},
   "outputs": [
    {
     "name": "stderr",
     "output_type": "stream",
     "text": [
      "C:\\Users\\Monster\\AppData\\Local\\Temp/ipykernel_16772/2622707348.py:1: SettingWithCopyWarning: \n",
      "A value is trying to be set on a copy of a slice from a DataFrame\n",
      "\n",
      "See the caveats in the documentation: https://pandas.pydata.org/pandas-docs/stable/user_guide/indexing.html#returning-a-view-versus-a-copy\n",
      "  df_table[aykiri_tf]=df_table.mean()\n"
     ]
    }
   ],
   "source": [
    "df_table[aykiri_tf]=df_table.mean()"
   ]
  },
  {
   "cell_type": "code",
   "execution_count": 38,
   "id": "c72f9781-0da8-410d-9ef0-4f5ceedb64fc",
   "metadata": {},
   "outputs": [
    {
     "data": {
      "text/plain": [
       "1515     57.457184\n",
       "3238     57.457184\n",
       "3979     57.457184\n",
       "4150     57.457184\n",
       "5979     57.457184\n",
       "7418     57.457184\n",
       "8853     57.457184\n",
       "11368    57.457184\n",
       "22701    57.457184\n",
       "25179    57.457184\n",
       "26387    57.457184\n",
       "33586    57.457184\n",
       "35633    57.457184\n",
       "45798    57.457184\n",
       "46040    57.457184\n",
       "47630    57.457184\n",
       "Name: table, dtype: float64"
      ]
     },
     "execution_count": 38,
     "metadata": {},
     "output_type": "execute_result"
    }
   ],
   "source": [
    "df_table[aykiri_tf]#silmek isstemezsek ortalama ile doldurabiliriz"
   ]
  },
  {
   "cell_type": "markdown",
   "id": "551e1c3b-9eb0-4f42-8d2b-06431ab545eb",
   "metadata": {},
   "source": [
    "### Baskılama Yöntemi"
   ]
  },
  {
   "cell_type": "code",
   "execution_count": 39,
   "id": "3ced4aaa-5b23-4773-a69b-648bd18bcb2f",
   "metadata": {},
   "outputs": [],
   "source": [
    "#aykırıları yakalandıktan sonra üst taraftaysa üst sınır değerine, alt taraftaysa alt sınır değerine eşitlenir\n",
    "#böylece aykırı değerlerin veri setini yukarı ya da aşağı yönlü çekme çabası göz önünde bulundurulup onları ortalamayla değiştirmekten bazen daha mantıklıdır\n"
   ]
  },
  {
   "cell_type": "code",
   "execution_count": 18,
   "id": "500ba105-534f-4f66-8f6e-077f518ea54a",
   "metadata": {},
   "outputs": [
    {
     "data": {
      "text/html": [
       "<div>\n",
       "<style scoped>\n",
       "    .dataframe tbody tr th:only-of-type {\n",
       "        vertical-align: middle;\n",
       "    }\n",
       "\n",
       "    .dataframe tbody tr th {\n",
       "        vertical-align: top;\n",
       "    }\n",
       "\n",
       "    .dataframe thead th {\n",
       "        text-align: right;\n",
       "    }\n",
       "</style>\n",
       "<table border=\"1\" class=\"dataframe\">\n",
       "  <thead>\n",
       "    <tr style=\"text-align: right;\">\n",
       "      <th></th>\n",
       "      <th>carat</th>\n",
       "      <th>depth</th>\n",
       "      <th>table</th>\n",
       "      <th>price</th>\n",
       "      <th>x</th>\n",
       "      <th>y</th>\n",
       "      <th>z</th>\n",
       "    </tr>\n",
       "  </thead>\n",
       "  <tbody>\n",
       "    <tr>\n",
       "      <th>0</th>\n",
       "      <td>0.23</td>\n",
       "      <td>61.5</td>\n",
       "      <td>55.0</td>\n",
       "      <td>326</td>\n",
       "      <td>3.95</td>\n",
       "      <td>3.98</td>\n",
       "      <td>2.43</td>\n",
       "    </tr>\n",
       "    <tr>\n",
       "      <th>1</th>\n",
       "      <td>0.21</td>\n",
       "      <td>59.8</td>\n",
       "      <td>61.0</td>\n",
       "      <td>326</td>\n",
       "      <td>3.89</td>\n",
       "      <td>3.84</td>\n",
       "      <td>2.31</td>\n",
       "    </tr>\n",
       "    <tr>\n",
       "      <th>2</th>\n",
       "      <td>0.23</td>\n",
       "      <td>56.9</td>\n",
       "      <td>65.0</td>\n",
       "      <td>327</td>\n",
       "      <td>4.05</td>\n",
       "      <td>4.07</td>\n",
       "      <td>2.31</td>\n",
       "    </tr>\n",
       "    <tr>\n",
       "      <th>3</th>\n",
       "      <td>0.29</td>\n",
       "      <td>62.4</td>\n",
       "      <td>58.0</td>\n",
       "      <td>334</td>\n",
       "      <td>4.20</td>\n",
       "      <td>4.23</td>\n",
       "      <td>2.63</td>\n",
       "    </tr>\n",
       "    <tr>\n",
       "      <th>4</th>\n",
       "      <td>0.31</td>\n",
       "      <td>63.3</td>\n",
       "      <td>58.0</td>\n",
       "      <td>335</td>\n",
       "      <td>4.34</td>\n",
       "      <td>4.35</td>\n",
       "      <td>2.75</td>\n",
       "    </tr>\n",
       "  </tbody>\n",
       "</table>\n",
       "</div>"
      ],
      "text/plain": [
       "   carat  depth  table  price     x     y     z\n",
       "0   0.23   61.5   55.0    326  3.95  3.98  2.43\n",
       "1   0.21   59.8   61.0    326  3.89  3.84  2.31\n",
       "2   0.23   56.9   65.0    327  4.05  4.07  2.31\n",
       "3   0.29   62.4   58.0    334  4.20  4.23  2.63\n",
       "4   0.31   63.3   58.0    335  4.34  4.35  2.75"
      ]
     },
     "execution_count": 18,
     "metadata": {},
     "output_type": "execute_result"
    }
   ],
   "source": [
    "import seaborn as sns\n",
    "df=sns.load_dataset('diamonds')\n",
    "df=df.select_dtypes(include=['float64','int64'])\n",
    "df=df.dropna()\n",
    "df.head()"
   ]
  },
  {
   "cell_type": "code",
   "execution_count": 42,
   "id": "de4f1fd7-5fb7-43e2-a050-dda75a221660",
   "metadata": {},
   "outputs": [],
   "source": [
    "df_table=df[\"table\"]"
   ]
  },
  {
   "cell_type": "code",
   "execution_count": 44,
   "id": "7c38e9f7-a4a5-4661-9f00-604a22fffd21",
   "metadata": {},
   "outputs": [
    {
     "data": {
      "text/plain": [
       "1515     51.0\n",
       "3238     50.1\n",
       "3979     51.0\n",
       "4150     51.0\n",
       "5979     49.0\n",
       "7418     50.0\n",
       "8853     51.0\n",
       "11368    43.0\n",
       "22701    49.0\n",
       "25179    50.0\n",
       "26387    51.0\n",
       "33586    51.0\n",
       "35633    44.0\n",
       "45798    51.0\n",
       "46040    51.0\n",
       "47630    51.0\n",
       "Name: table, dtype: float64"
      ]
     },
     "execution_count": 44,
     "metadata": {},
     "output_type": "execute_result"
    }
   ],
   "source": [
    "df_table[aykiri_tf]"
   ]
  },
  {
   "cell_type": "code",
   "execution_count": 47,
   "id": "20096828-00e7-47fc-9302-58af9a90c70f",
   "metadata": {},
   "outputs": [
    {
     "name": "stderr",
     "output_type": "stream",
     "text": [
      "C:\\Users\\Monster\\AppData\\Local\\Temp/ipykernel_16772/523148025.py:1: SettingWithCopyWarning: \n",
      "A value is trying to be set on a copy of a slice from a DataFrame\n",
      "\n",
      "See the caveats in the documentation: https://pandas.pydata.org/pandas-docs/stable/user_guide/indexing.html#returning-a-view-versus-a-copy\n",
      "  df_table[aykiri_tf]=alt_sinir#baskılama\n"
     ]
    }
   ],
   "source": [
    "df_table[aykiri_tf]=alt_sinir#baskılama"
   ]
  },
  {
   "cell_type": "code",
   "execution_count": 46,
   "id": "48811a61-f79f-4959-bcd1-1a9799d9c2f7",
   "metadata": {},
   "outputs": [
    {
     "data": {
      "text/plain": [
       "1515     51.5\n",
       "3238     51.5\n",
       "3979     51.5\n",
       "4150     51.5\n",
       "5979     51.5\n",
       "7418     51.5\n",
       "8853     51.5\n",
       "11368    51.5\n",
       "22701    51.5\n",
       "25179    51.5\n",
       "26387    51.5\n",
       "33586    51.5\n",
       "35633    51.5\n",
       "45798    51.5\n",
       "46040    51.5\n",
       "47630    51.5\n",
       "Name: table, dtype: float64"
      ]
     },
     "execution_count": 46,
     "metadata": {},
     "output_type": "execute_result"
    }
   ],
   "source": [
    "df_table[aykiri_tf]"
   ]
  },
  {
   "cell_type": "markdown",
   "id": "a4da5cda-f770-4b94-b7d7-9e13c4107d46",
   "metadata": {},
   "source": [
    "# Çok Değişkenli Aykırı Gözlem Analizi\n",
    "## Local Outlier Factor\n",
    "#### Gözlemleri bulundukları konumda yağunluk tabanlı skorlayarak buna göre aykırı değer olabilecek değerleri tanımlayabilmemize imkan sağlıyor.\n",
    "\n",
    "#### Bir noktanın local yoğunluğu bu noktanın komşuları ile karşılaştırılıyor. Eğer bir nokta komşularının yoğunluğundan anlamlı şekilde düşük ise bu nokta komşularından daha seyrek bir bölgede bulunuyordur yorumu yapılabiliyor. Dolayısıyla burada bir komşuluk söz konusu. Bir değerin çevresi yoğun değilse demek ki bu değer aykırı değerdir şeklinde değerlendiriliyor."
   ]
  },
  {
   "cell_type": "code",
   "execution_count": 21,
   "id": "41d07a51-9855-4228-a266-0d93919cf465",
   "metadata": {},
   "outputs": [
    {
     "ename": "NameError",
     "evalue": "name 'diomands' is not defined",
     "output_type": "error",
     "traceback": [
      "\u001b[1;31m---------------------------------------------------------------------------\u001b[0m",
      "\u001b[1;31mNameError\u001b[0m                                 Traceback (most recent call last)",
      "\u001b[1;32m~\\AppData\\Local\\Temp/ipykernel_10032/873005915.py\u001b[0m in \u001b[0;36m<module>\u001b[1;34m\u001b[0m\n\u001b[0;32m      2\u001b[0m \u001b[0mdiamonds\u001b[0m\u001b[1;33m=\u001b[0m \u001b[0msns\u001b[0m\u001b[1;33m.\u001b[0m\u001b[0mload_dataset\u001b[0m\u001b[1;33m(\u001b[0m\u001b[1;34m'diamonds'\u001b[0m\u001b[1;33m)\u001b[0m\u001b[1;33m\u001b[0m\u001b[1;33m\u001b[0m\u001b[0m\n\u001b[0;32m      3\u001b[0m \u001b[0mdiamonds\u001b[0m\u001b[1;33m=\u001b[0m\u001b[0mdiamonds\u001b[0m\u001b[1;33m.\u001b[0m\u001b[0mselect_dtypes\u001b[0m\u001b[1;33m(\u001b[0m\u001b[0minclude\u001b[0m \u001b[1;33m=\u001b[0m\u001b[1;33m[\u001b[0m\u001b[1;34m'float64'\u001b[0m\u001b[1;33m,\u001b[0m\u001b[1;34m'int64'\u001b[0m\u001b[1;33m]\u001b[0m\u001b[1;33m)\u001b[0m\u001b[1;33m\u001b[0m\u001b[1;33m\u001b[0m\u001b[0m\n\u001b[1;32m----> 4\u001b[1;33m \u001b[0mdf\u001b[0m\u001b[1;33m=\u001b[0m \u001b[0mdiomands\u001b[0m\u001b[1;33m.\u001b[0m\u001b[0mcopy\u001b[0m\u001b[1;33m(\u001b[0m\u001b[1;33m)\u001b[0m\u001b[1;33m\u001b[0m\u001b[1;33m\u001b[0m\u001b[0m\n\u001b[0m\u001b[0;32m      5\u001b[0m \u001b[0mdf\u001b[0m \u001b[1;33m=\u001b[0m\u001b[0mdf\u001b[0m\u001b[1;33m.\u001b[0m\u001b[0mdropna\u001b[0m\u001b[1;33m(\u001b[0m\u001b[1;33m)\u001b[0m\u001b[1;33m\u001b[0m\u001b[1;33m\u001b[0m\u001b[0m\n\u001b[0;32m      6\u001b[0m \u001b[0mdf\u001b[0m\u001b[1;33m.\u001b[0m\u001b[0mhead\u001b[0m\u001b[1;33m(\u001b[0m\u001b[1;33m)\u001b[0m\u001b[1;33m\u001b[0m\u001b[1;33m\u001b[0m\u001b[0m\n",
      "\u001b[1;31mNameError\u001b[0m: name 'diomands' is not defined"
     ]
    }
   ],
   "source": [
    "import seaborn as sns\n",
    "diamonds= sns.load_dataset('diamonds')\n",
    "diamonds=diamonds.select_dtypes(include =['float64','int64'])\n",
    "df= diomands.copy()\n",
    "df =df.dropna()\n",
    "df.head()"
   ]
  },
  {
   "cell_type": "code",
   "execution_count": 3,
   "id": "67371a86-3227-4dbf-8e34-f338a68b6234",
   "metadata": {},
   "outputs": [],
   "source": [
    "import numpy as np\n",
    "from sklearn.neighbors import LocalOutlierFactor"
   ]
  },
  {
   "cell_type": "code",
   "execution_count": 4,
   "id": "2903fab2-947e-4b23-9716-1b228641a72b",
   "metadata": {},
   "outputs": [],
   "source": [
    "clf= LocalOutlierFactor(n_neighbors=20, contamination  =0.1)"
   ]
  },
  {
   "cell_type": "code",
   "execution_count": 24,
   "id": "4f6888f9-12c6-4610-b7c9-a2fc0011daf9",
   "metadata": {},
   "outputs": [
    {
     "data": {
      "text/plain": [
       "array([-1, -1, -1, ...,  1,  1,  1])"
      ]
     },
     "execution_count": 24,
     "metadata": {},
     "output_type": "execute_result"
    }
   ],
   "source": [
    "clf.fit_predict(df)"
   ]
  },
  {
   "cell_type": "code",
   "execution_count": 26,
   "id": "1e893679-a7f7-455d-a0fe-4846c31393c7",
   "metadata": {},
   "outputs": [
    {
     "data": {
      "text/plain": [
       "array([-1.58352526, -1.59732899, -1.62278873, -1.33002541, -1.30712521,\n",
       "       -1.28408436, -1.28428162, -1.26458706, -1.28422952, -1.27351342])"
      ]
     },
     "execution_count": 26,
     "metadata": {},
     "output_type": "execute_result"
    }
   ],
   "source": [
    "df_scores=clf.negative_outlier_factor_\n",
    "df_scores[0:10]"
   ]
  },
  {
   "cell_type": "code",
   "execution_count": 27,
   "id": "6d37498a-1169-4b7a-bd28-8eac9e8be2d9",
   "metadata": {},
   "outputs": [
    {
     "data": {
      "text/plain": [
       "array([-8.60430658, -8.20889984, -5.86084355, -4.98415175, -4.81502092,\n",
       "       -4.81502092, -4.61522833, -4.37081214, -4.29842288, -4.10492387,\n",
       "       -4.0566648 , -4.01831733, -3.94882806, -3.82378797, -3.80135297,\n",
       "       -3.75680919, -3.65947378, -3.59249261, -3.55564138, -3.47157375])"
      ]
     },
     "execution_count": 27,
     "metadata": {},
     "output_type": "execute_result"
    }
   ],
   "source": [
    "np.sort(df_scores)[0:20]"
   ]
  },
  {
   "cell_type": "code",
   "execution_count": 29,
   "id": "da024986-1b25-442b-aa68-0b5d56fb0676",
   "metadata": {},
   "outputs": [
    {
     "data": {
      "text/plain": [
       "-3.823787967755565"
      ]
     },
     "execution_count": 29,
     "metadata": {},
     "output_type": "execute_result"
    }
   ],
   "source": [
    "np.sort(df_scores)[13]"
   ]
  },
  {
   "cell_type": "code",
   "execution_count": 30,
   "id": "35585f2b-426b-4e36-a5e6-d6a40f0e5692",
   "metadata": {},
   "outputs": [],
   "source": [
    "esik_deger = np.sort(df_scores)[13]"
   ]
  },
  {
   "cell_type": "code",
   "execution_count": 33,
   "id": "ca7ae5be-d35e-4a2e-93f2-01e00cf37b39",
   "metadata": {},
   "outputs": [],
   "source": [
    "aykiri_tf=df_scores > esik_deger"
   ]
  },
  {
   "cell_type": "code",
   "execution_count": 34,
   "id": "f916ac8a-ee64-4f4c-a525-8babca45ea59",
   "metadata": {},
   "outputs": [
    {
     "data": {
      "text/plain": [
       "array([ True,  True,  True, ...,  True,  True,  True])"
      ]
     },
     "execution_count": 34,
     "metadata": {},
     "output_type": "execute_result"
    }
   ],
   "source": [
    "aykiri_tf"
   ]
  },
  {
   "cell_type": "code",
   "execution_count": 41,
   "id": "8313dfaf-a77d-4784-9d34-6348332795e5",
   "metadata": {},
   "outputs": [],
   "source": [
    "yeni_df =df[df_scores > esik_deger] #aykırı olmayan değerleri aldık. aykırı değerleri sildik"
   ]
  },
  {
   "cell_type": "code",
   "execution_count": 42,
   "id": "39f53ae5-e4ef-4c34-9782-7e25f802d902",
   "metadata": {},
   "outputs": [
    {
     "data": {
      "text/html": [
       "<div>\n",
       "<style scoped>\n",
       "    .dataframe tbody tr th:only-of-type {\n",
       "        vertical-align: middle;\n",
       "    }\n",
       "\n",
       "    .dataframe tbody tr th {\n",
       "        vertical-align: top;\n",
       "    }\n",
       "\n",
       "    .dataframe thead th {\n",
       "        text-align: right;\n",
       "    }\n",
       "</style>\n",
       "<table border=\"1\" class=\"dataframe\">\n",
       "  <thead>\n",
       "    <tr style=\"text-align: right;\">\n",
       "      <th></th>\n",
       "      <th>carat</th>\n",
       "      <th>depth</th>\n",
       "      <th>table</th>\n",
       "      <th>price</th>\n",
       "      <th>x</th>\n",
       "      <th>y</th>\n",
       "      <th>z</th>\n",
       "    </tr>\n",
       "  </thead>\n",
       "  <tbody>\n",
       "    <tr>\n",
       "      <th>0</th>\n",
       "      <td>0.23</td>\n",
       "      <td>61.5</td>\n",
       "      <td>55.0</td>\n",
       "      <td>326</td>\n",
       "      <td>3.95</td>\n",
       "      <td>3.98</td>\n",
       "      <td>2.43</td>\n",
       "    </tr>\n",
       "    <tr>\n",
       "      <th>1</th>\n",
       "      <td>0.21</td>\n",
       "      <td>59.8</td>\n",
       "      <td>61.0</td>\n",
       "      <td>326</td>\n",
       "      <td>3.89</td>\n",
       "      <td>3.84</td>\n",
       "      <td>2.31</td>\n",
       "    </tr>\n",
       "    <tr>\n",
       "      <th>2</th>\n",
       "      <td>0.23</td>\n",
       "      <td>56.9</td>\n",
       "      <td>65.0</td>\n",
       "      <td>327</td>\n",
       "      <td>4.05</td>\n",
       "      <td>4.07</td>\n",
       "      <td>2.31</td>\n",
       "    </tr>\n",
       "    <tr>\n",
       "      <th>3</th>\n",
       "      <td>0.29</td>\n",
       "      <td>62.4</td>\n",
       "      <td>58.0</td>\n",
       "      <td>334</td>\n",
       "      <td>4.20</td>\n",
       "      <td>4.23</td>\n",
       "      <td>2.63</td>\n",
       "    </tr>\n",
       "    <tr>\n",
       "      <th>4</th>\n",
       "      <td>0.31</td>\n",
       "      <td>63.3</td>\n",
       "      <td>58.0</td>\n",
       "      <td>335</td>\n",
       "      <td>4.34</td>\n",
       "      <td>4.35</td>\n",
       "      <td>2.75</td>\n",
       "    </tr>\n",
       "    <tr>\n",
       "      <th>...</th>\n",
       "      <td>...</td>\n",
       "      <td>...</td>\n",
       "      <td>...</td>\n",
       "      <td>...</td>\n",
       "      <td>...</td>\n",
       "      <td>...</td>\n",
       "      <td>...</td>\n",
       "    </tr>\n",
       "    <tr>\n",
       "      <th>53935</th>\n",
       "      <td>0.72</td>\n",
       "      <td>60.8</td>\n",
       "      <td>57.0</td>\n",
       "      <td>2757</td>\n",
       "      <td>5.75</td>\n",
       "      <td>5.76</td>\n",
       "      <td>3.50</td>\n",
       "    </tr>\n",
       "    <tr>\n",
       "      <th>53936</th>\n",
       "      <td>0.72</td>\n",
       "      <td>63.1</td>\n",
       "      <td>55.0</td>\n",
       "      <td>2757</td>\n",
       "      <td>5.69</td>\n",
       "      <td>5.75</td>\n",
       "      <td>3.61</td>\n",
       "    </tr>\n",
       "    <tr>\n",
       "      <th>53937</th>\n",
       "      <td>0.70</td>\n",
       "      <td>62.8</td>\n",
       "      <td>60.0</td>\n",
       "      <td>2757</td>\n",
       "      <td>5.66</td>\n",
       "      <td>5.68</td>\n",
       "      <td>3.56</td>\n",
       "    </tr>\n",
       "    <tr>\n",
       "      <th>53938</th>\n",
       "      <td>0.86</td>\n",
       "      <td>61.0</td>\n",
       "      <td>58.0</td>\n",
       "      <td>2757</td>\n",
       "      <td>6.15</td>\n",
       "      <td>6.12</td>\n",
       "      <td>3.74</td>\n",
       "    </tr>\n",
       "    <tr>\n",
       "      <th>53939</th>\n",
       "      <td>0.75</td>\n",
       "      <td>62.2</td>\n",
       "      <td>55.0</td>\n",
       "      <td>2757</td>\n",
       "      <td>5.83</td>\n",
       "      <td>5.87</td>\n",
       "      <td>3.64</td>\n",
       "    </tr>\n",
       "  </tbody>\n",
       "</table>\n",
       "<p>53926 rows × 7 columns</p>\n",
       "</div>"
      ],
      "text/plain": [
       "       carat  depth  table  price     x     y     z\n",
       "0       0.23   61.5   55.0    326  3.95  3.98  2.43\n",
       "1       0.21   59.8   61.0    326  3.89  3.84  2.31\n",
       "2       0.23   56.9   65.0    327  4.05  4.07  2.31\n",
       "3       0.29   62.4   58.0    334  4.20  4.23  2.63\n",
       "4       0.31   63.3   58.0    335  4.34  4.35  2.75\n",
       "...      ...    ...    ...    ...   ...   ...   ...\n",
       "53935   0.72   60.8   57.0   2757  5.75  5.76  3.50\n",
       "53936   0.72   63.1   55.0   2757  5.69  5.75  3.61\n",
       "53937   0.70   62.8   60.0   2757  5.66  5.68  3.56\n",
       "53938   0.86   61.0   58.0   2757  6.15  6.12  3.74\n",
       "53939   0.75   62.2   55.0   2757  5.83  5.87  3.64\n",
       "\n",
       "[53926 rows x 7 columns]"
      ]
     },
     "execution_count": 42,
     "metadata": {},
     "output_type": "execute_result"
    }
   ],
   "source": [
    "yeni_df"
   ]
  },
  {
   "cell_type": "code",
   "execution_count": 43,
   "id": "001adf9d-b17f-4d44-bb58-0f14fbd5b7d8",
   "metadata": {},
   "outputs": [
    {
     "data": {
      "text/html": [
       "<div>\n",
       "<style scoped>\n",
       "    .dataframe tbody tr th:only-of-type {\n",
       "        vertical-align: middle;\n",
       "    }\n",
       "\n",
       "    .dataframe tbody tr th {\n",
       "        vertical-align: top;\n",
       "    }\n",
       "\n",
       "    .dataframe thead th {\n",
       "        text-align: right;\n",
       "    }\n",
       "</style>\n",
       "<table border=\"1\" class=\"dataframe\">\n",
       "  <thead>\n",
       "    <tr style=\"text-align: right;\">\n",
       "      <th></th>\n",
       "      <th>carat</th>\n",
       "      <th>depth</th>\n",
       "      <th>table</th>\n",
       "      <th>price</th>\n",
       "      <th>x</th>\n",
       "      <th>y</th>\n",
       "      <th>z</th>\n",
       "    </tr>\n",
       "  </thead>\n",
       "  <tbody>\n",
       "    <tr>\n",
       "      <th>6341</th>\n",
       "      <td>1.00</td>\n",
       "      <td>44.0</td>\n",
       "      <td>53.0</td>\n",
       "      <td>4032</td>\n",
       "      <td>6.31</td>\n",
       "      <td>6.24</td>\n",
       "      <td>4.12</td>\n",
       "    </tr>\n",
       "    <tr>\n",
       "      <th>10377</th>\n",
       "      <td>1.09</td>\n",
       "      <td>43.0</td>\n",
       "      <td>54.0</td>\n",
       "      <td>4778</td>\n",
       "      <td>6.53</td>\n",
       "      <td>6.55</td>\n",
       "      <td>4.12</td>\n",
       "    </tr>\n",
       "    <tr>\n",
       "      <th>24067</th>\n",
       "      <td>2.00</td>\n",
       "      <td>58.9</td>\n",
       "      <td>57.0</td>\n",
       "      <td>12210</td>\n",
       "      <td>8.09</td>\n",
       "      <td>58.90</td>\n",
       "      <td>8.06</td>\n",
       "    </tr>\n",
       "    <tr>\n",
       "      <th>35633</th>\n",
       "      <td>0.29</td>\n",
       "      <td>62.8</td>\n",
       "      <td>44.0</td>\n",
       "      <td>474</td>\n",
       "      <td>4.20</td>\n",
       "      <td>4.24</td>\n",
       "      <td>2.65</td>\n",
       "    </tr>\n",
       "    <tr>\n",
       "      <th>36503</th>\n",
       "      <td>0.30</td>\n",
       "      <td>51.0</td>\n",
       "      <td>67.0</td>\n",
       "      <td>945</td>\n",
       "      <td>4.67</td>\n",
       "      <td>4.62</td>\n",
       "      <td>2.37</td>\n",
       "    </tr>\n",
       "    <tr>\n",
       "      <th>38840</th>\n",
       "      <td>0.73</td>\n",
       "      <td>70.8</td>\n",
       "      <td>55.0</td>\n",
       "      <td>1049</td>\n",
       "      <td>5.51</td>\n",
       "      <td>5.34</td>\n",
       "      <td>3.84</td>\n",
       "    </tr>\n",
       "    <tr>\n",
       "      <th>41918</th>\n",
       "      <td>1.03</td>\n",
       "      <td>78.2</td>\n",
       "      <td>54.0</td>\n",
       "      <td>1262</td>\n",
       "      <td>5.72</td>\n",
       "      <td>5.59</td>\n",
       "      <td>4.42</td>\n",
       "    </tr>\n",
       "    <tr>\n",
       "      <th>45688</th>\n",
       "      <td>0.70</td>\n",
       "      <td>71.6</td>\n",
       "      <td>55.0</td>\n",
       "      <td>1696</td>\n",
       "      <td>5.47</td>\n",
       "      <td>5.28</td>\n",
       "      <td>3.85</td>\n",
       "    </tr>\n",
       "    <tr>\n",
       "      <th>48410</th>\n",
       "      <td>0.51</td>\n",
       "      <td>61.8</td>\n",
       "      <td>54.7</td>\n",
       "      <td>1970</td>\n",
       "      <td>5.12</td>\n",
       "      <td>5.15</td>\n",
       "      <td>31.80</td>\n",
       "    </tr>\n",
       "    <tr>\n",
       "      <th>49189</th>\n",
       "      <td>0.51</td>\n",
       "      <td>61.8</td>\n",
       "      <td>55.0</td>\n",
       "      <td>2075</td>\n",
       "      <td>5.15</td>\n",
       "      <td>31.80</td>\n",
       "      <td>5.12</td>\n",
       "    </tr>\n",
       "    <tr>\n",
       "      <th>50773</th>\n",
       "      <td>0.81</td>\n",
       "      <td>68.8</td>\n",
       "      <td>79.0</td>\n",
       "      <td>2301</td>\n",
       "      <td>5.26</td>\n",
       "      <td>5.20</td>\n",
       "      <td>3.58</td>\n",
       "    </tr>\n",
       "    <tr>\n",
       "      <th>52860</th>\n",
       "      <td>0.50</td>\n",
       "      <td>79.0</td>\n",
       "      <td>73.0</td>\n",
       "      <td>2579</td>\n",
       "      <td>5.21</td>\n",
       "      <td>5.18</td>\n",
       "      <td>4.09</td>\n",
       "    </tr>\n",
       "    <tr>\n",
       "      <th>52861</th>\n",
       "      <td>0.50</td>\n",
       "      <td>79.0</td>\n",
       "      <td>73.0</td>\n",
       "      <td>2579</td>\n",
       "      <td>5.21</td>\n",
       "      <td>5.18</td>\n",
       "      <td>4.09</td>\n",
       "    </tr>\n",
       "  </tbody>\n",
       "</table>\n",
       "</div>"
      ],
      "text/plain": [
       "       carat  depth  table  price     x      y      z\n",
       "6341    1.00   44.0   53.0   4032  6.31   6.24   4.12\n",
       "10377   1.09   43.0   54.0   4778  6.53   6.55   4.12\n",
       "24067   2.00   58.9   57.0  12210  8.09  58.90   8.06\n",
       "35633   0.29   62.8   44.0    474  4.20   4.24   2.65\n",
       "36503   0.30   51.0   67.0    945  4.67   4.62   2.37\n",
       "38840   0.73   70.8   55.0   1049  5.51   5.34   3.84\n",
       "41918   1.03   78.2   54.0   1262  5.72   5.59   4.42\n",
       "45688   0.70   71.6   55.0   1696  5.47   5.28   3.85\n",
       "48410   0.51   61.8   54.7   1970  5.12   5.15  31.80\n",
       "49189   0.51   61.8   55.0   2075  5.15  31.80   5.12\n",
       "50773   0.81   68.8   79.0   2301  5.26   5.20   3.58\n",
       "52860   0.50   79.0   73.0   2579  5.21   5.18   4.09\n",
       "52861   0.50   79.0   73.0   2579  5.21   5.18   4.09"
      ]
     },
     "execution_count": 43,
     "metadata": {},
     "output_type": "execute_result"
    }
   ],
   "source": [
    "df[df_scores < esik_deger] #aykırı değer"
   ]
  },
  {
   "cell_type": "markdown",
   "id": "7de543e1-1650-4452-aa64-1fcaf1b52429",
   "metadata": {},
   "source": [
    "## Baskılama Yöntemi"
   ]
  },
  {
   "cell_type": "code",
   "execution_count": 44,
   "id": "55721e86-7caf-4b68-a635-3b9289a54d6e",
   "metadata": {},
   "outputs": [
    {
     "data": {
      "text/html": [
       "<div>\n",
       "<style scoped>\n",
       "    .dataframe tbody tr th:only-of-type {\n",
       "        vertical-align: middle;\n",
       "    }\n",
       "\n",
       "    .dataframe tbody tr th {\n",
       "        vertical-align: top;\n",
       "    }\n",
       "\n",
       "    .dataframe thead th {\n",
       "        text-align: right;\n",
       "    }\n",
       "</style>\n",
       "<table border=\"1\" class=\"dataframe\">\n",
       "  <thead>\n",
       "    <tr style=\"text-align: right;\">\n",
       "      <th></th>\n",
       "      <th>carat</th>\n",
       "      <th>depth</th>\n",
       "      <th>table</th>\n",
       "      <th>price</th>\n",
       "      <th>x</th>\n",
       "      <th>y</th>\n",
       "      <th>z</th>\n",
       "    </tr>\n",
       "  </thead>\n",
       "  <tbody>\n",
       "    <tr>\n",
       "      <th>6341</th>\n",
       "      <td>1.00</td>\n",
       "      <td>44.0</td>\n",
       "      <td>53.0</td>\n",
       "      <td>4032</td>\n",
       "      <td>6.31</td>\n",
       "      <td>6.24</td>\n",
       "      <td>4.12</td>\n",
       "    </tr>\n",
       "    <tr>\n",
       "      <th>10377</th>\n",
       "      <td>1.09</td>\n",
       "      <td>43.0</td>\n",
       "      <td>54.0</td>\n",
       "      <td>4778</td>\n",
       "      <td>6.53</td>\n",
       "      <td>6.55</td>\n",
       "      <td>4.12</td>\n",
       "    </tr>\n",
       "    <tr>\n",
       "      <th>24067</th>\n",
       "      <td>2.00</td>\n",
       "      <td>58.9</td>\n",
       "      <td>57.0</td>\n",
       "      <td>12210</td>\n",
       "      <td>8.09</td>\n",
       "      <td>58.90</td>\n",
       "      <td>8.06</td>\n",
       "    </tr>\n",
       "    <tr>\n",
       "      <th>35633</th>\n",
       "      <td>0.29</td>\n",
       "      <td>62.8</td>\n",
       "      <td>44.0</td>\n",
       "      <td>474</td>\n",
       "      <td>4.20</td>\n",
       "      <td>4.24</td>\n",
       "      <td>2.65</td>\n",
       "    </tr>\n",
       "    <tr>\n",
       "      <th>36503</th>\n",
       "      <td>0.30</td>\n",
       "      <td>51.0</td>\n",
       "      <td>67.0</td>\n",
       "      <td>945</td>\n",
       "      <td>4.67</td>\n",
       "      <td>4.62</td>\n",
       "      <td>2.37</td>\n",
       "    </tr>\n",
       "    <tr>\n",
       "      <th>38840</th>\n",
       "      <td>0.73</td>\n",
       "      <td>70.8</td>\n",
       "      <td>55.0</td>\n",
       "      <td>1049</td>\n",
       "      <td>5.51</td>\n",
       "      <td>5.34</td>\n",
       "      <td>3.84</td>\n",
       "    </tr>\n",
       "    <tr>\n",
       "      <th>41918</th>\n",
       "      <td>1.03</td>\n",
       "      <td>78.2</td>\n",
       "      <td>54.0</td>\n",
       "      <td>1262</td>\n",
       "      <td>5.72</td>\n",
       "      <td>5.59</td>\n",
       "      <td>4.42</td>\n",
       "    </tr>\n",
       "    <tr>\n",
       "      <th>45688</th>\n",
       "      <td>0.70</td>\n",
       "      <td>71.6</td>\n",
       "      <td>55.0</td>\n",
       "      <td>1696</td>\n",
       "      <td>5.47</td>\n",
       "      <td>5.28</td>\n",
       "      <td>3.85</td>\n",
       "    </tr>\n",
       "    <tr>\n",
       "      <th>48410</th>\n",
       "      <td>0.51</td>\n",
       "      <td>61.8</td>\n",
       "      <td>54.7</td>\n",
       "      <td>1970</td>\n",
       "      <td>5.12</td>\n",
       "      <td>5.15</td>\n",
       "      <td>31.80</td>\n",
       "    </tr>\n",
       "    <tr>\n",
       "      <th>49189</th>\n",
       "      <td>0.51</td>\n",
       "      <td>61.8</td>\n",
       "      <td>55.0</td>\n",
       "      <td>2075</td>\n",
       "      <td>5.15</td>\n",
       "      <td>31.80</td>\n",
       "      <td>5.12</td>\n",
       "    </tr>\n",
       "    <tr>\n",
       "      <th>50773</th>\n",
       "      <td>0.81</td>\n",
       "      <td>68.8</td>\n",
       "      <td>79.0</td>\n",
       "      <td>2301</td>\n",
       "      <td>5.26</td>\n",
       "      <td>5.20</td>\n",
       "      <td>3.58</td>\n",
       "    </tr>\n",
       "    <tr>\n",
       "      <th>52860</th>\n",
       "      <td>0.50</td>\n",
       "      <td>79.0</td>\n",
       "      <td>73.0</td>\n",
       "      <td>2579</td>\n",
       "      <td>5.21</td>\n",
       "      <td>5.18</td>\n",
       "      <td>4.09</td>\n",
       "    </tr>\n",
       "    <tr>\n",
       "      <th>52861</th>\n",
       "      <td>0.50</td>\n",
       "      <td>79.0</td>\n",
       "      <td>73.0</td>\n",
       "      <td>2579</td>\n",
       "      <td>5.21</td>\n",
       "      <td>5.18</td>\n",
       "      <td>4.09</td>\n",
       "    </tr>\n",
       "  </tbody>\n",
       "</table>\n",
       "</div>"
      ],
      "text/plain": [
       "       carat  depth  table  price     x      y      z\n",
       "6341    1.00   44.0   53.0   4032  6.31   6.24   4.12\n",
       "10377   1.09   43.0   54.0   4778  6.53   6.55   4.12\n",
       "24067   2.00   58.9   57.0  12210  8.09  58.90   8.06\n",
       "35633   0.29   62.8   44.0    474  4.20   4.24   2.65\n",
       "36503   0.30   51.0   67.0    945  4.67   4.62   2.37\n",
       "38840   0.73   70.8   55.0   1049  5.51   5.34   3.84\n",
       "41918   1.03   78.2   54.0   1262  5.72   5.59   4.42\n",
       "45688   0.70   71.6   55.0   1696  5.47   5.28   3.85\n",
       "48410   0.51   61.8   54.7   1970  5.12   5.15  31.80\n",
       "49189   0.51   61.8   55.0   2075  5.15  31.80   5.12\n",
       "50773   0.81   68.8   79.0   2301  5.26   5.20   3.58\n",
       "52860   0.50   79.0   73.0   2579  5.21   5.18   4.09\n",
       "52861   0.50   79.0   73.0   2579  5.21   5.18   4.09"
      ]
     },
     "execution_count": 44,
     "metadata": {},
     "output_type": "execute_result"
    }
   ],
   "source": [
    "df[df_scores < esik_deger]"
   ]
  },
  {
   "cell_type": "code",
   "execution_count": 45,
   "id": "302019aa-ff2d-4c16-bece-723d6a5ef4e5",
   "metadata": {},
   "outputs": [
    {
     "data": {
      "text/html": [
       "<div>\n",
       "<style scoped>\n",
       "    .dataframe tbody tr th:only-of-type {\n",
       "        vertical-align: middle;\n",
       "    }\n",
       "\n",
       "    .dataframe tbody tr th {\n",
       "        vertical-align: top;\n",
       "    }\n",
       "\n",
       "    .dataframe thead th {\n",
       "        text-align: right;\n",
       "    }\n",
       "</style>\n",
       "<table border=\"1\" class=\"dataframe\">\n",
       "  <thead>\n",
       "    <tr style=\"text-align: right;\">\n",
       "      <th></th>\n",
       "      <th>carat</th>\n",
       "      <th>depth</th>\n",
       "      <th>table</th>\n",
       "      <th>price</th>\n",
       "      <th>x</th>\n",
       "      <th>y</th>\n",
       "      <th>z</th>\n",
       "    </tr>\n",
       "  </thead>\n",
       "  <tbody>\n",
       "    <tr>\n",
       "      <th>31230</th>\n",
       "      <td>0.45</td>\n",
       "      <td>68.6</td>\n",
       "      <td>57.0</td>\n",
       "      <td>756</td>\n",
       "      <td>4.73</td>\n",
       "      <td>4.5</td>\n",
       "      <td>3.19</td>\n",
       "    </tr>\n",
       "  </tbody>\n",
       "</table>\n",
       "</div>"
      ],
      "text/plain": [
       "       carat  depth  table  price     x    y     z\n",
       "31230   0.45   68.6   57.0    756  4.73  4.5  3.19"
      ]
     },
     "execution_count": 45,
     "metadata": {},
     "output_type": "execute_result"
    }
   ],
   "source": [
    "df[df_scores == esik_deger]"
   ]
  },
  {
   "cell_type": "code",
   "execution_count": 46,
   "id": "9cc8a17a-affb-42c6-b0d9-e62a3ddb6baa",
   "metadata": {},
   "outputs": [],
   "source": [
    "baski_degeri = df[df_scores == esik_deger]"
   ]
  },
  {
   "cell_type": "code",
   "execution_count": 48,
   "id": "483dff95-fa8d-4a23-b2b1-506a14615e77",
   "metadata": {},
   "outputs": [],
   "source": [
    "aykirilar= df[~aykiri_tf]"
   ]
  },
  {
   "cell_type": "code",
   "execution_count": 49,
   "id": "32124a75-a36b-45e8-bc35-8a863817ad46",
   "metadata": {},
   "outputs": [
    {
     "data": {
      "text/html": [
       "<div>\n",
       "<style scoped>\n",
       "    .dataframe tbody tr th:only-of-type {\n",
       "        vertical-align: middle;\n",
       "    }\n",
       "\n",
       "    .dataframe tbody tr th {\n",
       "        vertical-align: top;\n",
       "    }\n",
       "\n",
       "    .dataframe thead th {\n",
       "        text-align: right;\n",
       "    }\n",
       "</style>\n",
       "<table border=\"1\" class=\"dataframe\">\n",
       "  <thead>\n",
       "    <tr style=\"text-align: right;\">\n",
       "      <th></th>\n",
       "      <th>carat</th>\n",
       "      <th>depth</th>\n",
       "      <th>table</th>\n",
       "      <th>price</th>\n",
       "      <th>x</th>\n",
       "      <th>y</th>\n",
       "      <th>z</th>\n",
       "    </tr>\n",
       "  </thead>\n",
       "  <tbody>\n",
       "    <tr>\n",
       "      <th>6341</th>\n",
       "      <td>1.00</td>\n",
       "      <td>44.0</td>\n",
       "      <td>53.0</td>\n",
       "      <td>4032</td>\n",
       "      <td>6.31</td>\n",
       "      <td>6.24</td>\n",
       "      <td>4.12</td>\n",
       "    </tr>\n",
       "    <tr>\n",
       "      <th>10377</th>\n",
       "      <td>1.09</td>\n",
       "      <td>43.0</td>\n",
       "      <td>54.0</td>\n",
       "      <td>4778</td>\n",
       "      <td>6.53</td>\n",
       "      <td>6.55</td>\n",
       "      <td>4.12</td>\n",
       "    </tr>\n",
       "    <tr>\n",
       "      <th>24067</th>\n",
       "      <td>2.00</td>\n",
       "      <td>58.9</td>\n",
       "      <td>57.0</td>\n",
       "      <td>12210</td>\n",
       "      <td>8.09</td>\n",
       "      <td>58.90</td>\n",
       "      <td>8.06</td>\n",
       "    </tr>\n",
       "    <tr>\n",
       "      <th>31230</th>\n",
       "      <td>0.45</td>\n",
       "      <td>68.6</td>\n",
       "      <td>57.0</td>\n",
       "      <td>756</td>\n",
       "      <td>4.73</td>\n",
       "      <td>4.50</td>\n",
       "      <td>3.19</td>\n",
       "    </tr>\n",
       "    <tr>\n",
       "      <th>35633</th>\n",
       "      <td>0.29</td>\n",
       "      <td>62.8</td>\n",
       "      <td>44.0</td>\n",
       "      <td>474</td>\n",
       "      <td>4.20</td>\n",
       "      <td>4.24</td>\n",
       "      <td>2.65</td>\n",
       "    </tr>\n",
       "    <tr>\n",
       "      <th>36503</th>\n",
       "      <td>0.30</td>\n",
       "      <td>51.0</td>\n",
       "      <td>67.0</td>\n",
       "      <td>945</td>\n",
       "      <td>4.67</td>\n",
       "      <td>4.62</td>\n",
       "      <td>2.37</td>\n",
       "    </tr>\n",
       "    <tr>\n",
       "      <th>38840</th>\n",
       "      <td>0.73</td>\n",
       "      <td>70.8</td>\n",
       "      <td>55.0</td>\n",
       "      <td>1049</td>\n",
       "      <td>5.51</td>\n",
       "      <td>5.34</td>\n",
       "      <td>3.84</td>\n",
       "    </tr>\n",
       "    <tr>\n",
       "      <th>41918</th>\n",
       "      <td>1.03</td>\n",
       "      <td>78.2</td>\n",
       "      <td>54.0</td>\n",
       "      <td>1262</td>\n",
       "      <td>5.72</td>\n",
       "      <td>5.59</td>\n",
       "      <td>4.42</td>\n",
       "    </tr>\n",
       "    <tr>\n",
       "      <th>45688</th>\n",
       "      <td>0.70</td>\n",
       "      <td>71.6</td>\n",
       "      <td>55.0</td>\n",
       "      <td>1696</td>\n",
       "      <td>5.47</td>\n",
       "      <td>5.28</td>\n",
       "      <td>3.85</td>\n",
       "    </tr>\n",
       "    <tr>\n",
       "      <th>48410</th>\n",
       "      <td>0.51</td>\n",
       "      <td>61.8</td>\n",
       "      <td>54.7</td>\n",
       "      <td>1970</td>\n",
       "      <td>5.12</td>\n",
       "      <td>5.15</td>\n",
       "      <td>31.80</td>\n",
       "    </tr>\n",
       "    <tr>\n",
       "      <th>49189</th>\n",
       "      <td>0.51</td>\n",
       "      <td>61.8</td>\n",
       "      <td>55.0</td>\n",
       "      <td>2075</td>\n",
       "      <td>5.15</td>\n",
       "      <td>31.80</td>\n",
       "      <td>5.12</td>\n",
       "    </tr>\n",
       "    <tr>\n",
       "      <th>50773</th>\n",
       "      <td>0.81</td>\n",
       "      <td>68.8</td>\n",
       "      <td>79.0</td>\n",
       "      <td>2301</td>\n",
       "      <td>5.26</td>\n",
       "      <td>5.20</td>\n",
       "      <td>3.58</td>\n",
       "    </tr>\n",
       "    <tr>\n",
       "      <th>52860</th>\n",
       "      <td>0.50</td>\n",
       "      <td>79.0</td>\n",
       "      <td>73.0</td>\n",
       "      <td>2579</td>\n",
       "      <td>5.21</td>\n",
       "      <td>5.18</td>\n",
       "      <td>4.09</td>\n",
       "    </tr>\n",
       "    <tr>\n",
       "      <th>52861</th>\n",
       "      <td>0.50</td>\n",
       "      <td>79.0</td>\n",
       "      <td>73.0</td>\n",
       "      <td>2579</td>\n",
       "      <td>5.21</td>\n",
       "      <td>5.18</td>\n",
       "      <td>4.09</td>\n",
       "    </tr>\n",
       "  </tbody>\n",
       "</table>\n",
       "</div>"
      ],
      "text/plain": [
       "       carat  depth  table  price     x      y      z\n",
       "6341    1.00   44.0   53.0   4032  6.31   6.24   4.12\n",
       "10377   1.09   43.0   54.0   4778  6.53   6.55   4.12\n",
       "24067   2.00   58.9   57.0  12210  8.09  58.90   8.06\n",
       "31230   0.45   68.6   57.0    756  4.73   4.50   3.19\n",
       "35633   0.29   62.8   44.0    474  4.20   4.24   2.65\n",
       "36503   0.30   51.0   67.0    945  4.67   4.62   2.37\n",
       "38840   0.73   70.8   55.0   1049  5.51   5.34   3.84\n",
       "41918   1.03   78.2   54.0   1262  5.72   5.59   4.42\n",
       "45688   0.70   71.6   55.0   1696  5.47   5.28   3.85\n",
       "48410   0.51   61.8   54.7   1970  5.12   5.15  31.80\n",
       "49189   0.51   61.8   55.0   2075  5.15  31.80   5.12\n",
       "50773   0.81   68.8   79.0   2301  5.26   5.20   3.58\n",
       "52860   0.50   79.0   73.0   2579  5.21   5.18   4.09\n",
       "52861   0.50   79.0   73.0   2579  5.21   5.18   4.09"
      ]
     },
     "execution_count": 49,
     "metadata": {},
     "output_type": "execute_result"
    }
   ],
   "source": [
    "aykirilar"
   ]
  },
  {
   "cell_type": "code",
   "execution_count": 50,
   "id": "4abdda18-eb02-40d9-ab99-e0f1459981e8",
   "metadata": {},
   "outputs": [
    {
     "data": {
      "text/plain": [
       "rec.array([(1.  , 44. , 53. ,  4032, 6.31,  6.24,  4.12),\n",
       "           (1.09, 43. , 54. ,  4778, 6.53,  6.55,  4.12),\n",
       "           (2.  , 58.9, 57. , 12210, 8.09, 58.9 ,  8.06),\n",
       "           (0.45, 68.6, 57. ,   756, 4.73,  4.5 ,  3.19),\n",
       "           (0.29, 62.8, 44. ,   474, 4.2 ,  4.24,  2.65),\n",
       "           (0.3 , 51. , 67. ,   945, 4.67,  4.62,  2.37),\n",
       "           (0.73, 70.8, 55. ,  1049, 5.51,  5.34,  3.84),\n",
       "           (1.03, 78.2, 54. ,  1262, 5.72,  5.59,  4.42),\n",
       "           (0.7 , 71.6, 55. ,  1696, 5.47,  5.28,  3.85),\n",
       "           (0.51, 61.8, 54.7,  1970, 5.12,  5.15, 31.8 ),\n",
       "           (0.51, 61.8, 55. ,  2075, 5.15, 31.8 ,  5.12),\n",
       "           (0.81, 68.8, 79. ,  2301, 5.26,  5.2 ,  3.58),\n",
       "           (0.5 , 79. , 73. ,  2579, 5.21,  5.18,  4.09),\n",
       "           (0.5 , 79. , 73. ,  2579, 5.21,  5.18,  4.09)],\n",
       "          dtype=[('carat', '<f8'), ('depth', '<f8'), ('table', '<f8'), ('price', '<i8'), ('x', '<f8'), ('y', '<f8'), ('z', '<f8')])"
      ]
     },
     "execution_count": 50,
     "metadata": {},
     "output_type": "execute_result"
    }
   ],
   "source": [
    "aykirilar.to_records(index=False)"
   ]
  },
  {
   "cell_type": "code",
   "execution_count": 51,
   "id": "b044100a-556f-4d6d-a47d-28cd242e50d6",
   "metadata": {},
   "outputs": [],
   "source": [
    "res= aykirilar.to_records(index = False)"
   ]
  },
  {
   "cell_type": "code",
   "execution_count": 53,
   "id": "d1e0977e-facb-4f4f-8edf-056e5b03eb0f",
   "metadata": {},
   "outputs": [],
   "source": [
    "res[:] = baski_degeri.to_records(index=False)"
   ]
  },
  {
   "cell_type": "code",
   "execution_count": 54,
   "id": "88040811-c4ab-43ba-b743-9978d2391c4f",
   "metadata": {},
   "outputs": [
    {
     "data": {
      "text/plain": [
       "rec.array([(0.45, 68.6, 57., 756, 4.73, 4.5, 3.19),\n",
       "           (0.45, 68.6, 57., 756, 4.73, 4.5, 3.19),\n",
       "           (0.45, 68.6, 57., 756, 4.73, 4.5, 3.19),\n",
       "           (0.45, 68.6, 57., 756, 4.73, 4.5, 3.19),\n",
       "           (0.45, 68.6, 57., 756, 4.73, 4.5, 3.19),\n",
       "           (0.45, 68.6, 57., 756, 4.73, 4.5, 3.19),\n",
       "           (0.45, 68.6, 57., 756, 4.73, 4.5, 3.19),\n",
       "           (0.45, 68.6, 57., 756, 4.73, 4.5, 3.19),\n",
       "           (0.45, 68.6, 57., 756, 4.73, 4.5, 3.19),\n",
       "           (0.45, 68.6, 57., 756, 4.73, 4.5, 3.19),\n",
       "           (0.45, 68.6, 57., 756, 4.73, 4.5, 3.19),\n",
       "           (0.45, 68.6, 57., 756, 4.73, 4.5, 3.19),\n",
       "           (0.45, 68.6, 57., 756, 4.73, 4.5, 3.19),\n",
       "           (0.45, 68.6, 57., 756, 4.73, 4.5, 3.19)],\n",
       "          dtype=[('carat', '<f8'), ('depth', '<f8'), ('table', '<f8'), ('price', '<i8'), ('x', '<f8'), ('y', '<f8'), ('z', '<f8')])"
      ]
     },
     "execution_count": 54,
     "metadata": {},
     "output_type": "execute_result"
    }
   ],
   "source": [
    "res"
   ]
  },
  {
   "cell_type": "code",
   "execution_count": 56,
   "id": "a88f783c-7fcc-4d2b-a920-5a5a859c0847",
   "metadata": {},
   "outputs": [
    {
     "data": {
      "text/html": [
       "<div>\n",
       "<style scoped>\n",
       "    .dataframe tbody tr th:only-of-type {\n",
       "        vertical-align: middle;\n",
       "    }\n",
       "\n",
       "    .dataframe tbody tr th {\n",
       "        vertical-align: top;\n",
       "    }\n",
       "\n",
       "    .dataframe thead th {\n",
       "        text-align: right;\n",
       "    }\n",
       "</style>\n",
       "<table border=\"1\" class=\"dataframe\">\n",
       "  <thead>\n",
       "    <tr style=\"text-align: right;\">\n",
       "      <th></th>\n",
       "      <th>carat</th>\n",
       "      <th>depth</th>\n",
       "      <th>table</th>\n",
       "      <th>price</th>\n",
       "      <th>x</th>\n",
       "      <th>y</th>\n",
       "      <th>z</th>\n",
       "    </tr>\n",
       "  </thead>\n",
       "  <tbody>\n",
       "    <tr>\n",
       "      <th>6341</th>\n",
       "      <td>1.00</td>\n",
       "      <td>44.0</td>\n",
       "      <td>53.0</td>\n",
       "      <td>4032</td>\n",
       "      <td>6.31</td>\n",
       "      <td>6.24</td>\n",
       "      <td>4.12</td>\n",
       "    </tr>\n",
       "    <tr>\n",
       "      <th>10377</th>\n",
       "      <td>1.09</td>\n",
       "      <td>43.0</td>\n",
       "      <td>54.0</td>\n",
       "      <td>4778</td>\n",
       "      <td>6.53</td>\n",
       "      <td>6.55</td>\n",
       "      <td>4.12</td>\n",
       "    </tr>\n",
       "    <tr>\n",
       "      <th>24067</th>\n",
       "      <td>2.00</td>\n",
       "      <td>58.9</td>\n",
       "      <td>57.0</td>\n",
       "      <td>12210</td>\n",
       "      <td>8.09</td>\n",
       "      <td>58.90</td>\n",
       "      <td>8.06</td>\n",
       "    </tr>\n",
       "    <tr>\n",
       "      <th>31230</th>\n",
       "      <td>0.45</td>\n",
       "      <td>68.6</td>\n",
       "      <td>57.0</td>\n",
       "      <td>756</td>\n",
       "      <td>4.73</td>\n",
       "      <td>4.50</td>\n",
       "      <td>3.19</td>\n",
       "    </tr>\n",
       "    <tr>\n",
       "      <th>35633</th>\n",
       "      <td>0.29</td>\n",
       "      <td>62.8</td>\n",
       "      <td>44.0</td>\n",
       "      <td>474</td>\n",
       "      <td>4.20</td>\n",
       "      <td>4.24</td>\n",
       "      <td>2.65</td>\n",
       "    </tr>\n",
       "    <tr>\n",
       "      <th>36503</th>\n",
       "      <td>0.30</td>\n",
       "      <td>51.0</td>\n",
       "      <td>67.0</td>\n",
       "      <td>945</td>\n",
       "      <td>4.67</td>\n",
       "      <td>4.62</td>\n",
       "      <td>2.37</td>\n",
       "    </tr>\n",
       "    <tr>\n",
       "      <th>38840</th>\n",
       "      <td>0.73</td>\n",
       "      <td>70.8</td>\n",
       "      <td>55.0</td>\n",
       "      <td>1049</td>\n",
       "      <td>5.51</td>\n",
       "      <td>5.34</td>\n",
       "      <td>3.84</td>\n",
       "    </tr>\n",
       "    <tr>\n",
       "      <th>41918</th>\n",
       "      <td>1.03</td>\n",
       "      <td>78.2</td>\n",
       "      <td>54.0</td>\n",
       "      <td>1262</td>\n",
       "      <td>5.72</td>\n",
       "      <td>5.59</td>\n",
       "      <td>4.42</td>\n",
       "    </tr>\n",
       "    <tr>\n",
       "      <th>45688</th>\n",
       "      <td>0.70</td>\n",
       "      <td>71.6</td>\n",
       "      <td>55.0</td>\n",
       "      <td>1696</td>\n",
       "      <td>5.47</td>\n",
       "      <td>5.28</td>\n",
       "      <td>3.85</td>\n",
       "    </tr>\n",
       "    <tr>\n",
       "      <th>48410</th>\n",
       "      <td>0.51</td>\n",
       "      <td>61.8</td>\n",
       "      <td>54.7</td>\n",
       "      <td>1970</td>\n",
       "      <td>5.12</td>\n",
       "      <td>5.15</td>\n",
       "      <td>31.80</td>\n",
       "    </tr>\n",
       "    <tr>\n",
       "      <th>49189</th>\n",
       "      <td>0.51</td>\n",
       "      <td>61.8</td>\n",
       "      <td>55.0</td>\n",
       "      <td>2075</td>\n",
       "      <td>5.15</td>\n",
       "      <td>31.80</td>\n",
       "      <td>5.12</td>\n",
       "    </tr>\n",
       "    <tr>\n",
       "      <th>50773</th>\n",
       "      <td>0.81</td>\n",
       "      <td>68.8</td>\n",
       "      <td>79.0</td>\n",
       "      <td>2301</td>\n",
       "      <td>5.26</td>\n",
       "      <td>5.20</td>\n",
       "      <td>3.58</td>\n",
       "    </tr>\n",
       "    <tr>\n",
       "      <th>52860</th>\n",
       "      <td>0.50</td>\n",
       "      <td>79.0</td>\n",
       "      <td>73.0</td>\n",
       "      <td>2579</td>\n",
       "      <td>5.21</td>\n",
       "      <td>5.18</td>\n",
       "      <td>4.09</td>\n",
       "    </tr>\n",
       "    <tr>\n",
       "      <th>52861</th>\n",
       "      <td>0.50</td>\n",
       "      <td>79.0</td>\n",
       "      <td>73.0</td>\n",
       "      <td>2579</td>\n",
       "      <td>5.21</td>\n",
       "      <td>5.18</td>\n",
       "      <td>4.09</td>\n",
       "    </tr>\n",
       "  </tbody>\n",
       "</table>\n",
       "</div>"
      ],
      "text/plain": [
       "       carat  depth  table  price     x      y      z\n",
       "6341    1.00   44.0   53.0   4032  6.31   6.24   4.12\n",
       "10377   1.09   43.0   54.0   4778  6.53   6.55   4.12\n",
       "24067   2.00   58.9   57.0  12210  8.09  58.90   8.06\n",
       "31230   0.45   68.6   57.0    756  4.73   4.50   3.19\n",
       "35633   0.29   62.8   44.0    474  4.20   4.24   2.65\n",
       "36503   0.30   51.0   67.0    945  4.67   4.62   2.37\n",
       "38840   0.73   70.8   55.0   1049  5.51   5.34   3.84\n",
       "41918   1.03   78.2   54.0   1262  5.72   5.59   4.42\n",
       "45688   0.70   71.6   55.0   1696  5.47   5.28   3.85\n",
       "48410   0.51   61.8   54.7   1970  5.12   5.15  31.80\n",
       "49189   0.51   61.8   55.0   2075  5.15  31.80   5.12\n",
       "50773   0.81   68.8   79.0   2301  5.26   5.20   3.58\n",
       "52860   0.50   79.0   73.0   2579  5.21   5.18   4.09\n",
       "52861   0.50   79.0   73.0   2579  5.21   5.18   4.09"
      ]
     },
     "execution_count": 56,
     "metadata": {},
     "output_type": "execute_result"
    }
   ],
   "source": [
    "df[~aykiri_tf]"
   ]
  },
  {
   "cell_type": "code",
   "execution_count": 58,
   "id": "3ce9cab3-1f66-47ea-9688-9494b26bc1c2",
   "metadata": {},
   "outputs": [],
   "source": [
    "import pandas as pd\n",
    "df[~aykiri_tf] = pd.DataFrame(res, index=df[~aykiri_tf].index)\n",
    "#orj veri seti içindeki aykırı değerler yerine bir sabit eşik değere karşılık gelen ile baskılamış olduk"
   ]
  },
  {
   "cell_type": "code",
   "execution_count": 59,
   "id": "033ebd20-03f9-4807-993f-4be6f36fcc93",
   "metadata": {},
   "outputs": [
    {
     "data": {
      "text/html": [
       "<div>\n",
       "<style scoped>\n",
       "    .dataframe tbody tr th:only-of-type {\n",
       "        vertical-align: middle;\n",
       "    }\n",
       "\n",
       "    .dataframe tbody tr th {\n",
       "        vertical-align: top;\n",
       "    }\n",
       "\n",
       "    .dataframe thead th {\n",
       "        text-align: right;\n",
       "    }\n",
       "</style>\n",
       "<table border=\"1\" class=\"dataframe\">\n",
       "  <thead>\n",
       "    <tr style=\"text-align: right;\">\n",
       "      <th></th>\n",
       "      <th>carat</th>\n",
       "      <th>depth</th>\n",
       "      <th>table</th>\n",
       "      <th>price</th>\n",
       "      <th>x</th>\n",
       "      <th>y</th>\n",
       "      <th>z</th>\n",
       "    </tr>\n",
       "  </thead>\n",
       "  <tbody>\n",
       "    <tr>\n",
       "      <th>6341</th>\n",
       "      <td>0.45</td>\n",
       "      <td>68.6</td>\n",
       "      <td>57.0</td>\n",
       "      <td>756.0</td>\n",
       "      <td>4.73</td>\n",
       "      <td>4.5</td>\n",
       "      <td>3.19</td>\n",
       "    </tr>\n",
       "    <tr>\n",
       "      <th>10377</th>\n",
       "      <td>0.45</td>\n",
       "      <td>68.6</td>\n",
       "      <td>57.0</td>\n",
       "      <td>756.0</td>\n",
       "      <td>4.73</td>\n",
       "      <td>4.5</td>\n",
       "      <td>3.19</td>\n",
       "    </tr>\n",
       "    <tr>\n",
       "      <th>24067</th>\n",
       "      <td>0.45</td>\n",
       "      <td>68.6</td>\n",
       "      <td>57.0</td>\n",
       "      <td>756.0</td>\n",
       "      <td>4.73</td>\n",
       "      <td>4.5</td>\n",
       "      <td>3.19</td>\n",
       "    </tr>\n",
       "    <tr>\n",
       "      <th>31230</th>\n",
       "      <td>0.45</td>\n",
       "      <td>68.6</td>\n",
       "      <td>57.0</td>\n",
       "      <td>756.0</td>\n",
       "      <td>4.73</td>\n",
       "      <td>4.5</td>\n",
       "      <td>3.19</td>\n",
       "    </tr>\n",
       "    <tr>\n",
       "      <th>35633</th>\n",
       "      <td>0.45</td>\n",
       "      <td>68.6</td>\n",
       "      <td>57.0</td>\n",
       "      <td>756.0</td>\n",
       "      <td>4.73</td>\n",
       "      <td>4.5</td>\n",
       "      <td>3.19</td>\n",
       "    </tr>\n",
       "    <tr>\n",
       "      <th>36503</th>\n",
       "      <td>0.45</td>\n",
       "      <td>68.6</td>\n",
       "      <td>57.0</td>\n",
       "      <td>756.0</td>\n",
       "      <td>4.73</td>\n",
       "      <td>4.5</td>\n",
       "      <td>3.19</td>\n",
       "    </tr>\n",
       "    <tr>\n",
       "      <th>38840</th>\n",
       "      <td>0.45</td>\n",
       "      <td>68.6</td>\n",
       "      <td>57.0</td>\n",
       "      <td>756.0</td>\n",
       "      <td>4.73</td>\n",
       "      <td>4.5</td>\n",
       "      <td>3.19</td>\n",
       "    </tr>\n",
       "    <tr>\n",
       "      <th>41918</th>\n",
       "      <td>0.45</td>\n",
       "      <td>68.6</td>\n",
       "      <td>57.0</td>\n",
       "      <td>756.0</td>\n",
       "      <td>4.73</td>\n",
       "      <td>4.5</td>\n",
       "      <td>3.19</td>\n",
       "    </tr>\n",
       "    <tr>\n",
       "      <th>45688</th>\n",
       "      <td>0.45</td>\n",
       "      <td>68.6</td>\n",
       "      <td>57.0</td>\n",
       "      <td>756.0</td>\n",
       "      <td>4.73</td>\n",
       "      <td>4.5</td>\n",
       "      <td>3.19</td>\n",
       "    </tr>\n",
       "    <tr>\n",
       "      <th>48410</th>\n",
       "      <td>0.45</td>\n",
       "      <td>68.6</td>\n",
       "      <td>57.0</td>\n",
       "      <td>756.0</td>\n",
       "      <td>4.73</td>\n",
       "      <td>4.5</td>\n",
       "      <td>3.19</td>\n",
       "    </tr>\n",
       "    <tr>\n",
       "      <th>49189</th>\n",
       "      <td>0.45</td>\n",
       "      <td>68.6</td>\n",
       "      <td>57.0</td>\n",
       "      <td>756.0</td>\n",
       "      <td>4.73</td>\n",
       "      <td>4.5</td>\n",
       "      <td>3.19</td>\n",
       "    </tr>\n",
       "    <tr>\n",
       "      <th>50773</th>\n",
       "      <td>0.45</td>\n",
       "      <td>68.6</td>\n",
       "      <td>57.0</td>\n",
       "      <td>756.0</td>\n",
       "      <td>4.73</td>\n",
       "      <td>4.5</td>\n",
       "      <td>3.19</td>\n",
       "    </tr>\n",
       "    <tr>\n",
       "      <th>52860</th>\n",
       "      <td>0.45</td>\n",
       "      <td>68.6</td>\n",
       "      <td>57.0</td>\n",
       "      <td>756.0</td>\n",
       "      <td>4.73</td>\n",
       "      <td>4.5</td>\n",
       "      <td>3.19</td>\n",
       "    </tr>\n",
       "    <tr>\n",
       "      <th>52861</th>\n",
       "      <td>0.45</td>\n",
       "      <td>68.6</td>\n",
       "      <td>57.0</td>\n",
       "      <td>756.0</td>\n",
       "      <td>4.73</td>\n",
       "      <td>4.5</td>\n",
       "      <td>3.19</td>\n",
       "    </tr>\n",
       "  </tbody>\n",
       "</table>\n",
       "</div>"
      ],
      "text/plain": [
       "      carat depth table  price     x    y     z\n",
       "6341   0.45  68.6  57.0  756.0  4.73  4.5  3.19\n",
       "10377  0.45  68.6  57.0  756.0  4.73  4.5  3.19\n",
       "24067  0.45  68.6  57.0  756.0  4.73  4.5  3.19\n",
       "31230  0.45  68.6  57.0  756.0  4.73  4.5  3.19\n",
       "35633  0.45  68.6  57.0  756.0  4.73  4.5  3.19\n",
       "36503  0.45  68.6  57.0  756.0  4.73  4.5  3.19\n",
       "38840  0.45  68.6  57.0  756.0  4.73  4.5  3.19\n",
       "41918  0.45  68.6  57.0  756.0  4.73  4.5  3.19\n",
       "45688  0.45  68.6  57.0  756.0  4.73  4.5  3.19\n",
       "48410  0.45  68.6  57.0  756.0  4.73  4.5  3.19\n",
       "49189  0.45  68.6  57.0  756.0  4.73  4.5  3.19\n",
       "50773  0.45  68.6  57.0  756.0  4.73  4.5  3.19\n",
       "52860  0.45  68.6  57.0  756.0  4.73  4.5  3.19\n",
       "52861  0.45  68.6  57.0  756.0  4.73  4.5  3.19"
      ]
     },
     "execution_count": 59,
     "metadata": {},
     "output_type": "execute_result"
    }
   ],
   "source": [
    "df[~aykiri_tf]"
   ]
  },
  {
   "cell_type": "markdown",
   "id": "f5abcfc8-0d6f-47fc-80cd-bbb49771448c",
   "metadata": {},
   "source": [
    "# Eksik Gözlem Analizi\n",
    "\n",
    "### İncelenen veri setindeki gözlemlerde eksiklik olması durumunu ifade etmektedir. Veri girişi, tablo işleme gibi yerlerde karşımıza çıkabilir."
   ]
  },
  {
   "cell_type": "code",
   "execution_count": 60,
   "id": "af387e49-bc97-45df-a5bd-14d94b844d5d",
   "metadata": {},
   "outputs": [],
   "source": [
    "#Eksik değere sahip gözlemlerin veri setinden direk çıkarılması ve rassallığının\n",
    "#incelenmemesi yapılacak istatiksel çıkarımların,modelleme çalışmalarının güvenilirliğini düşürecektir."
   ]
  },
  {
   "cell_type": "code",
   "execution_count": 61,
   "id": "e20b2ae0-4f8a-4f39-9dac-133a6313e681",
   "metadata": {},
   "outputs": [],
   "source": [
    "#Eksik gözlemlerin veri setinden direk çıkarılabilmesi için veri setindeki eksikliğin bazı durunlarda kısmen\n",
    "#bazı durumlarda tamamen rastlantısal olarak oluşmuş olması gerekmektedir. Eğer eksiklikler\n",
    "#değişkenler ile ilişkili olarakortaya çıkan yapısal problemler ile meydana gelmişse bu durumda yapılacak silme işlemiler\n",
    "#ciddi yanlılıklara sebep olabilecektir."
   ]
  },
  {
   "cell_type": "code",
   "execution_count": 1,
   "id": "aa0c0574-567f-444d-ac5d-d5aa5954258f",
   "metadata": {},
   "outputs": [],
   "source": [
    "#1.Veri setindeki eksikliğin yapısal bir eksilik olup olmadığının bilinmesi gerekir\n",
    "#2.NA her zaman eksiklik anlamına gelir\n",
    "#3.Bilgi Kaybı: 100 değerlik bir veride 99u tam bir değişkende eksiklik varsa eksik gözlemden kurtulursak onu sildiğimizde 99 tane farklı bilgiyi kaybetmiş oluruz. "
   ]
  },
  {
   "cell_type": "markdown",
   "id": "dd5a059f-30ab-44d9-b325-9c83ebfd6605",
   "metadata": {},
   "source": [
    "## Eksik Veri Türleri\n",
    "\n",
    "### Tümüyle Rastlantısal Kayıp: Diğer değişkenlerden ya da yapısal bir problemden kaynaklanmayan tamamen rastgele oluşan gözlemlerdir.\n",
    "\n",
    "### Rastlantısal Kayıp: Diğer değişkenlere bağlı olarak oluşabilen eksiklik türüdür.\n",
    "\n",
    "### Rastlantısal Olmayan Kayıp: Göz ardı edilemeyecek olan ve yapısal problemler ile ortaya çıkan eksiklik türüdür."
   ]
  },
  {
   "cell_type": "markdown",
   "id": "5c5085b2-60c7-4bf0-aeda-f613eaa27d49",
   "metadata": {},
   "source": [
    "## Eksik Verinin Rassallığının Testi \n",
    "\n",
    "### Görsel Teknikler (pratikte uygulanan)\n",
    "### Bağımsız İki Örneklem T Testi\n",
    "### Korelasyon Testi\n",
    "### Little'nin MCAR Testi (pratikte uygulanan)"
   ]
  },
  {
   "cell_type": "markdown",
   "id": "7699d427-f3c4-4752-9295-a442d98b5e83",
   "metadata": {},
   "source": [
    "## Eksik Veri Problemleri Nasıl Giderilir?\n",
    "\n",
    "### Silme Yöntemleri:\n",
    "\n",
    "#### Gözlem ya da değişken silme yöntemi\n",
    "#### Liste Bazında Silme Yöntemi (Listwise Method)\n",
    "#### Çiftler Bazında Silme Yöntemi (Pairwise Method)\n",
    "\n",
    "### Değer Atama Yöntemleri:\n",
    "\n",
    "#### Ortanca. Ortalama, Medyan\n",
    "#### En Benzer Birime Atama(hot deck)\n",
    "#### Dış Kaynaklı \n",
    "\n",
    "### Tahmine Dayalı Yöntemler\n",
    "\n",
    "#### Makine Öğrenmesi\n",
    "#### EM\n",
    "#### Çoklu Atama Yöntemi"
   ]
  },
  {
   "cell_type": "markdown",
   "id": "19eaa134-b934-445d-b154-95fcc53b2ca2",
   "metadata": {},
   "source": [
    "# Eksik Veri Analizi\n",
    "## Hızlı Çözüm"
   ]
  },
  {
   "cell_type": "code",
   "execution_count": 27,
   "id": "3ce03e55-4b79-47dc-b489-d2624f3122db",
   "metadata": {},
   "outputs": [
    {
     "data": {
      "text/html": [
       "<div>\n",
       "<style scoped>\n",
       "    .dataframe tbody tr th:only-of-type {\n",
       "        vertical-align: middle;\n",
       "    }\n",
       "\n",
       "    .dataframe tbody tr th {\n",
       "        vertical-align: top;\n",
       "    }\n",
       "\n",
       "    .dataframe thead th {\n",
       "        text-align: right;\n",
       "    }\n",
       "</style>\n",
       "<table border=\"1\" class=\"dataframe\">\n",
       "  <thead>\n",
       "    <tr style=\"text-align: right;\">\n",
       "      <th></th>\n",
       "      <th>v1</th>\n",
       "      <th>v2</th>\n",
       "      <th>v3</th>\n",
       "    </tr>\n",
       "  </thead>\n",
       "  <tbody>\n",
       "    <tr>\n",
       "      <th>0</th>\n",
       "      <td>1.0</td>\n",
       "      <td>7.0</td>\n",
       "      <td>NaN</td>\n",
       "    </tr>\n",
       "    <tr>\n",
       "      <th>1</th>\n",
       "      <td>3.0</td>\n",
       "      <td>NaN</td>\n",
       "      <td>12.0</td>\n",
       "    </tr>\n",
       "    <tr>\n",
       "      <th>2</th>\n",
       "      <td>6.0</td>\n",
       "      <td>5.0</td>\n",
       "      <td>5.0</td>\n",
       "    </tr>\n",
       "    <tr>\n",
       "      <th>3</th>\n",
       "      <td>NaN</td>\n",
       "      <td>8.0</td>\n",
       "      <td>6.0</td>\n",
       "    </tr>\n",
       "    <tr>\n",
       "      <th>4</th>\n",
       "      <td>7.0</td>\n",
       "      <td>12.0</td>\n",
       "      <td>14.0</td>\n",
       "    </tr>\n",
       "    <tr>\n",
       "      <th>5</th>\n",
       "      <td>1.0</td>\n",
       "      <td>NaN</td>\n",
       "      <td>7.0</td>\n",
       "    </tr>\n",
       "    <tr>\n",
       "      <th>6</th>\n",
       "      <td>NaN</td>\n",
       "      <td>NaN</td>\n",
       "      <td>NaN</td>\n",
       "    </tr>\n",
       "    <tr>\n",
       "      <th>7</th>\n",
       "      <td>9.0</td>\n",
       "      <td>2.0</td>\n",
       "      <td>2.0</td>\n",
       "    </tr>\n",
       "    <tr>\n",
       "      <th>8</th>\n",
       "      <td>15.0</td>\n",
       "      <td>3.0</td>\n",
       "      <td>31.0</td>\n",
       "    </tr>\n",
       "  </tbody>\n",
       "</table>\n",
       "</div>"
      ],
      "text/plain": [
       "     v1    v2    v3\n",
       "0   1.0   7.0   NaN\n",
       "1   3.0   NaN  12.0\n",
       "2   6.0   5.0   5.0\n",
       "3   NaN   8.0   6.0\n",
       "4   7.0  12.0  14.0\n",
       "5   1.0   NaN   7.0\n",
       "6   NaN   NaN   NaN\n",
       "7   9.0   2.0   2.0\n",
       "8  15.0   3.0  31.0"
      ]
     },
     "execution_count": 27,
     "metadata": {},
     "output_type": "execute_result"
    }
   ],
   "source": [
    "import numpy as np\n",
    "import pandas as pd\n",
    "v1=np.array([1,3,6,np.NaN,7,1,np.NaN,9,15])\n",
    "v2=np.array([7,np.NaN,5,8,12,np.NaN,np.NaN,2,3])\n",
    "v3=np.array([np.NaN,12,5,6,14,7,np.NaN,2,31])\n",
    "df=pd.DataFrame(\n",
    "{\"v1\" : v1,\n",
    " \"v2\" : v2,\n",
    " \"v3\" : v3})\n",
    "df"
   ]
  },
  {
   "cell_type": "code",
   "execution_count": 4,
   "id": "a49143a0-7749-47f0-8b7d-e78ee70f3dc9",
   "metadata": {},
   "outputs": [
    {
     "data": {
      "text/plain": [
       "v1    2\n",
       "v2    3\n",
       "v3    2\n",
       "dtype: int64"
      ]
     },
     "execution_count": 4,
     "metadata": {},
     "output_type": "execute_result"
    }
   ],
   "source": [
    "df.isnull().sum()#eksik değer sayısı"
   ]
  },
  {
   "cell_type": "code",
   "execution_count": 6,
   "id": "18adb1cf-7052-48ed-90aa-de3e075e3385",
   "metadata": {},
   "outputs": [
    {
     "data": {
      "text/plain": [
       "v1    7\n",
       "v2    6\n",
       "v3    7\n",
       "dtype: int64"
      ]
     },
     "execution_count": 6,
     "metadata": {},
     "output_type": "execute_result"
    }
   ],
   "source": [
    "df.notnull().sum() #tam olan değerlerin sayısı"
   ]
  },
  {
   "cell_type": "code",
   "execution_count": 9,
   "id": "2dabf07b-0b18-44d3-b42d-6fe65c29ff5c",
   "metadata": {},
   "outputs": [
    {
     "data": {
      "text/html": [
       "<div>\n",
       "<style scoped>\n",
       "    .dataframe tbody tr th:only-of-type {\n",
       "        vertical-align: middle;\n",
       "    }\n",
       "\n",
       "    .dataframe tbody tr th {\n",
       "        vertical-align: top;\n",
       "    }\n",
       "\n",
       "    .dataframe thead th {\n",
       "        text-align: right;\n",
       "    }\n",
       "</style>\n",
       "<table border=\"1\" class=\"dataframe\">\n",
       "  <thead>\n",
       "    <tr style=\"text-align: right;\">\n",
       "      <th></th>\n",
       "      <th>v1</th>\n",
       "      <th>v2</th>\n",
       "      <th>v3</th>\n",
       "    </tr>\n",
       "  </thead>\n",
       "  <tbody>\n",
       "    <tr>\n",
       "      <th>0</th>\n",
       "      <td>False</td>\n",
       "      <td>False</td>\n",
       "      <td>True</td>\n",
       "    </tr>\n",
       "    <tr>\n",
       "      <th>1</th>\n",
       "      <td>False</td>\n",
       "      <td>True</td>\n",
       "      <td>False</td>\n",
       "    </tr>\n",
       "    <tr>\n",
       "      <th>2</th>\n",
       "      <td>False</td>\n",
       "      <td>False</td>\n",
       "      <td>False</td>\n",
       "    </tr>\n",
       "    <tr>\n",
       "      <th>3</th>\n",
       "      <td>True</td>\n",
       "      <td>False</td>\n",
       "      <td>False</td>\n",
       "    </tr>\n",
       "    <tr>\n",
       "      <th>4</th>\n",
       "      <td>False</td>\n",
       "      <td>False</td>\n",
       "      <td>False</td>\n",
       "    </tr>\n",
       "    <tr>\n",
       "      <th>5</th>\n",
       "      <td>False</td>\n",
       "      <td>True</td>\n",
       "      <td>False</td>\n",
       "    </tr>\n",
       "    <tr>\n",
       "      <th>6</th>\n",
       "      <td>True</td>\n",
       "      <td>True</td>\n",
       "      <td>True</td>\n",
       "    </tr>\n",
       "    <tr>\n",
       "      <th>7</th>\n",
       "      <td>False</td>\n",
       "      <td>False</td>\n",
       "      <td>False</td>\n",
       "    </tr>\n",
       "    <tr>\n",
       "      <th>8</th>\n",
       "      <td>False</td>\n",
       "      <td>False</td>\n",
       "      <td>False</td>\n",
       "    </tr>\n",
       "  </tbody>\n",
       "</table>\n",
       "</div>"
      ],
      "text/plain": [
       "      v1     v2     v3\n",
       "0  False  False   True\n",
       "1  False   True  False\n",
       "2  False  False  False\n",
       "3   True  False  False\n",
       "4  False  False  False\n",
       "5  False   True  False\n",
       "6   True   True   True\n",
       "7  False  False  False\n",
       "8  False  False  False"
      ]
     },
     "execution_count": 9,
     "metadata": {},
     "output_type": "execute_result"
    }
   ],
   "source": [
    "df.isnull()"
   ]
  },
  {
   "cell_type": "code",
   "execution_count": 11,
   "id": "d59ad5bf-a9b6-4ce8-addf-0342138c07b4",
   "metadata": {},
   "outputs": [
    {
     "data": {
      "text/html": [
       "<div>\n",
       "<style scoped>\n",
       "    .dataframe tbody tr th:only-of-type {\n",
       "        vertical-align: middle;\n",
       "    }\n",
       "\n",
       "    .dataframe tbody tr th {\n",
       "        vertical-align: top;\n",
       "    }\n",
       "\n",
       "    .dataframe thead th {\n",
       "        text-align: right;\n",
       "    }\n",
       "</style>\n",
       "<table border=\"1\" class=\"dataframe\">\n",
       "  <thead>\n",
       "    <tr style=\"text-align: right;\">\n",
       "      <th></th>\n",
       "      <th>v1</th>\n",
       "      <th>v2</th>\n",
       "      <th>v3</th>\n",
       "    </tr>\n",
       "  </thead>\n",
       "  <tbody>\n",
       "    <tr>\n",
       "      <th>0</th>\n",
       "      <td>1.0</td>\n",
       "      <td>7.0</td>\n",
       "      <td>NaN</td>\n",
       "    </tr>\n",
       "    <tr>\n",
       "      <th>1</th>\n",
       "      <td>3.0</td>\n",
       "      <td>NaN</td>\n",
       "      <td>12.0</td>\n",
       "    </tr>\n",
       "    <tr>\n",
       "      <th>3</th>\n",
       "      <td>NaN</td>\n",
       "      <td>8.0</td>\n",
       "      <td>6.0</td>\n",
       "    </tr>\n",
       "    <tr>\n",
       "      <th>5</th>\n",
       "      <td>1.0</td>\n",
       "      <td>NaN</td>\n",
       "      <td>7.0</td>\n",
       "    </tr>\n",
       "    <tr>\n",
       "      <th>6</th>\n",
       "      <td>NaN</td>\n",
       "      <td>NaN</td>\n",
       "      <td>NaN</td>\n",
       "    </tr>\n",
       "  </tbody>\n",
       "</table>\n",
       "</div>"
      ],
      "text/plain": [
       "    v1   v2    v3\n",
       "0  1.0  7.0   NaN\n",
       "1  3.0  NaN  12.0\n",
       "3  NaN  8.0   6.0\n",
       "5  1.0  NaN   7.0\n",
       "6  NaN  NaN   NaN"
      ]
     },
     "execution_count": 11,
     "metadata": {},
     "output_type": "execute_result"
    }
   ],
   "source": [
    "df[df.isnull().any(axis =1)]#kendisinde en az 1 tane eksik değer varsa onları getirir"
   ]
  },
  {
   "cell_type": "code",
   "execution_count": 13,
   "id": "174b7311-a36c-42dc-81b5-0c072a220b67",
   "metadata": {},
   "outputs": [
    {
     "data": {
      "text/html": [
       "<div>\n",
       "<style scoped>\n",
       "    .dataframe tbody tr th:only-of-type {\n",
       "        vertical-align: middle;\n",
       "    }\n",
       "\n",
       "    .dataframe tbody tr th {\n",
       "        vertical-align: top;\n",
       "    }\n",
       "\n",
       "    .dataframe thead th {\n",
       "        text-align: right;\n",
       "    }\n",
       "</style>\n",
       "<table border=\"1\" class=\"dataframe\">\n",
       "  <thead>\n",
       "    <tr style=\"text-align: right;\">\n",
       "      <th></th>\n",
       "      <th>v1</th>\n",
       "      <th>v2</th>\n",
       "      <th>v3</th>\n",
       "    </tr>\n",
       "  </thead>\n",
       "  <tbody>\n",
       "    <tr>\n",
       "      <th>2</th>\n",
       "      <td>6.0</td>\n",
       "      <td>5.0</td>\n",
       "      <td>5.0</td>\n",
       "    </tr>\n",
       "    <tr>\n",
       "      <th>4</th>\n",
       "      <td>7.0</td>\n",
       "      <td>12.0</td>\n",
       "      <td>14.0</td>\n",
       "    </tr>\n",
       "    <tr>\n",
       "      <th>7</th>\n",
       "      <td>9.0</td>\n",
       "      <td>2.0</td>\n",
       "      <td>2.0</td>\n",
       "    </tr>\n",
       "    <tr>\n",
       "      <th>8</th>\n",
       "      <td>15.0</td>\n",
       "      <td>3.0</td>\n",
       "      <td>31.0</td>\n",
       "    </tr>\n",
       "  </tbody>\n",
       "</table>\n",
       "</div>"
      ],
      "text/plain": [
       "     v1    v2    v3\n",
       "2   6.0   5.0   5.0\n",
       "4   7.0  12.0  14.0\n",
       "7   9.0   2.0   2.0\n",
       "8  15.0   3.0  31.0"
      ]
     },
     "execution_count": 13,
     "metadata": {},
     "output_type": "execute_result"
    }
   ],
   "source": [
    "df[df.notnull().all(axis =1)]#dolu olanları getirir"
   ]
  },
  {
   "cell_type": "code",
   "execution_count": 15,
   "id": "d25c1266-bc48-493a-9f58-136be3af3cbd",
   "metadata": {},
   "outputs": [
    {
     "data": {
      "text/html": [
       "<div>\n",
       "<style scoped>\n",
       "    .dataframe tbody tr th:only-of-type {\n",
       "        vertical-align: middle;\n",
       "    }\n",
       "\n",
       "    .dataframe tbody tr th {\n",
       "        vertical-align: top;\n",
       "    }\n",
       "\n",
       "    .dataframe thead th {\n",
       "        text-align: right;\n",
       "    }\n",
       "</style>\n",
       "<table border=\"1\" class=\"dataframe\">\n",
       "  <thead>\n",
       "    <tr style=\"text-align: right;\">\n",
       "      <th></th>\n",
       "      <th>v1</th>\n",
       "      <th>v2</th>\n",
       "      <th>v3</th>\n",
       "    </tr>\n",
       "  </thead>\n",
       "  <tbody>\n",
       "    <tr>\n",
       "      <th>2</th>\n",
       "      <td>6.0</td>\n",
       "      <td>5.0</td>\n",
       "      <td>5.0</td>\n",
       "    </tr>\n",
       "    <tr>\n",
       "      <th>4</th>\n",
       "      <td>7.0</td>\n",
       "      <td>12.0</td>\n",
       "      <td>14.0</td>\n",
       "    </tr>\n",
       "    <tr>\n",
       "      <th>7</th>\n",
       "      <td>9.0</td>\n",
       "      <td>2.0</td>\n",
       "      <td>2.0</td>\n",
       "    </tr>\n",
       "    <tr>\n",
       "      <th>8</th>\n",
       "      <td>15.0</td>\n",
       "      <td>3.0</td>\n",
       "      <td>31.0</td>\n",
       "    </tr>\n",
       "  </tbody>\n",
       "</table>\n",
       "</div>"
      ],
      "text/plain": [
       "     v1    v2    v3\n",
       "2   6.0   5.0   5.0\n",
       "4   7.0  12.0  14.0\n",
       "7   9.0   2.0   2.0\n",
       "8  15.0   3.0  31.0"
      ]
     },
     "execution_count": 15,
     "metadata": {},
     "output_type": "execute_result"
    }
   ],
   "source": [
    "df[df[\"v1\"].notnull() & df[\"v2\"].notnull() & df[\"v3\"].notnull()]#yukardakinin aynısı"
   ]
  },
  {
   "cell_type": "code",
   "execution_count": 16,
   "id": "d6e0f3d3-e074-4ec6-ad13-599f6dfe795a",
   "metadata": {},
   "outputs": [],
   "source": [
    "#eksik değerlerin direk silinmesi"
   ]
  },
  {
   "cell_type": "code",
   "execution_count": 19,
   "id": "759450d4-b4fe-441e-8637-3714c2e2b501",
   "metadata": {},
   "outputs": [
    {
     "data": {
      "text/html": [
       "<div>\n",
       "<style scoped>\n",
       "    .dataframe tbody tr th:only-of-type {\n",
       "        vertical-align: middle;\n",
       "    }\n",
       "\n",
       "    .dataframe tbody tr th {\n",
       "        vertical-align: top;\n",
       "    }\n",
       "\n",
       "    .dataframe thead th {\n",
       "        text-align: right;\n",
       "    }\n",
       "</style>\n",
       "<table border=\"1\" class=\"dataframe\">\n",
       "  <thead>\n",
       "    <tr style=\"text-align: right;\">\n",
       "      <th></th>\n",
       "      <th>v1</th>\n",
       "      <th>v2</th>\n",
       "      <th>v3</th>\n",
       "    </tr>\n",
       "  </thead>\n",
       "  <tbody>\n",
       "    <tr>\n",
       "      <th>2</th>\n",
       "      <td>6.0</td>\n",
       "      <td>5.0</td>\n",
       "      <td>5.0</td>\n",
       "    </tr>\n",
       "    <tr>\n",
       "      <th>4</th>\n",
       "      <td>7.0</td>\n",
       "      <td>12.0</td>\n",
       "      <td>14.0</td>\n",
       "    </tr>\n",
       "    <tr>\n",
       "      <th>7</th>\n",
       "      <td>9.0</td>\n",
       "      <td>2.0</td>\n",
       "      <td>2.0</td>\n",
       "    </tr>\n",
       "    <tr>\n",
       "      <th>8</th>\n",
       "      <td>15.0</td>\n",
       "      <td>3.0</td>\n",
       "      <td>31.0</td>\n",
       "    </tr>\n",
       "  </tbody>\n",
       "</table>\n",
       "</div>"
      ],
      "text/plain": [
       "     v1    v2    v3\n",
       "2   6.0   5.0   5.0\n",
       "4   7.0  12.0  14.0\n",
       "7   9.0   2.0   2.0\n",
       "8  15.0   3.0  31.0"
      ]
     },
     "execution_count": 19,
     "metadata": {},
     "output_type": "execute_result"
    }
   ],
   "source": [
    "df.dropna()#bir tane bile eksiklik varsa siler ama kalıcı değildir. inplace =True dersek kalıcı şekilde siler"
   ]
  },
  {
   "cell_type": "code",
   "execution_count": 20,
   "id": "b7328735-e2f0-4e43-b88f-e3382623d991",
   "metadata": {},
   "outputs": [],
   "source": [
    "#basit değer atama"
   ]
  },
  {
   "cell_type": "code",
   "execution_count": 21,
   "id": "81253ce8-98cc-4b35-8a32-63de2628e574",
   "metadata": {},
   "outputs": [
    {
     "data": {
      "text/plain": [
       "0     1.0\n",
       "1     3.0\n",
       "2     6.0\n",
       "3     NaN\n",
       "4     7.0\n",
       "5     1.0\n",
       "6     NaN\n",
       "7     9.0\n",
       "8    15.0\n",
       "Name: v1, dtype: float64"
      ]
     },
     "execution_count": 21,
     "metadata": {},
     "output_type": "execute_result"
    }
   ],
   "source": [
    "df[\"v1\"]"
   ]
  },
  {
   "cell_type": "code",
   "execution_count": 22,
   "id": "c63ac78a-0064-427a-a207-1ed7e0765e9c",
   "metadata": {},
   "outputs": [
    {
     "data": {
      "text/plain": [
       "6.0"
      ]
     },
     "execution_count": 22,
     "metadata": {},
     "output_type": "execute_result"
    }
   ],
   "source": [
    "df[\"v1\"].mean()"
   ]
  },
  {
   "cell_type": "code",
   "execution_count": 24,
   "id": "725e440c-43b9-4a22-be8f-b95db3a4bac0",
   "metadata": {},
   "outputs": [
    {
     "data": {
      "text/plain": [
       "0     1.0\n",
       "1     3.0\n",
       "2     6.0\n",
       "3     6.0\n",
       "4     7.0\n",
       "5     1.0\n",
       "6     6.0\n",
       "7     9.0\n",
       "8    15.0\n",
       "Name: v1, dtype: float64"
      ]
     },
     "execution_count": 24,
     "metadata": {},
     "output_type": "execute_result"
    }
   ],
   "source": [
    "df[\"v1\"].fillna(df[\"v1\"].mean()) #kendi ortalaması ile boş değerleri doldurduk"
   ]
  },
  {
   "cell_type": "code",
   "execution_count": 26,
   "id": "acc9d0ae-3df9-4d81-97ee-1459c9a17a86",
   "metadata": {},
   "outputs": [
    {
     "data": {
      "text/plain": [
       "0     7.0\n",
       "1     0.0\n",
       "2     5.0\n",
       "3     8.0\n",
       "4    12.0\n",
       "5     0.0\n",
       "6     0.0\n",
       "7     2.0\n",
       "8     3.0\n",
       "Name: v2, dtype: float64"
      ]
     },
     "execution_count": 26,
     "metadata": {},
     "output_type": "execute_result"
    }
   ],
   "source": [
    "df[\"v2\"].fillna(0)"
   ]
  },
  {
   "cell_type": "code",
   "execution_count": 28,
   "id": "cb3b1c7c-1934-4572-8d6c-2daaf94c4509",
   "metadata": {},
   "outputs": [],
   "source": [
    "#elimizde 10 tane değişken var hepsinin için ortalama atamak istiyoruz"
   ]
  },
  {
   "cell_type": "code",
   "execution_count": 29,
   "id": "8c17649b-bca9-44b3-b5c8-1e4a55d4090c",
   "metadata": {},
   "outputs": [
    {
     "data": {
      "text/html": [
       "<div>\n",
       "<style scoped>\n",
       "    .dataframe tbody tr th:only-of-type {\n",
       "        vertical-align: middle;\n",
       "    }\n",
       "\n",
       "    .dataframe tbody tr th {\n",
       "        vertical-align: top;\n",
       "    }\n",
       "\n",
       "    .dataframe thead th {\n",
       "        text-align: right;\n",
       "    }\n",
       "</style>\n",
       "<table border=\"1\" class=\"dataframe\">\n",
       "  <thead>\n",
       "    <tr style=\"text-align: right;\">\n",
       "      <th></th>\n",
       "      <th>v1</th>\n",
       "      <th>v2</th>\n",
       "      <th>v3</th>\n",
       "    </tr>\n",
       "  </thead>\n",
       "  <tbody>\n",
       "    <tr>\n",
       "      <th>0</th>\n",
       "      <td>1.0</td>\n",
       "      <td>7.000000</td>\n",
       "      <td>11.0</td>\n",
       "    </tr>\n",
       "    <tr>\n",
       "      <th>1</th>\n",
       "      <td>3.0</td>\n",
       "      <td>6.166667</td>\n",
       "      <td>12.0</td>\n",
       "    </tr>\n",
       "    <tr>\n",
       "      <th>2</th>\n",
       "      <td>6.0</td>\n",
       "      <td>5.000000</td>\n",
       "      <td>5.0</td>\n",
       "    </tr>\n",
       "    <tr>\n",
       "      <th>3</th>\n",
       "      <td>6.0</td>\n",
       "      <td>8.000000</td>\n",
       "      <td>6.0</td>\n",
       "    </tr>\n",
       "    <tr>\n",
       "      <th>4</th>\n",
       "      <td>7.0</td>\n",
       "      <td>12.000000</td>\n",
       "      <td>14.0</td>\n",
       "    </tr>\n",
       "    <tr>\n",
       "      <th>5</th>\n",
       "      <td>1.0</td>\n",
       "      <td>6.166667</td>\n",
       "      <td>7.0</td>\n",
       "    </tr>\n",
       "    <tr>\n",
       "      <th>6</th>\n",
       "      <td>6.0</td>\n",
       "      <td>6.166667</td>\n",
       "      <td>11.0</td>\n",
       "    </tr>\n",
       "    <tr>\n",
       "      <th>7</th>\n",
       "      <td>9.0</td>\n",
       "      <td>2.000000</td>\n",
       "      <td>2.0</td>\n",
       "    </tr>\n",
       "    <tr>\n",
       "      <th>8</th>\n",
       "      <td>15.0</td>\n",
       "      <td>3.000000</td>\n",
       "      <td>31.0</td>\n",
       "    </tr>\n",
       "  </tbody>\n",
       "</table>\n",
       "</div>"
      ],
      "text/plain": [
       "     v1         v2    v3\n",
       "0   1.0   7.000000  11.0\n",
       "1   3.0   6.166667  12.0\n",
       "2   6.0   5.000000   5.0\n",
       "3   6.0   8.000000   6.0\n",
       "4   7.0  12.000000  14.0\n",
       "5   1.0   6.166667   7.0\n",
       "6   6.0   6.166667  11.0\n",
       "7   9.0   2.000000   2.0\n",
       "8  15.0   3.000000  31.0"
      ]
     },
     "execution_count": 29,
     "metadata": {},
     "output_type": "execute_result"
    }
   ],
   "source": [
    "df.apply(lambda x: x.fillna(x.mean()), axis=0)#satırlara göre boş değerleri o satırın ortalamasına göre doldurur."
   ]
  },
  {
   "cell_type": "markdown",
   "id": "53cd068e-1934-4e8a-98e6-3cac24afe57f",
   "metadata": {},
   "source": [
    "# Eksik Veri Yapısını Görselleştirme"
   ]
  },
  {
   "cell_type": "code",
   "execution_count": 30,
   "id": "e01b3f24-98df-478d-85f1-30f06f4d9f0e",
   "metadata": {
    "collapsed": true,
    "jupyter": {
     "outputs_hidden": true
    },
    "tags": []
   },
   "outputs": [
    {
     "name": "stdout",
     "output_type": "stream",
     "text": [
      "Collecting missingno\n",
      "  Downloading missingno-0.5.1-py3-none-any.whl (8.7 kB)\n",
      "Requirement already satisfied: matplotlib in c:\\users\\monster\\anaconda3\\lib\\site-packages (from missingno) (3.4.3)\n",
      "Requirement already satisfied: scipy in c:\\users\\monster\\anaconda3\\lib\\site-packages (from missingno) (1.7.1)\n",
      "Requirement already satisfied: seaborn in c:\\users\\monster\\anaconda3\\lib\\site-packages (from missingno) (0.11.2)\n",
      "Requirement already satisfied: numpy in c:\\users\\monster\\anaconda3\\lib\\site-packages (from missingno) (1.20.3)\n",
      "Requirement already satisfied: pyparsing>=2.2.1 in c:\\users\\monster\\anaconda3\\lib\\site-packages (from matplotlib->missingno) (3.0.4)\n",
      "Requirement already satisfied: pillow>=6.2.0 in c:\\users\\monster\\anaconda3\\lib\\site-packages (from matplotlib->missingno) (8.4.0)\n",
      "Requirement already satisfied: python-dateutil>=2.7 in c:\\users\\monster\\anaconda3\\lib\\site-packages (from matplotlib->missingno) (2.8.2)\n",
      "Requirement already satisfied: kiwisolver>=1.0.1 in c:\\users\\monster\\anaconda3\\lib\\site-packages (from matplotlib->missingno) (1.3.1)\n",
      "Requirement already satisfied: cycler>=0.10 in c:\\users\\monster\\anaconda3\\lib\\site-packages (from matplotlib->missingno) (0.10.0)\n",
      "Requirement already satisfied: six in c:\\users\\monster\\anaconda3\\lib\\site-packages (from cycler>=0.10->matplotlib->missingno) (1.16.0)\n",
      "Requirement already satisfied: pandas>=0.23 in c:\\users\\monster\\anaconda3\\lib\\site-packages (from seaborn->missingno) (1.3.4)\n",
      "Requirement already satisfied: pytz>=2017.3 in c:\\users\\monster\\anaconda3\\lib\\site-packages (from pandas>=0.23->seaborn->missingno) (2021.3)\n",
      "Installing collected packages: missingno\n",
      "Successfully installed missingno-0.5.1\n"
     ]
    }
   ],
   "source": [
    "!pip install missingno"
   ]
  },
  {
   "cell_type": "code",
   "execution_count": 31,
   "id": "2ec8c8a8-17d5-49be-900a-5df413ef0655",
   "metadata": {},
   "outputs": [],
   "source": [
    "import missingno as msno"
   ]
  },
  {
   "cell_type": "code",
   "execution_count": 32,
   "id": "a3a63af8-db77-4563-ae7a-e6f5d750c30b",
   "metadata": {},
   "outputs": [
    {
     "data": {
      "image/png": "[encoded data removed]",
      "text/plain": [
       "<Figure size 1800x720 with 3 Axes>"
      ]
     },
     "metadata": {
      "needs_background": "light"
     },
     "output_type": "display_data"
    }
   ],
   "source": [
    "msno.bar(df);"
   ]
  },
  {
   "cell_type": "code",
   "execution_count": 33,
   "id": "12aceec8-87ee-48c8-9613-d6098b263342",
   "metadata": {},
   "outputs": [
    {
     "data": {
      "text/plain": [
       "<AxesSubplot:>"
      ]
     },
     "execution_count": 33,
     "metadata": {},
     "output_type": "execute_result"
    },
    {
     "data": {
      "image/png": "[encoded data removed]",
      "text/plain": [
       "<Figure size 1800x720 with 2 Axes>"
      ]
     },
     "metadata": {
      "needs_background": "light"
     },
     "output_type": "display_data"
    }
   ],
   "source": [
    "msno.matrix(df)"
   ]
  },
  {
   "cell_type": "code",
   "execution_count": 34,
   "id": "4cea4adf-b179-47d4-8c52-c351c90b8c10",
   "metadata": {},
   "outputs": [
    {
     "data": {
      "text/html": [
       "<div>\n",
       "<style scoped>\n",
       "    .dataframe tbody tr th:only-of-type {\n",
       "        vertical-align: middle;\n",
       "    }\n",
       "\n",
       "    .dataframe tbody tr th {\n",
       "        vertical-align: top;\n",
       "    }\n",
       "\n",
       "    .dataframe thead th {\n",
       "        text-align: right;\n",
       "    }\n",
       "</style>\n",
       "<table border=\"1\" class=\"dataframe\">\n",
       "  <thead>\n",
       "    <tr style=\"text-align: right;\">\n",
       "      <th></th>\n",
       "      <th>method</th>\n",
       "      <th>number</th>\n",
       "      <th>orbital_period</th>\n",
       "      <th>mass</th>\n",
       "      <th>distance</th>\n",
       "      <th>year</th>\n",
       "    </tr>\n",
       "  </thead>\n",
       "  <tbody>\n",
       "    <tr>\n",
       "      <th>0</th>\n",
       "      <td>Radial Velocity</td>\n",
       "      <td>1</td>\n",
       "      <td>269.300</td>\n",
       "      <td>7.10</td>\n",
       "      <td>77.40</td>\n",
       "      <td>2006</td>\n",
       "    </tr>\n",
       "    <tr>\n",
       "      <th>1</th>\n",
       "      <td>Radial Velocity</td>\n",
       "      <td>1</td>\n",
       "      <td>874.774</td>\n",
       "      <td>2.21</td>\n",
       "      <td>56.95</td>\n",
       "      <td>2008</td>\n",
       "    </tr>\n",
       "    <tr>\n",
       "      <th>2</th>\n",
       "      <td>Radial Velocity</td>\n",
       "      <td>1</td>\n",
       "      <td>763.000</td>\n",
       "      <td>2.60</td>\n",
       "      <td>19.84</td>\n",
       "      <td>2011</td>\n",
       "    </tr>\n",
       "    <tr>\n",
       "      <th>3</th>\n",
       "      <td>Radial Velocity</td>\n",
       "      <td>1</td>\n",
       "      <td>326.030</td>\n",
       "      <td>19.40</td>\n",
       "      <td>110.62</td>\n",
       "      <td>2007</td>\n",
       "    </tr>\n",
       "    <tr>\n",
       "      <th>4</th>\n",
       "      <td>Radial Velocity</td>\n",
       "      <td>1</td>\n",
       "      <td>516.220</td>\n",
       "      <td>10.50</td>\n",
       "      <td>119.47</td>\n",
       "      <td>2009</td>\n",
       "    </tr>\n",
       "  </tbody>\n",
       "</table>\n",
       "</div>"
      ],
      "text/plain": [
       "            method  number  orbital_period   mass  distance  year\n",
       "0  Radial Velocity       1         269.300   7.10     77.40  2006\n",
       "1  Radial Velocity       1         874.774   2.21     56.95  2008\n",
       "2  Radial Velocity       1         763.000   2.60     19.84  2011\n",
       "3  Radial Velocity       1         326.030  19.40    110.62  2007\n",
       "4  Radial Velocity       1         516.220  10.50    119.47  2009"
      ]
     },
     "execution_count": 34,
     "metadata": {},
     "output_type": "execute_result"
    }
   ],
   "source": [
    "import seaborn as sns\n",
    "df=sns.load_dataset('planets')\n",
    "df.head()"
   ]
  },
  {
   "cell_type": "code",
   "execution_count": 35,
   "id": "27572631-208e-4278-890e-237f8c381a67",
   "metadata": {},
   "outputs": [
    {
     "data": {
      "text/plain": [
       "method              0\n",
       "number              0\n",
       "orbital_period     43\n",
       "mass              522\n",
       "distance          227\n",
       "year                0\n",
       "dtype: int64"
      ]
     },
     "execution_count": 35,
     "metadata": {},
     "output_type": "execute_result"
    }
   ],
   "source": [
    "df.isnull().sum()"
   ]
  },
  {
   "cell_type": "code",
   "execution_count": 37,
   "id": "50cd8e4d-f317-41ed-91fd-90ecce487e74",
   "metadata": {},
   "outputs": [
    {
     "data": {
      "text/plain": [
       "<AxesSubplot:>"
      ]
     },
     "execution_count": 37,
     "metadata": {},
     "output_type": "execute_result"
    },
    {
     "data": {
      "image/png": "[encoded data removed]",
      "text/plain": [
       "<Figure size 1800x720 with 2 Axes>"
      ]
     },
     "metadata": {
      "needs_background": "light"
     },
     "output_type": "display_data"
    }
   ],
   "source": [
    "msno.matrix(df)"
   ]
  },
  {
   "cell_type": "code",
   "execution_count": 38,
   "id": "646b8f95-24c1-4267-b333-0423cd16c43e",
   "metadata": {},
   "outputs": [
    {
     "data": {
      "text/plain": [
       "<AxesSubplot:>"
      ]
     },
     "execution_count": 38,
     "metadata": {},
     "output_type": "execute_result"
    },
    {
     "data": {
      "image/png": "[encoded data removed]",
      "text/plain": [
       "<Figure size 1440x864 with 2 Axes>"
      ]
     },
     "metadata": {
      "needs_background": "light"
     },
     "output_type": "display_data"
    }
   ],
   "source": [
    "msno.heatmap(df)"
   ]
  },
  {
   "cell_type": "markdown",
   "id": "dddd5c98-b3fe-45a8-b246-4aa0fa9e674c",
   "metadata": {},
   "source": [
    "## Silme Yöntemleri"
   ]
  },
  {
   "cell_type": "code",
   "execution_count": 39,
   "id": "e5ea9f26-2279-4358-b33a-d81a21edc61f",
   "metadata": {},
   "outputs": [
    {
     "data": {
      "text/html": [
       "<div>\n",
       "<style scoped>\n",
       "    .dataframe tbody tr th:only-of-type {\n",
       "        vertical-align: middle;\n",
       "    }\n",
       "\n",
       "    .dataframe tbody tr th {\n",
       "        vertical-align: top;\n",
       "    }\n",
       "\n",
       "    .dataframe thead th {\n",
       "        text-align: right;\n",
       "    }\n",
       "</style>\n",
       "<table border=\"1\" class=\"dataframe\">\n",
       "  <thead>\n",
       "    <tr style=\"text-align: right;\">\n",
       "      <th></th>\n",
       "      <th>v1</th>\n",
       "      <th>v2</th>\n",
       "      <th>v3</th>\n",
       "    </tr>\n",
       "  </thead>\n",
       "  <tbody>\n",
       "    <tr>\n",
       "      <th>0</th>\n",
       "      <td>1.0</td>\n",
       "      <td>7.0</td>\n",
       "      <td>NaN</td>\n",
       "    </tr>\n",
       "    <tr>\n",
       "      <th>1</th>\n",
       "      <td>3.0</td>\n",
       "      <td>NaN</td>\n",
       "      <td>12.0</td>\n",
       "    </tr>\n",
       "    <tr>\n",
       "      <th>2</th>\n",
       "      <td>6.0</td>\n",
       "      <td>5.0</td>\n",
       "      <td>5.0</td>\n",
       "    </tr>\n",
       "    <tr>\n",
       "      <th>3</th>\n",
       "      <td>NaN</td>\n",
       "      <td>8.0</td>\n",
       "      <td>6.0</td>\n",
       "    </tr>\n",
       "    <tr>\n",
       "      <th>4</th>\n",
       "      <td>7.0</td>\n",
       "      <td>12.0</td>\n",
       "      <td>14.0</td>\n",
       "    </tr>\n",
       "    <tr>\n",
       "      <th>5</th>\n",
       "      <td>1.0</td>\n",
       "      <td>NaN</td>\n",
       "      <td>7.0</td>\n",
       "    </tr>\n",
       "    <tr>\n",
       "      <th>6</th>\n",
       "      <td>NaN</td>\n",
       "      <td>NaN</td>\n",
       "      <td>NaN</td>\n",
       "    </tr>\n",
       "    <tr>\n",
       "      <th>7</th>\n",
       "      <td>9.0</td>\n",
       "      <td>2.0</td>\n",
       "      <td>2.0</td>\n",
       "    </tr>\n",
       "    <tr>\n",
       "      <th>8</th>\n",
       "      <td>15.0</td>\n",
       "      <td>3.0</td>\n",
       "      <td>31.0</td>\n",
       "    </tr>\n",
       "  </tbody>\n",
       "</table>\n",
       "</div>"
      ],
      "text/plain": [
       "     v1    v2    v3\n",
       "0   1.0   7.0   NaN\n",
       "1   3.0   NaN  12.0\n",
       "2   6.0   5.0   5.0\n",
       "3   NaN   8.0   6.0\n",
       "4   7.0  12.0  14.0\n",
       "5   1.0   NaN   7.0\n",
       "6   NaN   NaN   NaN\n",
       "7   9.0   2.0   2.0\n",
       "8  15.0   3.0  31.0"
      ]
     },
     "execution_count": 39,
     "metadata": {},
     "output_type": "execute_result"
    }
   ],
   "source": [
    "import numpy as np\n",
    "import pandas as pd\n",
    "v1=np.array([1,3,6,np.NaN,7,1,np.NaN,9,15])\n",
    "v2=np.array([7,np.NaN,5,8,12,np.NaN,np.NaN,2,3])\n",
    "v3=np.array([np.NaN,12,5,6,14,7,np.NaN,2,31])\n",
    "df=pd.DataFrame(\n",
    "{\"v1\" : v1,\n",
    " \"v2\" : v2,\n",
    " \"v3\" : v3})\n",
    "df"
   ]
  },
  {
   "cell_type": "code",
   "execution_count": 40,
   "id": "6dbfe5db-6d76-4e76-9871-730535a05710",
   "metadata": {},
   "outputs": [],
   "source": [
    "#sadece bütün değerleri boş olan gözlemi silme:"
   ]
  },
  {
   "cell_type": "code",
   "execution_count": 42,
   "id": "185c3643-2f5f-473a-9dcc-65cec3d5a017",
   "metadata": {},
   "outputs": [
    {
     "data": {
      "text/html": [
       "<div>\n",
       "<style scoped>\n",
       "    .dataframe tbody tr th:only-of-type {\n",
       "        vertical-align: middle;\n",
       "    }\n",
       "\n",
       "    .dataframe tbody tr th {\n",
       "        vertical-align: top;\n",
       "    }\n",
       "\n",
       "    .dataframe thead th {\n",
       "        text-align: right;\n",
       "    }\n",
       "</style>\n",
       "<table border=\"1\" class=\"dataframe\">\n",
       "  <thead>\n",
       "    <tr style=\"text-align: right;\">\n",
       "      <th></th>\n",
       "      <th>v1</th>\n",
       "      <th>v2</th>\n",
       "      <th>v3</th>\n",
       "    </tr>\n",
       "  </thead>\n",
       "  <tbody>\n",
       "    <tr>\n",
       "      <th>0</th>\n",
       "      <td>1.0</td>\n",
       "      <td>7.0</td>\n",
       "      <td>NaN</td>\n",
       "    </tr>\n",
       "    <tr>\n",
       "      <th>1</th>\n",
       "      <td>3.0</td>\n",
       "      <td>NaN</td>\n",
       "      <td>12.0</td>\n",
       "    </tr>\n",
       "    <tr>\n",
       "      <th>2</th>\n",
       "      <td>6.0</td>\n",
       "      <td>5.0</td>\n",
       "      <td>5.0</td>\n",
       "    </tr>\n",
       "    <tr>\n",
       "      <th>3</th>\n",
       "      <td>NaN</td>\n",
       "      <td>8.0</td>\n",
       "      <td>6.0</td>\n",
       "    </tr>\n",
       "    <tr>\n",
       "      <th>4</th>\n",
       "      <td>7.0</td>\n",
       "      <td>12.0</td>\n",
       "      <td>14.0</td>\n",
       "    </tr>\n",
       "    <tr>\n",
       "      <th>5</th>\n",
       "      <td>1.0</td>\n",
       "      <td>NaN</td>\n",
       "      <td>7.0</td>\n",
       "    </tr>\n",
       "    <tr>\n",
       "      <th>7</th>\n",
       "      <td>9.0</td>\n",
       "      <td>2.0</td>\n",
       "      <td>2.0</td>\n",
       "    </tr>\n",
       "    <tr>\n",
       "      <th>8</th>\n",
       "      <td>15.0</td>\n",
       "      <td>3.0</td>\n",
       "      <td>31.0</td>\n",
       "    </tr>\n",
       "  </tbody>\n",
       "</table>\n",
       "</div>"
      ],
      "text/plain": [
       "     v1    v2    v3\n",
       "0   1.0   7.0   NaN\n",
       "1   3.0   NaN  12.0\n",
       "2   6.0   5.0   5.0\n",
       "3   NaN   8.0   6.0\n",
       "4   7.0  12.0  14.0\n",
       "5   1.0   NaN   7.0\n",
       "7   9.0   2.0   2.0\n",
       "8  15.0   3.0  31.0"
      ]
     },
     "execution_count": 42,
     "metadata": {},
     "output_type": "execute_result"
    }
   ],
   "source": [
    "df.dropna(how=\"all\")#6.gider"
   ]
  },
  {
   "cell_type": "code",
   "execution_count": 43,
   "id": "d2e7189f-7010-4535-ab47-aee66153aa41",
   "metadata": {},
   "outputs": [
    {
     "data": {
      "text/html": [
       "<div>\n",
       "<style scoped>\n",
       "    .dataframe tbody tr th:only-of-type {\n",
       "        vertical-align: middle;\n",
       "    }\n",
       "\n",
       "    .dataframe tbody tr th {\n",
       "        vertical-align: top;\n",
       "    }\n",
       "\n",
       "    .dataframe thead th {\n",
       "        text-align: right;\n",
       "    }\n",
       "</style>\n",
       "<table border=\"1\" class=\"dataframe\">\n",
       "  <thead>\n",
       "    <tr style=\"text-align: right;\">\n",
       "      <th></th>\n",
       "    </tr>\n",
       "  </thead>\n",
       "  <tbody>\n",
       "    <tr>\n",
       "      <th>0</th>\n",
       "    </tr>\n",
       "    <tr>\n",
       "      <th>1</th>\n",
       "    </tr>\n",
       "    <tr>\n",
       "      <th>2</th>\n",
       "    </tr>\n",
       "    <tr>\n",
       "      <th>3</th>\n",
       "    </tr>\n",
       "    <tr>\n",
       "      <th>4</th>\n",
       "    </tr>\n",
       "    <tr>\n",
       "      <th>5</th>\n",
       "    </tr>\n",
       "    <tr>\n",
       "      <th>6</th>\n",
       "    </tr>\n",
       "    <tr>\n",
       "      <th>7</th>\n",
       "    </tr>\n",
       "    <tr>\n",
       "      <th>8</th>\n",
       "    </tr>\n",
       "  </tbody>\n",
       "</table>\n",
       "</div>"
      ],
      "text/plain": [
       "Empty DataFrame\n",
       "Columns: []\n",
       "Index: [0, 1, 2, 3, 4, 5, 6, 7, 8]"
      ]
     },
     "execution_count": 43,
     "metadata": {},
     "output_type": "execute_result"
    }
   ],
   "source": [
    "df.dropna(axis=1)"
   ]
  },
  {
   "cell_type": "code",
   "execution_count": 48,
   "id": "107ff765-7b2b-49d2-b93a-146b2805aa00",
   "metadata": {},
   "outputs": [
    {
     "data": {
      "text/html": [
       "<div>\n",
       "<style scoped>\n",
       "    .dataframe tbody tr th:only-of-type {\n",
       "        vertical-align: middle;\n",
       "    }\n",
       "\n",
       "    .dataframe tbody tr th {\n",
       "        vertical-align: top;\n",
       "    }\n",
       "\n",
       "    .dataframe thead th {\n",
       "        text-align: right;\n",
       "    }\n",
       "</style>\n",
       "<table border=\"1\" class=\"dataframe\">\n",
       "  <thead>\n",
       "    <tr style=\"text-align: right;\">\n",
       "      <th></th>\n",
       "      <th>v1</th>\n",
       "      <th>v2</th>\n",
       "      <th>v3</th>\n",
       "    </tr>\n",
       "  </thead>\n",
       "  <tbody>\n",
       "    <tr>\n",
       "      <th>0</th>\n",
       "      <td>1.0</td>\n",
       "      <td>7.0</td>\n",
       "      <td>NaN</td>\n",
       "    </tr>\n",
       "    <tr>\n",
       "      <th>1</th>\n",
       "      <td>3.0</td>\n",
       "      <td>NaN</td>\n",
       "      <td>12.0</td>\n",
       "    </tr>\n",
       "    <tr>\n",
       "      <th>2</th>\n",
       "      <td>6.0</td>\n",
       "      <td>5.0</td>\n",
       "      <td>5.0</td>\n",
       "    </tr>\n",
       "    <tr>\n",
       "      <th>3</th>\n",
       "      <td>NaN</td>\n",
       "      <td>8.0</td>\n",
       "      <td>6.0</td>\n",
       "    </tr>\n",
       "    <tr>\n",
       "      <th>4</th>\n",
       "      <td>7.0</td>\n",
       "      <td>12.0</td>\n",
       "      <td>14.0</td>\n",
       "    </tr>\n",
       "    <tr>\n",
       "      <th>5</th>\n",
       "      <td>1.0</td>\n",
       "      <td>NaN</td>\n",
       "      <td>7.0</td>\n",
       "    </tr>\n",
       "    <tr>\n",
       "      <th>6</th>\n",
       "      <td>NaN</td>\n",
       "      <td>NaN</td>\n",
       "      <td>NaN</td>\n",
       "    </tr>\n",
       "    <tr>\n",
       "      <th>7</th>\n",
       "      <td>9.0</td>\n",
       "      <td>2.0</td>\n",
       "      <td>2.0</td>\n",
       "    </tr>\n",
       "    <tr>\n",
       "      <th>8</th>\n",
       "      <td>15.0</td>\n",
       "      <td>3.0</td>\n",
       "      <td>31.0</td>\n",
       "    </tr>\n",
       "  </tbody>\n",
       "</table>\n",
       "</div>"
      ],
      "text/plain": [
       "     v1    v2    v3\n",
       "0   1.0   7.0   NaN\n",
       "1   3.0   NaN  12.0\n",
       "2   6.0   5.0   5.0\n",
       "3   NaN   8.0   6.0\n",
       "4   7.0  12.0  14.0\n",
       "5   1.0   NaN   7.0\n",
       "6   NaN   NaN   NaN\n",
       "7   9.0   2.0   2.0\n",
       "8  15.0   3.0  31.0"
      ]
     },
     "execution_count": 48,
     "metadata": {},
     "output_type": "execute_result"
    }
   ],
   "source": [
    "df.dropna(axis=1,how=\"all\")"
   ]
  },
  {
   "cell_type": "code",
   "execution_count": 45,
   "id": "e31fb1bf-166e-4808-b31f-388d1d27e99a",
   "metadata": {},
   "outputs": [],
   "source": [
    "df[\"silbeni\"] =np.nan"
   ]
  },
  {
   "cell_type": "code",
   "execution_count": 46,
   "id": "0a0378a1-4530-4ffc-a998-1cd1b8c2da97",
   "metadata": {},
   "outputs": [
    {
     "data": {
      "text/html": [
       "<div>\n",
       "<style scoped>\n",
       "    .dataframe tbody tr th:only-of-type {\n",
       "        vertical-align: middle;\n",
       "    }\n",
       "\n",
       "    .dataframe tbody tr th {\n",
       "        vertical-align: top;\n",
       "    }\n",
       "\n",
       "    .dataframe thead th {\n",
       "        text-align: right;\n",
       "    }\n",
       "</style>\n",
       "<table border=\"1\" class=\"dataframe\">\n",
       "  <thead>\n",
       "    <tr style=\"text-align: right;\">\n",
       "      <th></th>\n",
       "      <th>v1</th>\n",
       "      <th>v2</th>\n",
       "      <th>v3</th>\n",
       "      <th>silbeni</th>\n",
       "    </tr>\n",
       "  </thead>\n",
       "  <tbody>\n",
       "    <tr>\n",
       "      <th>0</th>\n",
       "      <td>1.0</td>\n",
       "      <td>7.0</td>\n",
       "      <td>NaN</td>\n",
       "      <td>NaN</td>\n",
       "    </tr>\n",
       "    <tr>\n",
       "      <th>1</th>\n",
       "      <td>3.0</td>\n",
       "      <td>NaN</td>\n",
       "      <td>12.0</td>\n",
       "      <td>NaN</td>\n",
       "    </tr>\n",
       "    <tr>\n",
       "      <th>2</th>\n",
       "      <td>6.0</td>\n",
       "      <td>5.0</td>\n",
       "      <td>5.0</td>\n",
       "      <td>NaN</td>\n",
       "    </tr>\n",
       "    <tr>\n",
       "      <th>3</th>\n",
       "      <td>NaN</td>\n",
       "      <td>8.0</td>\n",
       "      <td>6.0</td>\n",
       "      <td>NaN</td>\n",
       "    </tr>\n",
       "    <tr>\n",
       "      <th>4</th>\n",
       "      <td>7.0</td>\n",
       "      <td>12.0</td>\n",
       "      <td>14.0</td>\n",
       "      <td>NaN</td>\n",
       "    </tr>\n",
       "    <tr>\n",
       "      <th>5</th>\n",
       "      <td>1.0</td>\n",
       "      <td>NaN</td>\n",
       "      <td>7.0</td>\n",
       "      <td>NaN</td>\n",
       "    </tr>\n",
       "    <tr>\n",
       "      <th>6</th>\n",
       "      <td>NaN</td>\n",
       "      <td>NaN</td>\n",
       "      <td>NaN</td>\n",
       "      <td>NaN</td>\n",
       "    </tr>\n",
       "    <tr>\n",
       "      <th>7</th>\n",
       "      <td>9.0</td>\n",
       "      <td>2.0</td>\n",
       "      <td>2.0</td>\n",
       "      <td>NaN</td>\n",
       "    </tr>\n",
       "    <tr>\n",
       "      <th>8</th>\n",
       "      <td>15.0</td>\n",
       "      <td>3.0</td>\n",
       "      <td>31.0</td>\n",
       "      <td>NaN</td>\n",
       "    </tr>\n",
       "  </tbody>\n",
       "</table>\n",
       "</div>"
      ],
      "text/plain": [
       "     v1    v2    v3  silbeni\n",
       "0   1.0   7.0   NaN      NaN\n",
       "1   3.0   NaN  12.0      NaN\n",
       "2   6.0   5.0   5.0      NaN\n",
       "3   NaN   8.0   6.0      NaN\n",
       "4   7.0  12.0  14.0      NaN\n",
       "5   1.0   NaN   7.0      NaN\n",
       "6   NaN   NaN   NaN      NaN\n",
       "7   9.0   2.0   2.0      NaN\n",
       "8  15.0   3.0  31.0      NaN"
      ]
     },
     "execution_count": 46,
     "metadata": {},
     "output_type": "execute_result"
    }
   ],
   "source": [
    "df"
   ]
  },
  {
   "cell_type": "code",
   "execution_count": 51,
   "id": "14e0b601-5400-439d-9b50-60ff0ce40f33",
   "metadata": {},
   "outputs": [
    {
     "data": {
      "text/html": [
       "<div>\n",
       "<style scoped>\n",
       "    .dataframe tbody tr th:only-of-type {\n",
       "        vertical-align: middle;\n",
       "    }\n",
       "\n",
       "    .dataframe tbody tr th {\n",
       "        vertical-align: top;\n",
       "    }\n",
       "\n",
       "    .dataframe thead th {\n",
       "        text-align: right;\n",
       "    }\n",
       "</style>\n",
       "<table border=\"1\" class=\"dataframe\">\n",
       "  <thead>\n",
       "    <tr style=\"text-align: right;\">\n",
       "      <th></th>\n",
       "      <th>v1</th>\n",
       "      <th>v2</th>\n",
       "      <th>v3</th>\n",
       "    </tr>\n",
       "  </thead>\n",
       "  <tbody>\n",
       "    <tr>\n",
       "      <th>0</th>\n",
       "      <td>1.0</td>\n",
       "      <td>7.0</td>\n",
       "      <td>NaN</td>\n",
       "    </tr>\n",
       "    <tr>\n",
       "      <th>1</th>\n",
       "      <td>3.0</td>\n",
       "      <td>NaN</td>\n",
       "      <td>12.0</td>\n",
       "    </tr>\n",
       "    <tr>\n",
       "      <th>2</th>\n",
       "      <td>6.0</td>\n",
       "      <td>5.0</td>\n",
       "      <td>5.0</td>\n",
       "    </tr>\n",
       "    <tr>\n",
       "      <th>3</th>\n",
       "      <td>NaN</td>\n",
       "      <td>8.0</td>\n",
       "      <td>6.0</td>\n",
       "    </tr>\n",
       "    <tr>\n",
       "      <th>4</th>\n",
       "      <td>7.0</td>\n",
       "      <td>12.0</td>\n",
       "      <td>14.0</td>\n",
       "    </tr>\n",
       "    <tr>\n",
       "      <th>5</th>\n",
       "      <td>1.0</td>\n",
       "      <td>NaN</td>\n",
       "      <td>7.0</td>\n",
       "    </tr>\n",
       "    <tr>\n",
       "      <th>6</th>\n",
       "      <td>NaN</td>\n",
       "      <td>NaN</td>\n",
       "      <td>NaN</td>\n",
       "    </tr>\n",
       "    <tr>\n",
       "      <th>7</th>\n",
       "      <td>9.0</td>\n",
       "      <td>2.0</td>\n",
       "      <td>2.0</td>\n",
       "    </tr>\n",
       "    <tr>\n",
       "      <th>8</th>\n",
       "      <td>15.0</td>\n",
       "      <td>3.0</td>\n",
       "      <td>31.0</td>\n",
       "    </tr>\n",
       "  </tbody>\n",
       "</table>\n",
       "</div>"
      ],
      "text/plain": [
       "     v1    v2    v3\n",
       "0   1.0   7.0   NaN\n",
       "1   3.0   NaN  12.0\n",
       "2   6.0   5.0   5.0\n",
       "3   NaN   8.0   6.0\n",
       "4   7.0  12.0  14.0\n",
       "5   1.0   NaN   7.0\n",
       "6   NaN   NaN   NaN\n",
       "7   9.0   2.0   2.0\n",
       "8  15.0   3.0  31.0"
      ]
     },
     "execution_count": 51,
     "metadata": {},
     "output_type": "execute_result"
    }
   ],
   "source": [
    "df.dropna(axis=1,how=\"all\") #geçici"
   ]
  },
  {
   "cell_type": "code",
   "execution_count": 50,
   "id": "a239ec21-9a7c-4e6c-8db3-25be3cf26b16",
   "metadata": {},
   "outputs": [
    {
     "data": {
      "text/html": [
       "<div>\n",
       "<style scoped>\n",
       "    .dataframe tbody tr th:only-of-type {\n",
       "        vertical-align: middle;\n",
       "    }\n",
       "\n",
       "    .dataframe tbody tr th {\n",
       "        vertical-align: top;\n",
       "    }\n",
       "\n",
       "    .dataframe thead th {\n",
       "        text-align: right;\n",
       "    }\n",
       "</style>\n",
       "<table border=\"1\" class=\"dataframe\">\n",
       "  <thead>\n",
       "    <tr style=\"text-align: right;\">\n",
       "      <th></th>\n",
       "      <th>v1</th>\n",
       "      <th>v2</th>\n",
       "      <th>v3</th>\n",
       "      <th>silbeni</th>\n",
       "    </tr>\n",
       "  </thead>\n",
       "  <tbody>\n",
       "    <tr>\n",
       "      <th>0</th>\n",
       "      <td>1.0</td>\n",
       "      <td>7.0</td>\n",
       "      <td>NaN</td>\n",
       "      <td>NaN</td>\n",
       "    </tr>\n",
       "    <tr>\n",
       "      <th>1</th>\n",
       "      <td>3.0</td>\n",
       "      <td>NaN</td>\n",
       "      <td>12.0</td>\n",
       "      <td>NaN</td>\n",
       "    </tr>\n",
       "    <tr>\n",
       "      <th>2</th>\n",
       "      <td>6.0</td>\n",
       "      <td>5.0</td>\n",
       "      <td>5.0</td>\n",
       "      <td>NaN</td>\n",
       "    </tr>\n",
       "    <tr>\n",
       "      <th>3</th>\n",
       "      <td>NaN</td>\n",
       "      <td>8.0</td>\n",
       "      <td>6.0</td>\n",
       "      <td>NaN</td>\n",
       "    </tr>\n",
       "    <tr>\n",
       "      <th>4</th>\n",
       "      <td>7.0</td>\n",
       "      <td>12.0</td>\n",
       "      <td>14.0</td>\n",
       "      <td>NaN</td>\n",
       "    </tr>\n",
       "    <tr>\n",
       "      <th>5</th>\n",
       "      <td>1.0</td>\n",
       "      <td>NaN</td>\n",
       "      <td>7.0</td>\n",
       "      <td>NaN</td>\n",
       "    </tr>\n",
       "    <tr>\n",
       "      <th>6</th>\n",
       "      <td>NaN</td>\n",
       "      <td>NaN</td>\n",
       "      <td>NaN</td>\n",
       "      <td>NaN</td>\n",
       "    </tr>\n",
       "    <tr>\n",
       "      <th>7</th>\n",
       "      <td>9.0</td>\n",
       "      <td>2.0</td>\n",
       "      <td>2.0</td>\n",
       "      <td>NaN</td>\n",
       "    </tr>\n",
       "    <tr>\n",
       "      <th>8</th>\n",
       "      <td>15.0</td>\n",
       "      <td>3.0</td>\n",
       "      <td>31.0</td>\n",
       "      <td>NaN</td>\n",
       "    </tr>\n",
       "  </tbody>\n",
       "</table>\n",
       "</div>"
      ],
      "text/plain": [
       "     v1    v2    v3  silbeni\n",
       "0   1.0   7.0   NaN      NaN\n",
       "1   3.0   NaN  12.0      NaN\n",
       "2   6.0   5.0   5.0      NaN\n",
       "3   NaN   8.0   6.0      NaN\n",
       "4   7.0  12.0  14.0      NaN\n",
       "5   1.0   NaN   7.0      NaN\n",
       "6   NaN   NaN   NaN      NaN\n",
       "7   9.0   2.0   2.0      NaN\n",
       "8  15.0   3.0  31.0      NaN"
      ]
     },
     "execution_count": 50,
     "metadata": {},
     "output_type": "execute_result"
    }
   ],
   "source": [
    "df"
   ]
  },
  {
   "cell_type": "markdown",
   "id": "13f274ea-48a4-4e15-8192-db1d3c59c1fe",
   "metadata": {},
   "source": [
    "## Basit Değer Atama"
   ]
  },
  {
   "cell_type": "code",
   "execution_count": 52,
   "id": "c795d515-e981-4ae1-8614-85c490bea0cb",
   "metadata": {},
   "outputs": [
    {
     "data": {
      "text/html": [
       "<div>\n",
       "<style scoped>\n",
       "    .dataframe tbody tr th:only-of-type {\n",
       "        vertical-align: middle;\n",
       "    }\n",
       "\n",
       "    .dataframe tbody tr th {\n",
       "        vertical-align: top;\n",
       "    }\n",
       "\n",
       "    .dataframe thead th {\n",
       "        text-align: right;\n",
       "    }\n",
       "</style>\n",
       "<table border=\"1\" class=\"dataframe\">\n",
       "  <thead>\n",
       "    <tr style=\"text-align: right;\">\n",
       "      <th></th>\n",
       "      <th>v1</th>\n",
       "      <th>v2</th>\n",
       "      <th>v3</th>\n",
       "    </tr>\n",
       "  </thead>\n",
       "  <tbody>\n",
       "    <tr>\n",
       "      <th>0</th>\n",
       "      <td>1.0</td>\n",
       "      <td>7.0</td>\n",
       "      <td>NaN</td>\n",
       "    </tr>\n",
       "    <tr>\n",
       "      <th>1</th>\n",
       "      <td>3.0</td>\n",
       "      <td>NaN</td>\n",
       "      <td>12.0</td>\n",
       "    </tr>\n",
       "    <tr>\n",
       "      <th>2</th>\n",
       "      <td>6.0</td>\n",
       "      <td>5.0</td>\n",
       "      <td>5.0</td>\n",
       "    </tr>\n",
       "    <tr>\n",
       "      <th>3</th>\n",
       "      <td>NaN</td>\n",
       "      <td>8.0</td>\n",
       "      <td>6.0</td>\n",
       "    </tr>\n",
       "    <tr>\n",
       "      <th>4</th>\n",
       "      <td>7.0</td>\n",
       "      <td>12.0</td>\n",
       "      <td>14.0</td>\n",
       "    </tr>\n",
       "    <tr>\n",
       "      <th>5</th>\n",
       "      <td>1.0</td>\n",
       "      <td>NaN</td>\n",
       "      <td>7.0</td>\n",
       "    </tr>\n",
       "    <tr>\n",
       "      <th>6</th>\n",
       "      <td>NaN</td>\n",
       "      <td>NaN</td>\n",
       "      <td>NaN</td>\n",
       "    </tr>\n",
       "    <tr>\n",
       "      <th>7</th>\n",
       "      <td>9.0</td>\n",
       "      <td>2.0</td>\n",
       "      <td>2.0</td>\n",
       "    </tr>\n",
       "    <tr>\n",
       "      <th>8</th>\n",
       "      <td>15.0</td>\n",
       "      <td>3.0</td>\n",
       "      <td>31.0</td>\n",
       "    </tr>\n",
       "  </tbody>\n",
       "</table>\n",
       "</div>"
      ],
      "text/plain": [
       "     v1    v2    v3\n",
       "0   1.0   7.0   NaN\n",
       "1   3.0   NaN  12.0\n",
       "2   6.0   5.0   5.0\n",
       "3   NaN   8.0   6.0\n",
       "4   7.0  12.0  14.0\n",
       "5   1.0   NaN   7.0\n",
       "6   NaN   NaN   NaN\n",
       "7   9.0   2.0   2.0\n",
       "8  15.0   3.0  31.0"
      ]
     },
     "execution_count": 52,
     "metadata": {},
     "output_type": "execute_result"
    }
   ],
   "source": [
    "import numpy as np\n",
    "import pandas as pd\n",
    "v1=np.array([1,3,6,np.NaN,7,1,np.NaN,9,15])\n",
    "v2=np.array([7,np.NaN,5,8,12,np.NaN,np.NaN,2,3])\n",
    "v3=np.array([np.NaN,12,5,6,14,7,np.NaN,2,31])\n",
    "df=pd.DataFrame(\n",
    "{\"v1\" : v1,\n",
    " \"v2\" : v2,\n",
    " \"v3\" : v3})\n",
    "df"
   ]
  },
  {
   "cell_type": "code",
   "execution_count": 53,
   "id": "bbfd3163-d44a-4190-b975-8bd10472dae9",
   "metadata": {},
   "outputs": [],
   "source": [
    "#sayısal değişkenlerde atama"
   ]
  },
  {
   "cell_type": "code",
   "execution_count": 54,
   "id": "0dbeeb58-312f-4e62-aaa2-7373e3da1f54",
   "metadata": {},
   "outputs": [
    {
     "data": {
      "text/html": [
       "<div>\n",
       "<style scoped>\n",
       "    .dataframe tbody tr th:only-of-type {\n",
       "        vertical-align: middle;\n",
       "    }\n",
       "\n",
       "    .dataframe tbody tr th {\n",
       "        vertical-align: top;\n",
       "    }\n",
       "\n",
       "    .dataframe thead th {\n",
       "        text-align: right;\n",
       "    }\n",
       "</style>\n",
       "<table border=\"1\" class=\"dataframe\">\n",
       "  <thead>\n",
       "    <tr style=\"text-align: right;\">\n",
       "      <th></th>\n",
       "      <th>v1</th>\n",
       "      <th>v2</th>\n",
       "      <th>v3</th>\n",
       "    </tr>\n",
       "  </thead>\n",
       "  <tbody>\n",
       "    <tr>\n",
       "      <th>0</th>\n",
       "      <td>1.0</td>\n",
       "      <td>7.000000</td>\n",
       "      <td>11.0</td>\n",
       "    </tr>\n",
       "    <tr>\n",
       "      <th>1</th>\n",
       "      <td>3.0</td>\n",
       "      <td>6.166667</td>\n",
       "      <td>12.0</td>\n",
       "    </tr>\n",
       "    <tr>\n",
       "      <th>2</th>\n",
       "      <td>6.0</td>\n",
       "      <td>5.000000</td>\n",
       "      <td>5.0</td>\n",
       "    </tr>\n",
       "    <tr>\n",
       "      <th>3</th>\n",
       "      <td>6.0</td>\n",
       "      <td>8.000000</td>\n",
       "      <td>6.0</td>\n",
       "    </tr>\n",
       "    <tr>\n",
       "      <th>4</th>\n",
       "      <td>7.0</td>\n",
       "      <td>12.000000</td>\n",
       "      <td>14.0</td>\n",
       "    </tr>\n",
       "    <tr>\n",
       "      <th>5</th>\n",
       "      <td>1.0</td>\n",
       "      <td>6.166667</td>\n",
       "      <td>7.0</td>\n",
       "    </tr>\n",
       "    <tr>\n",
       "      <th>6</th>\n",
       "      <td>6.0</td>\n",
       "      <td>6.166667</td>\n",
       "      <td>11.0</td>\n",
       "    </tr>\n",
       "    <tr>\n",
       "      <th>7</th>\n",
       "      <td>9.0</td>\n",
       "      <td>2.000000</td>\n",
       "      <td>2.0</td>\n",
       "    </tr>\n",
       "    <tr>\n",
       "      <th>8</th>\n",
       "      <td>15.0</td>\n",
       "      <td>3.000000</td>\n",
       "      <td>31.0</td>\n",
       "    </tr>\n",
       "  </tbody>\n",
       "</table>\n",
       "</div>"
      ],
      "text/plain": [
       "     v1         v2    v3\n",
       "0   1.0   7.000000  11.0\n",
       "1   3.0   6.166667  12.0\n",
       "2   6.0   5.000000   5.0\n",
       "3   6.0   8.000000   6.0\n",
       "4   7.0  12.000000  14.0\n",
       "5   1.0   6.166667   7.0\n",
       "6   6.0   6.166667  11.0\n",
       "7   9.0   2.000000   2.0\n",
       "8  15.0   3.000000  31.0"
      ]
     },
     "execution_count": 54,
     "metadata": {},
     "output_type": "execute_result"
    }
   ],
   "source": [
    "#tüm değişkenler için birinci yol\n",
    "df.apply(lambda x: x.fillna(x.mean()),axis=0)"
   ]
  },
  {
   "cell_type": "code",
   "execution_count": 55,
   "id": "c7ed70f2-8ea2-4bf7-b48c-227d6173ccf7",
   "metadata": {},
   "outputs": [
    {
     "data": {
      "text/html": [
       "<div>\n",
       "<style scoped>\n",
       "    .dataframe tbody tr th:only-of-type {\n",
       "        vertical-align: middle;\n",
       "    }\n",
       "\n",
       "    .dataframe tbody tr th {\n",
       "        vertical-align: top;\n",
       "    }\n",
       "\n",
       "    .dataframe thead th {\n",
       "        text-align: right;\n",
       "    }\n",
       "</style>\n",
       "<table border=\"1\" class=\"dataframe\">\n",
       "  <thead>\n",
       "    <tr style=\"text-align: right;\">\n",
       "      <th></th>\n",
       "      <th>v1</th>\n",
       "      <th>v2</th>\n",
       "      <th>v3</th>\n",
       "    </tr>\n",
       "  </thead>\n",
       "  <tbody>\n",
       "    <tr>\n",
       "      <th>0</th>\n",
       "      <td>1.0</td>\n",
       "      <td>7.000000</td>\n",
       "      <td>11.0</td>\n",
       "    </tr>\n",
       "    <tr>\n",
       "      <th>1</th>\n",
       "      <td>3.0</td>\n",
       "      <td>6.166667</td>\n",
       "      <td>12.0</td>\n",
       "    </tr>\n",
       "    <tr>\n",
       "      <th>2</th>\n",
       "      <td>6.0</td>\n",
       "      <td>5.000000</td>\n",
       "      <td>5.0</td>\n",
       "    </tr>\n",
       "    <tr>\n",
       "      <th>3</th>\n",
       "      <td>6.0</td>\n",
       "      <td>8.000000</td>\n",
       "      <td>6.0</td>\n",
       "    </tr>\n",
       "    <tr>\n",
       "      <th>4</th>\n",
       "      <td>7.0</td>\n",
       "      <td>12.000000</td>\n",
       "      <td>14.0</td>\n",
       "    </tr>\n",
       "    <tr>\n",
       "      <th>5</th>\n",
       "      <td>1.0</td>\n",
       "      <td>6.166667</td>\n",
       "      <td>7.0</td>\n",
       "    </tr>\n",
       "    <tr>\n",
       "      <th>6</th>\n",
       "      <td>6.0</td>\n",
       "      <td>6.166667</td>\n",
       "      <td>11.0</td>\n",
       "    </tr>\n",
       "    <tr>\n",
       "      <th>7</th>\n",
       "      <td>9.0</td>\n",
       "      <td>2.000000</td>\n",
       "      <td>2.0</td>\n",
       "    </tr>\n",
       "    <tr>\n",
       "      <th>8</th>\n",
       "      <td>15.0</td>\n",
       "      <td>3.000000</td>\n",
       "      <td>31.0</td>\n",
       "    </tr>\n",
       "  </tbody>\n",
       "</table>\n",
       "</div>"
      ],
      "text/plain": [
       "     v1         v2    v3\n",
       "0   1.0   7.000000  11.0\n",
       "1   3.0   6.166667  12.0\n",
       "2   6.0   5.000000   5.0\n",
       "3   6.0   8.000000   6.0\n",
       "4   7.0  12.000000  14.0\n",
       "5   1.0   6.166667   7.0\n",
       "6   6.0   6.166667  11.0\n",
       "7   9.0   2.000000   2.0\n",
       "8  15.0   3.000000  31.0"
      ]
     },
     "execution_count": 55,
     "metadata": {},
     "output_type": "execute_result"
    }
   ],
   "source": [
    "#ikinici yol\n",
    "df.fillna(df.mean()[:])"
   ]
  },
  {
   "cell_type": "code",
   "execution_count": 56,
   "id": "05758521-727a-4aa9-a0b7-3a366d43eb6c",
   "metadata": {},
   "outputs": [
    {
     "data": {
      "text/html": [
       "<div>\n",
       "<style scoped>\n",
       "    .dataframe tbody tr th:only-of-type {\n",
       "        vertical-align: middle;\n",
       "    }\n",
       "\n",
       "    .dataframe tbody tr th {\n",
       "        vertical-align: top;\n",
       "    }\n",
       "\n",
       "    .dataframe thead th {\n",
       "        text-align: right;\n",
       "    }\n",
       "</style>\n",
       "<table border=\"1\" class=\"dataframe\">\n",
       "  <thead>\n",
       "    <tr style=\"text-align: right;\">\n",
       "      <th></th>\n",
       "      <th>v1</th>\n",
       "      <th>v2</th>\n",
       "      <th>v3</th>\n",
       "    </tr>\n",
       "  </thead>\n",
       "  <tbody>\n",
       "    <tr>\n",
       "      <th>0</th>\n",
       "      <td>1.0</td>\n",
       "      <td>7.000000</td>\n",
       "      <td>NaN</td>\n",
       "    </tr>\n",
       "    <tr>\n",
       "      <th>1</th>\n",
       "      <td>3.0</td>\n",
       "      <td>6.166667</td>\n",
       "      <td>12.0</td>\n",
       "    </tr>\n",
       "    <tr>\n",
       "      <th>2</th>\n",
       "      <td>6.0</td>\n",
       "      <td>5.000000</td>\n",
       "      <td>5.0</td>\n",
       "    </tr>\n",
       "    <tr>\n",
       "      <th>3</th>\n",
       "      <td>6.0</td>\n",
       "      <td>8.000000</td>\n",
       "      <td>6.0</td>\n",
       "    </tr>\n",
       "    <tr>\n",
       "      <th>4</th>\n",
       "      <td>7.0</td>\n",
       "      <td>12.000000</td>\n",
       "      <td>14.0</td>\n",
       "    </tr>\n",
       "    <tr>\n",
       "      <th>5</th>\n",
       "      <td>1.0</td>\n",
       "      <td>6.166667</td>\n",
       "      <td>7.0</td>\n",
       "    </tr>\n",
       "    <tr>\n",
       "      <th>6</th>\n",
       "      <td>6.0</td>\n",
       "      <td>6.166667</td>\n",
       "      <td>NaN</td>\n",
       "    </tr>\n",
       "    <tr>\n",
       "      <th>7</th>\n",
       "      <td>9.0</td>\n",
       "      <td>2.000000</td>\n",
       "      <td>2.0</td>\n",
       "    </tr>\n",
       "    <tr>\n",
       "      <th>8</th>\n",
       "      <td>15.0</td>\n",
       "      <td>3.000000</td>\n",
       "      <td>31.0</td>\n",
       "    </tr>\n",
       "  </tbody>\n",
       "</table>\n",
       "</div>"
      ],
      "text/plain": [
       "     v1         v2    v3\n",
       "0   1.0   7.000000   NaN\n",
       "1   3.0   6.166667  12.0\n",
       "2   6.0   5.000000   5.0\n",
       "3   6.0   8.000000   6.0\n",
       "4   7.0  12.000000  14.0\n",
       "5   1.0   6.166667   7.0\n",
       "6   6.0   6.166667   NaN\n",
       "7   9.0   2.000000   2.0\n",
       "8  15.0   3.000000  31.0"
      ]
     },
     "execution_count": 56,
     "metadata": {},
     "output_type": "execute_result"
    }
   ],
   "source": [
    "df.fillna(df.mean()[\"v1\":\"v2\"])"
   ]
  },
  {
   "cell_type": "code",
   "execution_count": 59,
   "id": "d08e9c8f-cc90-4a39-a2fe-c3ebeb3e2bb6",
   "metadata": {},
   "outputs": [
    {
     "data": {
      "text/plain": [
       "0     7.0\n",
       "1    12.0\n",
       "2     5.0\n",
       "3     6.0\n",
       "4    14.0\n",
       "5     7.0\n",
       "6     7.0\n",
       "7     2.0\n",
       "8    31.0\n",
       "Name: v3, dtype: float64"
      ]
     },
     "execution_count": 59,
     "metadata": {},
     "output_type": "execute_result"
    }
   ],
   "source": [
    "df[\"v3\"].fillna(df[\"v3\"].median())"
   ]
  },
  {
   "cell_type": "code",
   "execution_count": 60,
   "id": "fb476960-f6fa-4999-9187-4f8783d271d6",
   "metadata": {},
   "outputs": [
    {
     "data": {
      "text/html": [
       "<div>\n",
       "<style scoped>\n",
       "    .dataframe tbody tr th:only-of-type {\n",
       "        vertical-align: middle;\n",
       "    }\n",
       "\n",
       "    .dataframe tbody tr th {\n",
       "        vertical-align: top;\n",
       "    }\n",
       "\n",
       "    .dataframe thead th {\n",
       "        text-align: right;\n",
       "    }\n",
       "</style>\n",
       "<table border=\"1\" class=\"dataframe\">\n",
       "  <thead>\n",
       "    <tr style=\"text-align: right;\">\n",
       "      <th></th>\n",
       "      <th>v1</th>\n",
       "      <th>v2</th>\n",
       "      <th>v3</th>\n",
       "    </tr>\n",
       "  </thead>\n",
       "  <tbody>\n",
       "    <tr>\n",
       "      <th>0</th>\n",
       "      <td>1.0</td>\n",
       "      <td>7.000000</td>\n",
       "      <td>11.0</td>\n",
       "    </tr>\n",
       "    <tr>\n",
       "      <th>1</th>\n",
       "      <td>3.0</td>\n",
       "      <td>6.166667</td>\n",
       "      <td>12.0</td>\n",
       "    </tr>\n",
       "    <tr>\n",
       "      <th>2</th>\n",
       "      <td>6.0</td>\n",
       "      <td>5.000000</td>\n",
       "      <td>5.0</td>\n",
       "    </tr>\n",
       "    <tr>\n",
       "      <th>3</th>\n",
       "      <td>6.0</td>\n",
       "      <td>8.000000</td>\n",
       "      <td>6.0</td>\n",
       "    </tr>\n",
       "    <tr>\n",
       "      <th>4</th>\n",
       "      <td>7.0</td>\n",
       "      <td>12.000000</td>\n",
       "      <td>14.0</td>\n",
       "    </tr>\n",
       "    <tr>\n",
       "      <th>5</th>\n",
       "      <td>1.0</td>\n",
       "      <td>6.166667</td>\n",
       "      <td>7.0</td>\n",
       "    </tr>\n",
       "    <tr>\n",
       "      <th>6</th>\n",
       "      <td>6.0</td>\n",
       "      <td>6.166667</td>\n",
       "      <td>11.0</td>\n",
       "    </tr>\n",
       "    <tr>\n",
       "      <th>7</th>\n",
       "      <td>9.0</td>\n",
       "      <td>2.000000</td>\n",
       "      <td>2.0</td>\n",
       "    </tr>\n",
       "    <tr>\n",
       "      <th>8</th>\n",
       "      <td>15.0</td>\n",
       "      <td>3.000000</td>\n",
       "      <td>31.0</td>\n",
       "    </tr>\n",
       "  </tbody>\n",
       "</table>\n",
       "</div>"
      ],
      "text/plain": [
       "     v1         v2    v3\n",
       "0   1.0   7.000000  11.0\n",
       "1   3.0   6.166667  12.0\n",
       "2   6.0   5.000000   5.0\n",
       "3   6.0   8.000000   6.0\n",
       "4   7.0  12.000000  14.0\n",
       "5   1.0   6.166667   7.0\n",
       "6   6.0   6.166667  11.0\n",
       "7   9.0   2.000000   2.0\n",
       "8  15.0   3.000000  31.0"
      ]
     },
     "execution_count": 60,
     "metadata": {},
     "output_type": "execute_result"
    }
   ],
   "source": [
    "#üçüncü yol\n",
    "df.where(pd.notna(df),df.mean(),axis=\"columns\")"
   ]
  },
  {
   "cell_type": "markdown",
   "id": "0adfc648-7e78-4c05-81c9-27bffe7b88a8",
   "metadata": {},
   "source": [
    "## Kategorik Değişken Kırılımında Değer Atama"
   ]
  },
  {
   "cell_type": "code",
   "execution_count": 2,
   "id": "f73e86b2-b83b-4fec-809d-28eb412a94b9",
   "metadata": {},
   "outputs": [
    {
     "data": {
      "text/html": [
       "<div>\n",
       "<style scoped>\n",
       "    .dataframe tbody tr th:only-of-type {\n",
       "        vertical-align: middle;\n",
       "    }\n",
       "\n",
       "    .dataframe tbody tr th {\n",
       "        vertical-align: top;\n",
       "    }\n",
       "\n",
       "    .dataframe thead th {\n",
       "        text-align: right;\n",
       "    }\n",
       "</style>\n",
       "<table border=\"1\" class=\"dataframe\">\n",
       "  <thead>\n",
       "    <tr style=\"text-align: right;\">\n",
       "      <th></th>\n",
       "      <th>maas</th>\n",
       "      <th>v2</th>\n",
       "      <th>v3</th>\n",
       "      <th>departman</th>\n",
       "    </tr>\n",
       "  </thead>\n",
       "  <tbody>\n",
       "    <tr>\n",
       "      <th>0</th>\n",
       "      <td>1.0</td>\n",
       "      <td>7.0</td>\n",
       "      <td>NaN</td>\n",
       "      <td>IT</td>\n",
       "    </tr>\n",
       "    <tr>\n",
       "      <th>1</th>\n",
       "      <td>3.0</td>\n",
       "      <td>NaN</td>\n",
       "      <td>12.0</td>\n",
       "      <td>IT</td>\n",
       "    </tr>\n",
       "    <tr>\n",
       "      <th>2</th>\n",
       "      <td>6.0</td>\n",
       "      <td>5.0</td>\n",
       "      <td>5.0</td>\n",
       "      <td>IK</td>\n",
       "    </tr>\n",
       "    <tr>\n",
       "      <th>3</th>\n",
       "      <td>NaN</td>\n",
       "      <td>8.0</td>\n",
       "      <td>6.0</td>\n",
       "      <td>IK</td>\n",
       "    </tr>\n",
       "    <tr>\n",
       "      <th>4</th>\n",
       "      <td>7.0</td>\n",
       "      <td>12.0</td>\n",
       "      <td>14.0</td>\n",
       "      <td>IK</td>\n",
       "    </tr>\n",
       "    <tr>\n",
       "      <th>5</th>\n",
       "      <td>1.0</td>\n",
       "      <td>NaN</td>\n",
       "      <td>7.0</td>\n",
       "      <td>IK</td>\n",
       "    </tr>\n",
       "    <tr>\n",
       "      <th>6</th>\n",
       "      <td>NaN</td>\n",
       "      <td>NaN</td>\n",
       "      <td>NaN</td>\n",
       "      <td>IK</td>\n",
       "    </tr>\n",
       "    <tr>\n",
       "      <th>7</th>\n",
       "      <td>9.0</td>\n",
       "      <td>2.0</td>\n",
       "      <td>2.0</td>\n",
       "      <td>IT</td>\n",
       "    </tr>\n",
       "    <tr>\n",
       "      <th>8</th>\n",
       "      <td>15.0</td>\n",
       "      <td>3.0</td>\n",
       "      <td>31.0</td>\n",
       "      <td>IT</td>\n",
       "    </tr>\n",
       "  </tbody>\n",
       "</table>\n",
       "</div>"
      ],
      "text/plain": [
       "   maas    v2    v3 departman\n",
       "0   1.0   7.0   NaN        IT\n",
       "1   3.0   NaN  12.0        IT\n",
       "2   6.0   5.0   5.0        IK\n",
       "3   NaN   8.0   6.0        IK\n",
       "4   7.0  12.0  14.0        IK\n",
       "5   1.0   NaN   7.0        IK\n",
       "6   NaN   NaN   NaN        IK\n",
       "7   9.0   2.0   2.0        IT\n",
       "8  15.0   3.0  31.0        IT"
      ]
     },
     "execution_count": 2,
     "metadata": {},
     "output_type": "execute_result"
    }
   ],
   "source": [
    "import pandas as pd\n",
    "import numpy as np\n",
    "v1=np.array([1,3,6,np.NaN,7,1,np.NaN,9,15])\n",
    "v2=np.array([7,np.NaN,5,8,12,np.NaN,np.NaN,2,3])\n",
    "v3=np.array([np.NaN,12,5,6,14,7,np.NaN,2,31])\n",
    "v4=np.array([\"IT\",\"IT\",\"IK\",\"IK\",\"IK\",\"IK\",\"IK\",\"IT\",\"IT\"])\n",
    "\n",
    "df=pd.DataFrame(\n",
    "        {\"maas\" : v1,\n",
    "        \"v2\": v2,\n",
    "        \"v3\" : v3,\n",
    "        \"departman\" : v4}\n",
    ")\n",
    "df"
   ]
  },
  {
   "cell_type": "code",
   "execution_count": 3,
   "id": "c32b0eb4-f471-41ee-af0a-0057f99f2d69",
   "metadata": {},
   "outputs": [
    {
     "data": {
      "text/plain": [
       "departman\n",
       "IK    4.666667\n",
       "IT    7.000000\n",
       "Name: maas, dtype: float64"
      ]
     },
     "execution_count": 3,
     "metadata": {},
     "output_type": "execute_result"
    }
   ],
   "source": [
    "df.groupby(\"departman\")[\"maas\"].mean()"
   ]
  },
  {
   "cell_type": "code",
   "execution_count": 5,
   "id": "0f43aa3b-d55c-4649-bb35-023d6d9852ac",
   "metadata": {},
   "outputs": [
    {
     "data": {
      "text/plain": [
       "0     1.000000\n",
       "1     3.000000\n",
       "2     6.000000\n",
       "3     4.666667\n",
       "4     7.000000\n",
       "5     1.000000\n",
       "6     4.666667\n",
       "7     9.000000\n",
       "8    15.000000\n",
       "Name: maas, dtype: float64"
      ]
     },
     "execution_count": 5,
     "metadata": {},
     "output_type": "execute_result"
    }
   ],
   "source": [
    "df[\"maas\"].fillna(df.groupby(\"departman\")[\"maas\"].transform(\"mean\"))"
   ]
  },
  {
   "cell_type": "markdown",
   "id": "94fc68d4-e699-4bc1-9fcc-55b5577fdb20",
   "metadata": {},
   "source": [
    "## Kategorik Değişkenler için Eksik Değer Atama"
   ]
  },
  {
   "cell_type": "code",
   "execution_count": 6,
   "id": "9c62b0cc-86a5-4c89-8ea0-5ce67f69b1e6",
   "metadata": {},
   "outputs": [
    {
     "data": {
      "text/html": [
       "<div>\n",
       "<style scoped>\n",
       "    .dataframe tbody tr th:only-of-type {\n",
       "        vertical-align: middle;\n",
       "    }\n",
       "\n",
       "    .dataframe tbody tr th {\n",
       "        vertical-align: top;\n",
       "    }\n",
       "\n",
       "    .dataframe thead th {\n",
       "        text-align: right;\n",
       "    }\n",
       "</style>\n",
       "<table border=\"1\" class=\"dataframe\">\n",
       "  <thead>\n",
       "    <tr style=\"text-align: right;\">\n",
       "      <th></th>\n",
       "      <th>maas</th>\n",
       "      <th>departman</th>\n",
       "    </tr>\n",
       "  </thead>\n",
       "  <tbody>\n",
       "    <tr>\n",
       "      <th>0</th>\n",
       "      <td>1.0</td>\n",
       "      <td>IT</td>\n",
       "    </tr>\n",
       "    <tr>\n",
       "      <th>1</th>\n",
       "      <td>3.0</td>\n",
       "      <td>NaN</td>\n",
       "    </tr>\n",
       "    <tr>\n",
       "      <th>2</th>\n",
       "      <td>6.0</td>\n",
       "      <td>IK</td>\n",
       "    </tr>\n",
       "    <tr>\n",
       "      <th>3</th>\n",
       "      <td>NaN</td>\n",
       "      <td>IK</td>\n",
       "    </tr>\n",
       "    <tr>\n",
       "      <th>4</th>\n",
       "      <td>7.0</td>\n",
       "      <td>IK</td>\n",
       "    </tr>\n",
       "    <tr>\n",
       "      <th>5</th>\n",
       "      <td>1.0</td>\n",
       "      <td>IK</td>\n",
       "    </tr>\n",
       "    <tr>\n",
       "      <th>6</th>\n",
       "      <td>NaN</td>\n",
       "      <td>IK</td>\n",
       "    </tr>\n",
       "    <tr>\n",
       "      <th>7</th>\n",
       "      <td>9.0</td>\n",
       "      <td>IT</td>\n",
       "    </tr>\n",
       "    <tr>\n",
       "      <th>8</th>\n",
       "      <td>15.0</td>\n",
       "      <td>IT</td>\n",
       "    </tr>\n",
       "  </tbody>\n",
       "</table>\n",
       "</div>"
      ],
      "text/plain": [
       "   maas departman\n",
       "0   1.0        IT\n",
       "1   3.0       NaN\n",
       "2   6.0        IK\n",
       "3   NaN        IK\n",
       "4   7.0        IK\n",
       "5   1.0        IK\n",
       "6   NaN        IK\n",
       "7   9.0        IT\n",
       "8  15.0        IT"
      ]
     },
     "execution_count": 6,
     "metadata": {},
     "output_type": "execute_result"
    }
   ],
   "source": [
    "import pandas as pd\n",
    "import numpy as np\n",
    "v1=np.array([1,3,6,np.NaN,7,1,np.NaN,9,15])\n",
    "v4=np.array([\"IT\",np.NaN,\"IK\",\"IK\",\"IK\",\"IK\",\"IK\",\"IT\",\"IT\"],dtype=object)\n",
    "\n",
    "df=pd.DataFrame(\n",
    "        {\"maas\" : v1,\n",
    "        \"departman\" : v4}\n",
    ")\n",
    "df"
   ]
  },
  {
   "cell_type": "code",
   "execution_count": 8,
   "id": "3377b720-d101-4ad0-9f8f-fec477e98526",
   "metadata": {},
   "outputs": [
    {
     "data": {
      "text/plain": [
       "0    IT\n",
       "1    IK\n",
       "2    IK\n",
       "3    IK\n",
       "4    IK\n",
       "5    IK\n",
       "6    IK\n",
       "7    IT\n",
       "8    IT\n",
       "Name: departman, dtype: object"
      ]
     },
     "execution_count": 8,
     "metadata": {},
     "output_type": "execute_result"
    }
   ],
   "source": [
    "df[\"departman\"].fillna(df[\"departman\"].mode()[0]) #kalıcı değil inplace true yaparak kalcıı olur"
   ]
  },
  {
   "cell_type": "code",
   "execution_count": 9,
   "id": "c8236e01-461e-48fd-89b1-a70eb9ffc211",
   "metadata": {},
   "outputs": [
    {
     "data": {
      "text/plain": [
       "0    IT\n",
       "1    IK\n",
       "2    IK\n",
       "3    IK\n",
       "4    IK\n",
       "5    IK\n",
       "6    IK\n",
       "7    IT\n",
       "8    IT\n",
       "Name: departman, dtype: object"
      ]
     },
     "execution_count": 9,
     "metadata": {},
     "output_type": "execute_result"
    }
   ],
   "source": [
    "df[\"departman\"].fillna(method=\"bfill\") #kendinden sonraki değerle doldurma"
   ]
  },
  {
   "cell_type": "code",
   "execution_count": 10,
   "id": "f21e5a9d-5a24-4132-97a5-a62180b60a63",
   "metadata": {},
   "outputs": [
    {
     "data": {
      "text/plain": [
       "0    IT\n",
       "1    IT\n",
       "2    IK\n",
       "3    IK\n",
       "4    IK\n",
       "5    IK\n",
       "6    IK\n",
       "7    IT\n",
       "8    IT\n",
       "Name: departman, dtype: object"
      ]
     },
     "execution_count": 10,
     "metadata": {},
     "output_type": "execute_result"
    }
   ],
   "source": [
    "df[\"departman\"].fillna(method=\"ffill\") #kendinden önceki değerle doldurma"
   ]
  },
  {
   "cell_type": "markdown",
   "id": "e71df575-0f5d-4384-bb24-60cbe2902ba6",
   "metadata": {},
   "source": [
    "## Tahmine Dayalı Değer Atama Yöntemleri"
   ]
  },
  {
   "cell_type": "code",
   "execution_count": 12,
   "id": "ee9432f1-b669-4a3e-ac98-3c25c752810d",
   "metadata": {},
   "outputs": [
    {
     "name": "stdout",
     "output_type": "stream",
     "text": [
      "<bound method NDFrame.head of      survived  pclass   age  sibsp  parch     fare\n",
      "0           0       3  22.0      1      0   7.2500\n",
      "1           1       1  38.0      1      0  71.2833\n",
      "2           1       3  26.0      0      0   7.9250\n",
      "3           1       1  35.0      1      0  53.1000\n",
      "4           0       3  35.0      0      0   8.0500\n",
      "..        ...     ...   ...    ...    ...      ...\n",
      "886         0       2  27.0      0      0  13.0000\n",
      "887         1       1  19.0      0      0  30.0000\n",
      "888         0       3   NaN      1      2  23.4500\n",
      "889         1       1  26.0      0      0  30.0000\n",
      "890         0       3  32.0      0      0   7.7500\n",
      "\n",
      "[891 rows x 6 columns]>\n"
     ]
    },
    {
     "data": {
      "text/plain": [
       "survived      0\n",
       "pclass        0\n",
       "age         177\n",
       "sibsp         0\n",
       "parch         0\n",
       "fare          0\n",
       "dtype: int64"
      ]
     },
     "execution_count": 12,
     "metadata": {},
     "output_type": "execute_result"
    }
   ],
   "source": [
    "import seaborn as sns\n",
    "import missingno as msno\n",
    "df=sns.load_dataset('titanic')\n",
    "df=df.select_dtypes(include=['float64','int64'])\n",
    "print(df.head)\n",
    "df.isnull().sum()"
   ]
  },
  {
   "cell_type": "code",
   "execution_count": 14,
   "id": "1912ac3b-f956-431b-9632-e5c54dc69c60",
   "metadata": {},
   "outputs": [
    {
     "name": "stdout",
     "output_type": "stream",
     "text": [
      "Requirement already satisfied: ycimpute in c:\\users\\monster\\anaconda3\\lib\\site-packages (0.2)\n",
      "Requirement already satisfied: scikit-learn>=0.17.1 in c:\\users\\monster\\anaconda3\\lib\\site-packages (from ycimpute) (0.24.2)\n",
      "Requirement already satisfied: scipy in c:\\users\\monster\\anaconda3\\lib\\site-packages (from ycimpute) (1.7.1)\n",
      "Requirement already satisfied: six in c:\\users\\monster\\anaconda3\\lib\\site-packages (from ycimpute) (1.16.0)\n",
      "Requirement already satisfied: torch>=1.1.0 in c:\\users\\monster\\anaconda3\\lib\\site-packages (from ycimpute) (1.10.2)\n",
      "Requirement already satisfied: numpy>=1.10 in c:\\users\\monster\\anaconda3\\lib\\site-packages (from ycimpute) (1.20.3)\n",
      "Requirement already satisfied: threadpoolctl>=2.0.0 in c:\\users\\monster\\anaconda3\\lib\\site-packages (from scikit-learn>=0.17.1->ycimpute) (2.2.0)\n",
      "Requirement already satisfied: joblib>=0.11 in c:\\users\\monster\\anaconda3\\lib\\site-packages (from scikit-learn>=0.17.1->ycimpute) (1.1.0)\n",
      "Requirement already satisfied: typing-extensions in c:\\users\\monster\\anaconda3\\lib\\site-packages (from torch>=1.1.0->ycimpute) (3.10.0.2)\n"
     ]
    }
   ],
   "source": [
    "!pip install ycimpute"
   ]
  },
  {
   "cell_type": "code",
   "execution_count": 15,
   "id": "252bff9e-e89a-446f-802c-3222b7467973",
   "metadata": {},
   "outputs": [],
   "source": [
    "from ycimpute.imputer import knnimput"
   ]
  },
  {
   "cell_type": "code",
   "execution_count": 16,
   "id": "8d050bc9-17fb-40c9-bcef-6673d8714093",
   "metadata": {},
   "outputs": [],
   "source": [
    "var_names=list(df)"
   ]
  },
  {
   "cell_type": "code",
   "execution_count": 17,
   "id": "3098dba1-391e-4748-929b-44058fb3d2a8",
   "metadata": {},
   "outputs": [],
   "source": [
    "n_df=np.array(df)"
   ]
  },
  {
   "cell_type": "code",
   "execution_count": 18,
   "id": "0b01f5e1-aed4-4ab8-8e8b-ee557c6f383a",
   "metadata": {},
   "outputs": [
    {
     "data": {
      "text/plain": [
       "array([[ 0.    ,  3.    , 22.    ,  1.    ,  0.    ,  7.25  ],\n",
       "       [ 1.    ,  1.    , 38.    ,  1.    ,  0.    , 71.2833],\n",
       "       [ 1.    ,  3.    , 26.    ,  0.    ,  0.    ,  7.925 ],\n",
       "       [ 1.    ,  1.    , 35.    ,  1.    ,  0.    , 53.1   ],\n",
       "       [ 0.    ,  3.    , 35.    ,  0.    ,  0.    ,  8.05  ],\n",
       "       [ 0.    ,  3.    ,     nan,  0.    ,  0.    ,  8.4583],\n",
       "       [ 0.    ,  1.    , 54.    ,  0.    ,  0.    , 51.8625],\n",
       "       [ 0.    ,  3.    ,  2.    ,  3.    ,  1.    , 21.075 ],\n",
       "       [ 1.    ,  3.    , 27.    ,  0.    ,  2.    , 11.1333],\n",
       "       [ 1.    ,  2.    , 14.    ,  1.    ,  0.    , 30.0708]])"
      ]
     },
     "execution_count": 18,
     "metadata": {},
     "output_type": "execute_result"
    }
   ],
   "source": [
    "n_df[0:10]"
   ]
  },
  {
   "cell_type": "code",
   "execution_count": 19,
   "id": "72de3c76-f5ab-4021-b317-2ef2d8c1ff13",
   "metadata": {},
   "outputs": [
    {
     "name": "stdout",
     "output_type": "stream",
     "text": [
      "Imputing row 1/891 with 0 missing, elapsed time: 0.118\n",
      "Imputing row 101/891 with 0 missing, elapsed time: 0.123\n",
      "Imputing row 201/891 with 0 missing, elapsed time: 0.124\n",
      "Imputing row 301/891 with 1 missing, elapsed time: 0.125\n",
      "Imputing row 401/891 with 0 missing, elapsed time: 0.126\n",
      "Imputing row 501/891 with 0 missing, elapsed time: 0.127\n",
      "Imputing row 601/891 with 0 missing, elapsed time: 0.127\n",
      "Imputing row 701/891 with 0 missing, elapsed time: 0.129\n",
      "Imputing row 801/891 with 0 missing, elapsed time: 0.130\n"
     ]
    }
   ],
   "source": [
    "dff=knnimput.KNN(k=4).complete(n_df)#knn k'ya yakın komşu. k parametresini ayarladık. Komşuşuklarla ilgili bir takım hesaplamalar"
   ]
  },
  {
   "cell_type": "code",
   "execution_count": 20,
   "id": "d5e875c4-bc6a-47d3-bf32-2ad5bfd4e3f5",
   "metadata": {},
   "outputs": [],
   "source": [
    "dff = pd.DataFrame(dff, columns= var_names)"
   ]
  },
  {
   "cell_type": "code",
   "execution_count": 21,
   "id": "b0d0179e-be9f-4024-8073-2da3b348592e",
   "metadata": {},
   "outputs": [
    {
     "data": {
      "text/plain": [
       "survived    0\n",
       "pclass      0\n",
       "age         0\n",
       "sibsp       0\n",
       "parch       0\n",
       "fare        0\n",
       "dtype: int64"
      ]
     },
     "execution_count": 21,
     "metadata": {},
     "output_type": "execute_result"
    }
   ],
   "source": [
    "dff.isnull().sum()"
   ]
  },
  {
   "cell_type": "code",
   "execution_count": 22,
   "id": "e1e03804-8e5c-4676-8a8d-b6cf8e7ffd21",
   "metadata": {},
   "outputs": [],
   "source": [
    "#random forests yöntemi"
   ]
  },
  {
   "cell_type": "code",
   "execution_count": 23,
   "id": "ed6621da-eae7-4a6c-9ab0-bce98cbc2530",
   "metadata": {},
   "outputs": [],
   "source": [
    "import seaborn as sns\n",
    "import missingno as msno\n",
    "df=sns.load_dataset('titanic')\n",
    "df=df.select_dtypes(include=['float64','int64'])"
   ]
  },
  {
   "cell_type": "code",
   "execution_count": 24,
   "id": "8adecee0-0116-4e76-b376-ce09fb092afc",
   "metadata": {},
   "outputs": [
    {
     "data": {
      "text/plain": [
       "survived    0\n",
       "pclass      0\n",
       "age         0\n",
       "sibsp       0\n",
       "parch       0\n",
       "fare        0\n",
       "dtype: int64"
      ]
     },
     "execution_count": 24,
     "metadata": {},
     "output_type": "execute_result"
    }
   ],
   "source": [
    "dff.isnull().sum()"
   ]
  },
  {
   "cell_type": "code",
   "execution_count": 25,
   "id": "a265675c-932c-4a96-8383-4994464bd2db",
   "metadata": {},
   "outputs": [],
   "source": [
    "var_names = list(df)"
   ]
  },
  {
   "cell_type": "code",
   "execution_count": 26,
   "id": "0f45d1dc-a50f-4796-995e-4318f5518b15",
   "metadata": {},
   "outputs": [],
   "source": [
    "n_df = np.array(df)"
   ]
  },
  {
   "cell_type": "code",
   "execution_count": 28,
   "id": "9a9f2fa5-4491-499d-a3a5-fb28322de493",
   "metadata": {},
   "outputs": [
    {
     "ename": "AttributeError",
     "evalue": "module 'ycimpute.imputer.iterforest' has no attribute 'IterImput'",
     "output_type": "error",
     "traceback": [
      "\u001b[1;31m---------------------------------------------------------------------------\u001b[0m",
      "\u001b[1;31mAttributeError\u001b[0m                            Traceback (most recent call last)",
      "\u001b[1;32m~\\AppData\\Local\\Temp/ipykernel_14312/3691182891.py\u001b[0m in \u001b[0;36m<module>\u001b[1;34m\u001b[0m\n\u001b[0;32m      1\u001b[0m \u001b[1;32mfrom\u001b[0m \u001b[0mycimpute\u001b[0m\u001b[1;33m.\u001b[0m\u001b[0mimputer\u001b[0m \u001b[1;32mimport\u001b[0m \u001b[0miterforest\u001b[0m\u001b[1;33m\u001b[0m\u001b[1;33m\u001b[0m\u001b[0m\n\u001b[1;32m----> 2\u001b[1;33m \u001b[0mdff\u001b[0m \u001b[1;33m=\u001b[0m \u001b[0miterforest\u001b[0m\u001b[1;33m.\u001b[0m\u001b[0mIterImput\u001b[0m\u001b[1;33m(\u001b[0m\u001b[1;33m)\u001b[0m\u001b[1;33m.\u001b[0m\u001b[0mcomplete\u001b[0m\u001b[1;33m(\u001b[0m\u001b[0mn_df\u001b[0m\u001b[1;33m)\u001b[0m\u001b[1;33m\u001b[0m\u001b[1;33m\u001b[0m\u001b[0m\n\u001b[0m",
      "\u001b[1;31mAttributeError\u001b[0m: module 'ycimpute.imputer.iterforest' has no attribute 'IterImput'"
     ]
    }
   ],
   "source": [
    "from ycimpute.imputer import iterforest\n",
    "dff = iterforest.IterImput().complete(n_df)"
   ]
  },
  {
   "cell_type": "code",
   "execution_count": 29,
   "id": "12417dbb-3096-43ae-ba41-86f4cec6458f",
   "metadata": {},
   "outputs": [],
   "source": [
    "dff = pd.DataFrame(dff, columns= var_names)"
   ]
  },
  {
   "cell_type": "code",
   "execution_count": 30,
   "id": "49e98b96-e549-42de-8f94-66e0e13d1b65",
   "metadata": {},
   "outputs": [
    {
     "data": {
      "text/plain": [
       "survived    0\n",
       "pclass      0\n",
       "age         0\n",
       "sibsp       0\n",
       "parch       0\n",
       "fare        0\n",
       "dtype: int64"
      ]
     },
     "execution_count": 30,
     "metadata": {},
     "output_type": "execute_result"
    }
   ],
   "source": [
    "dff.isnull().sum()"
   ]
  },
  {
   "cell_type": "code",
   "execution_count": 31,
   "id": "703c6615-c82f-4156-8ce0-f5ffc9622e15",
   "metadata": {},
   "outputs": [],
   "source": [
    "#EM yöntemi"
   ]
  },
  {
   "cell_type": "code",
   "execution_count": 32,
   "id": "c7b6682f-3923-4e00-9c72-10588bb1865a",
   "metadata": {},
   "outputs": [],
   "source": [
    "import seaborn as sns\n",
    "import missingno as msno\n",
    "df=sns.load_dataset('titanic')\n",
    "df=df.select_dtypes(include=['float64','int64'])"
   ]
  },
  {
   "cell_type": "code",
   "execution_count": 33,
   "id": "348ba4a2-0b2a-4a63-b186-e263f2ffa707",
   "metadata": {},
   "outputs": [],
   "source": [
    "from ycimpute.imputer import EM"
   ]
  },
  {
   "cell_type": "code",
   "execution_count": 34,
   "id": "38e6ca13-054b-4065-b963-e89b3aa264be",
   "metadata": {},
   "outputs": [],
   "source": [
    "var_names=list(df)\n",
    "n_df =np.array(df)"
   ]
  },
  {
   "cell_type": "code",
   "execution_count": 35,
   "id": "5301a1e9-5a1a-4b44-9779-e672a3919a43",
   "metadata": {},
   "outputs": [],
   "source": [
    "dff = EM().complete(n_df)"
   ]
  },
  {
   "cell_type": "code",
   "execution_count": 36,
   "id": "7847be71-c621-4508-96bd-690f6595a95b",
   "metadata": {},
   "outputs": [],
   "source": [
    "dff=pd.DataFrame(dff, columns=var_names)"
   ]
  },
  {
   "cell_type": "code",
   "execution_count": 37,
   "id": "b37374c8-bacd-478d-b6ef-6d9db0a47b2e",
   "metadata": {},
   "outputs": [
    {
     "data": {
      "text/plain": [
       "survived    0\n",
       "pclass      0\n",
       "age         0\n",
       "sibsp       0\n",
       "parch       0\n",
       "fare        0\n",
       "dtype: int64"
      ]
     },
     "execution_count": 37,
     "metadata": {},
     "output_type": "execute_result"
    }
   ],
   "source": [
    "dff.isnull().sum()"
   ]
  },
  {
   "cell_type": "markdown",
   "id": "77736d6b-7142-4519-999f-c4f0d90d7547",
   "metadata": {},
   "source": [
    "# Değişken Standardizasyonu (Veri Standardizasyonu)"
   ]
  },
  {
   "cell_type": "code",
   "execution_count": 38,
   "id": "460c5a9f-4ca0-4058-b58b-c9bbba20d981",
   "metadata": {},
   "outputs": [],
   "source": [
    "import numpy as np\n",
    "import pandas as pd"
   ]
  },
  {
   "cell_type": "code",
   "execution_count": 42,
   "id": "2fb98e44-ff34-49d4-9ea5-92fb79e4d22b",
   "metadata": {},
   "outputs": [
    {
     "data": {
      "text/html": [
       "<div>\n",
       "<style scoped>\n",
       "    .dataframe tbody tr th:only-of-type {\n",
       "        vertical-align: middle;\n",
       "    }\n",
       "\n",
       "    .dataframe tbody tr th {\n",
       "        vertical-align: top;\n",
       "    }\n",
       "\n",
       "    .dataframe thead th {\n",
       "        text-align: right;\n",
       "    }\n",
       "</style>\n",
       "<table border=\"1\" class=\"dataframe\">\n",
       "  <thead>\n",
       "    <tr style=\"text-align: right;\">\n",
       "      <th></th>\n",
       "      <th>v1</th>\n",
       "      <th>v2</th>\n",
       "      <th>v3</th>\n",
       "    </tr>\n",
       "  </thead>\n",
       "  <tbody>\n",
       "    <tr>\n",
       "      <th>0</th>\n",
       "      <td>1.0</td>\n",
       "      <td>7.0</td>\n",
       "      <td>6.0</td>\n",
       "    </tr>\n",
       "    <tr>\n",
       "      <th>1</th>\n",
       "      <td>3.0</td>\n",
       "      <td>7.0</td>\n",
       "      <td>12.0</td>\n",
       "    </tr>\n",
       "    <tr>\n",
       "      <th>2</th>\n",
       "      <td>6.0</td>\n",
       "      <td>5.0</td>\n",
       "      <td>5.0</td>\n",
       "    </tr>\n",
       "    <tr>\n",
       "      <th>3</th>\n",
       "      <td>5.0</td>\n",
       "      <td>8.0</td>\n",
       "      <td>6.0</td>\n",
       "    </tr>\n",
       "    <tr>\n",
       "      <th>4</th>\n",
       "      <td>7.0</td>\n",
       "      <td>12.0</td>\n",
       "      <td>14.0</td>\n",
       "    </tr>\n",
       "  </tbody>\n",
       "</table>\n",
       "</div>"
      ],
      "text/plain": [
       "    v1    v2    v3\n",
       "0  1.0   7.0   6.0\n",
       "1  3.0   7.0  12.0\n",
       "2  6.0   5.0   5.0\n",
       "3  5.0   8.0   6.0\n",
       "4  7.0  12.0  14.0"
      ]
     },
     "execution_count": 42,
     "metadata": {},
     "output_type": "execute_result"
    }
   ],
   "source": [
    "v1=np.array([1,3,6,5,7])\n",
    "v2=np.array([7,7,5,8,12])\n",
    "v3=np.array([6,12,5,6,14])\n",
    "df = pd.DataFrame(\n",
    "                {\"v1\" : v1,\n",
    "                 \"v2\" : v2,\n",
    "                 \"v3\" : v3})\n",
    "\n",
    "df=df.astype(float)\n",
    "df"
   ]
  },
  {
   "cell_type": "code",
   "execution_count": 43,
   "id": "d00c1057-d172-4a4c-b3e0-82a821d840bc",
   "metadata": {},
   "outputs": [],
   "source": [
    "#standardizasyon ve dönüşüm arasındaki farkı bilmek önemlidir. Farkları:\n",
    "#standardizasyon değişkenin kendi içindeki bilgi yapısı bozulmaz belli bir standarta oturtulur.\n",
    "#dönüşüm ise taşıdığı bilginin değiştirilmesi."
   ]
  },
  {
   "cell_type": "markdown",
   "id": "8080b47a-d9c4-44e9-8721-511626ceec1c",
   "metadata": {},
   "source": [
    "## Standardizasyon"
   ]
  },
  {
   "cell_type": "markdown",
   "id": "2d1ebee7-37f3-4c75-b0f9-ed29451f7ef4",
   "metadata": {},
   "source": [
    "from sklearn import preprocessing"
   ]
  },
  {
   "cell_type": "code",
   "execution_count": 45,
   "id": "ecafd840-c185-4281-9468-0e3c0625b6bf",
   "metadata": {},
   "outputs": [
    {
     "data": {
      "text/plain": [
       "array([[-1.57841037, -0.34554737, -0.70920814],\n",
       "       [-0.64993368, -0.34554737,  0.92742603],\n",
       "       [ 0.74278135, -1.2094158 , -0.98198051],\n",
       "       [ 0.27854301,  0.08638684, -0.70920814],\n",
       "       [ 1.2070197 ,  1.81412369,  1.47297076]])"
      ]
     },
     "execution_count": 45,
     "metadata": {},
     "output_type": "execute_result"
    }
   ],
   "source": [
    "preprocessing.scale(df)"
   ]
  },
  {
   "cell_type": "code",
   "execution_count": 47,
   "id": "1deb6f8a-0643-4ef1-89ed-125ae9f43d24",
   "metadata": {},
   "outputs": [
    {
     "data": {
      "text/plain": [
       "v1    4.4\n",
       "v2    7.8\n",
       "v3    8.6\n",
       "dtype: float64"
      ]
     },
     "execution_count": 47,
     "metadata": {},
     "output_type": "execute_result"
    }
   ],
   "source": [
    "df.mean()"
   ]
  },
  {
   "cell_type": "markdown",
   "id": "8e89d7d2-b37b-476d-80eb-2cc24f2185a1",
   "metadata": {},
   "source": [
    "## Normalizasyon"
   ]
  },
  {
   "cell_type": "code",
   "execution_count": 48,
   "id": "9368474b-9b3d-4bc0-b19b-4f2c16c654e2",
   "metadata": {},
   "outputs": [
    {
     "data": {
      "text/plain": [
       "array([[0.10783277, 0.75482941, 0.64699664],\n",
       "       [0.21107926, 0.49251828, 0.84431705],\n",
       "       [0.64699664, 0.53916387, 0.53916387],\n",
       "       [0.4472136 , 0.71554175, 0.53665631],\n",
       "       [0.35491409, 0.60842415, 0.70982818]])"
      ]
     },
     "execution_count": 48,
     "metadata": {},
     "output_type": "execute_result"
    }
   ],
   "source": [
    "preprocessing.normalize(df)"
   ]
  },
  {
   "cell_type": "markdown",
   "id": "63921984-d84f-4a87-b9c4-9f7a6f5f1f4a",
   "metadata": {},
   "source": [
    "## Min-Max Dönüşümü"
   ]
  },
  {
   "cell_type": "code",
   "execution_count": 49,
   "id": "5803cf66-f219-4555-bbb3-092be83acddb",
   "metadata": {},
   "outputs": [],
   "source": [
    "scaler=preprocessing.MinMaxScaler(feature_range=(10,20))"
   ]
  },
  {
   "cell_type": "code",
   "execution_count": 50,
   "id": "8aae604b-1971-4c1f-a8ac-1609633d7164",
   "metadata": {},
   "outputs": [
    {
     "data": {
      "text/plain": [
       "array([[10.        , 12.85714286, 11.11111111],\n",
       "       [13.33333333, 12.85714286, 17.77777778],\n",
       "       [18.33333333, 10.        , 10.        ],\n",
       "       [16.66666667, 14.28571429, 11.11111111],\n",
       "       [20.        , 20.        , 20.        ]])"
      ]
     },
     "execution_count": 50,
     "metadata": {},
     "output_type": "execute_result"
    }
   ],
   "source": [
    "scaler.fit_transform(df)"
   ]
  },
  {
   "cell_type": "markdown",
   "id": "3e050055-acec-49ff-af95-98aeb71371aa",
   "metadata": {},
   "source": [
    "# Değişken Dönüşümleri"
   ]
  },
  {
   "cell_type": "code",
   "execution_count": 51,
   "id": "51effd36-2cef-4099-85c0-f4956d554c0c",
   "metadata": {},
   "outputs": [],
   "source": [
    "#değişken dönüşümü > standardizasyon"
   ]
  },
  {
   "cell_type": "code",
   "execution_count": 52,
   "id": "200ed1d9-a8a9-48c4-93f4-62b9c13ac5c8",
   "metadata": {},
   "outputs": [
    {
     "data": {
      "text/html": [
       "<div>\n",
       "<style scoped>\n",
       "    .dataframe tbody tr th:only-of-type {\n",
       "        vertical-align: middle;\n",
       "    }\n",
       "\n",
       "    .dataframe tbody tr th {\n",
       "        vertical-align: top;\n",
       "    }\n",
       "\n",
       "    .dataframe thead th {\n",
       "        text-align: right;\n",
       "    }\n",
       "</style>\n",
       "<table border=\"1\" class=\"dataframe\">\n",
       "  <thead>\n",
       "    <tr style=\"text-align: right;\">\n",
       "      <th></th>\n",
       "      <th>total_bill</th>\n",
       "      <th>tip</th>\n",
       "      <th>sex</th>\n",
       "      <th>smoker</th>\n",
       "      <th>day</th>\n",
       "      <th>time</th>\n",
       "      <th>size</th>\n",
       "    </tr>\n",
       "  </thead>\n",
       "  <tbody>\n",
       "    <tr>\n",
       "      <th>0</th>\n",
       "      <td>16.99</td>\n",
       "      <td>1.01</td>\n",
       "      <td>Female</td>\n",
       "      <td>No</td>\n",
       "      <td>Sun</td>\n",
       "      <td>Dinner</td>\n",
       "      <td>2</td>\n",
       "    </tr>\n",
       "    <tr>\n",
       "      <th>1</th>\n",
       "      <td>10.34</td>\n",
       "      <td>1.66</td>\n",
       "      <td>Male</td>\n",
       "      <td>No</td>\n",
       "      <td>Sun</td>\n",
       "      <td>Dinner</td>\n",
       "      <td>3</td>\n",
       "    </tr>\n",
       "    <tr>\n",
       "      <th>2</th>\n",
       "      <td>21.01</td>\n",
       "      <td>3.50</td>\n",
       "      <td>Male</td>\n",
       "      <td>No</td>\n",
       "      <td>Sun</td>\n",
       "      <td>Dinner</td>\n",
       "      <td>3</td>\n",
       "    </tr>\n",
       "    <tr>\n",
       "      <th>3</th>\n",
       "      <td>23.68</td>\n",
       "      <td>3.31</td>\n",
       "      <td>Male</td>\n",
       "      <td>No</td>\n",
       "      <td>Sun</td>\n",
       "      <td>Dinner</td>\n",
       "      <td>2</td>\n",
       "    </tr>\n",
       "    <tr>\n",
       "      <th>4</th>\n",
       "      <td>24.59</td>\n",
       "      <td>3.61</td>\n",
       "      <td>Female</td>\n",
       "      <td>No</td>\n",
       "      <td>Sun</td>\n",
       "      <td>Dinner</td>\n",
       "      <td>4</td>\n",
       "    </tr>\n",
       "  </tbody>\n",
       "</table>\n",
       "</div>"
      ],
      "text/plain": [
       "   total_bill   tip     sex smoker  day    time  size\n",
       "0       16.99  1.01  Female     No  Sun  Dinner     2\n",
       "1       10.34  1.66    Male     No  Sun  Dinner     3\n",
       "2       21.01  3.50    Male     No  Sun  Dinner     3\n",
       "3       23.68  3.31    Male     No  Sun  Dinner     2\n",
       "4       24.59  3.61  Female     No  Sun  Dinner     4"
      ]
     },
     "execution_count": 52,
     "metadata": {},
     "output_type": "execute_result"
    }
   ],
   "source": [
    "import seaborn as sns\n",
    "df = sns.load_dataset('tips')\n",
    "df.head()"
   ]
  },
  {
   "cell_type": "markdown",
   "id": "ae32d740-a473-48d8-91c5-6b6aab92b142",
   "metadata": {},
   "source": [
    "## 0-1 Dönüşümü"
   ]
  },
  {
   "cell_type": "code",
   "execution_count": 53,
   "id": "7ede7968-e743-4f78-b380-21d123a0de12",
   "metadata": {},
   "outputs": [],
   "source": [
    "#cinsiyet değişkenini 1 ve 0 olarak değiştirmez. Çok sık kullanılır"
   ]
  },
  {
   "cell_type": "code",
   "execution_count": 54,
   "id": "ded2e2e6-eedc-476b-ac3a-31ce6fce2743",
   "metadata": {},
   "outputs": [],
   "source": [
    "from sklearn.preprocessing import LabelEncoder\n",
    "\n",
    "lbe=LabelEncoder()"
   ]
  },
  {
   "cell_type": "code",
   "execution_count": 55,
   "id": "dbcb125c-6393-4d9a-b4e9-68315ac9a669",
   "metadata": {},
   "outputs": [
    {
     "data": {
      "text/plain": [
       "array([0, 1, 1, 1, 0, 1, 1, 1, 1, 1, 1, 0, 1, 1, 0, 1, 0, 1, 0, 1, 1, 0,\n",
       "       0, 1, 1, 1, 1, 1, 1, 0, 1, 1, 0, 0, 1, 1, 1, 0, 1, 1, 1, 1, 1, 1,\n",
       "       1, 1, 1, 1, 1, 1, 1, 0, 0, 1, 1, 1, 1, 0, 1, 1, 1, 1, 1, 1, 1, 1,\n",
       "       0, 0, 1, 1, 1, 0, 0, 0, 0, 1, 1, 1, 1, 1, 1, 1, 0, 1, 1, 0, 1, 1,\n",
       "       1, 1, 1, 1, 0, 0, 0, 1, 1, 1, 1, 1, 0, 0, 0, 0, 0, 1, 1, 1, 1, 0,\n",
       "       1, 0, 1, 1, 0, 0, 1, 0, 0, 0, 1, 0, 1, 1, 0, 0, 1, 0, 0, 1, 1, 0,\n",
       "       0, 0, 0, 0, 0, 0, 1, 0, 0, 1, 1, 0, 0, 0, 0, 0, 1, 1, 1, 1, 1, 1,\n",
       "       1, 0, 1, 0, 0, 1, 1, 1, 0, 1, 0, 1, 1, 1, 0, 0, 1, 1, 1, 1, 1, 1,\n",
       "       1, 1, 0, 1, 1, 1, 1, 1, 1, 1, 0, 1, 0, 1, 1, 0, 1, 1, 1, 1, 1, 0,\n",
       "       0, 1, 1, 0, 0, 0, 1, 0, 1, 1, 1, 0, 1, 1, 1, 0, 0, 0, 1, 1, 1, 0,\n",
       "       1, 0, 1, 0, 1, 0, 0, 1, 1, 0, 1, 1, 1, 1, 1, 1, 1, 1, 0, 1, 0, 1,\n",
       "       1, 0])"
      ]
     },
     "execution_count": 55,
     "metadata": {},
     "output_type": "execute_result"
    }
   ],
   "source": [
    "lbe.fit_transform(df[\"sex\"])"
   ]
  },
  {
   "cell_type": "code",
   "execution_count": 60,
   "id": "5f7cbcd9-c84a-4344-8956-96f9f2103151",
   "metadata": {},
   "outputs": [
    {
     "data": {
      "text/html": [
       "<div>\n",
       "<style scoped>\n",
       "    .dataframe tbody tr th:only-of-type {\n",
       "        vertical-align: middle;\n",
       "    }\n",
       "\n",
       "    .dataframe tbody tr th {\n",
       "        vertical-align: top;\n",
       "    }\n",
       "\n",
       "    .dataframe thead th {\n",
       "        text-align: right;\n",
       "    }\n",
       "</style>\n",
       "<table border=\"1\" class=\"dataframe\">\n",
       "  <thead>\n",
       "    <tr style=\"text-align: right;\">\n",
       "      <th></th>\n",
       "      <th>total_bill</th>\n",
       "      <th>tip</th>\n",
       "      <th>sex</th>\n",
       "      <th>smoker</th>\n",
       "      <th>day</th>\n",
       "      <th>time</th>\n",
       "      <th>size</th>\n",
       "      <th>yeni_sex</th>\n",
       "      <th>new_sex</th>\n",
       "    </tr>\n",
       "  </thead>\n",
       "  <tbody>\n",
       "    <tr>\n",
       "      <th>0</th>\n",
       "      <td>16.99</td>\n",
       "      <td>1.01</td>\n",
       "      <td>Female</td>\n",
       "      <td>No</td>\n",
       "      <td>Sun</td>\n",
       "      <td>Dinner</td>\n",
       "      <td>2</td>\n",
       "      <td>0</td>\n",
       "      <td>0</td>\n",
       "    </tr>\n",
       "    <tr>\n",
       "      <th>1</th>\n",
       "      <td>10.34</td>\n",
       "      <td>1.66</td>\n",
       "      <td>Male</td>\n",
       "      <td>No</td>\n",
       "      <td>Sun</td>\n",
       "      <td>Dinner</td>\n",
       "      <td>3</td>\n",
       "      <td>1</td>\n",
       "      <td>1</td>\n",
       "    </tr>\n",
       "    <tr>\n",
       "      <th>2</th>\n",
       "      <td>21.01</td>\n",
       "      <td>3.50</td>\n",
       "      <td>Male</td>\n",
       "      <td>No</td>\n",
       "      <td>Sun</td>\n",
       "      <td>Dinner</td>\n",
       "      <td>3</td>\n",
       "      <td>1</td>\n",
       "      <td>1</td>\n",
       "    </tr>\n",
       "    <tr>\n",
       "      <th>3</th>\n",
       "      <td>23.68</td>\n",
       "      <td>3.31</td>\n",
       "      <td>Male</td>\n",
       "      <td>No</td>\n",
       "      <td>Sun</td>\n",
       "      <td>Dinner</td>\n",
       "      <td>2</td>\n",
       "      <td>1</td>\n",
       "      <td>1</td>\n",
       "    </tr>\n",
       "    <tr>\n",
       "      <th>4</th>\n",
       "      <td>24.59</td>\n",
       "      <td>3.61</td>\n",
       "      <td>Female</td>\n",
       "      <td>No</td>\n",
       "      <td>Sun</td>\n",
       "      <td>Dinner</td>\n",
       "      <td>4</td>\n",
       "      <td>0</td>\n",
       "      <td>0</td>\n",
       "    </tr>\n",
       "    <tr>\n",
       "      <th>...</th>\n",
       "      <td>...</td>\n",
       "      <td>...</td>\n",
       "      <td>...</td>\n",
       "      <td>...</td>\n",
       "      <td>...</td>\n",
       "      <td>...</td>\n",
       "      <td>...</td>\n",
       "      <td>...</td>\n",
       "      <td>...</td>\n",
       "    </tr>\n",
       "    <tr>\n",
       "      <th>239</th>\n",
       "      <td>29.03</td>\n",
       "      <td>5.92</td>\n",
       "      <td>Male</td>\n",
       "      <td>No</td>\n",
       "      <td>Sat</td>\n",
       "      <td>Dinner</td>\n",
       "      <td>3</td>\n",
       "      <td>1</td>\n",
       "      <td>1</td>\n",
       "    </tr>\n",
       "    <tr>\n",
       "      <th>240</th>\n",
       "      <td>27.18</td>\n",
       "      <td>2.00</td>\n",
       "      <td>Female</td>\n",
       "      <td>Yes</td>\n",
       "      <td>Sat</td>\n",
       "      <td>Dinner</td>\n",
       "      <td>2</td>\n",
       "      <td>0</td>\n",
       "      <td>0</td>\n",
       "    </tr>\n",
       "    <tr>\n",
       "      <th>241</th>\n",
       "      <td>22.67</td>\n",
       "      <td>2.00</td>\n",
       "      <td>Male</td>\n",
       "      <td>Yes</td>\n",
       "      <td>Sat</td>\n",
       "      <td>Dinner</td>\n",
       "      <td>2</td>\n",
       "      <td>1</td>\n",
       "      <td>1</td>\n",
       "    </tr>\n",
       "    <tr>\n",
       "      <th>242</th>\n",
       "      <td>17.82</td>\n",
       "      <td>1.75</td>\n",
       "      <td>Male</td>\n",
       "      <td>No</td>\n",
       "      <td>Sat</td>\n",
       "      <td>Dinner</td>\n",
       "      <td>2</td>\n",
       "      <td>1</td>\n",
       "      <td>1</td>\n",
       "    </tr>\n",
       "    <tr>\n",
       "      <th>243</th>\n",
       "      <td>18.78</td>\n",
       "      <td>3.00</td>\n",
       "      <td>Female</td>\n",
       "      <td>No</td>\n",
       "      <td>Thur</td>\n",
       "      <td>Dinner</td>\n",
       "      <td>2</td>\n",
       "      <td>0</td>\n",
       "      <td>0</td>\n",
       "    </tr>\n",
       "  </tbody>\n",
       "</table>\n",
       "<p>244 rows × 9 columns</p>\n",
       "</div>"
      ],
      "text/plain": [
       "     total_bill   tip     sex smoker   day    time  size  yeni_sex  new_sex\n",
       "0         16.99  1.01  Female     No   Sun  Dinner     2         0        0\n",
       "1         10.34  1.66    Male     No   Sun  Dinner     3         1        1\n",
       "2         21.01  3.50    Male     No   Sun  Dinner     3         1        1\n",
       "3         23.68  3.31    Male     No   Sun  Dinner     2         1        1\n",
       "4         24.59  3.61  Female     No   Sun  Dinner     4         0        0\n",
       "..          ...   ...     ...    ...   ...     ...   ...       ...      ...\n",
       "239       29.03  5.92    Male     No   Sat  Dinner     3         1        1\n",
       "240       27.18  2.00  Female    Yes   Sat  Dinner     2         0        0\n",
       "241       22.67  2.00    Male    Yes   Sat  Dinner     2         1        1\n",
       "242       17.82  1.75    Male     No   Sat  Dinner     2         1        1\n",
       "243       18.78  3.00  Female     No  Thur  Dinner     2         0        0\n",
       "\n",
       "[244 rows x 9 columns]"
      ]
     },
     "execution_count": 60,
     "metadata": {},
     "output_type": "execute_result"
    }
   ],
   "source": [
    "df[\"new_sex\"] = lbe.fit_transform(df[\"sex\"])\n",
    "df"
   ]
  },
  {
   "cell_type": "markdown",
   "id": "3bb955e0-6e3f-4307-a7fd-4e87101062d0",
   "metadata": {},
   "source": [
    "## 0 ve Diğerler(0) Dönüşümü"
   ]
  },
  {
   "cell_type": "code",
   "execution_count": 61,
   "id": "d6a23f96-b196-415a-ba43-0e5cb3537bea",
   "metadata": {},
   "outputs": [
    {
     "data": {
      "text/html": [
       "<div>\n",
       "<style scoped>\n",
       "    .dataframe tbody tr th:only-of-type {\n",
       "        vertical-align: middle;\n",
       "    }\n",
       "\n",
       "    .dataframe tbody tr th {\n",
       "        vertical-align: top;\n",
       "    }\n",
       "\n",
       "    .dataframe thead th {\n",
       "        text-align: right;\n",
       "    }\n",
       "</style>\n",
       "<table border=\"1\" class=\"dataframe\">\n",
       "  <thead>\n",
       "    <tr style=\"text-align: right;\">\n",
       "      <th></th>\n",
       "      <th>total_bill</th>\n",
       "      <th>tip</th>\n",
       "      <th>sex</th>\n",
       "      <th>smoker</th>\n",
       "      <th>day</th>\n",
       "      <th>time</th>\n",
       "      <th>size</th>\n",
       "      <th>yeni_sex</th>\n",
       "      <th>new_sex</th>\n",
       "    </tr>\n",
       "  </thead>\n",
       "  <tbody>\n",
       "    <tr>\n",
       "      <th>0</th>\n",
       "      <td>16.99</td>\n",
       "      <td>1.01</td>\n",
       "      <td>Female</td>\n",
       "      <td>No</td>\n",
       "      <td>Sun</td>\n",
       "      <td>Dinner</td>\n",
       "      <td>2</td>\n",
       "      <td>0</td>\n",
       "      <td>0</td>\n",
       "    </tr>\n",
       "    <tr>\n",
       "      <th>1</th>\n",
       "      <td>10.34</td>\n",
       "      <td>1.66</td>\n",
       "      <td>Male</td>\n",
       "      <td>No</td>\n",
       "      <td>Sun</td>\n",
       "      <td>Dinner</td>\n",
       "      <td>3</td>\n",
       "      <td>1</td>\n",
       "      <td>1</td>\n",
       "    </tr>\n",
       "    <tr>\n",
       "      <th>2</th>\n",
       "      <td>21.01</td>\n",
       "      <td>3.50</td>\n",
       "      <td>Male</td>\n",
       "      <td>No</td>\n",
       "      <td>Sun</td>\n",
       "      <td>Dinner</td>\n",
       "      <td>3</td>\n",
       "      <td>1</td>\n",
       "      <td>1</td>\n",
       "    </tr>\n",
       "    <tr>\n",
       "      <th>3</th>\n",
       "      <td>23.68</td>\n",
       "      <td>3.31</td>\n",
       "      <td>Male</td>\n",
       "      <td>No</td>\n",
       "      <td>Sun</td>\n",
       "      <td>Dinner</td>\n",
       "      <td>2</td>\n",
       "      <td>1</td>\n",
       "      <td>1</td>\n",
       "    </tr>\n",
       "    <tr>\n",
       "      <th>4</th>\n",
       "      <td>24.59</td>\n",
       "      <td>3.61</td>\n",
       "      <td>Female</td>\n",
       "      <td>No</td>\n",
       "      <td>Sun</td>\n",
       "      <td>Dinner</td>\n",
       "      <td>4</td>\n",
       "      <td>0</td>\n",
       "      <td>0</td>\n",
       "    </tr>\n",
       "  </tbody>\n",
       "</table>\n",
       "</div>"
      ],
      "text/plain": [
       "   total_bill   tip     sex smoker  day    time  size  yeni_sex  new_sex\n",
       "0       16.99  1.01  Female     No  Sun  Dinner     2         0        0\n",
       "1       10.34  1.66    Male     No  Sun  Dinner     3         1        1\n",
       "2       21.01  3.50    Male     No  Sun  Dinner     3         1        1\n",
       "3       23.68  3.31    Male     No  Sun  Dinner     2         1        1\n",
       "4       24.59  3.61  Female     No  Sun  Dinner     4         0        0"
      ]
     },
     "execution_count": 61,
     "metadata": {},
     "output_type": "execute_result"
    }
   ],
   "source": [
    "df.head()"
   ]
  },
  {
   "cell_type": "code",
   "execution_count": 63,
   "id": "8e154885-776b-4dd8-b805-2fba78971e9c",
   "metadata": {
    "tags": []
   },
   "outputs": [
    {
     "data": {
      "text/html": [
       "<div>\n",
       "<style scoped>\n",
       "    .dataframe tbody tr th:only-of-type {\n",
       "        vertical-align: middle;\n",
       "    }\n",
       "\n",
       "    .dataframe tbody tr th {\n",
       "        vertical-align: top;\n",
       "    }\n",
       "\n",
       "    .dataframe thead th {\n",
       "        text-align: right;\n",
       "    }\n",
       "</style>\n",
       "<table border=\"1\" class=\"dataframe\">\n",
       "  <thead>\n",
       "    <tr style=\"text-align: right;\">\n",
       "      <th></th>\n",
       "      <th>total_bill</th>\n",
       "      <th>tip</th>\n",
       "      <th>sex</th>\n",
       "      <th>smoker</th>\n",
       "      <th>day</th>\n",
       "      <th>time</th>\n",
       "      <th>size</th>\n",
       "      <th>yeni_sex</th>\n",
       "      <th>new_sex</th>\n",
       "      <th>new_day</th>\n",
       "    </tr>\n",
       "  </thead>\n",
       "  <tbody>\n",
       "    <tr>\n",
       "      <th>0</th>\n",
       "      <td>16.99</td>\n",
       "      <td>1.01</td>\n",
       "      <td>Female</td>\n",
       "      <td>No</td>\n",
       "      <td>Sun</td>\n",
       "      <td>Dinner</td>\n",
       "      <td>2</td>\n",
       "      <td>0</td>\n",
       "      <td>0</td>\n",
       "      <td>1</td>\n",
       "    </tr>\n",
       "    <tr>\n",
       "      <th>1</th>\n",
       "      <td>10.34</td>\n",
       "      <td>1.66</td>\n",
       "      <td>Male</td>\n",
       "      <td>No</td>\n",
       "      <td>Sun</td>\n",
       "      <td>Dinner</td>\n",
       "      <td>3</td>\n",
       "      <td>1</td>\n",
       "      <td>1</td>\n",
       "      <td>1</td>\n",
       "    </tr>\n",
       "    <tr>\n",
       "      <th>2</th>\n",
       "      <td>21.01</td>\n",
       "      <td>3.50</td>\n",
       "      <td>Male</td>\n",
       "      <td>No</td>\n",
       "      <td>Sun</td>\n",
       "      <td>Dinner</td>\n",
       "      <td>3</td>\n",
       "      <td>1</td>\n",
       "      <td>1</td>\n",
       "      <td>1</td>\n",
       "    </tr>\n",
       "    <tr>\n",
       "      <th>3</th>\n",
       "      <td>23.68</td>\n",
       "      <td>3.31</td>\n",
       "      <td>Male</td>\n",
       "      <td>No</td>\n",
       "      <td>Sun</td>\n",
       "      <td>Dinner</td>\n",
       "      <td>2</td>\n",
       "      <td>1</td>\n",
       "      <td>1</td>\n",
       "      <td>1</td>\n",
       "    </tr>\n",
       "    <tr>\n",
       "      <th>4</th>\n",
       "      <td>24.59</td>\n",
       "      <td>3.61</td>\n",
       "      <td>Female</td>\n",
       "      <td>No</td>\n",
       "      <td>Sun</td>\n",
       "      <td>Dinner</td>\n",
       "      <td>4</td>\n",
       "      <td>0</td>\n",
       "      <td>0</td>\n",
       "      <td>1</td>\n",
       "    </tr>\n",
       "    <tr>\n",
       "      <th>...</th>\n",
       "      <td>...</td>\n",
       "      <td>...</td>\n",
       "      <td>...</td>\n",
       "      <td>...</td>\n",
       "      <td>...</td>\n",
       "      <td>...</td>\n",
       "      <td>...</td>\n",
       "      <td>...</td>\n",
       "      <td>...</td>\n",
       "      <td>...</td>\n",
       "    </tr>\n",
       "    <tr>\n",
       "      <th>239</th>\n",
       "      <td>29.03</td>\n",
       "      <td>5.92</td>\n",
       "      <td>Male</td>\n",
       "      <td>No</td>\n",
       "      <td>Sat</td>\n",
       "      <td>Dinner</td>\n",
       "      <td>3</td>\n",
       "      <td>1</td>\n",
       "      <td>1</td>\n",
       "      <td>0</td>\n",
       "    </tr>\n",
       "    <tr>\n",
       "      <th>240</th>\n",
       "      <td>27.18</td>\n",
       "      <td>2.00</td>\n",
       "      <td>Female</td>\n",
       "      <td>Yes</td>\n",
       "      <td>Sat</td>\n",
       "      <td>Dinner</td>\n",
       "      <td>2</td>\n",
       "      <td>0</td>\n",
       "      <td>0</td>\n",
       "      <td>0</td>\n",
       "    </tr>\n",
       "    <tr>\n",
       "      <th>241</th>\n",
       "      <td>22.67</td>\n",
       "      <td>2.00</td>\n",
       "      <td>Male</td>\n",
       "      <td>Yes</td>\n",
       "      <td>Sat</td>\n",
       "      <td>Dinner</td>\n",
       "      <td>2</td>\n",
       "      <td>1</td>\n",
       "      <td>1</td>\n",
       "      <td>0</td>\n",
       "    </tr>\n",
       "    <tr>\n",
       "      <th>242</th>\n",
       "      <td>17.82</td>\n",
       "      <td>1.75</td>\n",
       "      <td>Male</td>\n",
       "      <td>No</td>\n",
       "      <td>Sat</td>\n",
       "      <td>Dinner</td>\n",
       "      <td>2</td>\n",
       "      <td>1</td>\n",
       "      <td>1</td>\n",
       "      <td>0</td>\n",
       "    </tr>\n",
       "    <tr>\n",
       "      <th>243</th>\n",
       "      <td>18.78</td>\n",
       "      <td>3.00</td>\n",
       "      <td>Female</td>\n",
       "      <td>No</td>\n",
       "      <td>Thur</td>\n",
       "      <td>Dinner</td>\n",
       "      <td>2</td>\n",
       "      <td>0</td>\n",
       "      <td>0</td>\n",
       "      <td>0</td>\n",
       "    </tr>\n",
       "  </tbody>\n",
       "</table>\n",
       "<p>244 rows × 10 columns</p>\n",
       "</div>"
      ],
      "text/plain": [
       "     total_bill   tip     sex smoker   day    time  size  yeni_sex  new_sex  \\\n",
       "0         16.99  1.01  Female     No   Sun  Dinner     2         0        0   \n",
       "1         10.34  1.66    Male     No   Sun  Dinner     3         1        1   \n",
       "2         21.01  3.50    Male     No   Sun  Dinner     3         1        1   \n",
       "3         23.68  3.31    Male     No   Sun  Dinner     2         1        1   \n",
       "4         24.59  3.61  Female     No   Sun  Dinner     4         0        0   \n",
       "..          ...   ...     ...    ...   ...     ...   ...       ...      ...   \n",
       "239       29.03  5.92    Male     No   Sat  Dinner     3         1        1   \n",
       "240       27.18  2.00  Female    Yes   Sat  Dinner     2         0        0   \n",
       "241       22.67  2.00    Male    Yes   Sat  Dinner     2         1        1   \n",
       "242       17.82  1.75    Male     No   Sat  Dinner     2         1        1   \n",
       "243       18.78  3.00  Female     No  Thur  Dinner     2         0        0   \n",
       "\n",
       "     new_day  \n",
       "0          1  \n",
       "1          1  \n",
       "2          1  \n",
       "3          1  \n",
       "4          1  \n",
       "..       ...  \n",
       "239        0  \n",
       "240        0  \n",
       "241        0  \n",
       "242        0  \n",
       "243        0  \n",
       "\n",
       "[244 rows x 10 columns]"
      ]
     },
     "execution_count": 63,
     "metadata": {},
     "output_type": "execute_result"
    }
   ],
   "source": [
    "df[\"new_day\"] = np.where(df[\"day\"].str.contains(\"Sun\"),1,0)\n",
    "df"
   ]
  },
  {
   "cell_type": "markdown",
   "id": "7c10d365-e20f-4858-8cf7-6c684c244177",
   "metadata": {},
   "source": [
    "## Çok Sınıflı Dönüşüm"
   ]
  },
  {
   "cell_type": "code",
   "execution_count": 64,
   "id": "f3646100-2ffb-40cc-94f1-41c596b950d4",
   "metadata": {},
   "outputs": [],
   "source": [
    "from sklearn.preprocessing import LabelEncoder\n",
    "\n",
    "lbe=LabelEncoder()"
   ]
  },
  {
   "cell_type": "code",
   "execution_count": 65,
   "id": "c3024dd8-7e87-469f-8a0c-afaa2f2333d7",
   "metadata": {},
   "outputs": [
    {
     "data": {
      "text/plain": [
       "array([2, 2, 2, 2, 2, 2, 2, 2, 2, 2, 2, 2, 2, 2, 2, 2, 2, 2, 2, 1, 1, 1,\n",
       "       1, 1, 1, 1, 1, 1, 1, 1, 1, 1, 1, 1, 1, 1, 1, 1, 1, 1, 1, 2, 2, 2,\n",
       "       2, 2, 2, 2, 2, 2, 2, 2, 2, 2, 2, 2, 1, 1, 1, 1, 1, 1, 1, 1, 1, 1,\n",
       "       1, 1, 1, 1, 1, 1, 1, 1, 1, 1, 1, 3, 3, 3, 3, 3, 3, 3, 3, 3, 3, 3,\n",
       "       3, 3, 0, 0, 0, 0, 0, 0, 0, 0, 0, 0, 0, 0, 1, 1, 1, 1, 1, 1, 1, 1,\n",
       "       1, 1, 2, 2, 2, 2, 2, 3, 3, 3, 3, 3, 3, 3, 3, 3, 3, 3, 3, 3, 3, 3,\n",
       "       3, 3, 3, 3, 3, 3, 3, 3, 3, 3, 3, 3, 3, 3, 3, 3, 3, 3, 2, 2, 2, 2,\n",
       "       2, 2, 2, 2, 2, 2, 2, 2, 2, 2, 2, 2, 2, 2, 1, 1, 1, 1, 2, 2, 2, 2,\n",
       "       2, 2, 2, 2, 2, 2, 2, 2, 2, 2, 2, 2, 2, 2, 2, 3, 3, 3, 3, 3, 3, 3,\n",
       "       3, 3, 3, 3, 3, 3, 3, 3, 1, 1, 1, 1, 1, 1, 1, 1, 1, 1, 1, 1, 1, 1,\n",
       "       0, 0, 0, 0, 0, 0, 0, 1, 1, 1, 1, 1, 1, 1, 1, 1, 1, 1, 1, 1, 1, 1,\n",
       "       1, 3])"
      ]
     },
     "execution_count": 65,
     "metadata": {},
     "output_type": "execute_result"
    }
   ],
   "source": [
    "lbe.fit_transform(df[\"day\"])"
   ]
  },
  {
   "cell_type": "code",
   "execution_count": 68,
   "id": "2e0cc0dd-3bc2-44ec-a129-4fb7c33d68bc",
   "metadata": {},
   "outputs": [],
   "source": [
    "#ÖNEMLİ\n",
    "#elimizdeki kategorik değişkenin 2den fazla sınıfı varsa ve fonks bizden beklentisi doğrultusunda\n",
    "#bu kategorik değişkeni numerik bir formata çevirmek istiyorsak ve çevirdiysek\n",
    "#algoritmanın kafası karışır ve kategorik değişkenin sınıflarının bağımlı değişkene olan etkileri bozulur\n",
    "#çünkü numerik değerlere dönüştü yani normalde bir kategorik değişkenin sınıflar arasındaki mesafesi eşit olan durumu bir anda\n",
    "#bir dönüşüm işlemiyle bozulup aralarında fark varmışçasına sıralama işlemine tutulmuş oldu\n",
    "#bu durumda one-hot dönüşümü kullanılır"
   ]
  },
  {
   "cell_type": "markdown",
   "id": "b3cd6e2e-089d-42f1-817c-16ec463beb20",
   "metadata": {},
   "source": [
    "## One Hot Dönüşümü ve Dummy Değişken Tuzağı"
   ]
  },
  {
   "cell_type": "code",
   "execution_count": 70,
   "id": "63fbfb17-9b54-4c3b-974d-e4ec475aef60",
   "metadata": {},
   "outputs": [
    {
     "data": {
      "text/html": [
       "<div>\n",
       "<style scoped>\n",
       "    .dataframe tbody tr th:only-of-type {\n",
       "        vertical-align: middle;\n",
       "    }\n",
       "\n",
       "    .dataframe tbody tr th {\n",
       "        vertical-align: top;\n",
       "    }\n",
       "\n",
       "    .dataframe thead th {\n",
       "        text-align: right;\n",
       "    }\n",
       "</style>\n",
       "<table border=\"1\" class=\"dataframe\">\n",
       "  <thead>\n",
       "    <tr style=\"text-align: right;\">\n",
       "      <th></th>\n",
       "      <th>total_bill</th>\n",
       "      <th>tip</th>\n",
       "      <th>sex</th>\n",
       "      <th>smoker</th>\n",
       "      <th>day</th>\n",
       "      <th>time</th>\n",
       "      <th>size</th>\n",
       "      <th>yeni_sex</th>\n",
       "      <th>new_sex</th>\n",
       "      <th>new_day</th>\n",
       "    </tr>\n",
       "  </thead>\n",
       "  <tbody>\n",
       "    <tr>\n",
       "      <th>0</th>\n",
       "      <td>16.99</td>\n",
       "      <td>1.01</td>\n",
       "      <td>Female</td>\n",
       "      <td>No</td>\n",
       "      <td>Sun</td>\n",
       "      <td>Dinner</td>\n",
       "      <td>2</td>\n",
       "      <td>0</td>\n",
       "      <td>0</td>\n",
       "      <td>1</td>\n",
       "    </tr>\n",
       "    <tr>\n",
       "      <th>1</th>\n",
       "      <td>10.34</td>\n",
       "      <td>1.66</td>\n",
       "      <td>Male</td>\n",
       "      <td>No</td>\n",
       "      <td>Sun</td>\n",
       "      <td>Dinner</td>\n",
       "      <td>3</td>\n",
       "      <td>1</td>\n",
       "      <td>1</td>\n",
       "      <td>1</td>\n",
       "    </tr>\n",
       "    <tr>\n",
       "      <th>2</th>\n",
       "      <td>21.01</td>\n",
       "      <td>3.50</td>\n",
       "      <td>Male</td>\n",
       "      <td>No</td>\n",
       "      <td>Sun</td>\n",
       "      <td>Dinner</td>\n",
       "      <td>3</td>\n",
       "      <td>1</td>\n",
       "      <td>1</td>\n",
       "      <td>1</td>\n",
       "    </tr>\n",
       "    <tr>\n",
       "      <th>3</th>\n",
       "      <td>23.68</td>\n",
       "      <td>3.31</td>\n",
       "      <td>Male</td>\n",
       "      <td>No</td>\n",
       "      <td>Sun</td>\n",
       "      <td>Dinner</td>\n",
       "      <td>2</td>\n",
       "      <td>1</td>\n",
       "      <td>1</td>\n",
       "      <td>1</td>\n",
       "    </tr>\n",
       "    <tr>\n",
       "      <th>4</th>\n",
       "      <td>24.59</td>\n",
       "      <td>3.61</td>\n",
       "      <td>Female</td>\n",
       "      <td>No</td>\n",
       "      <td>Sun</td>\n",
       "      <td>Dinner</td>\n",
       "      <td>4</td>\n",
       "      <td>0</td>\n",
       "      <td>0</td>\n",
       "      <td>1</td>\n",
       "    </tr>\n",
       "  </tbody>\n",
       "</table>\n",
       "</div>"
      ],
      "text/plain": [
       "   total_bill   tip     sex smoker  day    time  size  yeni_sex  new_sex  \\\n",
       "0       16.99  1.01  Female     No  Sun  Dinner     2         0        0   \n",
       "1       10.34  1.66    Male     No  Sun  Dinner     3         1        1   \n",
       "2       21.01  3.50    Male     No  Sun  Dinner     3         1        1   \n",
       "3       23.68  3.31    Male     No  Sun  Dinner     2         1        1   \n",
       "4       24.59  3.61  Female     No  Sun  Dinner     4         0        0   \n",
       "\n",
       "   new_day  \n",
       "0        1  \n",
       "1        1  \n",
       "2        1  \n",
       "3        1  \n",
       "4        1  "
      ]
     },
     "execution_count": 70,
     "metadata": {},
     "output_type": "execute_result"
    }
   ],
   "source": [
    "df.head()"
   ]
  },
  {
   "cell_type": "code",
   "execution_count": 82,
   "id": "0646e96d-c37b-43a9-9768-0135b397c089",
   "metadata": {},
   "outputs": [],
   "source": [
    "df_one_hot=pd.get_dummies(df, columns = [\"sex\"], prefix = [\"sex\"])\n",
    "#prefix oluşturulucak olan değişkenlerin ön isimlendirmesi "
   ]
  },
  {
   "cell_type": "code",
   "execution_count": 83,
   "id": "e1f4ffc2-d896-4db2-aaba-f46560269ed2",
   "metadata": {},
   "outputs": [
    {
     "data": {
      "text/html": [
       "<div>\n",
       "<style scoped>\n",
       "    .dataframe tbody tr th:only-of-type {\n",
       "        vertical-align: middle;\n",
       "    }\n",
       "\n",
       "    .dataframe tbody tr th {\n",
       "        vertical-align: top;\n",
       "    }\n",
       "\n",
       "    .dataframe thead th {\n",
       "        text-align: right;\n",
       "    }\n",
       "</style>\n",
       "<table border=\"1\" class=\"dataframe\">\n",
       "  <thead>\n",
       "    <tr style=\"text-align: right;\">\n",
       "      <th></th>\n",
       "      <th>total_bill</th>\n",
       "      <th>tip</th>\n",
       "      <th>smoker</th>\n",
       "      <th>day</th>\n",
       "      <th>time</th>\n",
       "      <th>size</th>\n",
       "      <th>yeni_sex</th>\n",
       "      <th>new_sex</th>\n",
       "      <th>new_day</th>\n",
       "      <th>sex_Male</th>\n",
       "      <th>sex_Female</th>\n",
       "    </tr>\n",
       "  </thead>\n",
       "  <tbody>\n",
       "    <tr>\n",
       "      <th>0</th>\n",
       "      <td>16.99</td>\n",
       "      <td>1.01</td>\n",
       "      <td>No</td>\n",
       "      <td>Sun</td>\n",
       "      <td>Dinner</td>\n",
       "      <td>2</td>\n",
       "      <td>0</td>\n",
       "      <td>0</td>\n",
       "      <td>1</td>\n",
       "      <td>0</td>\n",
       "      <td>1</td>\n",
       "    </tr>\n",
       "    <tr>\n",
       "      <th>1</th>\n",
       "      <td>10.34</td>\n",
       "      <td>1.66</td>\n",
       "      <td>No</td>\n",
       "      <td>Sun</td>\n",
       "      <td>Dinner</td>\n",
       "      <td>3</td>\n",
       "      <td>1</td>\n",
       "      <td>1</td>\n",
       "      <td>1</td>\n",
       "      <td>1</td>\n",
       "      <td>0</td>\n",
       "    </tr>\n",
       "    <tr>\n",
       "      <th>2</th>\n",
       "      <td>21.01</td>\n",
       "      <td>3.50</td>\n",
       "      <td>No</td>\n",
       "      <td>Sun</td>\n",
       "      <td>Dinner</td>\n",
       "      <td>3</td>\n",
       "      <td>1</td>\n",
       "      <td>1</td>\n",
       "      <td>1</td>\n",
       "      <td>1</td>\n",
       "      <td>0</td>\n",
       "    </tr>\n",
       "    <tr>\n",
       "      <th>3</th>\n",
       "      <td>23.68</td>\n",
       "      <td>3.31</td>\n",
       "      <td>No</td>\n",
       "      <td>Sun</td>\n",
       "      <td>Dinner</td>\n",
       "      <td>2</td>\n",
       "      <td>1</td>\n",
       "      <td>1</td>\n",
       "      <td>1</td>\n",
       "      <td>1</td>\n",
       "      <td>0</td>\n",
       "    </tr>\n",
       "    <tr>\n",
       "      <th>4</th>\n",
       "      <td>24.59</td>\n",
       "      <td>3.61</td>\n",
       "      <td>No</td>\n",
       "      <td>Sun</td>\n",
       "      <td>Dinner</td>\n",
       "      <td>4</td>\n",
       "      <td>0</td>\n",
       "      <td>0</td>\n",
       "      <td>1</td>\n",
       "      <td>0</td>\n",
       "      <td>1</td>\n",
       "    </tr>\n",
       "  </tbody>\n",
       "</table>\n",
       "</div>"
      ],
      "text/plain": [
       "   total_bill   tip smoker  day    time  size  yeni_sex  new_sex  new_day  \\\n",
       "0       16.99  1.01     No  Sun  Dinner     2         0        0        1   \n",
       "1       10.34  1.66     No  Sun  Dinner     3         1        1        1   \n",
       "2       21.01  3.50     No  Sun  Dinner     3         1        1        1   \n",
       "3       23.68  3.31     No  Sun  Dinner     2         1        1        1   \n",
       "4       24.59  3.61     No  Sun  Dinner     4         0        0        1   \n",
       "\n",
       "   sex_Male  sex_Female  \n",
       "0         0           1  \n",
       "1         1           0  \n",
       "2         1           0  \n",
       "3         1           0  \n",
       "4         0           1  "
      ]
     },
     "execution_count": 83,
     "metadata": {},
     "output_type": "execute_result"
    }
   ],
   "source": [
    "df_one_hot.head()"
   ]
  },
  {
   "cell_type": "code",
   "execution_count": 80,
   "id": "10a8b09b-2909-4b22-a5a7-a12c00ee9ed8",
   "metadata": {},
   "outputs": [],
   "source": [
    "#cinsiyet 2 seçenekli yani 2 yeni değişken oluşturur sex female ve sex male olarak kadınsa sex female kısmı kadın olanlarda 1 erkeklerde 0 olur sex male de bunun tam tersi"
   ]
  },
  {
   "cell_type": "code",
   "execution_count": 84,
   "id": "e3641130-406e-488c-96d1-6c9fa0e6d9ab",
   "metadata": {},
   "outputs": [],
   "source": [
    "#bir değişkeni ifade eden başka bir değişken varsa buna dummy değişken tuzağı denir. yani sex male ve sex female aslında aynı işi yapar ama ikisi de aynı yerde bulunur\n",
    "#bunu kontrol altında tutmak için "
   ]
  },
  {
   "cell_type": "code",
   "execution_count": 87,
   "id": "92ab60a5-79f5-4a57-97c8-6d8c9bb94087",
   "metadata": {},
   "outputs": [
    {
     "data": {
      "text/html": [
       "<div>\n",
       "<style scoped>\n",
       "    .dataframe tbody tr th:only-of-type {\n",
       "        vertical-align: middle;\n",
       "    }\n",
       "\n",
       "    .dataframe tbody tr th {\n",
       "        vertical-align: top;\n",
       "    }\n",
       "\n",
       "    .dataframe thead th {\n",
       "        text-align: right;\n",
       "    }\n",
       "</style>\n",
       "<table border=\"1\" class=\"dataframe\">\n",
       "  <thead>\n",
       "    <tr style=\"text-align: right;\">\n",
       "      <th></th>\n",
       "      <th>total_bill</th>\n",
       "      <th>tip</th>\n",
       "      <th>sex</th>\n",
       "      <th>smoker</th>\n",
       "      <th>time</th>\n",
       "      <th>size</th>\n",
       "      <th>yeni_sex</th>\n",
       "      <th>new_sex</th>\n",
       "      <th>new_day</th>\n",
       "      <th>day_Thur</th>\n",
       "      <th>day_Fri</th>\n",
       "      <th>day_Sat</th>\n",
       "      <th>day_Sun</th>\n",
       "    </tr>\n",
       "  </thead>\n",
       "  <tbody>\n",
       "    <tr>\n",
       "      <th>0</th>\n",
       "      <td>16.99</td>\n",
       "      <td>1.01</td>\n",
       "      <td>Female</td>\n",
       "      <td>No</td>\n",
       "      <td>Dinner</td>\n",
       "      <td>2</td>\n",
       "      <td>0</td>\n",
       "      <td>0</td>\n",
       "      <td>1</td>\n",
       "      <td>0</td>\n",
       "      <td>0</td>\n",
       "      <td>0</td>\n",
       "      <td>1</td>\n",
       "    </tr>\n",
       "    <tr>\n",
       "      <th>1</th>\n",
       "      <td>10.34</td>\n",
       "      <td>1.66</td>\n",
       "      <td>Male</td>\n",
       "      <td>No</td>\n",
       "      <td>Dinner</td>\n",
       "      <td>3</td>\n",
       "      <td>1</td>\n",
       "      <td>1</td>\n",
       "      <td>1</td>\n",
       "      <td>0</td>\n",
       "      <td>0</td>\n",
       "      <td>0</td>\n",
       "      <td>1</td>\n",
       "    </tr>\n",
       "    <tr>\n",
       "      <th>2</th>\n",
       "      <td>21.01</td>\n",
       "      <td>3.50</td>\n",
       "      <td>Male</td>\n",
       "      <td>No</td>\n",
       "      <td>Dinner</td>\n",
       "      <td>3</td>\n",
       "      <td>1</td>\n",
       "      <td>1</td>\n",
       "      <td>1</td>\n",
       "      <td>0</td>\n",
       "      <td>0</td>\n",
       "      <td>0</td>\n",
       "      <td>1</td>\n",
       "    </tr>\n",
       "    <tr>\n",
       "      <th>3</th>\n",
       "      <td>23.68</td>\n",
       "      <td>3.31</td>\n",
       "      <td>Male</td>\n",
       "      <td>No</td>\n",
       "      <td>Dinner</td>\n",
       "      <td>2</td>\n",
       "      <td>1</td>\n",
       "      <td>1</td>\n",
       "      <td>1</td>\n",
       "      <td>0</td>\n",
       "      <td>0</td>\n",
       "      <td>0</td>\n",
       "      <td>1</td>\n",
       "    </tr>\n",
       "    <tr>\n",
       "      <th>4</th>\n",
       "      <td>24.59</td>\n",
       "      <td>3.61</td>\n",
       "      <td>Female</td>\n",
       "      <td>No</td>\n",
       "      <td>Dinner</td>\n",
       "      <td>4</td>\n",
       "      <td>0</td>\n",
       "      <td>0</td>\n",
       "      <td>1</td>\n",
       "      <td>0</td>\n",
       "      <td>0</td>\n",
       "      <td>0</td>\n",
       "      <td>1</td>\n",
       "    </tr>\n",
       "  </tbody>\n",
       "</table>\n",
       "</div>"
      ],
      "text/plain": [
       "   total_bill   tip     sex smoker    time  size  yeni_sex  new_sex  new_day  \\\n",
       "0       16.99  1.01  Female     No  Dinner     2         0        0        1   \n",
       "1       10.34  1.66    Male     No  Dinner     3         1        1        1   \n",
       "2       21.01  3.50    Male     No  Dinner     3         1        1        1   \n",
       "3       23.68  3.31    Male     No  Dinner     2         1        1        1   \n",
       "4       24.59  3.61  Female     No  Dinner     4         0        0        1   \n",
       "\n",
       "   day_Thur  day_Fri  day_Sat  day_Sun  \n",
       "0         0        0        0        1  \n",
       "1         0        0        0        1  \n",
       "2         0        0        0        1  \n",
       "3         0        0        0        1  \n",
       "4         0        0        0        1  "
      ]
     },
     "execution_count": 87,
     "metadata": {},
     "output_type": "execute_result"
    }
   ],
   "source": [
    "pd.get_dummies(df, columns = [\"day\"], prefix = [\"day\"]).head()"
   ]
  },
  {
   "cell_type": "markdown",
   "id": "cf72183b-fbc0-4ee5-940a-96e285a587b1",
   "metadata": {},
   "source": [
    "# Doğrusal Regresyon Modelleri\n",
    "### Basit Doğrusal Regresyon\n",
    "### Çoklu Doğrusal Regresyon\n",
    "### Ridge Regreson\n",
    "### Lasso Regresyon\n",
    "### Elastic Net Regresyon"
   ]
  },
  {
   "cell_type": "markdown",
   "id": "d4adce1c-9442-429c-8d8a-104b0acd515b",
   "metadata": {},
   "source": [
    "## Basit Doğrusal Regresyon (Simple Linear Regression)"
   ]
  },
  {
   "cell_type": "markdown",
   "id": "f9925674-83b8-4329-ac8f-c6fec8195228",
   "metadata": {
    "tags": []
   },
   "source": [
    "#### Basit: 1 tnae bağımsız ve 1 bağımlı değişken demektir.\n",
    "#### Temel amaç, bağımlı ve bağımsız değişken arasındaki ilişkiyi ifade eden doğrusal fonksiyonu bulmaktır.\n",
    "#### Modellemek, çeşitli kavramlar arasındaki ilişkileri belirli matematiksel formlara ifade etmek emektir.                                                                              Yi=b0+b1xi\n",
    "\n",
    "#### Anakitle Modeli:  Y= Beta0+Beta1x+E(psilon)\n",
    "#### Örneklem Moeli: Yi=b0+b1i+ei\n",
    "#### Tahmin Modeli: yi(şapka)=b0+b1xi\n",
    "\n",
    "#### Beta0: doğrunun y eksenini kestiği nokta \n",
    "#### Beta1 doğrunun eğimi\n",
    "#### Epsilon= hata terimi\n",
    "#### Biri artarsa iğeri de artar doğrusal olma sebebi"
   ]
  },
  {
   "cell_type": "markdown",
   "id": "5b912b0c-8914-40f3-acb9-2c4f9182394e",
   "metadata": {},
   "source": [
    "## Basit Doğrusal Regresyon\n",
    "### Model"
   ]
  },
  {
   "cell_type": "code",
   "execution_count": 7,
   "id": "f7679d19-7d8b-4b5f-95af-e8534dae9838",
   "metadata": {},
   "outputs": [
    {
     "data": {
      "text/html": [
       "<div>\n",
       "<style scoped>\n",
       "    .dataframe tbody tr th:only-of-type {\n",
       "        vertical-align: middle;\n",
       "    }\n",
       "\n",
       "    .dataframe tbody tr th {\n",
       "        vertical-align: top;\n",
       "    }\n",
       "\n",
       "    .dataframe thead th {\n",
       "        text-align: right;\n",
       "    }\n",
       "</style>\n",
       "<table border=\"1\" class=\"dataframe\">\n",
       "  <thead>\n",
       "    <tr style=\"text-align: right;\">\n",
       "      <th></th>\n",
       "      <th>TV</th>\n",
       "      <th>radio</th>\n",
       "      <th>newspaper</th>\n",
       "      <th>sales</th>\n",
       "    </tr>\n",
       "  </thead>\n",
       "  <tbody>\n",
       "    <tr>\n",
       "      <th>0</th>\n",
       "      <td>230.1</td>\n",
       "      <td>37.8</td>\n",
       "      <td>69.2</td>\n",
       "      <td>22.1</td>\n",
       "    </tr>\n",
       "    <tr>\n",
       "      <th>1</th>\n",
       "      <td>44.5</td>\n",
       "      <td>39.3</td>\n",
       "      <td>45.1</td>\n",
       "      <td>10.4</td>\n",
       "    </tr>\n",
       "    <tr>\n",
       "      <th>2</th>\n",
       "      <td>17.2</td>\n",
       "      <td>45.9</td>\n",
       "      <td>69.3</td>\n",
       "      <td>9.3</td>\n",
       "    </tr>\n",
       "    <tr>\n",
       "      <th>3</th>\n",
       "      <td>151.5</td>\n",
       "      <td>41.3</td>\n",
       "      <td>58.5</td>\n",
       "      <td>18.5</td>\n",
       "    </tr>\n",
       "    <tr>\n",
       "      <th>4</th>\n",
       "      <td>180.8</td>\n",
       "      <td>10.8</td>\n",
       "      <td>58.4</td>\n",
       "      <td>12.9</td>\n",
       "    </tr>\n",
       "  </tbody>\n",
       "</table>\n",
       "</div>"
      ],
      "text/plain": [
       "      TV  radio  newspaper  sales\n",
       "0  230.1   37.8       69.2   22.1\n",
       "1   44.5   39.3       45.1   10.4\n",
       "2   17.2   45.9       69.3    9.3\n",
       "3  151.5   41.3       58.5   18.5\n",
       "4  180.8   10.8       58.4   12.9"
      ]
     },
     "execution_count": 7,
     "metadata": {},
     "output_type": "execute_result"
    }
   ],
   "source": [
    "#http://faculty.marshall.usc.edu/gareth-james/ISL/data.html\n",
    "import pandas as pd\n",
    "df=pd.read_csv(\"Advertising.csv\")\n",
    "df=df.iloc[:,1:len(df)]\n",
    "df.head()"
   ]
  },
  {
   "cell_type": "code",
   "execution_count": null,
   "id": "523dcb46-5cfd-4b1d-8238-06540388812d",
   "metadata": {},
   "outputs": [],
   "source": []
  }
 ],
 "metadata": {
  "kernelspec": {
   "display_name": "Python 3 (ipykernel)",
   "language": "python",
   "name": "python3"
  },
  "language_info": {
   "codemirror_mode": {
    "name": "ipython",
    "version": 3
   },
   "file_extension": ".py",
   "mimetype": "text/x-python",
   "name": "python",
   "nbconvert_exporter": "python",
   "pygments_lexer": "ipython3",
   "version": "3.9.7"
  }
 },
 "nbformat": 4,
 "nbformat_minor": 5
}
